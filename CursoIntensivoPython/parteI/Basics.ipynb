{
 "cells": [
  {
   "cell_type": "markdown",
   "metadata": {},
   "source": [
    "Metodos de string\n",
    "\n",
    "sintaxe: variavel.metodo(parametros)"
   ]
  },
  {
   "cell_type": "code",
   "execution_count": null,
   "metadata": {},
   "outputs": [],
   "source": [
    "name = \"ada lovelance\"\n",
    "print(name.title()) #inicial de cada palavra em maiuscula\n",
    "print(name.upper()) #todas em maiuscula\n",
    "print(name.lower()) #todas em minusculo"
   ]
  },
  {
   "cell_type": "markdown",
   "metadata": {},
   "source": [
    "Combinando strings"
   ]
  },
  {
   "cell_type": "code",
   "execution_count": null,
   "metadata": {},
   "outputs": [],
   "source": [
    "first_name = \"ada\"\n",
    "last_name = \"lovelance\"\n",
    "full_name = first_name + \" \" + last_name\n",
    "print(\"Hello, \" + full_name.title() + \"!\")\n",
    "message = \"Hello, \" + full_name.title() + \"!\"\n",
    "print(message)"
   ]
  },
  {
   "cell_type": "markdown",
   "metadata": {},
   "source": [
    "Acrescentando tabulacoes, quebras de linha e espacos em branco"
   ]
  },
  {
   "cell_type": "code",
   "execution_count": null,
   "metadata": {},
   "outputs": [],
   "source": [
    "print(\"Python\")\n",
    "print(\"\\tPython\") # tabulacao\n",
    "print(\"Languages:\\nPython\\nC\\nJavaScript\") # quebra de linha\n",
    "print(\"Languages:\\n\\tPython\\n\\tC\\n\\tJavaScript\")"
   ]
  },
  {
   "cell_type": "markdown",
   "metadata": {},
   "source": [
    "Removendo tabulacoes, quebras de linha e espacos em branco"
   ]
  },
  {
   "cell_type": "code",
   "execution_count": null,
   "metadata": {},
   "outputs": [],
   "source": [
    "favorite_language = ' python '\n",
    "favorite_language = favorite_language.rstrip() # remove espacos da direita\n",
    "print(favorite_language)\n",
    "favorite_language = ' python '\n",
    "favorite_language = favorite_language.lstrip() # remove espacos da esquerda\n",
    "print(favorite_language)\n",
    "favorite_language = ' python '\n",
    "favorite_language = favorite_language.strip() # remove espacos de ambos os lados\n",
    "print(favorite_language)"
   ]
  },
  {
   "cell_type": "code",
   "execution_count": null,
   "metadata": {},
   "outputs": [],
   "source": [
    "message = \"One Python's strength is its diverse community\"\n",
    "print(message)"
   ]
  },
  {
   "cell_type": "code",
   "execution_count": null,
   "metadata": {},
   "outputs": [],
   "source": [
    "nome = \"Fabio\"\n",
    "print(\"Alo \"+nome+\" gostaria de aprender python?\")\n",
    "print(nome.lower())\n",
    "print(nome.upper())\n",
    "print(nome.title())\n",
    "print('Albert Einstein certa vez disse: \"Uma pessoa que nunca cometeu um erro jamais tentou nada novo\"')\n",
    "famous_person = \"Albert Einstein\"\n",
    "citation = '\"Uma pessoa que nunca cometeu um erro jamais tentou nada novo\"'\n",
    "print(famous_person+' certa vez disse: '+citation)\n",
    "nome = \"\\n\\tFabio\\n\\n\"\n",
    "print(nome)\n",
    "print(nome.strip())\n",
    "print(nome.rstrip())\n",
    "print(nome.lstrip())\n",
    "print(nome.strip())"
   ]
  },
  {
   "cell_type": "markdown",
   "metadata": {},
   "source": [
    "Zen de Python de Tim Peters"
   ]
  },
  {
   "cell_type": "code",
   "execution_count": null,
   "metadata": {},
   "outputs": [],
   "source": [
    "import this"
   ]
  },
  {
   "cell_type": "code",
   "execution_count": null,
   "metadata": {},
   "outputs": [],
   "source": [
    "convidados =['fabio','dario','mascarenhas','stephanie','albuquerque','lucena']\n",
    "for i in convidados: print(i.title() + ', você foi convidado!')"
   ]
  },
  {
   "cell_type": "code",
   "execution_count": null,
   "metadata": {},
   "outputs": [],
   "source": [
    "desistente = 'mascarenhas'\n",
    "novo_convidado = 'santoro'\n",
    "convidados.remove(desistente)\n",
    "convidados.append(novo_convidado)\n",
    "for i in convidados: print(i.title() + ', você foi convidado!')\n",
    "print(convidados)"
   ]
  },
  {
   "cell_type": "code",
   "execution_count": null,
   "metadata": {},
   "outputs": [],
   "source": [
    "print('Achei uma mesa maior!')\n",
    "convidados.insert(0,'primeiro')\n",
    "convidados.insert(4,'quinto')\n",
    "convidados.insert(-1,'ultimo')\n",
    "for i in convidados: print(i.title() + ', você foi convidado!')\n",
    "print(convidados)"
   ]
  },
  {
   "cell_type": "code",
   "execution_count": null,
   "metadata": {},
   "outputs": [],
   "source": [
    "print('Só dois podem participar')\n",
    "while len(convidados) > 2:\n",
    "    print(convidados.pop() + ' você não foi mais convidado!')\n",
    "for i in convidados: print(i.title() + ', você foi convidado!')\n",
    "while len(convidados) > 0:\n",
    "    del convidados[0] \n",
    "print(convidados)"
   ]
  },
  {
   "cell_type": "code",
   "execution_count": null,
   "metadata": {},
   "outputs": [],
   "source": [
    "lugares = ['egito','israel','italia','australia','russia']\n",
    "print(lugares)\n",
    "print(sorted(lugares))\n",
    "print(lugares)\n",
    "print(sorted(lugares,reverse=True))\n",
    "print(lugares)\n",
    "lugares.reverse()\n",
    "print(lugares)\n",
    "lugares.reverse()\n",
    "print(lugares)\n",
    "lugares.sort()\n",
    "print(lugares)\n",
    "lugares.sort(reverse=True)\n",
    "print(lugares)\n"
   ]
  },
  {
   "cell_type": "code",
   "execution_count": null,
   "metadata": {},
   "outputs": [],
   "source": [
    "for valor in range(0,21):\n",
    "    print( valor )"
   ]
  },
  {
   "cell_type": "code",
   "execution_count": null,
   "metadata": {},
   "outputs": [],
   "source": [
    "milhao = [ valor for valor in range(1,1000001)]\n",
    "print(min(milhao))\n",
    "print(max(milhao))\n",
    "print(sum(milhao))"
   ]
  },
  {
   "cell_type": "code",
   "execution_count": null,
   "metadata": {},
   "outputs": [],
   "source": [
    "impares = [ valor for valor in range(1,21,2)]\n",
    "print(impares)"
   ]
  },
  {
   "cell_type": "code",
   "execution_count": null,
   "metadata": {},
   "outputs": [],
   "source": [
    "multiplos_tres = [valor for valor in range(3,31,3)]\n",
    "print(multiplos_tres)"
   ]
  },
  {
   "cell_type": "code",
   "execution_count": null,
   "metadata": {},
   "outputs": [],
   "source": [
    "cubos = [ valor**3 for valor in range(1,11)]\n",
    "print(cubos)"
   ]
  },
  {
   "cell_type": "code",
   "execution_count": null,
   "metadata": {},
   "outputs": [],
   "source": [
    "lista1 = [1,2,3,4,5,6,7]\n",
    "print(lista1)\n",
    "lista2 = lista1\n",
    "print(lista2)\n",
    "lista1.append(8)\n",
    "print(lista1)\n",
    "print(lista2)\n",
    "lista3 = lista1[:]\n",
    "lista1.append(9)\n",
    "print(lista1)\n",
    "print(lista2)\n",
    "print(lista3)"
   ]
  },
  {
   "cell_type": "code",
   "execution_count": null,
   "metadata": {},
   "outputs": [],
   "source": [
    "print(lista1[:3])\n",
    "print(lista1[3:6])\n",
    "print(lista1[-3:])\n"
   ]
  },
  {
   "cell_type": "code",
   "execution_count": null,
   "metadata": {},
   "outputs": [],
   "source": [
    "ingredientes = ('arroz','feijão','bife','ovo','batata')\n",
    "for ingrediente in ingredientes:\n",
    "    print(ingrediente)\n",
    "\n",
    "#ingredientes[3] = 'salada' # gera erro\n",
    "#ingredientes.append('salada') # gera erro\n",
    "\n",
    "ingredientes = ('arroz','feijão','bife','salada','suco')\n",
    "for ingrediente in ingredientes:\n",
    "    print(ingrediente)\n"
   ]
  },
  {
   "cell_type": "markdown",
   "metadata": {},
   "source": [
    "PEP 8\n",
    "\n",
    "identação de 04 espaços\n",
    "tamanho da linha = 79\n",
    "tamanho do comentário = 72"
   ]
  },
  {
   "cell_type": "code",
   "execution_count": null,
   "metadata": {},
   "outputs": [],
   "source": [
    "alien_color = 'green'\n",
    "ponto = 0\n",
    "\n",
    "if alien_color == 'green':\n",
    "    ponto = 5\n",
    "    if ponto != 1:\n",
    "        print('Ganhou ' + str(ponto) + ' pontos!')\n",
    "    elif ponto == 1:\n",
    "        print('Ganhou ' + str(ponto) + ' ponto!')\n",
    "\n",
    "if alien_color == 'red':\n",
    "    ponto = 5\n",
    "    if ponto != 1:\n",
    "        print('Ganhou ' + str(ponto) + ' pontos!')\n",
    "    elif ponto == 1:\n",
    "        print('Ganhou ' + str(ponto) + ' ponto!')"
   ]
  },
  {
   "cell_type": "code",
   "execution_count": null,
   "metadata": {},
   "outputs": [],
   "source": [
    "def pontos():\n",
    "    if alien_color == 'green':\n",
    "        ponto = 5\n",
    "        print('Ganhou ' + str(ponto) + ' pontos!')\n",
    "    else:\n",
    "        ponto = 10\n",
    "        print('Ganhou ' + str(ponto) + ' pontos!')\n",
    "\n",
    "alien_color = 'green'\n",
    "pontos()\n",
    "\n",
    "alien_color = 'red'\n",
    "pontos()"
   ]
  },
  {
   "cell_type": "code",
   "execution_count": null,
   "metadata": {},
   "outputs": [],
   "source": [
    "def pontos(color):\n",
    "    if color == 'green':\n",
    "        ponto = 5\n",
    "    elif color == 'yellow':\n",
    "        ponto = 10\n",
    "    elif color == 'red':\n",
    "        ponto = 15\n",
    "    print('Ganhou ' + str(ponto) + ' pontos!')\n",
    "\n",
    "alien_color = 'green'\n",
    "pontos(alien_color)\n",
    "\n",
    "alien_color = 'red'\n",
    "pontos(alien_color)\n",
    "\n",
    "alien_color = 'yellow'\n",
    "pontos(alien_color)"
   ]
  },
  {
   "cell_type": "code",
   "execution_count": null,
   "metadata": {},
   "outputs": [],
   "source": [
    "frutas_favoritas = ['laranja','uva','ameixa']\n",
    "\n",
    "if 'laranja' in frutas_favoritas:\n",
    "    print('Tem laranja')\n",
    "if 'melancia' in frutas_favoritas:\n",
    "    print('Tem melancia')\n",
    "if 'uva' in frutas_favoritas:\n",
    "    print('Tem uva')\n",
    "if 'morango' in frutas_favoritas:\n",
    "    print('Tem morango')\n",
    "if 'ameixa' in frutas_favoritas:\n",
    "    print('Tem ameixa')\n"
   ]
  },
  {
   "cell_type": "code",
   "execution_count": null,
   "metadata": {},
   "outputs": [],
   "source": [
    "current_users = ['fabio', 'mascarenhas', 'stephanie', 'lucena']\n",
    "new_users = ['FaBio', 'mascareNHas', 'almeida', 'LUCENA']\n",
    "\n",
    "for new_user in new_users:\n",
    "    if new_user.lower() in current_users:\n",
    "        print('Nome de usuário: ' + new_user + ' indisponível')\n",
    "    elif new_user.lower() not in current_users:\n",
    "        current_users.append(new_user)\n",
    "        print('Nome de usuário: ' + new_user + ' criado')\n",
    "\n",
    "print(current_users)"
   ]
  },
  {
   "cell_type": "code",
   "execution_count": null,
   "metadata": {},
   "outputs": [],
   "source": [
    "posicoes = [valor for valor in range(1,11)]\n",
    "print(posicoes)\n",
    "\n",
    "for indice, posicao in enumerate(posicoes):\n",
    "    if indice == 0:\n",
    "        print(str(posicao) + 'st')\n",
    "    elif indice == 1:\n",
    "        print(str(posicao) + 'nd')\n",
    "    elif indice == 2:\n",
    "        print(str(posicao) + 'rd')\n",
    "    else:\n",
    "        print(str(posicao) + 'th')"
   ]
  },
  {
   "cell_type": "code",
   "execution_count": null,
   "metadata": {},
   "outputs": [],
   "source": [
    "alien_0 = {'color': 'green', 'points': 5}\n",
    "print(alien_0)\n",
    "\n",
    "alien_0['x_position'] = 0\n",
    "alien_0['y_position'] = 25\n",
    "print(alien_0)\n",
    "\n",
    "alien_0['speed'] = 'medium'\n",
    "\n",
    "if alien_0['speed'] == 'slow':\n",
    "    x_increment = 1\n",
    "elif alien_0['speed'] == 'medium':\n",
    "    x_increment = 2\n",
    "elif alien_0['speed'] == 'fast':\n",
    "    x_increment = 3\n",
    "\n",
    "while alien_0['x_position'] <= 100:\n",
    "    alien_0['x_position'] += x_increment\n",
    "    print(alien_0)"
   ]
  },
  {
   "cell_type": "code",
   "execution_count": null,
   "metadata": {},
   "outputs": [],
   "source": [
    "pessoa_1 = {\n",
    "    'nome': 'fabio',\n",
    "    'sobrenome': 'mascarenhas'\n",
    "}\n",
    "\n",
    "pessoa_2 = {\n",
    "    'nome': 'stephanie',\n",
    "    'sobrenome': 'lucena'\n",
    "}\n",
    "\n",
    "pessoas = [pessoa_1, pessoa_2]\n",
    "\n",
    "nomes_do_meio = {\n",
    "    'fabio': 'dario',\n",
    "    'stephanie': 'de albuquerque'\n",
    "}\n",
    "\n",
    "for chave, valor in nomes_do_meio.items():\n",
    "    for pessoa in pessoas:\n",
    "        if chave == pessoa['nome']:\n",
    "            pessoa['nome_do_meio'] = valor\n",
    "\n",
    "for pessoa in pessoas:\n",
    "    print(pessoa['nome'].title() + ' ' + pessoa['nome_do_meio'].title() + ' ' + pessoa['sobrenome'].title())"
   ]
  },
  {
   "cell_type": "code",
   "execution_count": null,
   "metadata": {},
   "outputs": [],
   "source": [
    "carro = input('Qual o carro? ')\n",
    "print('Sério que você quer um ' + carro + '?')"
   ]
  },
  {
   "cell_type": "code",
   "execution_count": null,
   "metadata": {},
   "outputs": [],
   "source": [
    "lugares = input('Mesa para quantas pessoas? ')\n",
    "lugares = int(lugares)\n",
    "if lugares >= 8:\n",
    "    print('Desculpe, você precisa aguardar!')\n",
    "elif lugares > 1:\n",
    "    print('A sua mesa para ' + str(lugares) + ' pessoas está pronta!')\n",
    "elif lugares > 0:\n",
    "    print('A sua mesa para ' + str(lugares) + ' pessoa está pronta!')\n",
    "else:\n",
    "    print('Volte quando não quiser brincar! -.-')"
   ]
  },
  {
   "cell_type": "code",
   "execution_count": null,
   "metadata": {},
   "outputs": [],
   "source": [
    "prompt = 'Avaliador de multiplo!'\n",
    "numero = input(prompt + '\\nQual número deseja avaliar? ')\n",
    "numero = int(numero)\n",
    "divisor = input('Se é multiplo de: ')\n",
    "divisor = int(divisor)\n",
    "\n",
    "if numero % divisor == 0:\n",
    "    print('O número ' + str(numero) + ' é multiplo de ' + str(divisor) + '.')\n",
    "else:\n",
    "    print('O número ' + str(numero) + ' não é multiplo de ' + str(divisor) + '.')"
   ]
  },
  {
   "cell_type": "code",
   "execution_count": null,
   "metadata": {},
   "outputs": [],
   "source": [
    "prompt = 'Avaliador de multiplo!'\n",
    "numero = input(prompt + '\\nQual número deseja avaliar? ')\n",
    "numero = int(numero)\n",
    "\n",
    "divisor = input('Se é multiplo de: ')\n",
    "divisor = int(divisor)\n",
    "\n",
    "while numero % divisor != 0:\n",
    "    print('O número ' + str(numero) + ' não é multiplo de ' + str(divisor) + '.')\n",
    "    divisor = input('Tente novamente: ')\n",
    "    divisor = int(divisor)\n",
    "\n",
    "if numero % divisor == 0:\n",
    "    print('O número ' + str(numero) + ' é multiplo de ' + str(divisor) + '.')"
   ]
  },
  {
   "cell_type": "code",
   "execution_count": null,
   "metadata": {},
   "outputs": [],
   "source": [
    "ingrediente = ''\n",
    "pizza = []\n",
    "\n",
    "while ingrediente != 'quit':\n",
    "    ingrediente = input('O que você quer na pizza? ')\n",
    "    if ingrediente != 'quit':\n",
    "        pizza.append(ingrediente)\n",
    "\n",
    "if pizza:\n",
    "    print(pizza)\n",
    "else:\n",
    "    print('Você não pediu nada!')"
   ]
  },
  {
   "cell_type": "code",
   "execution_count": null,
   "metadata": {},
   "outputs": [],
   "source": [
    "flag = True\n",
    "pizza = []\n",
    "\n",
    "while flag:\n",
    "\n",
    "    ingrediente = input('O que você quer na pizza? ')\n",
    "    if ingrediente == 'quit':\n",
    "        break\n",
    "    else:\n",
    "        pizza.append(ingrediente)\n",
    "\n",
    "if pizza:\n",
    "    print(pizza)\n",
    "else:\n",
    "    print('Você não pediu nada!')"
   ]
  },
  {
   "cell_type": "code",
   "execution_count": null,
   "metadata": {},
   "outputs": [],
   "source": []
  },
  {
   "cell_type": "code",
   "execution_count": null,
   "metadata": {},
   "outputs": [],
   "source": [
    "responses = {}\n",
    "\n",
    "polling_active = True\n",
    "\n",
    "while polling_active:\n",
    "    \n",
    "    criar = input('Tecle \"Enter\" para criar uma chave:valor. Digite \"Sair\" para sair:' )\n",
    "    if criar.lower() == 'sair':\n",
    "        polling_active = False\n",
    "    else: \n",
    "        chave = input('Digite uma chave: ')\n",
    "        valor = input('Digite o valor: ')\n",
    "        responses[chave.lower()] = valor.lower()\n",
    "\n",
    "if responses:\n",
    "    print(responses)\n",
    "else:\n",
    "    print('Nada foi criado')\n"
   ]
  },
  {
   "cell_type": "code",
   "execution_count": null,
   "metadata": {},
   "outputs": [],
   "source": [
    "def make_shirt(estampa,tamanho='g'):\n",
    "    print('Camiseta de tamanho ' + tamanho.upper() + ' com a estampa: \"' + estampa + '\".')\n",
    "\n",
    "formato = input('Qual o tamanho da camiseta deseja? P, M, ou G: ')\n",
    "frase = input('Digite a frase que seja estampar: ')\n",
    "\n",
    "make_shirt(frase,formato)\n",
    "\n",
    "frase = input('Digite a frase que seja estampar: ')\n",
    "\n",
    "make_shirt(frase)"
   ]
  },
  {
   "cell_type": "code",
   "execution_count": null,
   "metadata": {},
   "outputs": [],
   "source": [
    "def make_album(nome,titulo,faixas=''):\n",
    "    album = {\n",
    "        'nome':nome,\n",
    "        'titulo':titulo,\n",
    "        'faixas':int(faixas)\n",
    "    }\n",
    "    return album\n",
    "\n",
    "while True:\n",
    "    print('Vamos criar o seu album:\\nPressione \"q\" para sair!')\n",
    "    \n",
    "    artista = input('Nome do artista: ')\n",
    "    if artista.lower() == 'q':\n",
    "        break\n",
    "\n",
    "    titulo = input('Nome do album: ')\n",
    "    if titulo.lower() == 'q':\n",
    "        break\n",
    "\n",
    "    faixas = input('Número de faixas: ')\n",
    "    if faixas.lower() == 'q':\n",
    "        break\n",
    "\n",
    "    print(make_album(artista,titulo,faixas))\n",
    "\n",
    "print('Obrigado por usar o criador de albums!')"
   ]
  },
  {
   "cell_type": "markdown",
   "metadata": {},
   "source": [
    "def fucao(lista[:]) -> cria uma cópia da lista recebida\n",
    "\n",
    "def fucao(*argumentos) -> permite receber um ou mais parâmetros\n",
    "\n",
    "def fucao(**argumentos) -> permite receber uma ou mais combinações de chave:valor"
   ]
  },
  {
   "cell_type": "code",
   "execution_count": null,
   "metadata": {},
   "outputs": [],
   "source": [
    "def make_sandwich(*ingredientes):\n",
    "    print('\\nSeu lanche:')\n",
    "    for ingrediente in ingredientes:\n",
    "        print('- ' + ingrediente)\n",
    "\n",
    "make_sandwich('carne','bacon','queijo')\n",
    "make_sandwich('carne')\n",
    "make_sandwich('carne','bacon')"
   ]
  },
  {
   "cell_type": "code",
   "execution_count": null,
   "metadata": {},
   "outputs": [],
   "source": [
    "def cria_cliente(nome, sobrenome, **infos):\n",
    "    cliente = {}\n",
    "    cliente['nome'] = nome.lower()\n",
    "    cliente['sobrenome'] = sobrenome.lower()\n",
    "    for chave,valor in infos.items():\n",
    "        cliente[chave] = valor.lower()\n",
    "\n",
    "    return cliente\n",
    "\n",
    "cliente1 = cria_cliente('FABIO', 'Dario')\n",
    "cliente2 = cria_cliente('FABIO', 'MascarenhaS', faculdade='PUC')\n",
    "cliente3 = cria_cliente('FABIO', 'MASCARENHAS', nome_do_meio='DARiO', faculdade=\n",
    "'PUC', idade = '31')\n",
    "\n",
    "print(cliente1['nome'].title())\n",
    "print(cliente2['faculdade'].upper())\n",
    "print(cliente3['idade'])"
   ]
  }
 ],
 "metadata": {
  "interpreter": {
   "hash": "e7370f93d1d0cde622a1f8e1c04877d8463912d04d973331ad4851f04de6915a"
  },
  "kernelspec": {
   "display_name": "Python 3.9.9 64-bit",
   "language": "python",
   "name": "python3"
  },
  "language_info": {
   "codemirror_mode": {
    "name": "ipython",
    "version": 3
   },
   "file_extension": ".py",
   "mimetype": "text/x-python",
   "name": "python",
   "nbconvert_exporter": "python",
   "pygments_lexer": "ipython3",
   "version": "3.9.9"
  },
  "orig_nbformat": 4
 },
 "nbformat": 4,
 "nbformat_minor": 2
}
