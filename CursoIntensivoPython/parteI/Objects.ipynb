{
 "cells": [
  {
   "cell_type": "markdown",
   "metadata": {},
   "source": [
    "Classes\n",
    "\n",
    "- Nomes com a primeira letra em Maiúsculo\n",
    "- Descrever o que a classe faz com notação Docstring \"\"\"\n",
    "- Variáveis acessíveis por instâncias são chamadas Atributos\n",
    "- Toda classe deve ter um método \\_\\_init\\_\\_()\n",
    "- O \\_\\_metodo\\_\\_ geralmente se refere a um método Python, não criado pelo programador\n",
    "- Em \\_\\_init\\_\\_ são definidos os parâmetros básicos da classe incluindo self\n",
    "- Instâncias são representações de objetos específicos definidos a partir de classes\n"
   ]
  },
  {
   "cell_type": "code",
   "execution_count": 1,
   "metadata": {},
   "outputs": [
    {
     "name": "stdout",
     "output_type": "stream",
     "text": [
      "Fabio\n",
      "Mediterrânea\n",
      "O restaurante Fabio é especializado em cozinha Mediterrânea\n",
      "O restaurante Fabio está aberto\n"
     ]
    }
   ],
   "source": [
    "class Restaurant():\n",
    "    \"\"\"Definição de um restaurante\"\"\"\n",
    "\n",
    "    def __init__(self,restaurant_name,cuisie_type):\n",
    "        self.name = restaurant_name\n",
    "        self.type = cuisie_type\n",
    "        self.number_served = 0\n",
    "        self.status = False\n",
    "\n",
    "    def describe_restaurant(self):\n",
    "        print('O restaurante ' + self.name + ' é especializado em cozinha ' + self.type)\n",
    "\n",
    "    def open_restaurant(self):\n",
    "        self.status = True\n",
    "        print('O restaurante ' + self.name + ' está aberto')\n",
    "\n",
    "    def close_restaurant(self):\n",
    "        self.status = False\n",
    "        print('O restaurante ' + self.name + 'está fechado')\n",
    "\n",
    "    def set_number_served(self,dishes):\n",
    "        if dishes > 0:\n",
    "            self.number_served += dishes\n",
    "\n",
    "\n",
    "restaurante1 = Restaurant('Fabio', 'Mediterrânea')\n",
    "print(restaurante1.name)\n",
    "print(restaurante1.type)\n",
    "restaurante1.describe_restaurant()\n",
    "restaurante1.open_restaurant()"
   ]
  },
  {
   "cell_type": "code",
   "execution_count": 2,
   "metadata": {},
   "outputs": [
    {
     "name": "stdout",
     "output_type": "stream",
     "text": [
      "Bem-vindo(a) Fabio Mascarenhas!\n",
      "Bem-vindo(a) Fabio Dario!\n",
      "Bem-vindo(a) Stephanie Lucena!\n"
     ]
    }
   ],
   "source": [
    "class User():\n",
    "    \"\"\"Define um usuário\"\"\"\n",
    "    def __init__(self,nome,sobrenome,username,perfil=\"\",area=\"\"):\n",
    "        self.first_name = nome.lower()\n",
    "        self.last_name = sobrenome.lower()\n",
    "        self.username = username.lower()\n",
    "        self.profile = perfil.lower()\n",
    "        self.division = area.lower()\n",
    "        self.fullname = self.first_name + ' ' + self.last_name\n",
    "        self.login_attempts = 0\n",
    "        self.password = \"\"\n",
    "        self.password_history = []\n",
    "        self.status_login = False\n",
    "        self.status_password = False\n",
    "\n",
    "    def greet_user(self):\n",
    "        print('Bem-vindo(a) ' + self.fullname.title() + '!')\n",
    "\n",
    "    def increment_login_attempts(self):\n",
    "        self.login_attempts += 1\n",
    "\n",
    "    def reset_login_attempts(self):\n",
    "        self.login_attempts = 0\n",
    "\n",
    "    def set_password(self):\n",
    "        password = input('Digite uma senha: ')\n",
    "        if password in self.password_history:\n",
    "            print('Esta senha não pode ser utilizada! Tente outra.')\n",
    "        else:\n",
    "            self.password = password\n",
    "            self.status_password = True\n",
    "            self.password_history.append(password)\n",
    "            self.update_password_history()\n",
    "\n",
    "    def update_password_history(self):\n",
    "        if len(self.password_history) > 3:\n",
    "            del(self.password_history[0])\n",
    "\n",
    "    def login(self):\n",
    "        self.check_status_password()\n",
    "        password = input('Digite sua senha: ')\n",
    "        if password == self.password:\n",
    "            self.status_login = True\n",
    "            self.reset_login_attempts()\n",
    "            print('Login realizado com sucesso!')\n",
    "            self.greet_user()\n",
    "            print('Tentativas sem sucesso: ' + str(self.login_attempts))\n",
    "        else:\n",
    "            self.increment_login_attempts()\n",
    "            print('Senha errada, tente novamente!')\n",
    "            print('Tentativas sem sucesso: ' + str(self.login_attempts))\n",
    "\n",
    "    def check_status_password(self):\n",
    "        if not self.status_password:\n",
    "            print('Por favor, cadastre uma senha.')\n",
    "            self.set_password()\n",
    "\n",
    "    def logout(self):\n",
    "        self.status_login = False\n",
    "        print('Até breve!')\n",
    "            \n",
    "\n",
    "\n",
    "usuario1 = User('fAbio','mascarenHas','fmascarenhas')\n",
    "usuario2 = User('fAbio','dario','fdario','admin')\n",
    "usuario3 = User('Stephanie','luceNa','slucena','admin','conTabilidade')\n",
    "\n",
    "usuario1.greet_user()\n",
    "usuario2.greet_user()\n",
    "usuario3.greet_user()"
   ]
  },
  {
   "cell_type": "code",
   "execution_count": 3,
   "metadata": {},
   "outputs": [
    {
     "name": "stdout",
     "output_type": "stream",
     "text": [
      "0\n",
      "23\n"
     ]
    }
   ],
   "source": [
    "print(restaurante1.number_served)\n",
    "clientes = 23\n",
    "restaurante1.set_number_served(clientes)\n",
    "print(restaurante1.number_served)"
   ]
  },
  {
   "cell_type": "code",
   "execution_count": 4,
   "metadata": {},
   "outputs": [
    {
     "name": "stdout",
     "output_type": "stream",
     "text": [
      "Por favor, cadastre uma senha.\n",
      "Login realizado com sucesso!\n",
      "Bem-vindo(a) Fabio Mascarenhas!\n",
      "Tentativas sem sucesso: 0\n",
      "Esta senha não pode ser utilizada! Tente outra.\n",
      "Até breve!\n"
     ]
    }
   ],
   "source": [
    "usuario1.login()\n",
    "usuario1.set_password()\n",
    "usuario1.password_history\n",
    "usuario1.logout()"
   ]
  },
  {
   "cell_type": "code",
   "execution_count": 5,
   "metadata": {},
   "outputs": [],
   "source": [
    "class IceCreamStand(Restaurant):\n",
    "    \"\"\"Define uma sorveteria\"\"\"\n",
    "\n",
    "    def __init__(self,restaurant_name,cuisie_type):\n",
    "        super().__init__(restaurant_name,cuisie_type)\n",
    "        self.flavors = []\n",
    "\n",
    "    def new_flavor(self):\n",
    "        while True:\n",
    "            flavor = input('Digite o nome do novo sabor. Digite \"q\" para interromper: ')\n",
    "            if flavor == 'q':\n",
    "                break\n",
    "            elif flavor.lower() not in self.flavors:\n",
    "                self.flavors.append(flavor.lower())\n",
    "                print('O sabor ' + flavor.title() + ' foi cadastrado com sucesso!')\n",
    "            else:\n",
    "                print('O sabor ' + flavor.title() + ' já existe!')\n",
    "\n",
    "    def list_of_flavors(self):\n",
    "        if self.flavors:\n",
    "            print('Sabores disponíveis: ')\n",
    "            for flavor in self.flavors:\n",
    "                print('- ' + flavor.title())\n",
    "        else:\n",
    "            print('Nenhum sabor disponível!')"
   ]
  },
  {
   "cell_type": "code",
   "execution_count": 6,
   "metadata": {},
   "outputs": [
    {
     "name": "stdout",
     "output_type": "stream",
     "text": [
      "Nenhum sabor disponível!\n",
      "O sabor  foi cadastrado com sucesso!\n",
      "O sabor  já existe!\n",
      "O sabor  já existe!\n",
      "O sabor  já existe!\n",
      "O sabor  já existe!\n",
      "O sabor  já existe!\n",
      "O sabor  já existe!\n",
      "O sabor  já existe!\n",
      "O sabor  já existe!\n",
      "O sabor  já existe!\n",
      "O sabor  já existe!\n",
      "O sabor  já existe!\n",
      "O sabor  já existe!\n",
      "O sabor  já existe!\n",
      "O sabor  já existe!\n",
      "O sabor  já existe!\n",
      "O sabor  já existe!\n",
      "O sabor  já existe!\n",
      "O sabor  já existe!\n",
      "O sabor  já existe!\n",
      "O sabor  já existe!\n",
      "O sabor  já existe!\n",
      "Sabores disponíveis: \n",
      "- \n"
     ]
    }
   ],
   "source": [
    "sorveteria1 = IceCreamStand('Sorveteria', 'Sorvetes')\n",
    "sorveteria1.list_of_flavors()\n",
    "sorveteria1.new_flavor()\n",
    "sorveteria1.list_of_flavors()"
   ]
  },
  {
   "cell_type": "code",
   "execution_count": 7,
   "metadata": {},
   "outputs": [
    {
     "name": "stdout",
     "output_type": "stream",
     "text": [
      "\n"
     ]
    }
   ],
   "source": [
    "filename = 'learning_python.txt'\n",
    "\n",
    "with open(filename) as file_object:\n",
    "    contents = file_object.read()\n",
    "    print(contents)"
   ]
  },
  {
   "cell_type": "code",
   "execution_count": 8,
   "metadata": {},
   "outputs": [],
   "source": [
    "filename = 'learning_python.txt'\n",
    "\n",
    "with open(filename) as file_object:\n",
    "    for line in file_object:\n",
    "        print(line.strip())"
   ]
  },
  {
   "cell_type": "code",
   "execution_count": 9,
   "metadata": {},
   "outputs": [],
   "source": [
    "filename = 'learning_python.txt'\n",
    "\n",
    "with open(filename) as file_object:\n",
    "    lines = file_object.readlines()\n",
    "\n",
    "for line in lines:\n",
    "    print(line.strip())"
   ]
  },
  {
   "cell_type": "code",
   "execution_count": 10,
   "metadata": {},
   "outputs": [],
   "source": [
    "filename = 'learning_python.txt'\n",
    "\n",
    "with open(filename) as file_object:\n",
    "    for line in file_object:\n",
    "        line = line.replace('python','C')\n",
    "        print(line.strip())"
   ]
  },
  {
   "cell_type": "code",
   "execution_count": 11,
   "metadata": {},
   "outputs": [],
   "source": [
    "filename = 'guest_book.txt'\n",
    "\n",
    "while True:\n",
    "    convidado = input('Digite o nome do convidado. Pressione \"q\" para encerrar: ')\n",
    "\n",
    "    if convidado == 'q':\n",
    "        break\n",
    "    else:\n",
    "        with open(filename,'r') as file_object:\n",
    "            convidados = file_object.readlines()\n",
    "        \n",
    "        if convidado.lower() in convidados:\n",
    "            print(convidado.title() + ' já está registrado, aproveite o evento!')\n",
    "        else:\n",
    "            print('Bem vindo ' + convidado.title() + '!')\n",
    "            print('\\n Aproveite o evento!')    \n",
    "            with open(filename,'a') as file_object:\n",
    "                file_object.write('\\n' + convidado.lower())"
   ]
  },
  {
   "cell_type": "code",
   "execution_count": 12,
   "metadata": {},
   "outputs": [
    {
     "name": "stdout",
     "output_type": "stream",
     "text": [
      "Soma:\n"
     ]
    }
   ],
   "source": [
    "print('Soma:')\n",
    "\n",
    "while True:\n",
    "    numero1 = input('Insira o primeiro número. Pressione \"q\" para sair: ')\n",
    "    if numero1 == 'q':\n",
    "        break\n",
    "\n",
    "    numero2 = input('Insira o segundo número. Pressione \"q\" para sair: ')\n",
    "    if numero2 == 'q':\n",
    "        break\n",
    "\n",
    "    try:\n",
    "        resultado = int(numero1) + int(numero2)\n",
    "    except:\n",
    "        print('Você não pode somar textos! Tente novamente.')\n",
    "    else:\n",
    "        print(numero1 + ' + ' +  numero2 + ' = ' + str(resultado))"
   ]
  },
  {
   "cell_type": "code",
   "execution_count": 13,
   "metadata": {},
   "outputs": [
    {
     "name": "stdout",
     "output_type": "stream",
     "text": [
      "cão1\n",
      "cão2\n",
      "cão3\n",
      "gato1\n",
      "gato2\n",
      "gato3\n"
     ]
    }
   ],
   "source": [
    "filename_caes = 'dogs.txt'\n",
    "filename_gatos = 'cats.txt'\n",
    "\n",
    "try:\n",
    "    with open(filename_caes) as file_object:\n",
    "        contents = file_object.read()\n",
    "        print(contents)\n",
    "except:\n",
    "    pass #print('Nenhum cachorro por aqui.')\n",
    "\n",
    "try:\n",
    "    with open(filename_gatos) as file_object:\n",
    "        contents = file_object.read()\n",
    "        print(contents)\n",
    "except:\n",
    "    pass #print('Nenhum gato por aqui.')"
   ]
  },
  {
   "cell_type": "code",
   "execution_count": 14,
   "metadata": {},
   "outputs": [
    {
     "name": "stdout",
     "output_type": "stream",
     "text": [
      "The Project Gutenberg eBook of Moby-Dick; or The Whale, by Herman Melville\n",
      "\n",
      "This eBook is for the use of anyone anywhere in the United States and\n",
      "most other parts of the world at no cost and with almost no restrictions\n",
      "whatsoever. You may copy it, give it away or re-use it under the terms\n",
      "of the Project Gutenberg License included with this eBook or online at\n",
      "www.gutenberg.org. If you are not located in the United States, you\n",
      "will have to check the laws of the country where you are located before\n",
      "using this eBook.\n",
      "\n",
      "Title: Moby-Dick; or The Whale\n",
      "A palavra \"the\" aparece 20139 vezes!\n"
     ]
    }
   ],
   "source": [
    "filename = 'mobyDick.txt'\n",
    "\n",
    "try:\n",
    "    with open(filename) as file_object:\n",
    "        lines = file_object.readlines()\n",
    "except:\n",
    "    print('Não foi possível encontrar: ' + filename)\n",
    "else:\n",
    "    for line in lines[:11]:\n",
    "        print(line.strip())\n",
    "\n",
    "    contagem = 0\n",
    "    search = 'the'\n",
    "    for line in lines:\n",
    "        contagem += line.lower().count(search)\n",
    "\n",
    "    print('A palavra \"' + search + '\" aparece ' + str(contagem) + ' vezes!')"
   ]
  },
  {
   "cell_type": "code",
   "execution_count": 15,
   "metadata": {},
   "outputs": [
    {
     "name": "stdout",
     "output_type": "stream",
     "text": [
      "27\n"
     ]
    }
   ],
   "source": [
    "import json\n",
    "\n",
    "def escreve_json(arquivo,variavel):\n",
    "    with open(arquivo,'w') as file_object:\n",
    "        json.dump(variavel,file_object)\n",
    "\n",
    "def le_json(arquivo):\n",
    "    with open(arquivo,'r') as file_object:\n",
    "        return json.load(file_object)\n",
    "\n",
    "filename = 'favorito.json'\n",
    "\n",
    "try:\n",
    "    print(le_json(filename))\n",
    "except:\n",
    "    numero = input('Qual o seu número favorito? ')\n",
    "    escreve_json(filename,numero)\n",
    "    print(le_json(filename))"
   ]
  },
  {
   "cell_type": "code",
   "execution_count": 16,
   "metadata": {},
   "outputs": [
    {
     "name": "stderr",
     "output_type": "stream",
     "text": [
      "usage: ipykernel_launcher.py [-h] [-v] [-q] [--locals] [-f] [-c] [-b]\n",
      "                             [-k TESTNAMEPATTERNS]\n",
      "                             [tests ...]\n",
      "ipykernel_launcher.py: error: argument -f/--failfast: ignored explicit argument '/tmp/tmp-100aZSMnqaiT404.json'\n"
     ]
    },
    {
     "ename": "AssertionError",
     "evalue": "",
     "output_type": "error",
     "traceback": [
      "\u001b[0;31m---------------------------------------------------------------------------\u001b[0m",
      "\u001b[0;31mArgumentError\u001b[0m                             Traceback (most recent call last)",
      "File \u001b[0;32m/usr/lib/python3.9/argparse.py:1854\u001b[0m, in \u001b[0;36mArgumentParser.parse_known_args\u001b[0;34m(self, args, namespace)\u001b[0m\n\u001b[1;32m   <a href='file:///usr/lib/python3.9/argparse.py?line=1852'>1853</a>\u001b[0m \u001b[39mtry\u001b[39;00m:\n\u001b[0;32m-> <a href='file:///usr/lib/python3.9/argparse.py?line=1853'>1854</a>\u001b[0m     namespace, args \u001b[39m=\u001b[39m \u001b[39mself\u001b[39;49m\u001b[39m.\u001b[39;49m_parse_known_args(args, namespace)\n\u001b[1;32m   <a href='file:///usr/lib/python3.9/argparse.py?line=1854'>1855</a>\u001b[0m \u001b[39mexcept\u001b[39;00m ArgumentError:\n",
      "File \u001b[0;32m/usr/lib/python3.9/argparse.py:2063\u001b[0m, in \u001b[0;36mArgumentParser._parse_known_args\u001b[0;34m(self, arg_strings, namespace)\u001b[0m\n\u001b[1;32m   <a href='file:///usr/lib/python3.9/argparse.py?line=2061'>2062</a>\u001b[0m     \u001b[39m# consume the next optional and any arguments for it\u001b[39;00m\n\u001b[0;32m-> <a href='file:///usr/lib/python3.9/argparse.py?line=2062'>2063</a>\u001b[0m     start_index \u001b[39m=\u001b[39m consume_optional(start_index)\n\u001b[1;32m   <a href='file:///usr/lib/python3.9/argparse.py?line=2064'>2065</a>\u001b[0m \u001b[39m# consume any positionals following the last Optional\u001b[39;00m\n",
      "File \u001b[0;32m/usr/lib/python3.9/argparse.py:1985\u001b[0m, in \u001b[0;36mArgumentParser._parse_known_args.<locals>.consume_optional\u001b[0;34m(start_index)\u001b[0m\n\u001b[1;32m   <a href='file:///usr/lib/python3.9/argparse.py?line=1983'>1984</a>\u001b[0m         msg \u001b[39m=\u001b[39m _(\u001b[39m'\u001b[39m\u001b[39mignored explicit argument \u001b[39m\u001b[39m%r\u001b[39;00m\u001b[39m'\u001b[39m)\n\u001b[0;32m-> <a href='file:///usr/lib/python3.9/argparse.py?line=1984'>1985</a>\u001b[0m         \u001b[39mraise\u001b[39;00m ArgumentError(action, msg \u001b[39m%\u001b[39m explicit_arg)\n\u001b[1;32m   <a href='file:///usr/lib/python3.9/argparse.py?line=1986'>1987</a>\u001b[0m \u001b[39m# if there is no explicit argument, try to match the\u001b[39;00m\n\u001b[1;32m   <a href='file:///usr/lib/python3.9/argparse.py?line=1987'>1988</a>\u001b[0m \u001b[39m# optional's string arguments with the following strings\u001b[39;00m\n\u001b[1;32m   <a href='file:///usr/lib/python3.9/argparse.py?line=1988'>1989</a>\u001b[0m \u001b[39m# if successful, exit the loop\u001b[39;00m\n\u001b[1;32m   <a href='file:///usr/lib/python3.9/argparse.py?line=1989'>1990</a>\u001b[0m \u001b[39melse\u001b[39;00m:\n",
      "\u001b[0;31mArgumentError\u001b[0m: argument -f/--failfast: ignored explicit argument '/tmp/tmp-100aZSMnqaiT404.json'",
      "\nDuring handling of the above exception, another exception occurred:\n",
      "\u001b[0;31mSystemExit\u001b[0m                                Traceback (most recent call last)",
      "    \u001b[0;31m[... skipping hidden 1 frame]\u001b[0m\n",
      "\u001b[1;32m/sysroot/home/fdmedina7/Documentos/CursoIntensivoPython/parteI/Objects.ipynb Cell 17'\u001b[0m in \u001b[0;36m<module>\u001b[0;34m\u001b[0m\n\u001b[1;32m     <a href='vscode-notebook-cell:/sysroot/home/fdmedina7/Documentos/CursoIntensivoPython/parteI/Objects.ipynb#ch0000016?line=25'>26</a>\u001b[0m         \u001b[39mself\u001b[39m\u001b[39m.\u001b[39massertEqual(capital_pais,\u001b[39m'\u001b[39m\u001b[39mSantiago, Chile - População: 500000.\u001b[39m\u001b[39m'\u001b[39m)\n\u001b[0;32m---> <a href='vscode-notebook-cell:/sysroot/home/fdmedina7/Documentos/CursoIntensivoPython/parteI/Objects.ipynb#ch0000016?line=27'>28</a>\u001b[0m unittest\u001b[39m.\u001b[39;49mmain()\n",
      "File \u001b[0;32m/usr/lib/python3.9/unittest/main.py:100\u001b[0m, in \u001b[0;36mTestProgram.__init__\u001b[0;34m(self, module, defaultTest, argv, testRunner, testLoader, exit, verbosity, failfast, catchbreak, buffer, warnings, tb_locals)\u001b[0m\n\u001b[1;32m     <a href='file:///usr/lib/python3.9/unittest/main.py?line=98'>99</a>\u001b[0m \u001b[39mself\u001b[39m\u001b[39m.\u001b[39mprogName \u001b[39m=\u001b[39m os\u001b[39m.\u001b[39mpath\u001b[39m.\u001b[39mbasename(argv[\u001b[39m0\u001b[39m])\n\u001b[0;32m--> <a href='file:///usr/lib/python3.9/unittest/main.py?line=99'>100</a>\u001b[0m \u001b[39mself\u001b[39;49m\u001b[39m.\u001b[39;49mparseArgs(argv)\n\u001b[1;32m    <a href='file:///usr/lib/python3.9/unittest/main.py?line=100'>101</a>\u001b[0m \u001b[39mself\u001b[39m\u001b[39m.\u001b[39mrunTests()\n",
      "File \u001b[0;32m/usr/lib/python3.9/unittest/main.py:133\u001b[0m, in \u001b[0;36mTestProgram.parseArgs\u001b[0;34m(self, argv)\u001b[0m\n\u001b[1;32m    <a href='file:///usr/lib/python3.9/unittest/main.py?line=131'>132</a>\u001b[0m \u001b[39melse\u001b[39;00m:\n\u001b[0;32m--> <a href='file:///usr/lib/python3.9/unittest/main.py?line=132'>133</a>\u001b[0m     \u001b[39mself\u001b[39;49m\u001b[39m.\u001b[39;49m_main_parser\u001b[39m.\u001b[39;49mparse_args(argv[\u001b[39m1\u001b[39;49m:], \u001b[39mself\u001b[39;49m)\n\u001b[1;32m    <a href='file:///usr/lib/python3.9/unittest/main.py?line=134'>135</a>\u001b[0m \u001b[39mif\u001b[39;00m \u001b[39mself\u001b[39m\u001b[39m.\u001b[39mtests:\n",
      "File \u001b[0;32m/usr/lib/python3.9/argparse.py:1821\u001b[0m, in \u001b[0;36mArgumentParser.parse_args\u001b[0;34m(self, args, namespace)\u001b[0m\n\u001b[1;32m   <a href='file:///usr/lib/python3.9/argparse.py?line=1819'>1820</a>\u001b[0m \u001b[39mdef\u001b[39;00m \u001b[39mparse_args\u001b[39m(\u001b[39mself\u001b[39m, args\u001b[39m=\u001b[39m\u001b[39mNone\u001b[39;00m, namespace\u001b[39m=\u001b[39m\u001b[39mNone\u001b[39;00m):\n\u001b[0;32m-> <a href='file:///usr/lib/python3.9/argparse.py?line=1820'>1821</a>\u001b[0m     args, argv \u001b[39m=\u001b[39m \u001b[39mself\u001b[39;49m\u001b[39m.\u001b[39;49mparse_known_args(args, namespace)\n\u001b[1;32m   <a href='file:///usr/lib/python3.9/argparse.py?line=1821'>1822</a>\u001b[0m     \u001b[39mif\u001b[39;00m argv:\n",
      "File \u001b[0;32m/usr/lib/python3.9/argparse.py:1857\u001b[0m, in \u001b[0;36mArgumentParser.parse_known_args\u001b[0;34m(self, args, namespace)\u001b[0m\n\u001b[1;32m   <a href='file:///usr/lib/python3.9/argparse.py?line=1855'>1856</a>\u001b[0m         err \u001b[39m=\u001b[39m _sys\u001b[39m.\u001b[39mexc_info()[\u001b[39m1\u001b[39m]\n\u001b[0;32m-> <a href='file:///usr/lib/python3.9/argparse.py?line=1856'>1857</a>\u001b[0m         \u001b[39mself\u001b[39;49m\u001b[39m.\u001b[39;49merror(\u001b[39mstr\u001b[39;49m(err))\n\u001b[1;32m   <a href='file:///usr/lib/python3.9/argparse.py?line=1857'>1858</a>\u001b[0m \u001b[39melse\u001b[39;00m:\n",
      "File \u001b[0;32m/usr/lib/python3.9/argparse.py:2578\u001b[0m, in \u001b[0;36mArgumentParser.error\u001b[0;34m(self, message)\u001b[0m\n\u001b[1;32m   <a href='file:///usr/lib/python3.9/argparse.py?line=2576'>2577</a>\u001b[0m args \u001b[39m=\u001b[39m {\u001b[39m'\u001b[39m\u001b[39mprog\u001b[39m\u001b[39m'\u001b[39m: \u001b[39mself\u001b[39m\u001b[39m.\u001b[39mprog, \u001b[39m'\u001b[39m\u001b[39mmessage\u001b[39m\u001b[39m'\u001b[39m: message}\n\u001b[0;32m-> <a href='file:///usr/lib/python3.9/argparse.py?line=2577'>2578</a>\u001b[0m \u001b[39mself\u001b[39;49m\u001b[39m.\u001b[39;49mexit(\u001b[39m2\u001b[39;49m, _(\u001b[39m'\u001b[39;49m\u001b[39m%(prog)s\u001b[39;49;00m\u001b[39m: error: \u001b[39;49m\u001b[39m%(message)s\u001b[39;49;00m\u001b[39m\\n\u001b[39;49;00m\u001b[39m'\u001b[39;49m) \u001b[39m%\u001b[39;49m args)\n",
      "File \u001b[0;32m/usr/lib/python3.9/argparse.py:2565\u001b[0m, in \u001b[0;36mArgumentParser.exit\u001b[0;34m(self, status, message)\u001b[0m\n\u001b[1;32m   <a href='file:///usr/lib/python3.9/argparse.py?line=2563'>2564</a>\u001b[0m     \u001b[39mself\u001b[39m\u001b[39m.\u001b[39m_print_message(message, _sys\u001b[39m.\u001b[39mstderr)\n\u001b[0;32m-> <a href='file:///usr/lib/python3.9/argparse.py?line=2564'>2565</a>\u001b[0m _sys\u001b[39m.\u001b[39;49mexit(status)\n",
      "\u001b[0;31mSystemExit\u001b[0m: 2",
      "\nDuring handling of the above exception, another exception occurred:\n",
      "\u001b[0;31mAssertionError\u001b[0m                            Traceback (most recent call last)",
      "    \u001b[0;31m[... skipping hidden 1 frame]\u001b[0m\n",
      "File \u001b[0;32m/var/data/python/lib/python3.9/site-packages/IPython/core/interactiveshell.py:1927\u001b[0m, in \u001b[0;36mInteractiveShell.showtraceback\u001b[0;34m(self, exc_tuple, filename, tb_offset, exception_only, running_compiled_code)\u001b[0m\n\u001b[1;32m   <a href='file:///var/data/python/lib/python3.9/site-packages/IPython/core/interactiveshell.py?line=1923'>1924</a>\u001b[0m \u001b[39mif\u001b[39;00m exception_only:\n\u001b[1;32m   <a href='file:///var/data/python/lib/python3.9/site-packages/IPython/core/interactiveshell.py?line=1924'>1925</a>\u001b[0m     stb \u001b[39m=\u001b[39m [\u001b[39m'\u001b[39m\u001b[39mAn exception has occurred, use \u001b[39m\u001b[39m%\u001b[39m\u001b[39mtb to see \u001b[39m\u001b[39m'\u001b[39m\n\u001b[1;32m   <a href='file:///var/data/python/lib/python3.9/site-packages/IPython/core/interactiveshell.py?line=1925'>1926</a>\u001b[0m            \u001b[39m'\u001b[39m\u001b[39mthe full traceback.\u001b[39m\u001b[39m\\n\u001b[39;00m\u001b[39m'\u001b[39m]\n\u001b[0;32m-> <a href='file:///var/data/python/lib/python3.9/site-packages/IPython/core/interactiveshell.py?line=1926'>1927</a>\u001b[0m     stb\u001b[39m.\u001b[39mextend(\u001b[39mself\u001b[39;49m\u001b[39m.\u001b[39;49mInteractiveTB\u001b[39m.\u001b[39;49mget_exception_only(etype,\n\u001b[1;32m   <a href='file:///var/data/python/lib/python3.9/site-packages/IPython/core/interactiveshell.py?line=1927'>1928</a>\u001b[0m                                                      value))\n\u001b[1;32m   <a href='file:///var/data/python/lib/python3.9/site-packages/IPython/core/interactiveshell.py?line=1928'>1929</a>\u001b[0m \u001b[39melse\u001b[39;00m:\n\u001b[1;32m   <a href='file:///var/data/python/lib/python3.9/site-packages/IPython/core/interactiveshell.py?line=1929'>1930</a>\u001b[0m     \u001b[39mtry\u001b[39;00m:\n\u001b[1;32m   <a href='file:///var/data/python/lib/python3.9/site-packages/IPython/core/interactiveshell.py?line=1930'>1931</a>\u001b[0m         \u001b[39m# Exception classes can customise their traceback - we\u001b[39;00m\n\u001b[1;32m   <a href='file:///var/data/python/lib/python3.9/site-packages/IPython/core/interactiveshell.py?line=1931'>1932</a>\u001b[0m         \u001b[39m# use this in IPython.parallel for exceptions occurring\u001b[39;00m\n\u001b[1;32m   <a href='file:///var/data/python/lib/python3.9/site-packages/IPython/core/interactiveshell.py?line=1932'>1933</a>\u001b[0m         \u001b[39m# in the engines. This should return a list of strings.\u001b[39;00m\n",
      "File \u001b[0;32m/var/data/python/lib/python3.9/site-packages/IPython/core/ultratb.py:578\u001b[0m, in \u001b[0;36mListTB.get_exception_only\u001b[0;34m(self, etype, value)\u001b[0m\n\u001b[1;32m    <a href='file:///var/data/python/lib/python3.9/site-packages/IPython/core/ultratb.py?line=569'>570</a>\u001b[0m \u001b[39mdef\u001b[39;00m \u001b[39mget_exception_only\u001b[39m(\u001b[39mself\u001b[39m, etype, value):\n\u001b[1;32m    <a href='file:///var/data/python/lib/python3.9/site-packages/IPython/core/ultratb.py?line=570'>571</a>\u001b[0m     \u001b[39m\"\"\"Only print the exception type and message, without a traceback.\u001b[39;00m\n\u001b[1;32m    <a href='file:///var/data/python/lib/python3.9/site-packages/IPython/core/ultratb.py?line=571'>572</a>\u001b[0m \n\u001b[1;32m    <a href='file:///var/data/python/lib/python3.9/site-packages/IPython/core/ultratb.py?line=572'>573</a>\u001b[0m \u001b[39m    Parameters\u001b[39;00m\n\u001b[0;32m   (...)\u001b[0m\n\u001b[1;32m    <a href='file:///var/data/python/lib/python3.9/site-packages/IPython/core/ultratb.py?line=575'>576</a>\u001b[0m \u001b[39m    value : exception value\u001b[39;00m\n\u001b[1;32m    <a href='file:///var/data/python/lib/python3.9/site-packages/IPython/core/ultratb.py?line=576'>577</a>\u001b[0m \u001b[39m    \"\"\"\u001b[39;00m\n\u001b[0;32m--> <a href='file:///var/data/python/lib/python3.9/site-packages/IPython/core/ultratb.py?line=577'>578</a>\u001b[0m     \u001b[39mreturn\u001b[39;00m ListTB\u001b[39m.\u001b[39;49mstructured_traceback(\u001b[39mself\u001b[39;49m, etype, value)\n",
      "File \u001b[0;32m/var/data/python/lib/python3.9/site-packages/IPython/core/ultratb.py:436\u001b[0m, in \u001b[0;36mListTB.structured_traceback\u001b[0;34m(self, etype, evalue, etb, tb_offset, context)\u001b[0m\n\u001b[1;32m    <a href='file:///var/data/python/lib/python3.9/site-packages/IPython/core/ultratb.py?line=432'>433</a>\u001b[0m     chained_exc_ids\u001b[39m.\u001b[39madd(\u001b[39mid\u001b[39m(exception[\u001b[39m1\u001b[39m]))\n\u001b[1;32m    <a href='file:///var/data/python/lib/python3.9/site-packages/IPython/core/ultratb.py?line=433'>434</a>\u001b[0m     chained_exceptions_tb_offset \u001b[39m=\u001b[39m \u001b[39m0\u001b[39m\n\u001b[1;32m    <a href='file:///var/data/python/lib/python3.9/site-packages/IPython/core/ultratb.py?line=434'>435</a>\u001b[0m     out_list \u001b[39m=\u001b[39m (\n\u001b[0;32m--> <a href='file:///var/data/python/lib/python3.9/site-packages/IPython/core/ultratb.py?line=435'>436</a>\u001b[0m         \u001b[39mself\u001b[39;49m\u001b[39m.\u001b[39;49mstructured_traceback(\n\u001b[1;32m    <a href='file:///var/data/python/lib/python3.9/site-packages/IPython/core/ultratb.py?line=436'>437</a>\u001b[0m             etype, evalue, (etb, chained_exc_ids),\n\u001b[1;32m    <a href='file:///var/data/python/lib/python3.9/site-packages/IPython/core/ultratb.py?line=437'>438</a>\u001b[0m             chained_exceptions_tb_offset, context)\n\u001b[1;32m    <a href='file:///var/data/python/lib/python3.9/site-packages/IPython/core/ultratb.py?line=438'>439</a>\u001b[0m         \u001b[39m+\u001b[39m chained_exception_message\n\u001b[1;32m    <a href='file:///var/data/python/lib/python3.9/site-packages/IPython/core/ultratb.py?line=439'>440</a>\u001b[0m         \u001b[39m+\u001b[39m out_list)\n\u001b[1;32m    <a href='file:///var/data/python/lib/python3.9/site-packages/IPython/core/ultratb.py?line=441'>442</a>\u001b[0m \u001b[39mreturn\u001b[39;00m out_list\n",
      "File \u001b[0;32m/var/data/python/lib/python3.9/site-packages/IPython/core/ultratb.py:1105\u001b[0m, in \u001b[0;36mAutoFormattedTB.structured_traceback\u001b[0;34m(self, etype, value, tb, tb_offset, number_of_lines_of_context)\u001b[0m\n\u001b[1;32m   <a href='file:///var/data/python/lib/python3.9/site-packages/IPython/core/ultratb.py?line=1102'>1103</a>\u001b[0m \u001b[39melse\u001b[39;00m:\n\u001b[1;32m   <a href='file:///var/data/python/lib/python3.9/site-packages/IPython/core/ultratb.py?line=1103'>1104</a>\u001b[0m     \u001b[39mself\u001b[39m\u001b[39m.\u001b[39mtb \u001b[39m=\u001b[39m tb\n\u001b[0;32m-> <a href='file:///var/data/python/lib/python3.9/site-packages/IPython/core/ultratb.py?line=1104'>1105</a>\u001b[0m \u001b[39mreturn\u001b[39;00m FormattedTB\u001b[39m.\u001b[39;49mstructured_traceback(\n\u001b[1;32m   <a href='file:///var/data/python/lib/python3.9/site-packages/IPython/core/ultratb.py?line=1105'>1106</a>\u001b[0m     \u001b[39mself\u001b[39;49m, etype, value, tb, tb_offset, number_of_lines_of_context)\n",
      "File \u001b[0;32m/var/data/python/lib/python3.9/site-packages/IPython/core/ultratb.py:999\u001b[0m, in \u001b[0;36mFormattedTB.structured_traceback\u001b[0;34m(self, etype, value, tb, tb_offset, number_of_lines_of_context)\u001b[0m\n\u001b[1;32m    <a href='file:///var/data/python/lib/python3.9/site-packages/IPython/core/ultratb.py?line=995'>996</a>\u001b[0m mode \u001b[39m=\u001b[39m \u001b[39mself\u001b[39m\u001b[39m.\u001b[39mmode\n\u001b[1;32m    <a href='file:///var/data/python/lib/python3.9/site-packages/IPython/core/ultratb.py?line=996'>997</a>\u001b[0m \u001b[39mif\u001b[39;00m mode \u001b[39min\u001b[39;00m \u001b[39mself\u001b[39m\u001b[39m.\u001b[39mverbose_modes:\n\u001b[1;32m    <a href='file:///var/data/python/lib/python3.9/site-packages/IPython/core/ultratb.py?line=997'>998</a>\u001b[0m     \u001b[39m# Verbose modes need a full traceback\u001b[39;00m\n\u001b[0;32m--> <a href='file:///var/data/python/lib/python3.9/site-packages/IPython/core/ultratb.py?line=998'>999</a>\u001b[0m     \u001b[39mreturn\u001b[39;00m VerboseTB\u001b[39m.\u001b[39;49mstructured_traceback(\n\u001b[1;32m   <a href='file:///var/data/python/lib/python3.9/site-packages/IPython/core/ultratb.py?line=999'>1000</a>\u001b[0m         \u001b[39mself\u001b[39;49m, etype, value, tb, tb_offset, number_of_lines_of_context\n\u001b[1;32m   <a href='file:///var/data/python/lib/python3.9/site-packages/IPython/core/ultratb.py?line=1000'>1001</a>\u001b[0m     )\n\u001b[1;32m   <a href='file:///var/data/python/lib/python3.9/site-packages/IPython/core/ultratb.py?line=1001'>1002</a>\u001b[0m \u001b[39melif\u001b[39;00m mode \u001b[39m==\u001b[39m \u001b[39m'\u001b[39m\u001b[39mMinimal\u001b[39m\u001b[39m'\u001b[39m:\n\u001b[1;32m   <a href='file:///var/data/python/lib/python3.9/site-packages/IPython/core/ultratb.py?line=1002'>1003</a>\u001b[0m     \u001b[39mreturn\u001b[39;00m ListTB\u001b[39m.\u001b[39mget_exception_only(\u001b[39mself\u001b[39m, etype, value)\n",
      "File \u001b[0;32m/var/data/python/lib/python3.9/site-packages/IPython/core/ultratb.py:852\u001b[0m, in \u001b[0;36mVerboseTB.structured_traceback\u001b[0;34m(self, etype, evalue, etb, tb_offset, number_of_lines_of_context)\u001b[0m\n\u001b[1;32m    <a href='file:///var/data/python/lib/python3.9/site-packages/IPython/core/ultratb.py?line=849'>850</a>\u001b[0m \u001b[39m\"\"\"Return a nice text document describing the traceback.\"\"\"\u001b[39;00m\n\u001b[1;32m    <a href='file:///var/data/python/lib/python3.9/site-packages/IPython/core/ultratb.py?line=850'>851</a>\u001b[0m \u001b[39massert\u001b[39;00m etb \u001b[39mis\u001b[39;00m \u001b[39mnot\u001b[39;00m \u001b[39mNone\u001b[39;00m\n\u001b[0;32m--> <a href='file:///var/data/python/lib/python3.9/site-packages/IPython/core/ultratb.py?line=851'>852</a>\u001b[0m formatted_exception \u001b[39m=\u001b[39m \u001b[39mself\u001b[39;49m\u001b[39m.\u001b[39;49mformat_exception_as_a_whole(etype, evalue, etb, number_of_lines_of_context,\n\u001b[1;32m    <a href='file:///var/data/python/lib/python3.9/site-packages/IPython/core/ultratb.py?line=852'>853</a>\u001b[0m                                                        tb_offset)\n\u001b[1;32m    <a href='file:///var/data/python/lib/python3.9/site-packages/IPython/core/ultratb.py?line=854'>855</a>\u001b[0m colors \u001b[39m=\u001b[39m \u001b[39mself\u001b[39m\u001b[39m.\u001b[39mColors  \u001b[39m# just a shorthand + quicker name lookup\u001b[39;00m\n\u001b[1;32m    <a href='file:///var/data/python/lib/python3.9/site-packages/IPython/core/ultratb.py?line=855'>856</a>\u001b[0m colorsnormal \u001b[39m=\u001b[39m colors\u001b[39m.\u001b[39mNormal  \u001b[39m# used a lot\u001b[39;00m\n",
      "File \u001b[0;32m/var/data/python/lib/python3.9/site-packages/IPython/core/ultratb.py:786\u001b[0m, in \u001b[0;36mVerboseTB.format_exception_as_a_whole\u001b[0;34m(self, etype, evalue, etb, number_of_lines_of_context, tb_offset)\u001b[0m\n\u001b[1;32m    <a href='file:///var/data/python/lib/python3.9/site-packages/IPython/core/ultratb.py?line=783'>784</a>\u001b[0m \u001b[39massert\u001b[39;00m \u001b[39misinstance\u001b[39m(tb_offset, \u001b[39mint\u001b[39m)\n\u001b[1;32m    <a href='file:///var/data/python/lib/python3.9/site-packages/IPython/core/ultratb.py?line=784'>785</a>\u001b[0m head \u001b[39m=\u001b[39m \u001b[39mself\u001b[39m\u001b[39m.\u001b[39mprepare_header(etype, \u001b[39mself\u001b[39m\u001b[39m.\u001b[39mlong_header)\n\u001b[0;32m--> <a href='file:///var/data/python/lib/python3.9/site-packages/IPython/core/ultratb.py?line=785'>786</a>\u001b[0m records \u001b[39m=\u001b[39m \u001b[39mself\u001b[39;49m\u001b[39m.\u001b[39;49mget_records(etb, number_of_lines_of_context, tb_offset)\n\u001b[1;32m    <a href='file:///var/data/python/lib/python3.9/site-packages/IPython/core/ultratb.py?line=787'>788</a>\u001b[0m frames \u001b[39m=\u001b[39m []\n\u001b[1;32m    <a href='file:///var/data/python/lib/python3.9/site-packages/IPython/core/ultratb.py?line=788'>789</a>\u001b[0m skipped \u001b[39m=\u001b[39m \u001b[39m0\u001b[39m\n",
      "File \u001b[0;32m/var/data/python/lib/python3.9/site-packages/IPython/core/ultratb.py:840\u001b[0m, in \u001b[0;36mVerboseTB.get_records\u001b[0;34m(self, etb, number_of_lines_of_context, tb_offset)\u001b[0m\n\u001b[1;32m    <a href='file:///var/data/python/lib/python3.9/site-packages/IPython/core/ultratb.py?line=833'>834</a>\u001b[0m options \u001b[39m=\u001b[39m stack_data\u001b[39m.\u001b[39mOptions(\n\u001b[1;32m    <a href='file:///var/data/python/lib/python3.9/site-packages/IPython/core/ultratb.py?line=834'>835</a>\u001b[0m     before\u001b[39m=\u001b[39mbefore,\n\u001b[1;32m    <a href='file:///var/data/python/lib/python3.9/site-packages/IPython/core/ultratb.py?line=835'>836</a>\u001b[0m     after\u001b[39m=\u001b[39mafter,\n\u001b[1;32m    <a href='file:///var/data/python/lib/python3.9/site-packages/IPython/core/ultratb.py?line=836'>837</a>\u001b[0m     pygments_formatter\u001b[39m=\u001b[39mformatter,\n\u001b[1;32m    <a href='file:///var/data/python/lib/python3.9/site-packages/IPython/core/ultratb.py?line=837'>838</a>\u001b[0m )\n\u001b[1;32m    <a href='file:///var/data/python/lib/python3.9/site-packages/IPython/core/ultratb.py?line=838'>839</a>\u001b[0m \u001b[39massert\u001b[39;00m etb \u001b[39mis\u001b[39;00m \u001b[39mnot\u001b[39;00m \u001b[39mNone\u001b[39;00m\n\u001b[0;32m--> <a href='file:///var/data/python/lib/python3.9/site-packages/IPython/core/ultratb.py?line=839'>840</a>\u001b[0m \u001b[39mreturn\u001b[39;00m \u001b[39mlist\u001b[39;49m(stack_data\u001b[39m.\u001b[39;49mFrameInfo\u001b[39m.\u001b[39;49mstack_data(etb, options\u001b[39m=\u001b[39;49moptions))[tb_offset:]\n",
      "File \u001b[0;32m/var/data/python/lib/python3.9/site-packages/stack_data/core.py:546\u001b[0m, in \u001b[0;36mFrameInfo.stack_data\u001b[0;34m(cls, frame_or_tb, options, collapse_repeated_frames)\u001b[0m\n\u001b[1;32m    <a href='file:///var/data/python/lib/python3.9/site-packages/stack_data/core.py?line=529'>530</a>\u001b[0m \u001b[39m@classmethod\u001b[39m\n\u001b[1;32m    <a href='file:///var/data/python/lib/python3.9/site-packages/stack_data/core.py?line=530'>531</a>\u001b[0m \u001b[39mdef\u001b[39;00m \u001b[39mstack_data\u001b[39m(\n\u001b[1;32m    <a href='file:///var/data/python/lib/python3.9/site-packages/stack_data/core.py?line=531'>532</a>\u001b[0m         \u001b[39mcls\u001b[39m,\n\u001b[0;32m   (...)\u001b[0m\n\u001b[1;32m    <a href='file:///var/data/python/lib/python3.9/site-packages/stack_data/core.py?line=535'>536</a>\u001b[0m         collapse_repeated_frames: \u001b[39mbool\u001b[39m \u001b[39m=\u001b[39m \u001b[39mTrue\u001b[39;00m\n\u001b[1;32m    <a href='file:///var/data/python/lib/python3.9/site-packages/stack_data/core.py?line=536'>537</a>\u001b[0m ) \u001b[39m-\u001b[39m\u001b[39m>\u001b[39m Iterator[Union[\u001b[39m'\u001b[39m\u001b[39mFrameInfo\u001b[39m\u001b[39m'\u001b[39m, RepeatedFrames]]:\n\u001b[1;32m    <a href='file:///var/data/python/lib/python3.9/site-packages/stack_data/core.py?line=537'>538</a>\u001b[0m     \u001b[39m\"\"\"\u001b[39;00m\n\u001b[1;32m    <a href='file:///var/data/python/lib/python3.9/site-packages/stack_data/core.py?line=538'>539</a>\u001b[0m \u001b[39m    An iterator of FrameInfo and RepeatedFrames objects representing\u001b[39;00m\n\u001b[1;32m    <a href='file:///var/data/python/lib/python3.9/site-packages/stack_data/core.py?line=539'>540</a>\u001b[0m \u001b[39m    a full traceback or stack. Similar consecutive frames are collapsed into RepeatedFrames\u001b[39;00m\n\u001b[0;32m   (...)\u001b[0m\n\u001b[1;32m    <a href='file:///var/data/python/lib/python3.9/site-packages/stack_data/core.py?line=543'>544</a>\u001b[0m \u001b[39m    and optionally an Options object to configure.\u001b[39;00m\n\u001b[1;32m    <a href='file:///var/data/python/lib/python3.9/site-packages/stack_data/core.py?line=544'>545</a>\u001b[0m \u001b[39m    \"\"\"\u001b[39;00m\n\u001b[0;32m--> <a href='file:///var/data/python/lib/python3.9/site-packages/stack_data/core.py?line=545'>546</a>\u001b[0m     stack \u001b[39m=\u001b[39m \u001b[39mlist\u001b[39;49m(iter_stack(frame_or_tb))\n\u001b[1;32m    <a href='file:///var/data/python/lib/python3.9/site-packages/stack_data/core.py?line=547'>548</a>\u001b[0m     \u001b[39m# Reverse the stack from a frame so that it's in the same order\u001b[39;00m\n\u001b[1;32m    <a href='file:///var/data/python/lib/python3.9/site-packages/stack_data/core.py?line=548'>549</a>\u001b[0m     \u001b[39m# as the order from a traceback, which is the order of a printed\u001b[39;00m\n\u001b[1;32m    <a href='file:///var/data/python/lib/python3.9/site-packages/stack_data/core.py?line=549'>550</a>\u001b[0m     \u001b[39m# traceback when read top to bottom (most recent call last)\u001b[39;00m\n\u001b[1;32m    <a href='file:///var/data/python/lib/python3.9/site-packages/stack_data/core.py?line=550'>551</a>\u001b[0m     \u001b[39mif\u001b[39;00m is_frame(frame_or_tb):\n",
      "File \u001b[0;32m/var/data/python/lib/python3.9/site-packages/stack_data/utils.py:98\u001b[0m, in \u001b[0;36miter_stack\u001b[0;34m(frame_or_tb)\u001b[0m\n\u001b[1;32m     <a href='file:///var/data/python/lib/python3.9/site-packages/stack_data/utils.py?line=95'>96</a>\u001b[0m \u001b[39mwhile\u001b[39;00m frame_or_tb:\n\u001b[1;32m     <a href='file:///var/data/python/lib/python3.9/site-packages/stack_data/utils.py?line=96'>97</a>\u001b[0m     \u001b[39myield\u001b[39;00m frame_or_tb\n\u001b[0;32m---> <a href='file:///var/data/python/lib/python3.9/site-packages/stack_data/utils.py?line=97'>98</a>\u001b[0m     \u001b[39mif\u001b[39;00m is_frame(frame_or_tb):\n\u001b[1;32m     <a href='file:///var/data/python/lib/python3.9/site-packages/stack_data/utils.py?line=98'>99</a>\u001b[0m         frame_or_tb \u001b[39m=\u001b[39m frame_or_tb\u001b[39m.\u001b[39mf_back\n\u001b[1;32m    <a href='file:///var/data/python/lib/python3.9/site-packages/stack_data/utils.py?line=99'>100</a>\u001b[0m     \u001b[39melse\u001b[39;00m:\n",
      "File \u001b[0;32m/var/data/python/lib/python3.9/site-packages/stack_data/utils.py:91\u001b[0m, in \u001b[0;36mis_frame\u001b[0;34m(frame_or_tb)\u001b[0m\n\u001b[1;32m     <a href='file:///var/data/python/lib/python3.9/site-packages/stack_data/utils.py?line=89'>90</a>\u001b[0m \u001b[39mdef\u001b[39;00m \u001b[39mis_frame\u001b[39m(frame_or_tb: Union[FrameType, TracebackType]) \u001b[39m-\u001b[39m\u001b[39m>\u001b[39m \u001b[39mbool\u001b[39m:\n\u001b[0;32m---> <a href='file:///var/data/python/lib/python3.9/site-packages/stack_data/utils.py?line=90'>91</a>\u001b[0m     assert_(\u001b[39misinstance\u001b[39;49m(frame_or_tb, (types\u001b[39m.\u001b[39;49mFrameType, types\u001b[39m.\u001b[39;49mTracebackType)))\n\u001b[1;32m     <a href='file:///var/data/python/lib/python3.9/site-packages/stack_data/utils.py?line=91'>92</a>\u001b[0m     \u001b[39mreturn\u001b[39;00m \u001b[39misinstance\u001b[39m(frame_or_tb, (types\u001b[39m.\u001b[39mFrameType,))\n",
      "File \u001b[0;32m/var/data/python/lib/python3.9/site-packages/stack_data/utils.py:172\u001b[0m, in \u001b[0;36massert_\u001b[0;34m(condition, error)\u001b[0m\n\u001b[1;32m    <a href='file:///var/data/python/lib/python3.9/site-packages/stack_data/utils.py?line=169'>170</a>\u001b[0m \u001b[39mif\u001b[39;00m \u001b[39misinstance\u001b[39m(error, \u001b[39mstr\u001b[39m):\n\u001b[1;32m    <a href='file:///var/data/python/lib/python3.9/site-packages/stack_data/utils.py?line=170'>171</a>\u001b[0m     error \u001b[39m=\u001b[39m \u001b[39mAssertionError\u001b[39;00m(error)\n\u001b[0;32m--> <a href='file:///var/data/python/lib/python3.9/site-packages/stack_data/utils.py?line=171'>172</a>\u001b[0m \u001b[39mraise\u001b[39;00m error\n",
      "\u001b[0;31mAssertionError\u001b[0m: "
     ]
    }
   ],
   "source": [
    "# Não funciona no Jupyter\n",
    "\n",
    "# city_funcitions.py\n",
    "def get_cidade_pais(cidade,pais,population=''):\n",
    "    if population:\n",
    "        cidadePais = cidade + \", \" + pais + ' - População: ' + str(population) + '.'\n",
    "    else:\n",
    "        cidadePais = cidade + \", \" + pais\n",
    "    return cidadePais.title()\n",
    "\n",
    "# test_city_functions.py\n",
    "import unittest\n",
    "from city_functions import get_cidade_pais\n",
    "\n",
    "class NamesTestCase(unittest.TestCase):\n",
    "    \"\"\"Teste para cidade_pais\"\"\"\n",
    "\n",
    "    def test_city_country(self):\n",
    "        \"\"\"Santiago, Chile funciona\"\"\"\n",
    "        capital_pais = get_cidade_pais('santiago','chile')\n",
    "        self.assertEqual(capital_pais,'Santiago, Chile')\n",
    "\n",
    "    def test_city_country_population(self):\n",
    "        \"\"\"Santiago, Chile funciona\"\"\"\n",
    "        capital_pais = get_cidade_pais('santiago','chile',500000)\n",
    "        self.assertEqual(capital_pais,'Santiago, Chile - População: 500000.')\n",
    "\n",
    "unittest.main()"
   ]
  },
  {
   "cell_type": "code",
   "execution_count": null,
   "metadata": {},
   "outputs": [],
   "source": [
    "# Não funciona no Jupyter\n",
    "\n",
    "# employee_functions.py\n",
    "class Employee():\n",
    "    \"\"\"Representação de um funcionário\"\"\"\n",
    "\n",
    "    def __init__(self,nome,sobrenome,salario_anual):\n",
    "        self.nome = nome\n",
    "        self.sobrenome = sobrenome\n",
    "        self.salario_anual = salario_anual\n",
    "\n",
    "    def give_raise(self,valor=5000):\n",
    "        self.salario_anual += valor\n",
    "\n",
    "# test_employee_functions.py\n",
    "import unittest\n",
    "from employee_functions import Employee\n",
    "\n",
    "class TestCriaFuncionario(unittest.TestCase):\n",
    "    \"\"\"Testes para a classe Employee\"\"\"\n",
    "    \n",
    "    def setUp(self):\n",
    "        self.aumento = 7520\n",
    "        self.empregado = Employee('fabio','mascarenhas',120000)\n",
    "        \n",
    "    def test_give_default_raise(self):\n",
    "        \"\"\"Teste de aumento de salario padrao\"\"\"\n",
    "        self.empregado.give_raise()\n",
    "        self.assertEqual(self.empregado.salario_anual,125000)\n",
    "\n",
    "    def test_give_custom_raise(self):\n",
    "        \"\"\"Teste de aumento de salario customizado\"\"\"\n",
    "        self.empregado.give_raise(self.aumento)\n",
    "        self.assertEqual(self.empregado.salario_anual,127520)\n",
    "\n",
    "unittest.main()"
   ]
  }
 ],
 "metadata": {
  "interpreter": {
   "hash": "e7370f93d1d0cde622a1f8e1c04877d8463912d04d973331ad4851f04de6915a"
  },
  "kernelspec": {
   "display_name": "Python 3.9.9 64-bit",
   "language": "python",
   "name": "python3"
  },
  "language_info": {
   "codemirror_mode": {
    "name": "ipython",
    "version": 3
   },
   "file_extension": ".py",
   "mimetype": "text/x-python",
   "name": "python",
   "nbconvert_exporter": "python",
   "pygments_lexer": "ipython3",
   "version": "3.9.9"
  },
  "orig_nbformat": 4
 },
 "nbformat": 4,
 "nbformat_minor": 2
}
