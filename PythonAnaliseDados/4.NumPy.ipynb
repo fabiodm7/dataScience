{
 "cells": [
  {
   "cell_type": "markdown",
   "metadata": {},
   "source": [
    "# Básico sobre NumPy"
   ]
  },
  {
   "cell_type": "code",
   "execution_count": 1,
   "metadata": {},
   "outputs": [],
   "source": [
    "import numpy as np # convenção"
   ]
  },
  {
   "cell_type": "code",
   "execution_count": 2,
   "metadata": {},
   "outputs": [],
   "source": [
    "my_arr = np.arange(1000000)\n",
    "my_list = list(range(1000000))"
   ]
  },
  {
   "cell_type": "code",
   "execution_count": 3,
   "metadata": {},
   "outputs": [
    {
     "name": "stdout",
     "output_type": "stream",
     "text": [
      "CPU times: user 42.7 ms, sys: 21.3 ms, total: 64 ms\n",
      "Wall time: 102 ms\n"
     ]
    }
   ],
   "source": [
    "%time for _ in range(10): my_arr2 = [my_arr * 2]"
   ]
  },
  {
   "cell_type": "code",
   "execution_count": 4,
   "metadata": {},
   "outputs": [
    {
     "name": "stdout",
     "output_type": "stream",
     "text": [
      "CPU times: user 2.5 s, sys: 320 ms, total: 2.82 s\n",
      "Wall time: 5.17 s\n"
     ]
    }
   ],
   "source": [
    "%time for _ in range(10): my_list2 = [x * 2 for x in my_list]"
   ]
  },
  {
   "cell_type": "markdown",
   "metadata": {},
   "source": [
    "## ndarray"
   ]
  },
  {
   "cell_type": "code",
   "execution_count": 5,
   "metadata": {},
   "outputs": [
    {
     "data": {
      "text/plain": [
       "array([[ 0.80798515, -0.19197581,  0.37215442],\n",
       "       [-0.25377955,  1.19103896,  0.31000375]])"
      ]
     },
     "execution_count": 5,
     "metadata": {},
     "output_type": "execute_result"
    }
   ],
   "source": [
    "# gera dados aleatórios\n",
    "data = np.random.randn(2,3)\n",
    "data"
   ]
  },
  {
   "cell_type": "code",
   "execution_count": 6,
   "metadata": {},
   "outputs": [
    {
     "data": {
      "text/plain": [
       "array([[ 8.07985155, -1.91975805,  3.72154424],\n",
       "       [-2.5377955 , 11.9103896 ,  3.10003749]])"
      ]
     },
     "execution_count": 6,
     "metadata": {},
     "output_type": "execute_result"
    }
   ],
   "source": [
    "data*10"
   ]
  },
  {
   "cell_type": "code",
   "execution_count": 7,
   "metadata": {},
   "outputs": [
    {
     "data": {
      "text/plain": [
       "array([[ 1.61597031, -0.38395161,  0.74430885],\n",
       "       [-0.5075591 ,  2.38207792,  0.6200075 ]])"
      ]
     },
     "execution_count": 7,
     "metadata": {},
     "output_type": "execute_result"
    }
   ],
   "source": [
    "data+data"
   ]
  },
  {
   "cell_type": "code",
   "execution_count": 8,
   "metadata": {},
   "outputs": [
    {
     "data": {
      "text/plain": [
       "(2, 3)"
      ]
     },
     "execution_count": 8,
     "metadata": {},
     "output_type": "execute_result"
    }
   ],
   "source": [
    "data.shape"
   ]
  },
  {
   "cell_type": "code",
   "execution_count": 9,
   "metadata": {},
   "outputs": [
    {
     "data": {
      "text/plain": [
       "dtype('float64')"
      ]
     },
     "execution_count": 9,
     "metadata": {},
     "output_type": "execute_result"
    }
   ],
   "source": [
    "data.dtype"
   ]
  },
  {
   "cell_type": "markdown",
   "metadata": {},
   "source": [
    "### Criando"
   ]
  },
  {
   "cell_type": "code",
   "execution_count": 10,
   "metadata": {},
   "outputs": [
    {
     "data": {
      "text/plain": [
       "array([[1, 2, 3],\n",
       "       [4, 5, 6]])"
      ]
     },
     "execution_count": 10,
     "metadata": {},
     "output_type": "execute_result"
    }
   ],
   "source": [
    "data1 = [[1,2,3],[4,5,6]]\n",
    "arr1 = np.array(data1)\n",
    "arr1"
   ]
  },
  {
   "cell_type": "code",
   "execution_count": 11,
   "metadata": {},
   "outputs": [
    {
     "data": {
      "text/plain": [
       "2"
      ]
     },
     "execution_count": 11,
     "metadata": {},
     "output_type": "execute_result"
    }
   ],
   "source": [
    "arr1.ndim"
   ]
  },
  {
   "cell_type": "code",
   "execution_count": 12,
   "metadata": {},
   "outputs": [
    {
     "data": {
      "text/plain": [
       "(2, 3)"
      ]
     },
     "execution_count": 12,
     "metadata": {},
     "output_type": "execute_result"
    }
   ],
   "source": [
    "arr1.shape"
   ]
  },
  {
   "cell_type": "code",
   "execution_count": 13,
   "metadata": {},
   "outputs": [
    {
     "data": {
      "text/plain": [
       "dtype('int64')"
      ]
     },
     "execution_count": 13,
     "metadata": {},
     "output_type": "execute_result"
    }
   ],
   "source": [
    "arr1.dtype"
   ]
  },
  {
   "cell_type": "code",
   "execution_count": 14,
   "metadata": {},
   "outputs": [
    {
     "data": {
      "text/plain": [
       "array([0., 0., 0., 0., 0., 0., 0., 0., 0., 0.])"
      ]
     },
     "execution_count": 14,
     "metadata": {},
     "output_type": "execute_result"
    }
   ],
   "source": [
    "np.zeros(10)"
   ]
  },
  {
   "cell_type": "code",
   "execution_count": 15,
   "metadata": {},
   "outputs": [
    {
     "data": {
      "text/plain": [
       "array([[0., 0., 0., 0., 0., 0.],\n",
       "       [0., 0., 0., 0., 0., 0.],\n",
       "       [0., 0., 0., 0., 0., 0.]])"
      ]
     },
     "execution_count": 15,
     "metadata": {},
     "output_type": "execute_result"
    }
   ],
   "source": [
    "np.zeros((3,6))"
   ]
  },
  {
   "cell_type": "code",
   "execution_count": 16,
   "metadata": {},
   "outputs": [
    {
     "data": {
      "text/plain": [
       "array([[[4.68691842e-310, 0.00000000e+000],\n",
       "        [1.01855798e-312, 9.54898106e-313],\n",
       "        [1.14587773e-312, 1.06099790e-312]],\n",
       "\n",
       "       [[1.23075756e-312, 1.06099790e-312],\n",
       "        [1.01855798e-312, 9.76118064e-313],\n",
       "        [1.10343781e-312, 1.90979621e-312]]])"
      ]
     },
     "execution_count": 16,
     "metadata": {},
     "output_type": "execute_result"
    }
   ],
   "source": [
    "np.empty((2,3,2))"
   ]
  },
  {
   "cell_type": "code",
   "execution_count": 17,
   "metadata": {},
   "outputs": [
    {
     "data": {
      "text/plain": [
       "array([ 0,  1,  2,  3,  4,  5,  6,  7,  8,  9, 10, 11, 12, 13, 14])"
      ]
     },
     "execution_count": 17,
     "metadata": {},
     "output_type": "execute_result"
    }
   ],
   "source": [
    "np.arange(15)"
   ]
  },
  {
   "cell_type": "code",
   "execution_count": 18,
   "metadata": {},
   "outputs": [
    {
     "data": {
      "text/plain": [
       "array([[1, 1, 1],\n",
       "       [1, 1, 1]])"
      ]
     },
     "execution_count": 18,
     "metadata": {},
     "output_type": "execute_result"
    }
   ],
   "source": [
    "np.ones_like(arr1)"
   ]
  },
  {
   "cell_type": "code",
   "execution_count": 19,
   "metadata": {},
   "outputs": [
    {
     "data": {
      "text/plain": [
       "array([[1., 0., 0., 0., 0., 0.],\n",
       "       [0., 1., 0., 0., 0., 0.],\n",
       "       [0., 0., 1., 0., 0., 0.],\n",
       "       [0., 0., 0., 1., 0., 0.],\n",
       "       [0., 0., 0., 0., 1., 0.]])"
      ]
     },
     "execution_count": 19,
     "metadata": {},
     "output_type": "execute_result"
    }
   ],
   "source": [
    "np.eye(5,6)"
   ]
  },
  {
   "cell_type": "code",
   "execution_count": 20,
   "metadata": {},
   "outputs": [
    {
     "data": {
      "text/plain": [
       "array([[1., 0., 0., 0., 0.],\n",
       "       [0., 1., 0., 0., 0.],\n",
       "       [0., 0., 1., 0., 0.],\n",
       "       [0., 0., 0., 1., 0.],\n",
       "       [0., 0., 0., 0., 1.]])"
      ]
     },
     "execution_count": 20,
     "metadata": {},
     "output_type": "execute_result"
    }
   ],
   "source": [
    "np.eye(5)"
   ]
  },
  {
   "cell_type": "code",
   "execution_count": 21,
   "metadata": {},
   "outputs": [
    {
     "data": {
      "text/plain": [
       "array([[1., 0., 0., 0., 0.],\n",
       "       [0., 1., 0., 0., 0.],\n",
       "       [0., 0., 1., 0., 0.],\n",
       "       [0., 0., 0., 1., 0.],\n",
       "       [0., 0., 0., 0., 1.]])"
      ]
     },
     "execution_count": 21,
     "metadata": {},
     "output_type": "execute_result"
    }
   ],
   "source": [
    "np.identity(5)"
   ]
  },
  {
   "cell_type": "markdown",
   "metadata": {},
   "source": [
    "### Tipos"
   ]
  },
  {
   "cell_type": "code",
   "execution_count": 22,
   "metadata": {},
   "outputs": [
    {
     "data": {
      "text/plain": [
       "array([1, 2, 3], dtype=int32)"
      ]
     },
     "execution_count": 22,
     "metadata": {},
     "output_type": "execute_result"
    }
   ],
   "source": [
    "arr1 = np.array([1,2,3],dtype=np.int32)\n",
    "arr1"
   ]
  },
  {
   "cell_type": "code",
   "execution_count": 23,
   "metadata": {},
   "outputs": [
    {
     "data": {
      "text/plain": [
       "array([1., 2., 3.])"
      ]
     },
     "execution_count": 23,
     "metadata": {},
     "output_type": "execute_result"
    }
   ],
   "source": [
    "arr2 = np.array([1,2,3],dtype=np.float64)\n",
    "arr2"
   ]
  },
  {
   "cell_type": "code",
   "execution_count": 24,
   "metadata": {},
   "outputs": [
    {
     "data": {
      "text/plain": [
       "dtype('int32')"
      ]
     },
     "execution_count": 24,
     "metadata": {},
     "output_type": "execute_result"
    }
   ],
   "source": [
    "arr1.dtype"
   ]
  },
  {
   "cell_type": "code",
   "execution_count": 25,
   "metadata": {},
   "outputs": [
    {
     "data": {
      "text/plain": [
       "dtype('float64')"
      ]
     },
     "execution_count": 25,
     "metadata": {},
     "output_type": "execute_result"
    }
   ],
   "source": [
    "arr2.dtype"
   ]
  },
  {
   "cell_type": "code",
   "execution_count": 26,
   "metadata": {},
   "outputs": [
    {
     "data": {
      "text/plain": [
       "array([ 3.7, -1.2, -2.6,  0.5, 12.9, 10.1])"
      ]
     },
     "execution_count": 26,
     "metadata": {},
     "output_type": "execute_result"
    }
   ],
   "source": [
    "arr = np.array([3.7,-1.2,-2.6,0.5,12.9,10.1])\n",
    "arr"
   ]
  },
  {
   "cell_type": "code",
   "execution_count": 27,
   "metadata": {},
   "outputs": [
    {
     "data": {
      "text/plain": [
       "array([ 3, -1, -2,  0, 12, 10])"
      ]
     },
     "execution_count": 27,
     "metadata": {},
     "output_type": "execute_result"
    }
   ],
   "source": [
    "arr.astype(np.int64)"
   ]
  },
  {
   "cell_type": "markdown",
   "metadata": {},
   "source": [
    "### Aritmetica"
   ]
  },
  {
   "cell_type": "code",
   "execution_count": 28,
   "metadata": {},
   "outputs": [
    {
     "data": {
      "text/plain": [
       "array([[ 1,  4,  9],\n",
       "       [16, 25, 36]])"
      ]
     },
     "execution_count": 28,
     "metadata": {},
     "output_type": "execute_result"
    }
   ],
   "source": [
    "arr = np.array([[1,2,3],[4,5,6]])\n",
    "arr * arr"
   ]
  },
  {
   "cell_type": "code",
   "execution_count": 29,
   "metadata": {},
   "outputs": [
    {
     "data": {
      "text/plain": [
       "array([[0, 0, 0],\n",
       "       [0, 0, 0]])"
      ]
     },
     "execution_count": 29,
     "metadata": {},
     "output_type": "execute_result"
    }
   ],
   "source": [
    "arr - arr"
   ]
  },
  {
   "cell_type": "code",
   "execution_count": 30,
   "metadata": {},
   "outputs": [
    {
     "data": {
      "text/plain": [
       "array([[1.        , 0.5       , 0.33333333],\n",
       "       [0.25      , 0.2       , 0.16666667]])"
      ]
     },
     "execution_count": 30,
     "metadata": {},
     "output_type": "execute_result"
    }
   ],
   "source": [
    "1/arr"
   ]
  },
  {
   "cell_type": "code",
   "execution_count": 31,
   "metadata": {},
   "outputs": [
    {
     "data": {
      "text/plain": [
       "array([[1.        , 1.41421356, 1.73205081],\n",
       "       [2.        , 2.23606798, 2.44948974]])"
      ]
     },
     "execution_count": 31,
     "metadata": {},
     "output_type": "execute_result"
    }
   ],
   "source": [
    "arr ** 0.5"
   ]
  },
  {
   "cell_type": "code",
   "execution_count": 32,
   "metadata": {},
   "outputs": [
    {
     "data": {
      "text/plain": [
       "array([[ 0.,  4.,  1.],\n",
       "       [ 7.,  2., 12.]])"
      ]
     },
     "execution_count": 32,
     "metadata": {},
     "output_type": "execute_result"
    }
   ],
   "source": [
    "arr2 = np.array([[0.,4.,1.],[7.,2.,12.]])\n",
    "arr2"
   ]
  },
  {
   "cell_type": "code",
   "execution_count": 33,
   "metadata": {},
   "outputs": [
    {
     "data": {
      "text/plain": [
       "array([[False,  True, False],\n",
       "       [ True, False,  True]])"
      ]
     },
     "execution_count": 33,
     "metadata": {},
     "output_type": "execute_result"
    }
   ],
   "source": [
    "arr2 > arr1"
   ]
  },
  {
   "cell_type": "markdown",
   "metadata": {},
   "source": [
    "### Indexação e fatiamento"
   ]
  },
  {
   "cell_type": "code",
   "execution_count": 34,
   "metadata": {},
   "outputs": [
    {
     "data": {
      "text/plain": [
       "array([0, 1, 2, 3, 4, 5, 6, 7, 8, 9])"
      ]
     },
     "execution_count": 34,
     "metadata": {},
     "output_type": "execute_result"
    }
   ],
   "source": [
    "arr = np.arange(10)\n",
    "arr"
   ]
  },
  {
   "cell_type": "code",
   "execution_count": 35,
   "metadata": {},
   "outputs": [
    {
     "data": {
      "text/plain": [
       "5"
      ]
     },
     "execution_count": 35,
     "metadata": {},
     "output_type": "execute_result"
    }
   ],
   "source": [
    "arr[5]"
   ]
  },
  {
   "cell_type": "code",
   "execution_count": 36,
   "metadata": {},
   "outputs": [
    {
     "data": {
      "text/plain": [
       "array([5, 6, 7])"
      ]
     },
     "execution_count": 36,
     "metadata": {},
     "output_type": "execute_result"
    }
   ],
   "source": [
    "arr[5:8]"
   ]
  },
  {
   "cell_type": "code",
   "execution_count": 37,
   "metadata": {},
   "outputs": [
    {
     "data": {
      "text/plain": [
       "array([ 0,  1,  2,  3,  4, 12, 12, 12,  8,  9])"
      ]
     },
     "execution_count": 37,
     "metadata": {},
     "output_type": "execute_result"
    }
   ],
   "source": [
    "arr[5:8] = 12\n",
    "arr"
   ]
  },
  {
   "cell_type": "code",
   "execution_count": 38,
   "metadata": {},
   "outputs": [
    {
     "data": {
      "text/plain": [
       "array([12, 12, 12])"
      ]
     },
     "execution_count": 38,
     "metadata": {},
     "output_type": "execute_result"
    }
   ],
   "source": [
    "arr_slice = arr[5:8]\n",
    "arr_slice"
   ]
  },
  {
   "cell_type": "code",
   "execution_count": 39,
   "metadata": {},
   "outputs": [
    {
     "data": {
      "text/plain": [
       "array([    0,     1,     2,     3,     4,    12, 12345,    12,     8,\n",
       "           9])"
      ]
     },
     "execution_count": 39,
     "metadata": {},
     "output_type": "execute_result"
    }
   ],
   "source": [
    "arr_slice[1] = 12345\n",
    "arr"
   ]
  },
  {
   "cell_type": "code",
   "execution_count": 40,
   "metadata": {},
   "outputs": [
    {
     "data": {
      "text/plain": [
       "array([ 0,  1,  2,  3,  4, 64, 64, 64,  8,  9])"
      ]
     },
     "execution_count": 40,
     "metadata": {},
     "output_type": "execute_result"
    }
   ],
   "source": [
    "arr_slice[:] = 64\n",
    "arr"
   ]
  },
  {
   "cell_type": "code",
   "execution_count": 41,
   "metadata": {},
   "outputs": [
    {
     "name": "stdout",
     "output_type": "stream",
     "text": [
      "[64 64 64]\n",
      "[ 0  1  2  3  4 64 64 64  8  9]\n",
      "[35 35 35]\n"
     ]
    }
   ],
   "source": [
    "arr_slice2 = arr[5:8].copy()\n",
    "print(arr_slice2)\n",
    "arr_slice2[:] = 35\n",
    "print(arr)\n",
    "print(arr_slice2)"
   ]
  },
  {
   "cell_type": "code",
   "execution_count": 42,
   "metadata": {},
   "outputs": [
    {
     "data": {
      "text/plain": [
       "array([[1, 2, 3],\n",
       "       [4, 5, 6],\n",
       "       [7, 8, 9]])"
      ]
     },
     "execution_count": 42,
     "metadata": {},
     "output_type": "execute_result"
    }
   ],
   "source": [
    "arr2d = np.array([[1,2,3],[4,5,6],[7,8,9]])\n",
    "arr2d"
   ]
  },
  {
   "cell_type": "code",
   "execution_count": 43,
   "metadata": {},
   "outputs": [
    {
     "data": {
      "text/plain": [
       "array([7, 8, 9])"
      ]
     },
     "execution_count": 43,
     "metadata": {},
     "output_type": "execute_result"
    }
   ],
   "source": [
    "arr2d[2]"
   ]
  },
  {
   "cell_type": "code",
   "execution_count": 44,
   "metadata": {},
   "outputs": [
    {
     "name": "stdout",
     "output_type": "stream",
     "text": [
      "3\n",
      "3\n"
     ]
    }
   ],
   "source": [
    "print(arr2d[0][2])\n",
    "print(arr2d[0,2])"
   ]
  },
  {
   "cell_type": "code",
   "execution_count": 45,
   "metadata": {},
   "outputs": [
    {
     "data": {
      "text/plain": [
       "array([[[ 1,  2,  3],\n",
       "        [ 4,  5,  6]],\n",
       "\n",
       "       [[ 7,  8,  9],\n",
       "        [10, 11, 12]]])"
      ]
     },
     "execution_count": 45,
     "metadata": {},
     "output_type": "execute_result"
    }
   ],
   "source": [
    "arr3d = np.array([[[1,2,3],[4,5,6]],[[7,8,9],[10,11,12]]])\n",
    "arr3d"
   ]
  },
  {
   "cell_type": "code",
   "execution_count": 46,
   "metadata": {},
   "outputs": [
    {
     "data": {
      "text/plain": [
       "array([[1, 2, 3],\n",
       "       [4, 5, 6]])"
      ]
     },
     "execution_count": 46,
     "metadata": {},
     "output_type": "execute_result"
    }
   ],
   "source": [
    "arr3d[0]"
   ]
  },
  {
   "cell_type": "code",
   "execution_count": 47,
   "metadata": {},
   "outputs": [
    {
     "data": {
      "text/plain": [
       "array([[[42, 42, 42],\n",
       "        [42, 42, 42]],\n",
       "\n",
       "       [[ 7,  8,  9],\n",
       "        [10, 11, 12]]])"
      ]
     },
     "execution_count": 47,
     "metadata": {},
     "output_type": "execute_result"
    }
   ],
   "source": [
    "old_values = arr3d[0].copy()\n",
    "arr3d[0] = 42\n",
    "arr3d"
   ]
  },
  {
   "cell_type": "code",
   "execution_count": 48,
   "metadata": {},
   "outputs": [
    {
     "data": {
      "text/plain": [
       "array([[[ 1,  2,  3],\n",
       "        [ 4,  5,  6]],\n",
       "\n",
       "       [[ 7,  8,  9],\n",
       "        [10, 11, 12]]])"
      ]
     },
     "execution_count": 48,
     "metadata": {},
     "output_type": "execute_result"
    }
   ],
   "source": [
    "arr3d[0] = old_values\n",
    "arr3d"
   ]
  },
  {
   "cell_type": "code",
   "execution_count": 49,
   "metadata": {},
   "outputs": [
    {
     "data": {
      "text/plain": [
       "array([7, 8, 9])"
      ]
     },
     "execution_count": 49,
     "metadata": {},
     "output_type": "execute_result"
    }
   ],
   "source": [
    "arr3d[1,0]"
   ]
  },
  {
   "cell_type": "code",
   "execution_count": 50,
   "metadata": {},
   "outputs": [
    {
     "data": {
      "text/plain": [
       "9"
      ]
     },
     "execution_count": 50,
     "metadata": {},
     "output_type": "execute_result"
    }
   ],
   "source": [
    "arr3d[1,0,2]"
   ]
  },
  {
   "cell_type": "code",
   "execution_count": 51,
   "metadata": {},
   "outputs": [
    {
     "data": {
      "text/plain": [
       "array([[[ 1,  2,  3],\n",
       "        [ 4,  5,  6]],\n",
       "\n",
       "       [[ 7,  8,  9],\n",
       "        [10, 11, 12]]])"
      ]
     },
     "execution_count": 51,
     "metadata": {},
     "output_type": "execute_result"
    }
   ],
   "source": [
    "old_values = arr3d[1,0,2]\n",
    "y = arr3d[1,0,2]\n",
    "y = 15\n",
    "arr3d"
   ]
  },
  {
   "cell_type": "code",
   "execution_count": 52,
   "metadata": {},
   "outputs": [
    {
     "data": {
      "text/plain": [
       "15"
      ]
     },
     "execution_count": 52,
     "metadata": {},
     "output_type": "execute_result"
    }
   ],
   "source": [
    "y"
   ]
  },
  {
   "cell_type": "code",
   "execution_count": 53,
   "metadata": {},
   "outputs": [
    {
     "data": {
      "text/plain": [
       "array([[[ 1,  2,  3],\n",
       "        [ 4,  5,  6]],\n",
       "\n",
       "       [[ 7,  8, 15],\n",
       "        [10, 11, 12]]])"
      ]
     },
     "execution_count": 53,
     "metadata": {},
     "output_type": "execute_result"
    }
   ],
   "source": [
    "arr3d[1,0,2] = 15\n",
    "arr3d"
   ]
  },
  {
   "cell_type": "code",
   "execution_count": 54,
   "metadata": {},
   "outputs": [
    {
     "data": {
      "text/plain": [
       "array([[[ 1,  2,  3],\n",
       "        [ 4,  5,  6]],\n",
       "\n",
       "       [[ 7,  8,  9],\n",
       "        [10, 11, 12]]])"
      ]
     },
     "execution_count": 54,
     "metadata": {},
     "output_type": "execute_result"
    }
   ],
   "source": [
    "arr3d[1,0,2] = 9\n",
    "arr3d"
   ]
  },
  {
   "cell_type": "markdown",
   "metadata": {},
   "source": [
    "### Indexando com fatias"
   ]
  },
  {
   "cell_type": "code",
   "execution_count": 55,
   "metadata": {},
   "outputs": [
    {
     "data": {
      "text/plain": [
       "array([ 0,  1,  2,  3,  4, 64, 64, 64,  8,  9])"
      ]
     },
     "execution_count": 55,
     "metadata": {},
     "output_type": "execute_result"
    }
   ],
   "source": [
    "arr"
   ]
  },
  {
   "cell_type": "code",
   "execution_count": 56,
   "metadata": {},
   "outputs": [
    {
     "data": {
      "text/plain": [
       "array([ 1,  2,  3,  4, 64])"
      ]
     },
     "execution_count": 56,
     "metadata": {},
     "output_type": "execute_result"
    }
   ],
   "source": [
    "arr[1:6]"
   ]
  },
  {
   "cell_type": "code",
   "execution_count": 57,
   "metadata": {},
   "outputs": [
    {
     "data": {
      "text/plain": [
       "array([[1, 2, 3],\n",
       "       [4, 5, 6],\n",
       "       [7, 8, 9]])"
      ]
     },
     "execution_count": 57,
     "metadata": {},
     "output_type": "execute_result"
    }
   ],
   "source": [
    "arr2d"
   ]
  },
  {
   "cell_type": "code",
   "execution_count": 58,
   "metadata": {},
   "outputs": [
    {
     "data": {
      "text/plain": [
       "array([[1, 2, 3],\n",
       "       [4, 5, 6]])"
      ]
     },
     "execution_count": 58,
     "metadata": {},
     "output_type": "execute_result"
    }
   ],
   "source": [
    "arr2d[:2]"
   ]
  },
  {
   "cell_type": "code",
   "execution_count": 59,
   "metadata": {},
   "outputs": [
    {
     "data": {
      "text/plain": [
       "array([7, 8, 9])"
      ]
     },
     "execution_count": 59,
     "metadata": {},
     "output_type": "execute_result"
    }
   ],
   "source": [
    "arr2d[-1]"
   ]
  },
  {
   "cell_type": "code",
   "execution_count": 60,
   "metadata": {},
   "outputs": [
    {
     "data": {
      "text/plain": [
       "array([[2, 3],\n",
       "       [5, 6]])"
      ]
     },
     "execution_count": 60,
     "metadata": {},
     "output_type": "execute_result"
    }
   ],
   "source": [
    "arr2d[:2,1:]"
   ]
  },
  {
   "cell_type": "code",
   "execution_count": 61,
   "metadata": {},
   "outputs": [
    {
     "data": {
      "text/plain": [
       "array([[1],\n",
       "       [4]])"
      ]
     },
     "execution_count": 61,
     "metadata": {},
     "output_type": "execute_result"
    }
   ],
   "source": [
    "arr2d[:2,:1]"
   ]
  },
  {
   "cell_type": "code",
   "execution_count": 62,
   "metadata": {},
   "outputs": [
    {
     "data": {
      "text/plain": [
       "array([[1, 0, 0],\n",
       "       [4, 0, 0],\n",
       "       [7, 8, 9]])"
      ]
     },
     "execution_count": 62,
     "metadata": {},
     "output_type": "execute_result"
    }
   ],
   "source": [
    "arr2d[:2,1:] = 0\n",
    "arr2d"
   ]
  },
  {
   "cell_type": "markdown",
   "metadata": {},
   "source": [
    "### Indexação booleana"
   ]
  },
  {
   "cell_type": "code",
   "execution_count": 63,
   "metadata": {},
   "outputs": [
    {
     "data": {
      "text/plain": [
       "array(['Bob', 'Joe', 'Will', 'Bob', 'Will', 'Joe', 'Joe'], dtype='<U4')"
      ]
     },
     "execution_count": 63,
     "metadata": {},
     "output_type": "execute_result"
    }
   ],
   "source": [
    "names = np.array(['Bob','Joe','Will','Bob','Will','Joe','Joe'])\n",
    "\n",
    "data = np.random.randn(7,4)\n",
    "\n",
    "names"
   ]
  },
  {
   "cell_type": "code",
   "execution_count": 64,
   "metadata": {},
   "outputs": [
    {
     "data": {
      "text/plain": [
       "array([[-0.9272528 ,  0.18496049,  0.08683759, -0.70380854],\n",
       "       [-0.05199239,  0.05252822,  0.02527907,  0.69556017],\n",
       "       [ 0.3642534 , -1.00991712, -0.38650047, -1.15726288],\n",
       "       [-1.04626859,  0.57368857, -0.04497772, -0.16640066],\n",
       "       [-0.47960774,  0.88188364,  0.18027855, -1.13569519],\n",
       "       [ 0.24562329, -0.65511007,  0.62913137,  0.11962543],\n",
       "       [-0.22662012,  1.53337914,  0.36474134,  0.06034293]])"
      ]
     },
     "execution_count": 64,
     "metadata": {},
     "output_type": "execute_result"
    }
   ],
   "source": [
    "data"
   ]
  },
  {
   "cell_type": "code",
   "execution_count": 65,
   "metadata": {},
   "outputs": [
    {
     "data": {
      "text/plain": [
       "array([ True, False, False,  True, False, False, False])"
      ]
     },
     "execution_count": 65,
     "metadata": {},
     "output_type": "execute_result"
    }
   ],
   "source": [
    "names == 'Bob'"
   ]
  },
  {
   "cell_type": "code",
   "execution_count": 66,
   "metadata": {},
   "outputs": [
    {
     "data": {
      "text/plain": [
       "array([[-0.9272528 ,  0.18496049,  0.08683759, -0.70380854],\n",
       "       [-1.04626859,  0.57368857, -0.04497772, -0.16640066]])"
      ]
     },
     "execution_count": 66,
     "metadata": {},
     "output_type": "execute_result"
    }
   ],
   "source": [
    "data[names == 'Bob']"
   ]
  },
  {
   "cell_type": "code",
   "execution_count": 67,
   "metadata": {},
   "outputs": [
    {
     "data": {
      "text/plain": [
       "array([[ 0.08683759, -0.70380854],\n",
       "       [-0.04497772, -0.16640066]])"
      ]
     },
     "execution_count": 67,
     "metadata": {},
     "output_type": "execute_result"
    }
   ],
   "source": [
    "data[names == 'Bob',2:]"
   ]
  },
  {
   "cell_type": "code",
   "execution_count": 68,
   "metadata": {},
   "outputs": [
    {
     "data": {
      "text/plain": [
       "array([-0.70380854, -0.16640066])"
      ]
     },
     "execution_count": 68,
     "metadata": {},
     "output_type": "execute_result"
    }
   ],
   "source": [
    "data[names == 'Bob',3]"
   ]
  },
  {
   "cell_type": "code",
   "execution_count": 69,
   "metadata": {},
   "outputs": [
    {
     "data": {
      "text/plain": [
       "array([[-0.05199239,  0.05252822,  0.02527907,  0.69556017],\n",
       "       [ 0.3642534 , -1.00991712, -0.38650047, -1.15726288],\n",
       "       [-0.47960774,  0.88188364,  0.18027855, -1.13569519],\n",
       "       [ 0.24562329, -0.65511007,  0.62913137,  0.11962543],\n",
       "       [-0.22662012,  1.53337914,  0.36474134,  0.06034293]])"
      ]
     },
     "execution_count": 69,
     "metadata": {},
     "output_type": "execute_result"
    }
   ],
   "source": [
    "data[~(names == 'Bob')]"
   ]
  },
  {
   "cell_type": "code",
   "execution_count": 70,
   "metadata": {},
   "outputs": [
    {
     "data": {
      "text/plain": [
       "array([ True, False,  True,  True,  True, False, False])"
      ]
     },
     "execution_count": 70,
     "metadata": {},
     "output_type": "execute_result"
    }
   ],
   "source": [
    "mask = (names == 'Bob') | (names == 'Will')\n",
    "mask"
   ]
  },
  {
   "cell_type": "code",
   "execution_count": 71,
   "metadata": {},
   "outputs": [
    {
     "data": {
      "text/plain": [
       "array([[-0.9272528 ,  0.18496049,  0.08683759, -0.70380854],\n",
       "       [ 0.3642534 , -1.00991712, -0.38650047, -1.15726288],\n",
       "       [-1.04626859,  0.57368857, -0.04497772, -0.16640066],\n",
       "       [-0.47960774,  0.88188364,  0.18027855, -1.13569519]])"
      ]
     },
     "execution_count": 71,
     "metadata": {},
     "output_type": "execute_result"
    }
   ],
   "source": [
    "data[mask]"
   ]
  },
  {
   "cell_type": "code",
   "execution_count": 72,
   "metadata": {},
   "outputs": [
    {
     "data": {
      "text/plain": [
       "array([[0.        , 0.18496049, 0.08683759, 0.        ],\n",
       "       [0.        , 0.05252822, 0.02527907, 0.69556017],\n",
       "       [0.3642534 , 0.        , 0.        , 0.        ],\n",
       "       [0.        , 0.57368857, 0.        , 0.        ],\n",
       "       [0.        , 0.88188364, 0.18027855, 0.        ],\n",
       "       [0.24562329, 0.        , 0.62913137, 0.11962543],\n",
       "       [0.        , 1.53337914, 0.36474134, 0.06034293]])"
      ]
     },
     "execution_count": 72,
     "metadata": {},
     "output_type": "execute_result"
    }
   ],
   "source": [
    "data[data < 0] = 0\n",
    "data"
   ]
  },
  {
   "cell_type": "code",
   "execution_count": 73,
   "metadata": {},
   "outputs": [
    {
     "data": {
      "text/plain": [
       "array([[7.        , 7.        , 7.        , 7.        ],\n",
       "       [0.        , 0.05252822, 0.02527907, 0.69556017],\n",
       "       [7.        , 7.        , 7.        , 7.        ],\n",
       "       [7.        , 7.        , 7.        , 7.        ],\n",
       "       [7.        , 7.        , 7.        , 7.        ],\n",
       "       [0.24562329, 0.        , 0.62913137, 0.11962543],\n",
       "       [0.        , 1.53337914, 0.36474134, 0.06034293]])"
      ]
     },
     "execution_count": 73,
     "metadata": {},
     "output_type": "execute_result"
    }
   ],
   "source": [
    "data[names != 'Joe'] = 7\n",
    "data"
   ]
  },
  {
   "cell_type": "markdown",
   "metadata": {},
   "source": [
    "### Indexação sofisticada"
   ]
  },
  {
   "cell_type": "code",
   "execution_count": 74,
   "metadata": {},
   "outputs": [
    {
     "data": {
      "text/plain": [
       "array([[0., 0., 0., 0.],\n",
       "       [1., 1., 1., 1.],\n",
       "       [2., 2., 2., 2.],\n",
       "       [3., 3., 3., 3.],\n",
       "       [4., 4., 4., 4.],\n",
       "       [5., 5., 5., 5.],\n",
       "       [6., 6., 6., 6.],\n",
       "       [7., 7., 7., 7.]])"
      ]
     },
     "execution_count": 74,
     "metadata": {},
     "output_type": "execute_result"
    }
   ],
   "source": [
    "arr = np.empty((8,4))\n",
    "for i in range(8):\n",
    "    arr[i] = i\n",
    "\n",
    "arr"
   ]
  },
  {
   "cell_type": "code",
   "execution_count": 75,
   "metadata": {},
   "outputs": [
    {
     "data": {
      "text/plain": [
       "array([[4., 4., 4., 4.],\n",
       "       [3., 3., 3., 3.],\n",
       "       [0., 0., 0., 0.],\n",
       "       [6., 6., 6., 6.]])"
      ]
     },
     "execution_count": 75,
     "metadata": {},
     "output_type": "execute_result"
    }
   ],
   "source": [
    "arr[[4,3,0,6]]"
   ]
  },
  {
   "cell_type": "code",
   "execution_count": 76,
   "metadata": {},
   "outputs": [
    {
     "data": {
      "text/plain": [
       "array([[5., 5., 5., 5.],\n",
       "       [3., 3., 3., 3.],\n",
       "       [1., 1., 1., 1.]])"
      ]
     },
     "execution_count": 76,
     "metadata": {},
     "output_type": "execute_result"
    }
   ],
   "source": [
    "arr[[-3,-5,-7]]"
   ]
  },
  {
   "cell_type": "code",
   "execution_count": 77,
   "metadata": {},
   "outputs": [
    {
     "data": {
      "text/plain": [
       "array([[ 0,  1,  2,  3],\n",
       "       [ 4,  5,  6,  7],\n",
       "       [ 8,  9, 10, 11],\n",
       "       [12, 13, 14, 15],\n",
       "       [16, 17, 18, 19],\n",
       "       [20, 21, 22, 23],\n",
       "       [24, 25, 26, 27],\n",
       "       [28, 29, 30, 31]])"
      ]
     },
     "execution_count": 77,
     "metadata": {},
     "output_type": "execute_result"
    }
   ],
   "source": [
    "arr = np.arange(32).reshape((8,4))\n",
    "arr"
   ]
  },
  {
   "cell_type": "code",
   "execution_count": 78,
   "metadata": {},
   "outputs": [
    {
     "data": {
      "text/plain": [
       "array([ 4, 23, 29, 10])"
      ]
     },
     "execution_count": 78,
     "metadata": {},
     "output_type": "execute_result"
    }
   ],
   "source": [
    "arr[[1,5,7,2],[0,3,1,2]]"
   ]
  },
  {
   "cell_type": "code",
   "execution_count": 79,
   "metadata": {},
   "outputs": [
    {
     "data": {
      "text/plain": [
       "array([[ 4,  7,  5,  6],\n",
       "       [20, 23, 21, 22],\n",
       "       [28, 31, 29, 30],\n",
       "       [ 8, 11,  9, 10]])"
      ]
     },
     "execution_count": 79,
     "metadata": {},
     "output_type": "execute_result"
    }
   ],
   "source": [
    "arr[[1,5,7,2]][:,[0,3,1,2]]"
   ]
  },
  {
   "cell_type": "markdown",
   "metadata": {},
   "source": [
    "### Transposição de arrays e troca de eixos"
   ]
  },
  {
   "cell_type": "code",
   "execution_count": 80,
   "metadata": {},
   "outputs": [
    {
     "data": {
      "text/plain": [
       "array([[ 0,  1,  2,  3,  4],\n",
       "       [ 5,  6,  7,  8,  9],\n",
       "       [10, 11, 12, 13, 14]])"
      ]
     },
     "execution_count": 80,
     "metadata": {},
     "output_type": "execute_result"
    }
   ],
   "source": [
    "arr = np.arange(15).reshape((3,5))\n",
    "arr"
   ]
  },
  {
   "cell_type": "code",
   "execution_count": 81,
   "metadata": {},
   "outputs": [
    {
     "data": {
      "text/plain": [
       "array([[ 0,  5, 10],\n",
       "       [ 1,  6, 11],\n",
       "       [ 2,  7, 12],\n",
       "       [ 3,  8, 13],\n",
       "       [ 4,  9, 14]])"
      ]
     },
     "execution_count": 81,
     "metadata": {},
     "output_type": "execute_result"
    }
   ],
   "source": [
    "arr.T"
   ]
  },
  {
   "cell_type": "code",
   "execution_count": 82,
   "metadata": {},
   "outputs": [
    {
     "data": {
      "text/plain": [
       "array([[ 0.31738931, -0.18468233, -0.48055853],\n",
       "       [ 0.13327453, -1.5342252 , -0.50048006],\n",
       "       [-0.8274119 , -1.28994336,  1.85222357],\n",
       "       [ 0.70690721,  0.47539917, -0.76640419],\n",
       "       [ 0.08901641,  0.58752871,  1.87231611],\n",
       "       [ 0.90142971,  1.74246733,  1.22831359]])"
      ]
     },
     "execution_count": 82,
     "metadata": {},
     "output_type": "execute_result"
    }
   ],
   "source": [
    "arr = np.random.randn(6,3)\n",
    "arr"
   ]
  },
  {
   "cell_type": "code",
   "execution_count": 83,
   "metadata": {},
   "outputs": [
    {
     "data": {
      "text/plain": [
       "array([[ 2.12332577,  2.76329976, -1.01964864],\n",
       "       [ 2.76329976,  7.65929515,  1.34332414],\n",
       "       [-1.01964864,  1.34332414,  9.5138462 ]])"
      ]
     },
     "execution_count": 83,
     "metadata": {},
     "output_type": "execute_result"
    }
   ],
   "source": [
    "np.dot(arr.T,arr)"
   ]
  },
  {
   "cell_type": "code",
   "execution_count": 84,
   "metadata": {},
   "outputs": [
    {
     "data": {
      "text/plain": [
       "array([[[ 0,  1,  2,  3],\n",
       "        [ 4,  5,  6,  7]],\n",
       "\n",
       "       [[ 8,  9, 10, 11],\n",
       "        [12, 13, 14, 15]]])"
      ]
     },
     "execution_count": 84,
     "metadata": {},
     "output_type": "execute_result"
    }
   ],
   "source": [
    "arr = np.arange(16).reshape((2,2,4))\n",
    "arr"
   ]
  },
  {
   "cell_type": "code",
   "execution_count": 85,
   "metadata": {},
   "outputs": [
    {
     "data": {
      "text/plain": [
       "array([[[ 0,  1,  2,  3],\n",
       "        [ 8,  9, 10, 11]],\n",
       "\n",
       "       [[ 4,  5,  6,  7],\n",
       "        [12, 13, 14, 15]]])"
      ]
     },
     "execution_count": 85,
     "metadata": {},
     "output_type": "execute_result"
    }
   ],
   "source": [
    "arr.transpose((1,0,2))"
   ]
  },
  {
   "cell_type": "code",
   "execution_count": 86,
   "metadata": {},
   "outputs": [
    {
     "data": {
      "text/plain": [
       "array([[[ 0,  1,  2,  3],\n",
       "        [ 4,  5,  6,  7]],\n",
       "\n",
       "       [[ 8,  9, 10, 11],\n",
       "        [12, 13, 14, 15]]])"
      ]
     },
     "execution_count": 86,
     "metadata": {},
     "output_type": "execute_result"
    }
   ],
   "source": [
    "arr"
   ]
  },
  {
   "cell_type": "code",
   "execution_count": 87,
   "metadata": {},
   "outputs": [
    {
     "data": {
      "text/plain": [
       "array([[[ 0,  4],\n",
       "        [ 1,  5],\n",
       "        [ 2,  6],\n",
       "        [ 3,  7]],\n",
       "\n",
       "       [[ 8, 12],\n",
       "        [ 9, 13],\n",
       "        [10, 14],\n",
       "        [11, 15]]])"
      ]
     },
     "execution_count": 87,
     "metadata": {},
     "output_type": "execute_result"
    }
   ],
   "source": [
    "arr.swapaxes(1,2)"
   ]
  },
  {
   "cell_type": "markdown",
   "metadata": {},
   "source": [
    "### Funções universais"
   ]
  },
  {
   "cell_type": "code",
   "execution_count": 88,
   "metadata": {},
   "outputs": [
    {
     "name": "stdout",
     "output_type": "stream",
     "text": [
      "[0.         1.         1.41421356 1.73205081 2.         2.23606798\n",
      " 2.44948974 2.64575131 2.82842712 3.        ]\n",
      "[1.00000000e+00 2.71828183e+00 7.38905610e+00 2.00855369e+01\n",
      " 5.45981500e+01 1.48413159e+02 4.03428793e+02 1.09663316e+03\n",
      " 2.98095799e+03 8.10308393e+03]\n"
     ]
    }
   ],
   "source": [
    "arr = np.arange(10)\n",
    "arr\n",
    "print(np.sqrt(arr))\n",
    "print(np.exp(arr))"
   ]
  },
  {
   "cell_type": "code",
   "execution_count": 89,
   "metadata": {},
   "outputs": [
    {
     "name": "stdout",
     "output_type": "stream",
     "text": [
      "x:  [-1.26365258  0.60115931 -1.76235651  1.29801817  0.16548545  0.13895418\n",
      " -0.14485347  0.70501688]\n",
      "y:  [-0.42778192 -0.55909184 -1.37831225  1.16111299  0.85556148 -1.17789661\n",
      " -0.65781325  0.01695424]\n"
     ]
    }
   ],
   "source": [
    "x = np.random.randn(8)\n",
    "y = np.random.randn(8)\n",
    "print('x: ',x)\n",
    "print('y: ',y)"
   ]
  },
  {
   "cell_type": "code",
   "execution_count": 90,
   "metadata": {},
   "outputs": [
    {
     "data": {
      "text/plain": [
       "array([-0.42778192,  0.60115931, -1.37831225,  1.29801817,  0.85556148,\n",
       "        0.13895418, -0.14485347,  0.70501688])"
      ]
     },
     "execution_count": 90,
     "metadata": {},
     "output_type": "execute_result"
    }
   ],
   "source": [
    "np.maximum(x,y)"
   ]
  },
  {
   "cell_type": "code",
   "execution_count": 91,
   "metadata": {},
   "outputs": [
    {
     "data": {
      "text/plain": [
       "array([-0.65952282,  2.50495485, -1.44307584, -9.26736892, -8.2631851 ,\n",
       "        3.76156309, -0.08997836])"
      ]
     },
     "execution_count": 91,
     "metadata": {},
     "output_type": "execute_result"
    }
   ],
   "source": [
    "arr = np.random.randn(7) * 5\n",
    "arr"
   ]
  },
  {
   "cell_type": "code",
   "execution_count": 92,
   "metadata": {},
   "outputs": [
    {
     "name": "stdout",
     "output_type": "stream",
     "text": [
      "[-0.65952282  0.50495485 -0.44307584 -0.26736892 -0.2631851   0.76156309\n",
      " -0.08997836]\n",
      "[-0.  2. -1. -9. -8.  3. -0.]\n"
     ]
    }
   ],
   "source": [
    "remainder,whole_part = np.modf(arr)\n",
    "print(remainder)\n",
    "print(whole_part)"
   ]
  },
  {
   "cell_type": "code",
   "execution_count": 93,
   "metadata": {},
   "outputs": [
    {
     "data": {
      "text/plain": [
       "array([-0.65952282,  2.50495485, -1.44307584, -9.26736892, -8.2631851 ,\n",
       "        3.76156309, -0.08997836])"
      ]
     },
     "execution_count": 93,
     "metadata": {},
     "output_type": "execute_result"
    }
   ],
   "source": [
    "arr"
   ]
  },
  {
   "cell_type": "code",
   "execution_count": 94,
   "metadata": {},
   "outputs": [
    {
     "name": "stderr",
     "output_type": "stream",
     "text": [
      "/tmp/ipykernel_7050/2296558006.py:1: RuntimeWarning: invalid value encountered in sqrt\n",
      "  np.sqrt(arr)\n"
     ]
    },
    {
     "data": {
      "text/plain": [
       "array([       nan, 1.58270492,        nan,        nan,        nan,\n",
       "       1.93947495,        nan])"
      ]
     },
     "execution_count": 94,
     "metadata": {},
     "output_type": "execute_result"
    }
   ],
   "source": [
    "np.sqrt(arr)"
   ]
  },
  {
   "cell_type": "code",
   "execution_count": 95,
   "metadata": {},
   "outputs": [
    {
     "name": "stderr",
     "output_type": "stream",
     "text": [
      "/tmp/ipykernel_7050/1371627048.py:1: RuntimeWarning: invalid value encountered in sqrt\n",
      "  np.sqrt(arr,arr)\n"
     ]
    },
    {
     "data": {
      "text/plain": [
       "array([       nan, 1.58270492,        nan,        nan,        nan,\n",
       "       1.93947495,        nan])"
      ]
     },
     "execution_count": 95,
     "metadata": {},
     "output_type": "execute_result"
    }
   ],
   "source": [
    "np.sqrt(arr,arr)"
   ]
  },
  {
   "cell_type": "code",
   "execution_count": 96,
   "metadata": {},
   "outputs": [
    {
     "data": {
      "text/plain": [
       "array([       nan, 1.58270492,        nan,        nan,        nan,\n",
       "       1.93947495,        nan])"
      ]
     },
     "execution_count": 96,
     "metadata": {},
     "output_type": "execute_result"
    }
   ],
   "source": [
    "arr"
   ]
  },
  {
   "cell_type": "code",
   "execution_count": 97,
   "metadata": {},
   "outputs": [
    {
     "data": {
      "text/plain": [
       "array([-1., -1.,  1., -1., -1.,  1.,  1., -1.])"
      ]
     },
     "execution_count": 97,
     "metadata": {},
     "output_type": "execute_result"
    }
   ],
   "source": [
    "arr = np.random.randn(8)\n",
    "np.sign(arr)"
   ]
  },
  {
   "cell_type": "markdown",
   "metadata": {},
   "source": [
    "### Programação orientada a arrays"
   ]
  },
  {
   "cell_type": "code",
   "execution_count": 98,
   "metadata": {},
   "outputs": [
    {
     "name": "stdout",
     "output_type": "stream",
     "text": [
      "[[-5.   -5.   -5.   ... -5.   -5.   -5.  ]\n",
      " [-4.99 -4.99 -4.99 ... -4.99 -4.99 -4.99]\n",
      " [-4.98 -4.98 -4.98 ... -4.98 -4.98 -4.98]\n",
      " ...\n",
      " [ 4.97  4.97  4.97 ...  4.97  4.97  4.97]\n",
      " [ 4.98  4.98  4.98 ...  4.98  4.98  4.98]\n",
      " [ 4.99  4.99  4.99 ...  4.99  4.99  4.99]]\n"
     ]
    }
   ],
   "source": [
    "points = np.arange(-5,5,0.01)\n",
    "xs,ys = np.meshgrid(points,points)\n",
    "\n",
    "print(ys)"
   ]
  },
  {
   "cell_type": "code",
   "execution_count": 99,
   "metadata": {},
   "outputs": [
    {
     "data": {
      "text/plain": [
       "array([[7.07106781, 7.06400028, 7.05693985, ..., 7.04988652, 7.05693985,\n",
       "        7.06400028],\n",
       "       [7.06400028, 7.05692568, 7.04985815, ..., 7.04279774, 7.04985815,\n",
       "        7.05692568],\n",
       "       [7.05693985, 7.04985815, 7.04278354, ..., 7.03571603, 7.04278354,\n",
       "        7.04985815],\n",
       "       ...,\n",
       "       [7.04988652, 7.04279774, 7.03571603, ..., 7.0286414 , 7.03571603,\n",
       "        7.04279774],\n",
       "       [7.05693985, 7.04985815, 7.04278354, ..., 7.03571603, 7.04278354,\n",
       "        7.04985815],\n",
       "       [7.06400028, 7.05692568, 7.04985815, ..., 7.04279774, 7.04985815,\n",
       "        7.05692568]])"
      ]
     },
     "execution_count": 99,
     "metadata": {},
     "output_type": "execute_result"
    }
   ],
   "source": [
    "z = np.sqrt(xs ** 2 + ys ** 2)\n",
    "z"
   ]
  },
  {
   "cell_type": "code",
   "execution_count": 100,
   "metadata": {},
   "outputs": [
    {
     "data": {
      "text/plain": [
       "Text(0.5, 1.0, 'Image plot of $\\\\sqrt{x^2 + y^2}$ for a grid of values')"
      ]
     },
     "execution_count": 100,
     "metadata": {},
     "output_type": "execute_result"
    },
    {
     "data": {
      "image/png": "[encoded data removed]",
      "text/plain": [
       "<Figure size 432x288 with 2 Axes>"
      ]
     },
     "metadata": {
      "needs_background": "light"
     },
     "output_type": "display_data"
    }
   ],
   "source": [
    "import matplotlib.pyplot as plt\n",
    "\n",
    "plt.imshow(z,cmap=plt.cm.gray);plt.colorbar()\n",
    "plt.title('Image plot of $\\sqrt{x^2 + y^2}$ for a grid of values')"
   ]
  },
  {
   "cell_type": "markdown",
   "metadata": {},
   "source": [
    "### Expressando uma loǵica condicional como operações de array"
   ]
  },
  {
   "cell_type": "code",
   "execution_count": 101,
   "metadata": {},
   "outputs": [
    {
     "data": {
      "text/plain": [
       "[1.1, 2.2, 1.3, 1.4, 2.5]"
      ]
     },
     "execution_count": 101,
     "metadata": {},
     "output_type": "execute_result"
    }
   ],
   "source": [
    "xarr = np.array([1.1,1.2,1.3,1.4,1.5])\n",
    "yarr = np.array([2.1,2.2,2.3,2.4,2.5])\n",
    "cond = np.array([True,False,True,True,False])\n",
    "\n",
    "# se True traga x, se False traga y\n",
    "result = [(x if c else y) for x,y,c in zip(xarr,yarr,cond)]\n",
    "result"
   ]
  },
  {
   "cell_type": "code",
   "execution_count": 102,
   "metadata": {},
   "outputs": [
    {
     "data": {
      "text/plain": [
       "array([1.1, 2.2, 1.3, 1.4, 2.5])"
      ]
     },
     "execution_count": 102,
     "metadata": {},
     "output_type": "execute_result"
    }
   ],
   "source": [
    "result2 = np.where(cond,xarr,yarr)\n",
    "result2"
   ]
  },
  {
   "cell_type": "code",
   "execution_count": 103,
   "metadata": {},
   "outputs": [
    {
     "data": {
      "text/plain": [
       "array([[ 0.09980939,  2.32117633, -0.15338142, -1.95427959],\n",
       "       [-1.10505311, -0.23312174,  0.49466076,  0.71490554],\n",
       "       [ 0.63337733, -1.06883772,  0.92513416,  1.36994676],\n",
       "       [ 1.70670337, -1.59596083, -0.12427765,  2.52222862]])"
      ]
     },
     "execution_count": 103,
     "metadata": {},
     "output_type": "execute_result"
    }
   ],
   "source": [
    "arr = np.random.randn(4,4)\n",
    "arr"
   ]
  },
  {
   "cell_type": "code",
   "execution_count": 104,
   "metadata": {},
   "outputs": [
    {
     "data": {
      "text/plain": [
       "array([[ True,  True, False, False],\n",
       "       [False, False,  True,  True],\n",
       "       [ True, False,  True,  True],\n",
       "       [ True, False, False,  True]])"
      ]
     },
     "execution_count": 104,
     "metadata": {},
     "output_type": "execute_result"
    }
   ],
   "source": [
    "arr > 0"
   ]
  },
  {
   "cell_type": "code",
   "execution_count": 105,
   "metadata": {},
   "outputs": [
    {
     "data": {
      "text/plain": [
       "array([[ 2,  2, -2, -2],\n",
       "       [-2, -2,  2,  2],\n",
       "       [ 2, -2,  2,  2],\n",
       "       [ 2, -2, -2,  2]])"
      ]
     },
     "execution_count": 105,
     "metadata": {},
     "output_type": "execute_result"
    }
   ],
   "source": [
    "np.where(arr > 0, 2,-2)"
   ]
  },
  {
   "cell_type": "code",
   "execution_count": 106,
   "metadata": {},
   "outputs": [],
   "source": [
    "xarr = np.arange(0,999999,1)\n",
    "yarr = np.arange(1000000,1999999,1)"
   ]
  },
  {
   "cell_type": "code",
   "execution_count": 107,
   "metadata": {},
   "outputs": [
    {
     "name": "stdout",
     "output_type": "stream",
     "text": [
      "1.28 s ± 332 ms per loop (mean ± std. dev. of 7 runs, 1 loop each)\n"
     ]
    }
   ],
   "source": [
    "%%timeit\n",
    "result = [(x if x % 2 else y) for x,y in zip(xarr,yarr)]\n"
   ]
  },
  {
   "cell_type": "code",
   "execution_count": 108,
   "metadata": {},
   "outputs": [
    {
     "name": "stdout",
     "output_type": "stream",
     "text": [
      "39.3 ms ± 5.24 ms per loop (mean ± std. dev. of 7 runs, 10 loops each)\n"
     ]
    }
   ],
   "source": [
    "%%timeit\n",
    "result2 = np.where(xarr % 2,xarr,yarr)"
   ]
  },
  {
   "cell_type": "code",
   "execution_count": 109,
   "metadata": {},
   "outputs": [
    {
     "data": {
      "text/plain": [
       "array([[ 2.        ,  2.        , -0.15338142, -1.95427959],\n",
       "       [-1.10505311, -0.23312174,  2.        ,  2.        ],\n",
       "       [ 2.        , -1.06883772,  2.        ,  2.        ],\n",
       "       [ 2.        , -1.59596083, -0.12427765,  2.        ]])"
      ]
     },
     "execution_count": 109,
     "metadata": {},
     "output_type": "execute_result"
    }
   ],
   "source": [
    "np.where(arr > 0, 2,arr)"
   ]
  },
  {
   "cell_type": "markdown",
   "metadata": {},
   "source": [
    "### Métodos matemáticos e estatísticos"
   ]
  },
  {
   "cell_type": "code",
   "execution_count": 110,
   "metadata": {},
   "outputs": [],
   "source": [
    "arr = np.random.randn(5,4)"
   ]
  },
  {
   "cell_type": "code",
   "execution_count": 111,
   "metadata": {},
   "outputs": [
    {
     "data": {
      "text/plain": [
       "array([[ 0.10779286, -0.08210439, -0.40589085, -0.32265621],\n",
       "       [ 0.91832881, -1.08241084,  0.81584236, -0.81886753],\n",
       "       [ 0.50962354,  0.31418796,  1.39111659, -1.06376646],\n",
       "       [-0.96876551,  1.14243539, -1.46088573,  1.62767971],\n",
       "       [-1.41679555,  1.29976854, -0.88815237,  0.3642297 ]])"
      ]
     },
     "execution_count": 111,
     "metadata": {},
     "output_type": "execute_result"
    }
   ],
   "source": [
    "arr"
   ]
  },
  {
   "cell_type": "code",
   "execution_count": 112,
   "metadata": {},
   "outputs": [
    {
     "data": {
      "text/plain": [
       "-0.0009644984399050177"
      ]
     },
     "execution_count": 112,
     "metadata": {},
     "output_type": "execute_result"
    }
   ],
   "source": [
    "arr.mean()"
   ]
  },
  {
   "cell_type": "code",
   "execution_count": 113,
   "metadata": {},
   "outputs": [
    {
     "data": {
      "text/plain": [
       "-0.0009644984399050177"
      ]
     },
     "execution_count": 113,
     "metadata": {},
     "output_type": "execute_result"
    }
   ],
   "source": [
    "np.mean(arr)"
   ]
  },
  {
   "cell_type": "code",
   "execution_count": 114,
   "metadata": {},
   "outputs": [
    {
     "data": {
      "text/plain": [
       "-0.019289968798100354"
      ]
     },
     "execution_count": 114,
     "metadata": {},
     "output_type": "execute_result"
    }
   ],
   "source": [
    "arr.sum()"
   ]
  },
  {
   "cell_type": "code",
   "execution_count": 115,
   "metadata": {},
   "outputs": [
    {
     "data": {
      "text/plain": [
       "array([-0.17571465, -0.0417768 ,  0.28779041,  0.08511596, -0.16023742])"
      ]
     },
     "execution_count": 115,
     "metadata": {},
     "output_type": "execute_result"
    }
   ],
   "source": [
    "arr.mean(axis=1)"
   ]
  },
  {
   "cell_type": "code",
   "execution_count": 116,
   "metadata": {},
   "outputs": [
    {
     "data": {
      "text/plain": [
       "array([-0.84981585,  1.59187666, -0.54797   , -0.21338078])"
      ]
     },
     "execution_count": 116,
     "metadata": {},
     "output_type": "execute_result"
    }
   ],
   "source": [
    "arr.sum(axis=0)"
   ]
  },
  {
   "cell_type": "code",
   "execution_count": 117,
   "metadata": {},
   "outputs": [
    {
     "data": {
      "text/plain": [
       "array([ 0,  1,  3,  6, 10, 15, 21, 28])"
      ]
     },
     "execution_count": 117,
     "metadata": {},
     "output_type": "execute_result"
    }
   ],
   "source": [
    "arr = np.array([0,1,2,3,4,5,6,7])\n",
    "arr.cumsum()"
   ]
  },
  {
   "cell_type": "code",
   "execution_count": 118,
   "metadata": {},
   "outputs": [
    {
     "data": {
      "text/plain": [
       "array([[0, 1, 2],\n",
       "       [3, 4, 5],\n",
       "       [6, 7, 8]])"
      ]
     },
     "execution_count": 118,
     "metadata": {},
     "output_type": "execute_result"
    }
   ],
   "source": [
    "arr = np.array([[0,1,2],[3,4,5],[6,7,8]])\n",
    "arr"
   ]
  },
  {
   "cell_type": "code",
   "execution_count": 119,
   "metadata": {},
   "outputs": [
    {
     "data": {
      "text/plain": [
       "array([[ 0,  1,  2],\n",
       "       [ 3,  5,  7],\n",
       "       [ 9, 12, 15]])"
      ]
     },
     "execution_count": 119,
     "metadata": {},
     "output_type": "execute_result"
    }
   ],
   "source": [
    "arr.cumsum(axis=0)"
   ]
  },
  {
   "cell_type": "code",
   "execution_count": 120,
   "metadata": {},
   "outputs": [
    {
     "data": {
      "text/plain": [
       "array([[  0,   0,   0],\n",
       "       [  3,  12,  60],\n",
       "       [  6,  42, 336]])"
      ]
     },
     "execution_count": 120,
     "metadata": {},
     "output_type": "execute_result"
    }
   ],
   "source": [
    "arr.cumprod(axis=1)"
   ]
  },
  {
   "cell_type": "markdown",
   "metadata": {},
   "source": [
    "### Métodos para arrays booleanos"
   ]
  },
  {
   "cell_type": "code",
   "execution_count": 121,
   "metadata": {},
   "outputs": [
    {
     "data": {
      "text/plain": [
       "50"
      ]
     },
     "execution_count": 121,
     "metadata": {},
     "output_type": "execute_result"
    }
   ],
   "source": [
    "# 1 = True\n",
    "# 0 = False\n",
    "\n",
    "arr = np.random.randn(100)\n",
    "(arr > 0).sum() # Número de valores positivos"
   ]
  },
  {
   "cell_type": "code",
   "execution_count": 122,
   "metadata": {},
   "outputs": [
    {
     "data": {
      "text/plain": [
       "True"
      ]
     },
     "execution_count": 122,
     "metadata": {},
     "output_type": "execute_result"
    }
   ],
   "source": [
    "bools = np.array([False,False,True,False])\n",
    "bools.any()"
   ]
  },
  {
   "cell_type": "code",
   "execution_count": 123,
   "metadata": {},
   "outputs": [
    {
     "data": {
      "text/plain": [
       "False"
      ]
     },
     "execution_count": 123,
     "metadata": {},
     "output_type": "execute_result"
    }
   ],
   "source": [
    "bools.all()"
   ]
  },
  {
   "cell_type": "markdown",
   "metadata": {},
   "source": [
    "### Ordenação"
   ]
  },
  {
   "cell_type": "code",
   "execution_count": 124,
   "metadata": {},
   "outputs": [
    {
     "data": {
      "text/plain": [
       "array([ 1.2916755 ,  1.01767814,  2.23534738, -0.43709255, -0.68135492,\n",
       "        0.04423604])"
      ]
     },
     "execution_count": 124,
     "metadata": {},
     "output_type": "execute_result"
    }
   ],
   "source": [
    "arr = np.random.randn(6)\n",
    "arr"
   ]
  },
  {
   "cell_type": "code",
   "execution_count": 125,
   "metadata": {},
   "outputs": [
    {
     "data": {
      "text/plain": [
       "array([-0.68135492, -0.43709255,  0.04423604,  1.01767814,  1.2916755 ,\n",
       "        2.23534738])"
      ]
     },
     "execution_count": 125,
     "metadata": {},
     "output_type": "execute_result"
    }
   ],
   "source": [
    "arr.sort()\n",
    "arr"
   ]
  },
  {
   "cell_type": "code",
   "execution_count": 126,
   "metadata": {},
   "outputs": [
    {
     "data": {
      "text/plain": [
       "array([[ 0.5411156 ,  0.87949039, -2.14056705],\n",
       "       [-2.06687779,  3.00823759, -0.39557301],\n",
       "       [-1.73511849,  0.43340867,  0.25574137],\n",
       "       [-1.2723564 , -0.04487641, -1.72870147],\n",
       "       [ 0.10457222, -1.31183421, -0.42228678]])"
      ]
     },
     "execution_count": 126,
     "metadata": {},
     "output_type": "execute_result"
    }
   ],
   "source": [
    "arr = np.random.randn(5,3)\n",
    "arr"
   ]
  },
  {
   "cell_type": "code",
   "execution_count": 127,
   "metadata": {},
   "outputs": [
    {
     "data": {
      "text/plain": [
       "array([[-2.14056705,  0.5411156 ,  0.87949039],\n",
       "       [-2.06687779, -0.39557301,  3.00823759],\n",
       "       [-1.73511849,  0.25574137,  0.43340867],\n",
       "       [-1.72870147, -1.2723564 , -0.04487641],\n",
       "       [-1.31183421, -0.42228678,  0.10457222]])"
      ]
     },
     "execution_count": 127,
     "metadata": {},
     "output_type": "execute_result"
    }
   ],
   "source": [
    "arr.sort(1)\n",
    "arr"
   ]
  },
  {
   "cell_type": "code",
   "execution_count": 128,
   "metadata": {},
   "outputs": [
    {
     "data": {
      "text/plain": [
       "array([[-2.14056705, -1.2723564 , -0.04487641],\n",
       "       [-2.06687779, -0.42228678,  0.10457222],\n",
       "       [-1.73511849, -0.39557301,  0.43340867],\n",
       "       [-1.72870147,  0.25574137,  0.87949039],\n",
       "       [-1.31183421,  0.5411156 ,  3.00823759]])"
      ]
     },
     "execution_count": 128,
     "metadata": {},
     "output_type": "execute_result"
    }
   ],
   "source": [
    "arr.sort(0)\n",
    "arr"
   ]
  },
  {
   "cell_type": "code",
   "execution_count": 129,
   "metadata": {},
   "outputs": [
    {
     "data": {
      "text/plain": [
       "-1.549756636972209"
      ]
     },
     "execution_count": 129,
     "metadata": {},
     "output_type": "execute_result"
    }
   ],
   "source": [
    "large_arr = np.random.randn(1000)\n",
    "large_arr.sort()\n",
    "large_arr[int(0.05 * len(large_arr))] # quantil de 5%"
   ]
  },
  {
   "cell_type": "code",
   "execution_count": 130,
   "metadata": {},
   "outputs": [
    {
     "data": {
      "text/plain": [
       "array([-2.96930788e+00, -2.96283805e+00, -2.63688355e+00, -2.62521060e+00,\n",
       "       -2.60517508e+00, -2.57590792e+00, -2.54155592e+00, -2.50882948e+00,\n",
       "       -2.43816412e+00, -2.37635950e+00, -2.36665998e+00, -2.32967030e+00,\n",
       "       -2.32271559e+00, -2.32172598e+00, -2.29868819e+00, -2.19598527e+00,\n",
       "       -2.15537870e+00, -2.11943223e+00, -2.10135994e+00, -2.06856021e+00,\n",
       "       -2.06616239e+00, -2.06157892e+00, -2.05801544e+00, -1.96959555e+00,\n",
       "       -1.96903038e+00, -1.95267336e+00, -1.94325518e+00, -1.93723545e+00,\n",
       "       -1.89762565e+00, -1.89255427e+00, -1.88374179e+00, -1.84826337e+00,\n",
       "       -1.77157126e+00, -1.75472731e+00, -1.74780773e+00, -1.73540458e+00,\n",
       "       -1.71990151e+00, -1.71604730e+00, -1.71203427e+00, -1.70870663e+00,\n",
       "       -1.67236338e+00, -1.66840312e+00, -1.65421750e+00, -1.65061110e+00,\n",
       "       -1.64526596e+00, -1.64369742e+00, -1.62789164e+00, -1.59072964e+00,\n",
       "       -1.57966196e+00, -1.56211111e+00, -1.54975664e+00, -1.54386095e+00,\n",
       "       -1.52895317e+00, -1.52773351e+00, -1.52683323e+00, -1.52226585e+00,\n",
       "       -1.52074767e+00, -1.51570687e+00, -1.50292698e+00, -1.50250745e+00,\n",
       "       -1.49570401e+00, -1.49064849e+00, -1.48465337e+00, -1.48384147e+00,\n",
       "       -1.47908575e+00, -1.47850042e+00, -1.47487077e+00, -1.47426701e+00,\n",
       "       -1.47320940e+00, -1.47140427e+00, -1.45216369e+00, -1.44351241e+00,\n",
       "       -1.44118454e+00, -1.42229802e+00, -1.39823499e+00, -1.39154839e+00,\n",
       "       -1.38531554e+00, -1.38503501e+00, -1.38282347e+00, -1.37694797e+00,\n",
       "       -1.36867947e+00, -1.35422817e+00, -1.34373289e+00, -1.33929052e+00,\n",
       "       -1.33685768e+00, -1.33159055e+00, -1.32989348e+00, -1.32307282e+00,\n",
       "       -1.31673935e+00, -1.31318107e+00, -1.30988427e+00, -1.30982462e+00,\n",
       "       -1.30093585e+00, -1.29912565e+00, -1.29776632e+00, -1.29226579e+00,\n",
       "       -1.28928687e+00, -1.27837100e+00, -1.26877708e+00, -1.26852018e+00,\n",
       "       -1.26710346e+00, -1.25979551e+00, -1.24869948e+00, -1.24791574e+00,\n",
       "       -1.24432856e+00, -1.24021811e+00, -1.23063781e+00, -1.22305996e+00,\n",
       "       -1.21638536e+00, -1.20541208e+00, -1.19089509e+00, -1.18195151e+00,\n",
       "       -1.16642726e+00, -1.16487773e+00, -1.16176268e+00, -1.16040471e+00,\n",
       "       -1.14685670e+00, -1.13964353e+00, -1.13933396e+00, -1.13877128e+00,\n",
       "       -1.13417922e+00, -1.13223799e+00, -1.13195196e+00, -1.12776956e+00,\n",
       "       -1.09742701e+00, -1.09461296e+00, -1.08960972e+00, -1.08259781e+00,\n",
       "       -1.08048869e+00, -1.07265846e+00, -1.05437951e+00, -1.05386565e+00,\n",
       "       -1.05098114e+00, -1.04658380e+00, -1.04590808e+00, -1.03048645e+00,\n",
       "       -1.02553021e+00, -1.02479307e+00, -1.02406557e+00, -1.02221752e+00,\n",
       "       -1.02018496e+00, -1.00739592e+00, -9.93264305e-01, -9.87864824e-01,\n",
       "       -9.86655448e-01, -9.86119268e-01, -9.78000380e-01, -9.75602896e-01,\n",
       "       -9.75029011e-01, -9.74540566e-01, -9.69286650e-01, -9.68180002e-01,\n",
       "       -9.62479016e-01, -9.61803009e-01, -9.60104255e-01, -9.58662219e-01,\n",
       "       -9.54091032e-01, -9.45541630e-01, -9.45022610e-01, -9.33603658e-01,\n",
       "       -9.30940774e-01, -9.20696381e-01, -9.04889158e-01, -9.00353046e-01,\n",
       "       -8.97369673e-01, -8.86851933e-01, -8.81173955e-01, -8.78972191e-01,\n",
       "       -8.71748158e-01, -8.71599622e-01, -8.71247343e-01, -8.67160671e-01,\n",
       "       -8.62916912e-01, -8.62266472e-01, -8.55795771e-01, -8.54166690e-01,\n",
       "       -8.41248711e-01, -8.39274912e-01, -8.38185326e-01, -8.35928564e-01,\n",
       "       -8.35611349e-01, -8.32645358e-01, -8.32563704e-01, -8.32189482e-01,\n",
       "       -8.30668506e-01, -8.28651536e-01, -8.28228166e-01, -8.26766704e-01,\n",
       "       -8.24171297e-01, -8.23572249e-01, -8.21946240e-01, -8.21692317e-01,\n",
       "       -8.18907132e-01, -8.11680396e-01, -8.10498465e-01, -8.06867125e-01,\n",
       "       -8.05693714e-01, -8.02233555e-01, -8.02156627e-01, -7.94761324e-01,\n",
       "       -7.93452923e-01, -7.87622676e-01, -7.87115201e-01, -7.86024525e-01,\n",
       "       -7.83872460e-01, -7.81973540e-01, -7.79851844e-01, -7.76469575e-01,\n",
       "       -7.72099255e-01, -7.66087774e-01, -7.60302075e-01, -7.51132186e-01,\n",
       "       -7.50725606e-01, -7.46232364e-01, -7.45081075e-01, -7.43330803e-01,\n",
       "       -7.35449459e-01, -7.29190892e-01, -7.20496945e-01, -7.10512773e-01,\n",
       "       -7.04980471e-01, -7.03811286e-01, -7.02794764e-01, -6.93248813e-01,\n",
       "       -6.92825030e-01, -6.87411584e-01, -6.86486651e-01, -6.83260940e-01,\n",
       "       -6.82276737e-01, -6.77422724e-01, -6.77122235e-01, -6.76822345e-01,\n",
       "       -6.75245084e-01, -6.70076482e-01, -6.69894149e-01, -6.67962304e-01,\n",
       "       -6.65959093e-01, -6.64726509e-01, -6.63278511e-01, -6.60278276e-01,\n",
       "       -6.57989601e-01, -6.53690860e-01, -6.53159801e-01, -6.48559053e-01,\n",
       "       -6.42034369e-01, -6.40327665e-01, -6.36429245e-01, -6.36228558e-01,\n",
       "       -6.35632763e-01, -6.29465267e-01, -6.24828382e-01, -6.23174874e-01,\n",
       "       -6.22890802e-01, -6.19294175e-01, -6.13718658e-01, -6.11374452e-01,\n",
       "       -6.06742611e-01, -6.06187041e-01, -6.01946236e-01, -6.01295430e-01,\n",
       "       -6.01240069e-01, -5.98690849e-01, -5.96263057e-01, -5.95533330e-01,\n",
       "       -5.95266619e-01, -5.94946426e-01, -5.94789897e-01, -5.93854633e-01,\n",
       "       -5.93664946e-01, -5.92659180e-01, -5.88643171e-01, -5.87900974e-01,\n",
       "       -5.86109866e-01, -5.79578526e-01, -5.76212622e-01, -5.72062325e-01,\n",
       "       -5.69528244e-01, -5.63785051e-01, -5.58166082e-01, -5.56252207e-01,\n",
       "       -5.54123354e-01, -5.53170660e-01, -5.52546454e-01, -5.50423556e-01,\n",
       "       -5.46754415e-01, -5.46004052e-01, -5.45837157e-01, -5.44921415e-01,\n",
       "       -5.42666058e-01, -5.41299352e-01, -5.36626725e-01, -5.35123609e-01,\n",
       "       -5.35037924e-01, -5.31862134e-01, -5.25826247e-01, -5.24490148e-01,\n",
       "       -5.22773196e-01, -5.20421111e-01, -5.16838322e-01, -5.10869190e-01,\n",
       "       -4.98392909e-01, -4.94896081e-01, -4.90005275e-01, -4.89058475e-01,\n",
       "       -4.87994067e-01, -4.86548185e-01, -4.80519722e-01, -4.75518076e-01,\n",
       "       -4.68015486e-01, -4.61114744e-01, -4.61015076e-01, -4.59162660e-01,\n",
       "       -4.58852219e-01, -4.49474537e-01, -4.49340854e-01, -4.47270496e-01,\n",
       "       -4.47207682e-01, -4.42937090e-01, -4.39262924e-01, -4.38945407e-01,\n",
       "       -4.30734618e-01, -4.21582151e-01, -4.16972030e-01, -4.10030788e-01,\n",
       "       -4.08974758e-01, -4.08501547e-01, -4.07692410e-01, -4.04775806e-01,\n",
       "       -4.04370532e-01, -4.01043222e-01, -4.00016624e-01, -3.98451304e-01,\n",
       "       -3.91862588e-01, -3.89403554e-01, -3.89230545e-01, -3.79825023e-01,\n",
       "       -3.76518388e-01, -3.76353176e-01, -3.72922223e-01, -3.72533391e-01,\n",
       "       -3.70831633e-01, -3.67276929e-01, -3.63715353e-01, -3.63662083e-01,\n",
       "       -3.62217930e-01, -3.59972707e-01, -3.58087261e-01, -3.56894813e-01,\n",
       "       -3.53512995e-01, -3.48881826e-01, -3.47391791e-01, -3.45658861e-01,\n",
       "       -3.35624709e-01, -3.32111924e-01, -3.31247742e-01, -3.30596517e-01,\n",
       "       -3.24679638e-01, -3.20668824e-01, -3.18891383e-01, -3.16664314e-01,\n",
       "       -3.15629482e-01, -3.11521574e-01, -3.10456003e-01, -3.09719892e-01,\n",
       "       -3.08674324e-01, -3.04274105e-01, -3.02563646e-01, -2.99446568e-01,\n",
       "       -2.95973782e-01, -2.94028362e-01, -2.93773279e-01, -2.89878169e-01,\n",
       "       -2.88526243e-01, -2.88355629e-01, -2.84967007e-01, -2.82486891e-01,\n",
       "       -2.75326341e-01, -2.73677058e-01, -2.72469983e-01, -2.70416754e-01,\n",
       "       -2.70055713e-01, -2.68747695e-01, -2.67060044e-01, -2.61010836e-01,\n",
       "       -2.59775798e-01, -2.59076350e-01, -2.58341128e-01, -2.57366430e-01,\n",
       "       -2.53492946e-01, -2.52674902e-01, -2.50159781e-01, -2.50143539e-01,\n",
       "       -2.46432003e-01, -2.44138167e-01, -2.43792971e-01, -2.42700918e-01,\n",
       "       -2.37121492e-01, -2.35890421e-01, -2.32519984e-01, -2.31137902e-01,\n",
       "       -2.31086645e-01, -2.31041598e-01, -2.28558869e-01, -2.27505690e-01,\n",
       "       -2.23444609e-01, -2.18907296e-01, -2.16879938e-01, -2.15814350e-01,\n",
       "       -2.12690743e-01, -2.12211212e-01, -2.10079953e-01, -2.09372954e-01,\n",
       "       -2.08929409e-01, -2.07499780e-01, -2.06719390e-01, -2.03841531e-01,\n",
       "       -2.02856776e-01, -2.00427555e-01, -1.97097231e-01, -1.96830862e-01,\n",
       "       -1.95672739e-01, -1.92498024e-01, -1.92140621e-01, -1.90647354e-01,\n",
       "       -1.84524804e-01, -1.80851722e-01, -1.79115131e-01, -1.66700316e-01,\n",
       "       -1.65102351e-01, -1.62761025e-01, -1.58202969e-01, -1.55908690e-01,\n",
       "       -1.54681569e-01, -1.54290540e-01, -1.52696564e-01, -1.50735203e-01,\n",
       "       -1.48931873e-01, -1.48569929e-01, -1.44881585e-01, -1.42779622e-01,\n",
       "       -1.40782547e-01, -1.40479397e-01, -1.29859590e-01, -1.28578411e-01,\n",
       "       -1.26823260e-01, -1.24373181e-01, -1.22639364e-01, -1.18624611e-01,\n",
       "       -1.14694272e-01, -1.14218280e-01, -1.12243148e-01, -1.06857677e-01,\n",
       "       -1.06841742e-01, -1.05973943e-01, -1.03304102e-01, -1.01958289e-01,\n",
       "       -1.00416762e-01, -9.96893223e-02, -9.88491036e-02, -9.76126805e-02,\n",
       "       -9.69019849e-02, -9.61785710e-02, -9.46073735e-02, -9.29074492e-02,\n",
       "       -8.92872646e-02, -8.32560858e-02, -8.19458796e-02, -8.14327844e-02,\n",
       "       -7.86941301e-02, -7.09317164e-02, -7.08776657e-02, -7.05998871e-02,\n",
       "       -7.02542266e-02, -6.80523510e-02, -6.54369407e-02, -6.04961271e-02,\n",
       "       -5.96214273e-02, -5.91813768e-02, -5.35593950e-02, -5.25014923e-02,\n",
       "       -4.66783387e-02, -4.28351791e-02, -4.17049678e-02, -3.78195451e-02,\n",
       "       -3.54893285e-02, -2.79044419e-02, -2.76397357e-02, -2.61274437e-02,\n",
       "       -2.35304440e-02, -2.21508987e-02, -2.10457311e-02, -1.78168365e-02,\n",
       "       -1.34742468e-02, -1.14884571e-02, -4.24418215e-03, -4.23175356e-03,\n",
       "       -3.87466648e-03, -3.26669511e-03,  3.06534621e-03,  3.44549980e-03,\n",
       "        5.83681586e-03,  6.97826694e-03,  7.17517866e-03,  1.42289828e-02,\n",
       "        1.59246850e-02,  2.09148581e-02,  2.76419806e-02,  2.91183492e-02,\n",
       "        3.03969567e-02,  3.20917881e-02,  3.36479838e-02,  3.98343142e-02,\n",
       "        5.20495657e-02,  5.31191560e-02,  5.63765382e-02,  5.71622948e-02,\n",
       "        5.87653853e-02,  5.91996651e-02,  6.01886609e-02,  6.11489556e-02,\n",
       "        6.98017864e-02,  7.18305203e-02,  7.21148291e-02,  7.26520820e-02,\n",
       "        7.70271815e-02,  8.11401015e-02,  8.17500871e-02,  8.85623657e-02,\n",
       "        8.86701455e-02,  9.36093013e-02,  9.57259847e-02,  9.73337297e-02,\n",
       "        9.83461831e-02,  9.84681490e-02,  9.90035718e-02,  1.01647927e-01,\n",
       "        1.09894880e-01,  1.10264205e-01,  1.10980581e-01,  1.12741490e-01,\n",
       "        1.13270486e-01,  1.16307392e-01,  1.18866087e-01,  1.22039932e-01,\n",
       "        1.23894454e-01,  1.27273350e-01,  1.27486128e-01,  1.27859781e-01,\n",
       "        1.28678340e-01,  1.28691942e-01,  1.29940753e-01,  1.33405800e-01,\n",
       "        1.34206340e-01,  1.36932406e-01,  1.37365013e-01,  1.39504704e-01,\n",
       "        1.40249071e-01,  1.41684703e-01,  1.44166555e-01,  1.44820159e-01,\n",
       "        1.45635264e-01,  1.46485322e-01,  1.50981590e-01,  1.62344234e-01,\n",
       "        1.71210227e-01,  1.72667658e-01,  1.74808394e-01,  1.74948496e-01,\n",
       "        1.80878903e-01,  1.85365873e-01,  1.89103488e-01,  1.90285420e-01,\n",
       "        1.91181155e-01,  1.93008171e-01,  1.93113209e-01,  1.97290866e-01,\n",
       "        2.00534895e-01,  2.03890359e-01,  2.04508365e-01,  2.04651330e-01,\n",
       "        2.05946323e-01,  2.06665005e-01,  2.09676706e-01,  2.10641116e-01,\n",
       "        2.12616476e-01,  2.13169594e-01,  2.13916044e-01,  2.17103419e-01,\n",
       "        2.20696337e-01,  2.21284741e-01,  2.21952757e-01,  2.27558564e-01,\n",
       "        2.28164053e-01,  2.28593219e-01,  2.29840890e-01,  2.30296177e-01,\n",
       "        2.32069798e-01,  2.33252892e-01,  2.36305402e-01,  2.39573262e-01,\n",
       "        2.40328269e-01,  2.45331147e-01,  2.46337220e-01,  2.47289294e-01,\n",
       "        2.54302306e-01,  2.57550434e-01,  2.59589276e-01,  2.60467567e-01,\n",
       "        2.62646939e-01,  2.64658865e-01,  2.66693411e-01,  2.66887206e-01,\n",
       "        2.72458033e-01,  2.73863931e-01,  2.78857400e-01,  2.83400653e-01,\n",
       "        2.84584166e-01,  2.86091105e-01,  2.87130501e-01,  2.89699071e-01,\n",
       "        2.92789231e-01,  2.95783046e-01,  3.01077806e-01,  3.10649441e-01,\n",
       "        3.11507035e-01,  3.13673532e-01,  3.13865079e-01,  3.17943155e-01,\n",
       "        3.18086921e-01,  3.20166199e-01,  3.20896121e-01,  3.21074163e-01,\n",
       "        3.21833867e-01,  3.25876799e-01,  3.27509951e-01,  3.28880086e-01,\n",
       "        3.29384532e-01,  3.42962443e-01,  3.43440835e-01,  3.44093286e-01,\n",
       "        3.44233314e-01,  3.45953603e-01,  3.46614700e-01,  3.48625597e-01,\n",
       "        3.54894523e-01,  3.55237890e-01,  3.57598339e-01,  3.57647990e-01,\n",
       "        3.61130533e-01,  3.63256947e-01,  3.63982332e-01,  3.64480474e-01,\n",
       "        3.73480269e-01,  3.73710438e-01,  3.76023709e-01,  3.76094854e-01,\n",
       "        3.81027296e-01,  3.88403990e-01,  3.90033095e-01,  3.90505491e-01,\n",
       "        3.90537284e-01,  3.92085934e-01,  3.94445180e-01,  3.98234979e-01,\n",
       "        3.99161738e-01,  4.01221892e-01,  4.01855266e-01,  4.04538077e-01,\n",
       "        4.17294466e-01,  4.22502729e-01,  4.22714830e-01,  4.23746473e-01,\n",
       "        4.26809933e-01,  4.28121048e-01,  4.28802291e-01,  4.30197314e-01,\n",
       "        4.31024275e-01,  4.31612215e-01,  4.31736207e-01,  4.36829881e-01,\n",
       "        4.38824040e-01,  4.39307504e-01,  4.39755957e-01,  4.45632842e-01,\n",
       "        4.52164259e-01,  4.52939330e-01,  4.59577894e-01,  4.64930347e-01,\n",
       "        4.68338175e-01,  4.69026015e-01,  4.72838790e-01,  4.74738974e-01,\n",
       "        4.78696243e-01,  4.78939454e-01,  4.82677825e-01,  4.83913553e-01,\n",
       "        4.84211991e-01,  4.87469409e-01,  4.89465898e-01,  4.89472788e-01,\n",
       "        4.91653034e-01,  5.03065751e-01,  5.06078882e-01,  5.06336384e-01,\n",
       "        5.20154608e-01,  5.22435484e-01,  5.25142242e-01,  5.28555636e-01,\n",
       "        5.31052809e-01,  5.37242669e-01,  5.40785299e-01,  5.42888636e-01,\n",
       "        5.43524508e-01,  5.45355511e-01,  5.48949396e-01,  5.57723839e-01,\n",
       "        5.60769526e-01,  5.63543815e-01,  5.63584045e-01,  5.71528654e-01,\n",
       "        5.79772604e-01,  5.80275456e-01,  5.81168424e-01,  5.84160781e-01,\n",
       "        5.86527839e-01,  5.87159790e-01,  5.87463836e-01,  6.04106448e-01,\n",
       "        6.13809218e-01,  6.16290022e-01,  6.16751700e-01,  6.20718268e-01,\n",
       "        6.23817874e-01,  6.24802483e-01,  6.31858171e-01,  6.33015530e-01,\n",
       "        6.33784542e-01,  6.35829571e-01,  6.39122950e-01,  6.43973697e-01,\n",
       "        6.48420383e-01,  6.49736802e-01,  6.57834581e-01,  6.62599589e-01,\n",
       "        6.63631152e-01,  6.74804095e-01,  6.74893503e-01,  6.79589512e-01,\n",
       "        6.84579456e-01,  6.88842816e-01,  6.89547443e-01,  6.94108831e-01,\n",
       "        7.08760889e-01,  7.10176350e-01,  7.13037100e-01,  7.17048404e-01,\n",
       "        7.18492011e-01,  7.26403470e-01,  7.30325605e-01,  7.30689014e-01,\n",
       "        7.31895509e-01,  7.32635366e-01,  7.32876981e-01,  7.36322247e-01,\n",
       "        7.36381303e-01,  7.39703833e-01,  7.40465791e-01,  7.41103774e-01,\n",
       "        7.41414145e-01,  7.42644641e-01,  7.48830576e-01,  7.55587390e-01,\n",
       "        7.59427533e-01,  7.62661837e-01,  7.68482927e-01,  7.70824078e-01,\n",
       "        7.72693127e-01,  7.77793229e-01,  7.92369211e-01,  7.94000148e-01,\n",
       "        7.96968137e-01,  7.98259931e-01,  7.98288531e-01,  8.04639653e-01,\n",
       "        8.20166975e-01,  8.23093191e-01,  8.23850417e-01,  8.23880233e-01,\n",
       "        8.28660506e-01,  8.29871240e-01,  8.30778719e-01,  8.33910396e-01,\n",
       "        8.41012852e-01,  8.45322019e-01,  8.45327868e-01,  8.48328512e-01,\n",
       "        8.53792846e-01,  8.54738213e-01,  8.55075526e-01,  8.61622498e-01,\n",
       "        8.66964007e-01,  8.67000241e-01,  8.67674820e-01,  8.68936567e-01,\n",
       "        8.70840825e-01,  8.71172774e-01,  8.77160332e-01,  8.77268172e-01,\n",
       "        8.80503244e-01,  8.84008719e-01,  8.84457106e-01,  8.84506476e-01,\n",
       "        8.84995902e-01,  8.89203811e-01,  8.91288284e-01,  8.91672749e-01,\n",
       "        8.98343832e-01,  9.03738201e-01,  9.06589287e-01,  9.07726457e-01,\n",
       "        9.21016037e-01,  9.24277874e-01,  9.26229423e-01,  9.27001032e-01,\n",
       "        9.30032501e-01,  9.33051935e-01,  9.38172000e-01,  9.38891643e-01,\n",
       "        9.39716727e-01,  9.41499879e-01,  9.46011705e-01,  9.51963577e-01,\n",
       "        9.54191904e-01,  9.54219294e-01,  9.71402447e-01,  9.75441837e-01,\n",
       "        9.77025792e-01,  9.80070071e-01,  9.83958126e-01,  9.84878483e-01,\n",
       "        1.00192200e+00,  1.00358232e+00,  1.00901358e+00,  1.01054217e+00,\n",
       "        1.01066618e+00,  1.01221726e+00,  1.01419386e+00,  1.02048423e+00,\n",
       "        1.02410742e+00,  1.02749871e+00,  1.03412384e+00,  1.03598736e+00,\n",
       "        1.03734769e+00,  1.04820592e+00,  1.04827458e+00,  1.05998391e+00,\n",
       "        1.06023000e+00,  1.06049910e+00,  1.06959869e+00,  1.07004552e+00,\n",
       "        1.07632385e+00,  1.08366216e+00,  1.08492407e+00,  1.09772244e+00,\n",
       "        1.10345182e+00,  1.10693517e+00,  1.10843113e+00,  1.11085573e+00,\n",
       "        1.12014748e+00,  1.13070602e+00,  1.13375437e+00,  1.14895862e+00,\n",
       "        1.15753839e+00,  1.15802834e+00,  1.15804227e+00,  1.16074531e+00,\n",
       "        1.16127208e+00,  1.16165044e+00,  1.16559773e+00,  1.18223957e+00,\n",
       "        1.20068333e+00,  1.20100495e+00,  1.21041411e+00,  1.21160333e+00,\n",
       "        1.21634991e+00,  1.22209958e+00,  1.22512050e+00,  1.23298373e+00,\n",
       "        1.23316239e+00,  1.25805932e+00,  1.26267129e+00,  1.26302685e+00,\n",
       "        1.26597299e+00,  1.27219990e+00,  1.27518998e+00,  1.27977448e+00,\n",
       "        1.28094663e+00,  1.28925477e+00,  1.28967027e+00,  1.30813353e+00,\n",
       "        1.30854417e+00,  1.31007914e+00,  1.31118282e+00,  1.31197447e+00,\n",
       "        1.31467384e+00,  1.32033493e+00,  1.32269417e+00,  1.33204783e+00,\n",
       "        1.34266393e+00,  1.34349768e+00,  1.34798252e+00,  1.35920683e+00,\n",
       "        1.36377152e+00,  1.36744740e+00,  1.36799853e+00,  1.37287396e+00,\n",
       "        1.37586885e+00,  1.38955746e+00,  1.38956629e+00,  1.41420055e+00,\n",
       "        1.41592031e+00,  1.42763440e+00,  1.43022395e+00,  1.43589201e+00,\n",
       "        1.44448908e+00,  1.44970455e+00,  1.45273475e+00,  1.45274683e+00,\n",
       "        1.45634246e+00,  1.45787378e+00,  1.47971047e+00,  1.50680991e+00,\n",
       "        1.51237829e+00,  1.52143294e+00,  1.52666337e+00,  1.53379026e+00,\n",
       "        1.55863439e+00,  1.55944822e+00,  1.56363825e+00,  1.59932421e+00,\n",
       "        1.60824171e+00,  1.60847440e+00,  1.60929207e+00,  1.61357932e+00,\n",
       "        1.63097946e+00,  1.63813826e+00,  1.64152709e+00,  1.64669013e+00,\n",
       "        1.65425934e+00,  1.66351734e+00,  1.67326485e+00,  1.68950634e+00,\n",
       "        1.69167940e+00,  1.70451758e+00,  1.71627249e+00,  1.74957803e+00,\n",
       "        1.75771147e+00,  1.77400515e+00,  1.78457298e+00,  1.80789623e+00,\n",
       "        1.81624243e+00,  1.85375366e+00,  1.86770358e+00,  1.89923809e+00,\n",
       "        1.91762686e+00,  1.91900265e+00,  1.92162111e+00,  1.92264583e+00,\n",
       "        1.93362241e+00,  1.94197902e+00,  1.97859137e+00,  2.00954000e+00,\n",
       "        2.01097392e+00,  2.02665932e+00,  2.08731331e+00,  2.11735606e+00,\n",
       "        2.16515716e+00,  2.18320716e+00,  2.23496741e+00,  2.24113228e+00,\n",
       "        2.24491706e+00,  2.24835622e+00,  2.26244172e+00,  2.27814796e+00,\n",
       "        2.29954006e+00,  2.30607425e+00,  2.30954731e+00,  2.33901033e+00,\n",
       "        2.38711038e+00,  2.42166740e+00,  2.51288949e+00,  2.53753079e+00,\n",
       "        2.53934548e+00,  2.57240535e+00,  2.59143951e+00,  2.63083588e+00,\n",
       "        2.91064714e+00,  2.95221856e+00,  3.03596819e+00,  3.06615088e+00])"
      ]
     },
     "execution_count": 130,
     "metadata": {},
     "output_type": "execute_result"
    }
   ],
   "source": [
    "large_arr"
   ]
  },
  {
   "cell_type": "markdown",
   "metadata": {},
   "source": [
    "### Unicidade e outras lógicas de conjutnos"
   ]
  },
  {
   "cell_type": "code",
   "execution_count": 131,
   "metadata": {},
   "outputs": [
    {
     "data": {
      "text/plain": [
       "array(['Bob', 'Joe', 'Will', 'joe'], dtype='<U4')"
      ]
     },
     "execution_count": 131,
     "metadata": {},
     "output_type": "execute_result"
    }
   ],
   "source": [
    "names = np.array(['Bob', 'Joe', 'Will', 'Bob', 'Joe', 'joe', 'Joe'])\n",
    "np.unique(names)"
   ]
  },
  {
   "cell_type": "code",
   "execution_count": 132,
   "metadata": {},
   "outputs": [
    {
     "data": {
      "text/plain": [
       "array([1, 2, 3, 4])"
      ]
     },
     "execution_count": 132,
     "metadata": {},
     "output_type": "execute_result"
    }
   ],
   "source": [
    "ints = np.array([3,3,3,2,2,1,1,4,4])\n",
    "np.unique(ints)"
   ]
  },
  {
   "cell_type": "code",
   "execution_count": 133,
   "metadata": {},
   "outputs": [
    {
     "data": {
      "text/plain": [
       "array([ True, False, False,  True,  True, False,  True])"
      ]
     },
     "execution_count": 133,
     "metadata": {},
     "output_type": "execute_result"
    }
   ],
   "source": [
    "values = np.array([6,0,0,3,2,5,6])\n",
    "np.in1d(values,[2,3,6])"
   ]
  },
  {
   "cell_type": "markdown",
   "metadata": {},
   "source": [
    "### Entrada e saída de arquivo com arrays"
   ]
  },
  {
   "cell_type": "code",
   "execution_count": 134,
   "metadata": {},
   "outputs": [],
   "source": [
    "arr = np.arange(10)\n",
    "np.save('some_array',arr)"
   ]
  },
  {
   "cell_type": "code",
   "execution_count": 135,
   "metadata": {},
   "outputs": [
    {
     "data": {
      "text/plain": [
       "array([0, 1, 2, 3, 4, 5, 6, 7, 8, 9])"
      ]
     },
     "execution_count": 135,
     "metadata": {},
     "output_type": "execute_result"
    }
   ],
   "source": [
    "np.load('some_array.npy')"
   ]
  },
  {
   "cell_type": "code",
   "execution_count": 136,
   "metadata": {},
   "outputs": [],
   "source": [
    "np.savez('array_archive.npz',a=arr,b=arr)"
   ]
  },
  {
   "cell_type": "code",
   "execution_count": 137,
   "metadata": {},
   "outputs": [],
   "source": [
    "arch = np.load('array_archive.npz')"
   ]
  },
  {
   "cell_type": "code",
   "execution_count": 138,
   "metadata": {},
   "outputs": [
    {
     "data": {
      "text/plain": [
       "array([0, 1, 2, 3, 4, 5, 6, 7, 8, 9])"
      ]
     },
     "execution_count": 138,
     "metadata": {},
     "output_type": "execute_result"
    }
   ],
   "source": [
    "arch['b']"
   ]
  },
  {
   "cell_type": "markdown",
   "metadata": {},
   "source": [
    "### Álgebra linear"
   ]
  },
  {
   "cell_type": "code",
   "execution_count": 139,
   "metadata": {},
   "outputs": [
    {
     "name": "stdout",
     "output_type": "stream",
     "text": [
      "[[1 2 3]\n",
      " [4 5 6]]\n",
      "[[ 6 23]\n",
      " [-1  7]\n",
      " [ 8  9]]\n"
     ]
    }
   ],
   "source": [
    "x = np.array([[1,2,3],[4,5,6]])\n",
    "y = np.array([[6,23],[-1,7],[8,9]])\n",
    "print(x)\n",
    "print(y)"
   ]
  },
  {
   "cell_type": "code",
   "execution_count": 140,
   "metadata": {},
   "outputs": [
    {
     "data": {
      "text/plain": [
       "array([[ 28,  64],\n",
       "       [ 67, 181]])"
      ]
     },
     "execution_count": 140,
     "metadata": {},
     "output_type": "execute_result"
    }
   ],
   "source": [
    "x.dot(y)"
   ]
  },
  {
   "cell_type": "code",
   "execution_count": 141,
   "metadata": {},
   "outputs": [
    {
     "data": {
      "text/plain": [
       "array([[ 28,  64],\n",
       "       [ 67, 181]])"
      ]
     },
     "execution_count": 141,
     "metadata": {},
     "output_type": "execute_result"
    }
   ],
   "source": [
    "np.dot(x,y)"
   ]
  },
  {
   "cell_type": "code",
   "execution_count": 142,
   "metadata": {},
   "outputs": [
    {
     "data": {
      "text/plain": [
       "array([ 6., 15.])"
      ]
     },
     "execution_count": 142,
     "metadata": {},
     "output_type": "execute_result"
    }
   ],
   "source": [
    "np.dot(x,np.ones(3))"
   ]
  },
  {
   "cell_type": "code",
   "execution_count": 143,
   "metadata": {},
   "outputs": [
    {
     "data": {
      "text/plain": [
       "array([ 6., 15.])"
      ]
     },
     "execution_count": 143,
     "metadata": {},
     "output_type": "execute_result"
    }
   ],
   "source": [
    "x @ np.ones(3)"
   ]
  },
  {
   "cell_type": "code",
   "execution_count": 144,
   "metadata": {},
   "outputs": [
    {
     "data": {
      "text/plain": [
       "array([[ 28.25164674, -13.94038043,  24.53003006,  -5.9637169 ,\n",
       "        -18.46673585],\n",
       "       [-13.94038043,   9.93602687, -13.97063489,   2.34939414,\n",
       "          8.75863675],\n",
       "       [ 24.53003006, -13.97063489,  25.3083786 ,  -6.27195507,\n",
       "        -16.39864633],\n",
       "       [ -5.9637169 ,   2.34939414,  -6.27195507,   3.91944006,\n",
       "          2.83535394],\n",
       "       [-18.46673585,   8.75863675, -16.39864633,   2.83535394,\n",
       "         13.90089213]])"
      ]
     },
     "execution_count": 144,
     "metadata": {},
     "output_type": "execute_result"
    }
   ],
   "source": [
    "from numpy.linalg import  inv,qr\n",
    "\n",
    "X = np.random.rand(5,5)\n",
    "\n",
    "mat = X.T.dot(X)\n",
    "\n",
    "inv(mat)"
   ]
  },
  {
   "cell_type": "code",
   "execution_count": 145,
   "metadata": {},
   "outputs": [
    {
     "data": {
      "text/plain": [
       "array([[ 1.00000000e+00, -1.04223771e-15,  1.17163806e-15,\n",
       "        -3.37509564e-16, -4.40818458e-15],\n",
       "       [-5.08071671e-15,  1.00000000e+00,  2.50017550e-15,\n",
       "        -4.89487081e-17, -4.20869561e-15],\n",
       "       [-2.21104238e-15,  6.66097765e-16,  1.00000000e+00,\n",
       "        -2.71386250e-16, -1.44753571e-15],\n",
       "       [ 8.97178697e-16, -5.00613369e-15,  9.00300639e-15,\n",
       "         1.00000000e+00, -9.13370884e-15],\n",
       "       [-9.80599216e-15,  1.42271579e-16,  1.29700860e-15,\n",
       "         2.24408180e-16,  1.00000000e+00]])"
      ]
     },
     "execution_count": 145,
     "metadata": {},
     "output_type": "execute_result"
    }
   ],
   "source": [
    "mat.dot(inv(mat))"
   ]
  },
  {
   "cell_type": "code",
   "execution_count": 146,
   "metadata": {},
   "outputs": [
    {
     "data": {
      "text/plain": [
       "array([[-1.91983941, -2.3903689 , -2.11398132, -2.81549367, -3.00576972],\n",
       "       [ 0.        , -0.7516101 , -0.81464846, -0.63986652, -0.33517759],\n",
       "       [ 0.        ,  0.        , -0.30342646, -0.31523773, -0.32155398],\n",
       "       [ 0.        ,  0.        ,  0.        , -0.27807485,  0.08896855],\n",
       "       [ 0.        ,  0.        ,  0.        ,  0.        ,  0.03355924]])"
      ]
     },
     "execution_count": 146,
     "metadata": {},
     "output_type": "execute_result"
    }
   ],
   "source": [
    "q,r = qr(mat)\n",
    "r"
   ]
  },
  {
   "cell_type": "markdown",
   "metadata": {},
   "source": [
    "### Geração de números pseudoaleatórios"
   ]
  },
  {
   "cell_type": "code",
   "execution_count": 147,
   "metadata": {},
   "outputs": [
    {
     "data": {
      "text/plain": [
       "array([[-0.7764969 ,  0.15794513, -0.99368389,  1.08353824],\n",
       "       [ 1.49266066, -0.76268262,  0.15135149,  0.36128395],\n",
       "       [-1.59639249, -0.9457745 ,  0.64023475,  0.98220622],\n",
       "       [-1.11714771, -0.90640603,  0.4643856 ,  1.17296358]])"
      ]
     },
     "execution_count": 147,
     "metadata": {},
     "output_type": "execute_result"
    }
   ],
   "source": [
    "samples = np.random.normal(size=(4,4))\n",
    "\n",
    "samples"
   ]
  },
  {
   "cell_type": "code",
   "execution_count": 148,
   "metadata": {},
   "outputs": [
    {
     "name": "stdout",
     "output_type": "stream",
     "text": [
      "3.52 s ± 151 ms per loop (mean ± std. dev. of 7 runs, 1 loop each)\n"
     ]
    }
   ],
   "source": [
    "from random import normalvariate\n",
    "\n",
    "N = 1000000\n",
    "\n",
    "%timeit samples = [normalvariate(0,1) for _ in range(N)]"
   ]
  },
  {
   "cell_type": "code",
   "execution_count": 149,
   "metadata": {},
   "outputs": [
    {
     "name": "stdout",
     "output_type": "stream",
     "text": [
      "64.6 ms ± 9.95 ms per loop (mean ± std. dev. of 7 runs, 10 loops each)\n"
     ]
    }
   ],
   "source": [
    "%timeit np.random.normal(size=N)"
   ]
  },
  {
   "cell_type": "code",
   "execution_count": 150,
   "metadata": {},
   "outputs": [],
   "source": [
    "np.random.seed(1234)"
   ]
  },
  {
   "cell_type": "code",
   "execution_count": 151,
   "metadata": {},
   "outputs": [
    {
     "data": {
      "text/plain": [
       "array([ 0.47143516, -1.19097569,  1.43270697, -0.3126519 , -0.72058873,\n",
       "        0.88716294,  0.85958841, -0.6365235 ,  0.01569637, -2.24268495])"
      ]
     },
     "execution_count": 151,
     "metadata": {},
     "output_type": "execute_result"
    }
   ],
   "source": [
    "rng = np.random.RandomState(1234)\n",
    "\n",
    "rng.randn(10)"
   ]
  },
  {
   "cell_type": "markdown",
   "metadata": {},
   "source": [
    "### Passeios aleatórios"
   ]
  },
  {
   "cell_type": "code",
   "execution_count": 152,
   "metadata": {},
   "outputs": [
    {
     "data": {
      "text/plain": [
       "[<matplotlib.lines.Line2D at 0x7f1c9bcd82e0>]"
      ]
     },
     "execution_count": 152,
     "metadata": {},
     "output_type": "execute_result"
    },
    {
     "data": {
      "image/png": "[encoded data removed]",
      "text/plain": [
       "<Figure size 432x288 with 1 Axes>"
      ]
     },
     "metadata": {
      "needs_background": "light"
     },
     "output_type": "display_data"
    }
   ],
   "source": [
    "# Python puro\n",
    "import random\n",
    "position = 0\n",
    "walk = [position]\n",
    "steps = 1000\n",
    "for i in range(steps):\n",
    "    step = 1 if random.randint(0,1) else -1\n",
    "    position += step\n",
    "    walk.append(position)\n",
    "\n",
    "plt.plot(walk[:100])"
   ]
  },
  {
   "cell_type": "code",
   "execution_count": 153,
   "metadata": {},
   "outputs": [
    {
     "name": "stdout",
     "output_type": "stream",
     "text": [
      "-9\n",
      "60\n"
     ]
    }
   ],
   "source": [
    "# usando arrays\n",
    "nsteps = 1000\n",
    "draws = np.random.randint(0,2,size=nsteps)\n",
    "steps = np.where(draws > 0,1,-1)\n",
    "walk = steps.cumsum()\n",
    "print(walk.min())\n",
    "print(walk.max())"
   ]
  },
  {
   "cell_type": "code",
   "execution_count": 154,
   "metadata": {},
   "outputs": [
    {
     "data": {
      "text/plain": [
       "297"
      ]
     },
     "execution_count": 154,
     "metadata": {},
     "output_type": "execute_result"
    }
   ],
   "source": [
    "(np.abs(walk) >= 10).argmax()"
   ]
  },
  {
   "cell_type": "markdown",
   "metadata": {},
   "source": [
    "### Simulando vários passeios aleatórios de uma só vez"
   ]
  },
  {
   "cell_type": "code",
   "execution_count": 155,
   "metadata": {},
   "outputs": [
    {
     "data": {
      "text/plain": [
       "array([[  1,   2,   3, ...,  46,  47,  46],\n",
       "       [  1,   0,   1, ...,  40,  41,  42],\n",
       "       [  1,   2,   3, ..., -26, -27, -28],\n",
       "       ...,\n",
       "       [  1,   0,   1, ...,  64,  65,  66],\n",
       "       [  1,   2,   1, ...,   2,   1,   0],\n",
       "       [ -1,  -2,  -3, ...,  32,  33,  34]])"
      ]
     },
     "execution_count": 155,
     "metadata": {},
     "output_type": "execute_result"
    }
   ],
   "source": [
    "nwalks = 5000\n",
    "\n",
    "nsteps = 1000\n",
    "\n",
    "draws = np.random.randint(0,2,size=(nwalks,nsteps))\n",
    "\n",
    "steps = np.where(draws > 0,1,-1)\n",
    "\n",
    "walks = steps.cumsum(1)\n",
    "\n",
    "walks"
   ]
  },
  {
   "cell_type": "code",
   "execution_count": 156,
   "metadata": {},
   "outputs": [
    {
     "name": "stdout",
     "output_type": "stream",
     "text": [
      "122\n",
      "-128\n"
     ]
    }
   ],
   "source": [
    "print(walks.max())\n",
    "print(walks.min())"
   ]
  },
  {
   "cell_type": "code",
   "execution_count": 157,
   "metadata": {},
   "outputs": [
    {
     "data": {
      "text/plain": [
       "array([ True,  True,  True, ...,  True, False,  True])"
      ]
     },
     "execution_count": 157,
     "metadata": {},
     "output_type": "execute_result"
    }
   ],
   "source": [
    "hits30 = (np.abs(walks) >= 30).any(1)\n",
    "hits30"
   ]
  },
  {
   "cell_type": "code",
   "execution_count": 158,
   "metadata": {},
   "outputs": [
    {
     "data": {
      "text/plain": [
       "3368"
      ]
     },
     "execution_count": 158,
     "metadata": {},
     "output_type": "execute_result"
    }
   ],
   "source": [
    "hits30.sum()"
   ]
  },
  {
   "cell_type": "code",
   "execution_count": 159,
   "metadata": {},
   "outputs": [
    {
     "data": {
      "text/plain": [
       "509.99762470308787"
      ]
     },
     "execution_count": 159,
     "metadata": {},
     "output_type": "execute_result"
    }
   ],
   "source": [
    "crossing_times = (np.abs(walks[hits30]) >= 30).argmax(1)\n",
    "crossing_times.mean()"
   ]
  },
  {
   "cell_type": "code",
   "execution_count": 160,
   "metadata": {},
   "outputs": [
    {
     "data": {
      "text/plain": [
       "array([[-0.20472197, -0.03407671, -0.24781626, ...,  0.22195392,\n",
       "         0.21250584,  0.43994277],\n",
       "       [-0.09066595,  0.04741116,  0.09872352, ...,  0.10684413,\n",
       "         0.2540548 , -0.22255203],\n",
       "       [ 0.00942324,  0.03418277, -0.42305453, ..., -0.05711872,\n",
       "        -0.11820873, -0.71117832],\n",
       "       ...,\n",
       "       [ 0.1230118 , -0.18155722,  0.12782267, ...,  0.0730254 ,\n",
       "         0.06546779,  0.47920034],\n",
       "       [-0.20550269,  0.16459572, -0.03138668, ...,  0.06915243,\n",
       "         0.07831634,  0.27554056],\n",
       "       [-0.23056172,  0.28924403,  0.08444807, ..., -0.27018412,\n",
       "        -0.02140732,  0.06343304]])"
      ]
     },
     "execution_count": 160,
     "metadata": {},
     "output_type": "execute_result"
    }
   ],
   "source": [
    "steps = np.random.normal(loc=0,scale=0.25,size=(nwalks,nsteps))\n",
    "steps"
   ]
  },
  {
   "cell_type": "markdown",
   "metadata": {},
   "source": [
    "# Apêndice A"
   ]
  },
  {
   "cell_type": "markdown",
   "metadata": {},
   "source": [
    "## NumPy avançado"
   ]
  },
  {
   "cell_type": "markdown",
   "metadata": {},
   "source": [
    "### Organização interna do ndarry"
   ]
  },
  {
   "cell_type": "code",
   "execution_count": 161,
   "metadata": {},
   "outputs": [
    {
     "name": "stdout",
     "output_type": "stream",
     "text": [
      "[[1. 1. 1. 1. 1.]\n",
      " [1. 1. 1. 1. 1.]\n",
      " [1. 1. 1. 1. 1.]\n",
      " [1. 1. 1. 1. 1.]\n",
      " [1. 1. 1. 1. 1.]\n",
      " [1. 1. 1. 1. 1.]\n",
      " [1. 1. 1. 1. 1.]\n",
      " [1. 1. 1. 1. 1.]\n",
      " [1. 1. 1. 1. 1.]\n",
      " [1. 1. 1. 1. 1.]]\n",
      "(10, 5)\n"
     ]
    }
   ],
   "source": [
    "arr = np.ones((10,5))\n",
    "print(arr)\n",
    "print(arr.shape)"
   ]
  },
  {
   "cell_type": "code",
   "execution_count": 162,
   "metadata": {},
   "outputs": [
    {
     "name": "stdout",
     "output_type": "stream",
     "text": [
      "[[[1. 1. 1. 1. 1.]\n",
      "  [1. 1. 1. 1. 1.]\n",
      "  [1. 1. 1. 1. 1.]\n",
      "  [1. 1. 1. 1. 1.]]\n",
      "\n",
      " [[1. 1. 1. 1. 1.]\n",
      "  [1. 1. 1. 1. 1.]\n",
      "  [1. 1. 1. 1. 1.]\n",
      "  [1. 1. 1. 1. 1.]]\n",
      "\n",
      " [[1. 1. 1. 1. 1.]\n",
      "  [1. 1. 1. 1. 1.]\n",
      "  [1. 1. 1. 1. 1.]\n",
      "  [1. 1. 1. 1. 1.]]]\n",
      "(3, 4, 5)\n",
      "(160, 40, 8)\n"
     ]
    }
   ],
   "source": [
    "arr = np.ones((3,4,5),dtype=np.float64)\n",
    "print(arr)\n",
    "print(arr.shape)\n",
    "print(arr.strides)"
   ]
  },
  {
   "cell_type": "markdown",
   "metadata": {},
   "source": [
    "## Manipulação avançada de arrays"
   ]
  },
  {
   "cell_type": "markdown",
   "metadata": {},
   "source": [
    "### Redefinindo o formato de arrays"
   ]
  },
  {
   "cell_type": "code",
   "execution_count": 163,
   "metadata": {},
   "outputs": [
    {
     "data": {
      "text/plain": [
       "array([0, 1, 2, 3, 4, 5, 6, 7])"
      ]
     },
     "execution_count": 163,
     "metadata": {},
     "output_type": "execute_result"
    }
   ],
   "source": [
    "arr = np.arange(8)\n",
    "arr"
   ]
  },
  {
   "cell_type": "code",
   "execution_count": 164,
   "metadata": {},
   "outputs": [
    {
     "data": {
      "text/plain": [
       "array([[0, 1],\n",
       "       [2, 3],\n",
       "       [4, 5],\n",
       "       [6, 7]])"
      ]
     },
     "execution_count": 164,
     "metadata": {},
     "output_type": "execute_result"
    }
   ],
   "source": [
    "arr.reshape((4,2))"
   ]
  },
  {
   "cell_type": "code",
   "execution_count": 165,
   "metadata": {},
   "outputs": [
    {
     "data": {
      "text/plain": [
       "array([ 0,  1,  2,  3,  4,  5,  6,  7,  8,  9, 10, 11])"
      ]
     },
     "execution_count": 165,
     "metadata": {},
     "output_type": "execute_result"
    }
   ],
   "source": [
    "arr = np.arange(12)\n",
    "arr"
   ]
  },
  {
   "cell_type": "code",
   "execution_count": 166,
   "metadata": {},
   "outputs": [
    {
     "data": {
      "text/plain": [
       "array([[ 0,  1,  2],\n",
       "       [ 3,  4,  5],\n",
       "       [ 6,  7,  8],\n",
       "       [ 9, 10, 11]])"
      ]
     },
     "execution_count": 166,
     "metadata": {},
     "output_type": "execute_result"
    }
   ],
   "source": [
    "arrC = arr.reshape((4,3),order='C')\n",
    "arrC"
   ]
  },
  {
   "cell_type": "code",
   "execution_count": 167,
   "metadata": {},
   "outputs": [
    {
     "data": {
      "text/plain": [
       "array([[ 0,  4,  8],\n",
       "       [ 1,  5,  9],\n",
       "       [ 2,  6, 10],\n",
       "       [ 3,  7, 11]])"
      ]
     },
     "execution_count": 167,
     "metadata": {},
     "output_type": "execute_result"
    }
   ],
   "source": [
    "arrF = arr.reshape((4,3),order='F')\n",
    "arrF"
   ]
  },
  {
   "cell_type": "code",
   "execution_count": 168,
   "metadata": {},
   "outputs": [
    {
     "data": {
      "text/plain": [
       "array([[0, 1, 2, 3],\n",
       "       [4, 5, 6, 7]])"
      ]
     },
     "execution_count": 168,
     "metadata": {},
     "output_type": "execute_result"
    }
   ],
   "source": [
    "np.arange(8).reshape((4,2)).reshape((2,4))"
   ]
  },
  {
   "cell_type": "code",
   "execution_count": 169,
   "metadata": {},
   "outputs": [
    {
     "data": {
      "text/plain": [
       "array([ 0,  1,  2,  3,  4,  5,  6,  7,  8,  9, 10, 11, 12, 13, 14])"
      ]
     },
     "execution_count": 169,
     "metadata": {},
     "output_type": "execute_result"
    }
   ],
   "source": [
    "arr = np.arange(15)\n",
    "arr"
   ]
  },
  {
   "cell_type": "code",
   "execution_count": 170,
   "metadata": {},
   "outputs": [
    {
     "data": {
      "text/plain": [
       "array([[ 0,  1,  2],\n",
       "       [ 3,  4,  5],\n",
       "       [ 6,  7,  8],\n",
       "       [ 9, 10, 11],\n",
       "       [12, 13, 14]])"
      ]
     },
     "execution_count": 170,
     "metadata": {},
     "output_type": "execute_result"
    }
   ],
   "source": [
    "arr.reshape((5,-1))"
   ]
  },
  {
   "cell_type": "code",
   "execution_count": 171,
   "metadata": {},
   "outputs": [
    {
     "data": {
      "text/plain": [
       "(3, 5)"
      ]
     },
     "execution_count": 171,
     "metadata": {},
     "output_type": "execute_result"
    }
   ],
   "source": [
    "other_arr = np.ones((3,5))\n",
    "other_arr.shape"
   ]
  },
  {
   "cell_type": "code",
   "execution_count": 172,
   "metadata": {},
   "outputs": [
    {
     "data": {
      "text/plain": [
       "array([[ 0,  1,  2,  3,  4],\n",
       "       [ 5,  6,  7,  8,  9],\n",
       "       [10, 11, 12, 13, 14]])"
      ]
     },
     "execution_count": 172,
     "metadata": {},
     "output_type": "execute_result"
    }
   ],
   "source": [
    "arr.reshape(other_arr.shape)"
   ]
  },
  {
   "cell_type": "code",
   "execution_count": 173,
   "metadata": {},
   "outputs": [
    {
     "data": {
      "text/plain": [
       "array([[ 0,  1,  2],\n",
       "       [ 3,  4,  5],\n",
       "       [ 6,  7,  8],\n",
       "       [ 9, 10, 11],\n",
       "       [12, 13, 14]])"
      ]
     },
     "execution_count": 173,
     "metadata": {},
     "output_type": "execute_result"
    }
   ],
   "source": [
    "arr = np.arange(15).reshape((5,3))\n",
    "arr"
   ]
  },
  {
   "cell_type": "code",
   "execution_count": 174,
   "metadata": {},
   "outputs": [
    {
     "data": {
      "text/plain": [
       "array([ 0,  1,  2,  3,  4,  5,  6,  7,  8,  9, 10, 11, 12, 13, 14])"
      ]
     },
     "execution_count": 174,
     "metadata": {},
     "output_type": "execute_result"
    }
   ],
   "source": [
    "arr.ravel()"
   ]
  },
  {
   "cell_type": "code",
   "execution_count": 175,
   "metadata": {},
   "outputs": [
    {
     "data": {
      "text/plain": [
       "array([ 0,  1,  2,  3,  4,  5,  6,  7,  8,  9, 10, 11, 12, 13, 14])"
      ]
     },
     "execution_count": 175,
     "metadata": {},
     "output_type": "execute_result"
    }
   ],
   "source": [
    "arr.flatten()"
   ]
  },
  {
   "cell_type": "markdown",
   "metadata": {},
   "source": [
    "### Ordem C vs. Ordem F"
   ]
  },
  {
   "cell_type": "code",
   "execution_count": 176,
   "metadata": {},
   "outputs": [
    {
     "data": {
      "text/plain": [
       "array([[ 0,  1,  2,  3],\n",
       "       [ 4,  5,  6,  7],\n",
       "       [ 8,  9, 10, 11]])"
      ]
     },
     "execution_count": 176,
     "metadata": {},
     "output_type": "execute_result"
    }
   ],
   "source": [
    "arr = np.arange(12).reshape((3,4))\n",
    "arr"
   ]
  },
  {
   "cell_type": "code",
   "execution_count": 177,
   "metadata": {},
   "outputs": [
    {
     "data": {
      "text/plain": [
       "array([ 0,  1,  2,  3,  4,  5,  6,  7,  8,  9, 10, 11])"
      ]
     },
     "execution_count": 177,
     "metadata": {},
     "output_type": "execute_result"
    }
   ],
   "source": [
    "arr.ravel()"
   ]
  },
  {
   "cell_type": "code",
   "execution_count": 178,
   "metadata": {},
   "outputs": [
    {
     "data": {
      "text/plain": [
       "array([ 0,  4,  8,  1,  5,  9,  2,  6, 10,  3,  7, 11])"
      ]
     },
     "execution_count": 178,
     "metadata": {},
     "output_type": "execute_result"
    }
   ],
   "source": [
    "arr.ravel('F')"
   ]
  },
  {
   "cell_type": "markdown",
   "metadata": {},
   "source": [
    "### Concatenando e separando arrays"
   ]
  },
  {
   "cell_type": "code",
   "execution_count": 179,
   "metadata": {},
   "outputs": [
    {
     "data": {
      "text/plain": [
       "array([[ 1,  2,  3],\n",
       "       [ 4,  5,  6],\n",
       "       [ 7,  8,  9],\n",
       "       [10, 11, 12]])"
      ]
     },
     "execution_count": 179,
     "metadata": {},
     "output_type": "execute_result"
    }
   ],
   "source": [
    "arr1 = np.array([[1,2,3],[4,5,6]])\n",
    "\n",
    "arr2 = np.array([[7,8,9],[10,11,12]])\n",
    "\n",
    "np.concatenate([arr1,arr2],axis=0)"
   ]
  },
  {
   "cell_type": "code",
   "execution_count": 180,
   "metadata": {},
   "outputs": [
    {
     "data": {
      "text/plain": [
       "array([[ 1,  2,  3,  7,  8,  9],\n",
       "       [ 4,  5,  6, 10, 11, 12]])"
      ]
     },
     "execution_count": 180,
     "metadata": {},
     "output_type": "execute_result"
    }
   ],
   "source": [
    "np.concatenate([arr1,arr2],axis=1)"
   ]
  },
  {
   "cell_type": "code",
   "execution_count": 181,
   "metadata": {},
   "outputs": [
    {
     "data": {
      "text/plain": [
       "array([[ 1,  2,  3],\n",
       "       [ 4,  5,  6],\n",
       "       [ 7,  8,  9],\n",
       "       [10, 11, 12]])"
      ]
     },
     "execution_count": 181,
     "metadata": {},
     "output_type": "execute_result"
    }
   ],
   "source": [
    "np.vstack([arr1,arr2])"
   ]
  },
  {
   "cell_type": "code",
   "execution_count": 182,
   "metadata": {},
   "outputs": [
    {
     "data": {
      "text/plain": [
       "array([[ 1,  2,  3,  7,  8,  9],\n",
       "       [ 4,  5,  6, 10, 11, 12]])"
      ]
     },
     "execution_count": 182,
     "metadata": {},
     "output_type": "execute_result"
    }
   ],
   "source": [
    "np.hstack([arr1,arr2])"
   ]
  },
  {
   "cell_type": "code",
   "execution_count": 183,
   "metadata": {},
   "outputs": [
    {
     "data": {
      "text/plain": [
       "array([[ 1.374539  , -0.22089645],\n",
       "       [ 0.2033362 ,  0.37853558],\n",
       "       [-0.18715251,  1.9800032 ],\n",
       "       [ 0.21138173,  0.28543204],\n",
       "       [-0.94169959, -1.68926155]])"
      ]
     },
     "execution_count": 183,
     "metadata": {},
     "output_type": "execute_result"
    }
   ],
   "source": [
    "arr = np.random.randn(5,2)\n",
    "\n",
    "arr"
   ]
  },
  {
   "cell_type": "code",
   "execution_count": 184,
   "metadata": {},
   "outputs": [
    {
     "name": "stdout",
     "output_type": "stream",
     "text": [
      "1: [[ 1.374539   -0.22089645]]\n",
      "2: [[ 0.2033362   0.37853558]\n",
      " [-0.18715251  1.9800032 ]]\n",
      "3: [[ 0.21138173  0.28543204]\n",
      " [-0.94169959 -1.68926155]]\n"
     ]
    }
   ],
   "source": [
    "first, second, third = np.split(arr,[1,3])\n",
    "\n",
    "print('1:',first)\n",
    "print('2:',second)\n",
    "print('3:',third)"
   ]
  },
  {
   "cell_type": "markdown",
   "metadata": {},
   "source": [
    "### Auxiliares para empilhameno: r_ e c_"
   ]
  },
  {
   "cell_type": "code",
   "execution_count": 185,
   "metadata": {},
   "outputs": [
    {
     "data": {
      "text/plain": [
       "array([[ 0.        ,  1.        ],\n",
       "       [ 2.        ,  3.        ],\n",
       "       [ 4.        ,  5.        ],\n",
       "       [ 1.29727596, -0.09467522],\n",
       "       [ 0.06723004, -0.22370302],\n",
       "       [ 0.7003722 , -0.6800831 ]])"
      ]
     },
     "execution_count": 185,
     "metadata": {},
     "output_type": "execute_result"
    }
   ],
   "source": [
    "arr = np.arange(6)\n",
    "\n",
    "arr1 = arr.reshape((3,2))\n",
    "\n",
    "arr2 = np.random.randn(3,2)\n",
    "\n",
    "np.r_[arr1,arr2]"
   ]
  },
  {
   "cell_type": "code",
   "execution_count": 186,
   "metadata": {},
   "outputs": [
    {
     "data": {
      "text/plain": [
       "array([[ 0.        ,  1.        ,  0.        ],\n",
       "       [ 2.        ,  3.        ,  1.        ],\n",
       "       [ 4.        ,  5.        ,  2.        ],\n",
       "       [ 1.29727596, -0.09467522,  3.        ],\n",
       "       [ 0.06723004, -0.22370302,  4.        ],\n",
       "       [ 0.7003722 , -0.6800831 ,  5.        ]])"
      ]
     },
     "execution_count": 186,
     "metadata": {},
     "output_type": "execute_result"
    }
   ],
   "source": [
    "np.c_[np.r_[arr1,arr2],arr]"
   ]
  },
  {
   "cell_type": "code",
   "execution_count": 187,
   "metadata": {},
   "outputs": [
    {
     "data": {
      "text/plain": [
       "array([[  1, -10],\n",
       "       [  2,  -9],\n",
       "       [  3,  -8],\n",
       "       [  4,  -7],\n",
       "       [  5,  -6]])"
      ]
     },
     "execution_count": 187,
     "metadata": {},
     "output_type": "execute_result"
    }
   ],
   "source": [
    "np.c_[1:6,-10:-5]"
   ]
  },
  {
   "cell_type": "markdown",
   "metadata": {},
   "source": [
    "### Repetindo elementos: tile e repeat"
   ]
  },
  {
   "cell_type": "code",
   "execution_count": 188,
   "metadata": {},
   "outputs": [
    {
     "data": {
      "text/plain": [
       "array([0, 1, 2])"
      ]
     },
     "execution_count": 188,
     "metadata": {},
     "output_type": "execute_result"
    }
   ],
   "source": [
    "arr = np.arange(3)\n",
    "arr"
   ]
  },
  {
   "cell_type": "code",
   "execution_count": 189,
   "metadata": {},
   "outputs": [
    {
     "data": {
      "text/plain": [
       "array([0, 0, 0, 1, 1, 1, 2, 2, 2])"
      ]
     },
     "execution_count": 189,
     "metadata": {},
     "output_type": "execute_result"
    }
   ],
   "source": [
    "arr.repeat(3)"
   ]
  },
  {
   "cell_type": "code",
   "execution_count": 190,
   "metadata": {},
   "outputs": [
    {
     "data": {
      "text/plain": [
       "array([0, 0, 1, 1, 1, 1, 2, 2, 2, 2, 2, 2, 2, 2])"
      ]
     },
     "execution_count": 190,
     "metadata": {},
     "output_type": "execute_result"
    }
   ],
   "source": [
    "arr.repeat([2,4,8])"
   ]
  },
  {
   "cell_type": "code",
   "execution_count": 191,
   "metadata": {},
   "outputs": [
    {
     "data": {
      "text/plain": [
       "array([[ 1.84276239,  0.00544043],\n",
       "       [-0.68588301, -1.47789373]])"
      ]
     },
     "execution_count": 191,
     "metadata": {},
     "output_type": "execute_result"
    }
   ],
   "source": [
    "arr = np.random.randn(2,2)\n",
    "arr"
   ]
  },
  {
   "cell_type": "code",
   "execution_count": 192,
   "metadata": {},
   "outputs": [
    {
     "data": {
      "text/plain": [
       "array([[ 1.84276239,  0.00544043],\n",
       "       [ 1.84276239,  0.00544043],\n",
       "       [-0.68588301, -1.47789373],\n",
       "       [-0.68588301, -1.47789373]])"
      ]
     },
     "execution_count": 192,
     "metadata": {},
     "output_type": "execute_result"
    }
   ],
   "source": [
    "arr.repeat(2,axis=0)"
   ]
  },
  {
   "cell_type": "code",
   "execution_count": 193,
   "metadata": {},
   "outputs": [
    {
     "data": {
      "text/plain": [
       "array([[ 1.84276239,  0.00544043],\n",
       "       [ 1.84276239,  0.00544043],\n",
       "       [-0.68588301, -1.47789373],\n",
       "       [-0.68588301, -1.47789373],\n",
       "       [-0.68588301, -1.47789373]])"
      ]
     },
     "execution_count": 193,
     "metadata": {},
     "output_type": "execute_result"
    }
   ],
   "source": [
    "arr.repeat([2,3],axis=0)"
   ]
  },
  {
   "cell_type": "code",
   "execution_count": 194,
   "metadata": {},
   "outputs": [
    {
     "data": {
      "text/plain": [
       "array([[ 1.84276239,  1.84276239,  0.00544043,  0.00544043,  0.00544043],\n",
       "       [-0.68588301, -0.68588301, -1.47789373, -1.47789373, -1.47789373]])"
      ]
     },
     "execution_count": 194,
     "metadata": {},
     "output_type": "execute_result"
    }
   ],
   "source": [
    "arr.repeat([2,3],axis=1)"
   ]
  },
  {
   "cell_type": "code",
   "execution_count": 195,
   "metadata": {},
   "outputs": [
    {
     "data": {
      "text/plain": [
       "array([[ 1.84276239,  0.00544043],\n",
       "       [-0.68588301, -1.47789373]])"
      ]
     },
     "execution_count": 195,
     "metadata": {},
     "output_type": "execute_result"
    }
   ],
   "source": [
    "arr"
   ]
  },
  {
   "cell_type": "code",
   "execution_count": 196,
   "metadata": {},
   "outputs": [
    {
     "data": {
      "text/plain": [
       "array([[ 1.84276239,  0.00544043,  1.84276239,  0.00544043],\n",
       "       [-0.68588301, -1.47789373, -0.68588301, -1.47789373]])"
      ]
     },
     "execution_count": 196,
     "metadata": {},
     "output_type": "execute_result"
    }
   ],
   "source": [
    "np.tile(arr,2)"
   ]
  },
  {
   "cell_type": "code",
   "execution_count": 197,
   "metadata": {},
   "outputs": [
    {
     "data": {
      "text/plain": [
       "array([[ 1.84276239,  0.00544043],\n",
       "       [-0.68588301, -1.47789373],\n",
       "       [ 1.84276239,  0.00544043],\n",
       "       [-0.68588301, -1.47789373]])"
      ]
     },
     "execution_count": 197,
     "metadata": {},
     "output_type": "execute_result"
    }
   ],
   "source": [
    "np.tile(arr,(2,1))"
   ]
  },
  {
   "cell_type": "code",
   "execution_count": 198,
   "metadata": {},
   "outputs": [
    {
     "data": {
      "text/plain": [
       "array([[ 1.84276239,  0.00544043,  1.84276239,  0.00544043],\n",
       "       [-0.68588301, -1.47789373, -0.68588301, -1.47789373],\n",
       "       [ 1.84276239,  0.00544043,  1.84276239,  0.00544043],\n",
       "       [-0.68588301, -1.47789373, -0.68588301, -1.47789373],\n",
       "       [ 1.84276239,  0.00544043,  1.84276239,  0.00544043],\n",
       "       [-0.68588301, -1.47789373, -0.68588301, -1.47789373]])"
      ]
     },
     "execution_count": 198,
     "metadata": {},
     "output_type": "execute_result"
    }
   ],
   "source": [
    "np.tile(arr,(3,2))"
   ]
  },
  {
   "cell_type": "markdown",
   "metadata": {},
   "source": [
    "### Equivalentes à indexação sofisticada: take e put"
   ]
  },
  {
   "cell_type": "code",
   "execution_count": 199,
   "metadata": {},
   "outputs": [
    {
     "data": {
      "text/plain": [
       "array([  0, 100, 200, 300, 400, 500, 600, 700, 800, 900])"
      ]
     },
     "execution_count": 199,
     "metadata": {},
     "output_type": "execute_result"
    }
   ],
   "source": [
    "arr = np.arange(10)*100\n",
    "arr"
   ]
  },
  {
   "cell_type": "code",
   "execution_count": 200,
   "metadata": {},
   "outputs": [
    {
     "data": {
      "text/plain": [
       "array([700, 100, 200, 600])"
      ]
     },
     "execution_count": 200,
     "metadata": {},
     "output_type": "execute_result"
    }
   ],
   "source": [
    "inds = [7,1,2,6]\n",
    "\n",
    "arr[inds]"
   ]
  },
  {
   "cell_type": "code",
   "execution_count": 201,
   "metadata": {},
   "outputs": [
    {
     "data": {
      "text/plain": [
       "array([700, 100, 200, 600])"
      ]
     },
     "execution_count": 201,
     "metadata": {},
     "output_type": "execute_result"
    }
   ],
   "source": [
    "arr.take(inds)"
   ]
  },
  {
   "cell_type": "code",
   "execution_count": 202,
   "metadata": {},
   "outputs": [],
   "source": [
    "arr.put(inds,42)"
   ]
  },
  {
   "cell_type": "code",
   "execution_count": 203,
   "metadata": {},
   "outputs": [
    {
     "data": {
      "text/plain": [
       "array([  0,  42,  42, 300, 400, 500,  42,  42, 800, 900])"
      ]
     },
     "execution_count": 203,
     "metadata": {},
     "output_type": "execute_result"
    }
   ],
   "source": [
    "arr"
   ]
  },
  {
   "cell_type": "code",
   "execution_count": 204,
   "metadata": {},
   "outputs": [
    {
     "data": {
      "text/plain": [
       "array([[0.77138757, 0.99522873, 0.50364382, 1.30309505],\n",
       "       [0.45890076, 0.31276677, 1.16797754, 1.64432161]])"
      ]
     },
     "execution_count": 204,
     "metadata": {},
     "output_type": "execute_result"
    }
   ],
   "source": [
    "inds = [2,0,2,1]\n",
    "\n",
    "arr = np.random.randn(2,4)\n",
    "\n",
    "arr"
   ]
  },
  {
   "cell_type": "code",
   "execution_count": 205,
   "metadata": {},
   "outputs": [
    {
     "data": {
      "text/plain": [
       "array([[0.50364382, 0.77138757, 0.50364382, 0.99522873],\n",
       "       [1.16797754, 0.45890076, 1.16797754, 0.31276677]])"
      ]
     },
     "execution_count": 205,
     "metadata": {},
     "output_type": "execute_result"
    }
   ],
   "source": [
    "arr.take(inds,axis=1)"
   ]
  },
  {
   "cell_type": "markdown",
   "metadata": {},
   "source": [
    "## Broadcasting"
   ]
  },
  {
   "cell_type": "code",
   "execution_count": 206,
   "metadata": {},
   "outputs": [
    {
     "data": {
      "text/plain": [
       "array([0, 1, 2, 3, 4])"
      ]
     },
     "execution_count": 206,
     "metadata": {},
     "output_type": "execute_result"
    }
   ],
   "source": [
    "arr  = np.arange(5)\n",
    "arr"
   ]
  },
  {
   "cell_type": "code",
   "execution_count": 207,
   "metadata": {},
   "outputs": [
    {
     "data": {
      "text/plain": [
       "array([ 0,  4,  8, 12, 16])"
      ]
     },
     "execution_count": 207,
     "metadata": {},
     "output_type": "execute_result"
    }
   ],
   "source": [
    "arr * 4"
   ]
  },
  {
   "cell_type": "code",
   "execution_count": 208,
   "metadata": {},
   "outputs": [
    {
     "data": {
      "text/plain": [
       "array([[-1.50425713,  1.02432643,  0.3252209 ],\n",
       "       [ 0.31773064,  0.20440169, -0.45799235],\n",
       "       [ 1.04528636, -1.05287145, -0.53436301],\n",
       "       [ 0.322927  ,  0.58075883, -0.56943317]])"
      ]
     },
     "execution_count": 208,
     "metadata": {},
     "output_type": "execute_result"
    }
   ],
   "source": [
    "arr = np.random.randn(4,3)\n",
    "arr"
   ]
  },
  {
   "cell_type": "code",
   "execution_count": 209,
   "metadata": {},
   "outputs": [
    {
     "data": {
      "text/plain": [
       "array([ 0.04542172,  0.18915387, -0.30914191])"
      ]
     },
     "execution_count": 209,
     "metadata": {},
     "output_type": "execute_result"
    }
   ],
   "source": [
    "arr.mean(0)"
   ]
  },
  {
   "cell_type": "code",
   "execution_count": 210,
   "metadata": {},
   "outputs": [
    {
     "data": {
      "text/plain": [
       "array([[-1.54967884,  0.83517255,  0.63436281],\n",
       "       [ 0.27230892,  0.01524781, -0.14885045],\n",
       "       [ 0.99986464, -1.24202532, -0.2252211 ],\n",
       "       [ 0.27750528,  0.39160496, -0.26029126]])"
      ]
     },
     "execution_count": 210,
     "metadata": {},
     "output_type": "execute_result"
    }
   ],
   "source": [
    "demeaned = arr - arr.mean(0)\n",
    "demeaned"
   ]
  },
  {
   "cell_type": "code",
   "execution_count": 211,
   "metadata": {},
   "outputs": [
    {
     "data": {
      "text/plain": [
       "array([ 2.77555756e-17, -2.77555756e-17, -2.77555756e-17])"
      ]
     },
     "execution_count": 211,
     "metadata": {},
     "output_type": "execute_result"
    }
   ],
   "source": [
    "demeaned.mean(0)"
   ]
  },
  {
   "cell_type": "code",
   "execution_count": 212,
   "metadata": {},
   "outputs": [
    {
     "data": {
      "text/plain": [
       "array([[-1.50425713,  1.02432643,  0.3252209 ],\n",
       "       [ 0.31773064,  0.20440169, -0.45799235],\n",
       "       [ 1.04528636, -1.05287145, -0.53436301],\n",
       "       [ 0.322927  ,  0.58075883, -0.56943317]])"
      ]
     },
     "execution_count": 212,
     "metadata": {},
     "output_type": "execute_result"
    }
   ],
   "source": [
    "arr"
   ]
  },
  {
   "cell_type": "code",
   "execution_count": 213,
   "metadata": {},
   "outputs": [
    {
     "data": {
      "text/plain": [
       "(4,)"
      ]
     },
     "execution_count": 213,
     "metadata": {},
     "output_type": "execute_result"
    }
   ],
   "source": [
    "row_means = arr.mean(1)\n",
    "row_means.shape"
   ]
  },
  {
   "cell_type": "code",
   "execution_count": 214,
   "metadata": {},
   "outputs": [
    {
     "data": {
      "text/plain": [
       "array([[-0.05156993],\n",
       "       [ 0.02137999],\n",
       "       [-0.18064936],\n",
       "       [ 0.11141756]])"
      ]
     },
     "execution_count": 214,
     "metadata": {},
     "output_type": "execute_result"
    }
   ],
   "source": [
    "row_means.reshape((4,1))"
   ]
  },
  {
   "cell_type": "code",
   "execution_count": 215,
   "metadata": {},
   "outputs": [
    {
     "data": {
      "text/plain": [
       "array([1.85037171e-17, 0.00000000e+00, 0.00000000e+00, 0.00000000e+00])"
      ]
     },
     "execution_count": 215,
     "metadata": {},
     "output_type": "execute_result"
    }
   ],
   "source": [
    "demeaned = arr - row_means.reshape((4,1))\n",
    "demeaned.mean(1)"
   ]
  },
  {
   "cell_type": "code",
   "execution_count": 216,
   "metadata": {},
   "outputs": [
    {
     "data": {
      "text/plain": [
       "array([[0., 0., 0., 0.],\n",
       "       [0., 0., 0., 0.],\n",
       "       [0., 0., 0., 0.],\n",
       "       [0., 0., 0., 0.]])"
      ]
     },
     "execution_count": 216,
     "metadata": {},
     "output_type": "execute_result"
    }
   ],
   "source": [
    "arr = np.zeros((4,4))\n",
    "arr"
   ]
  },
  {
   "cell_type": "code",
   "execution_count": 217,
   "metadata": {},
   "outputs": [
    {
     "name": "stdout",
     "output_type": "stream",
     "text": [
      "(4, 1, 4)\n",
      "[[[0. 0. 0. 0.]]\n",
      "\n",
      " [[0. 0. 0. 0.]]\n",
      "\n",
      " [[0. 0. 0. 0.]]\n",
      "\n",
      " [[0. 0. 0. 0.]]]\n"
     ]
    }
   ],
   "source": [
    "arr_3d = arr[:,np.newaxis,:]\n",
    "print(arr_3d.shape)\n",
    "print(arr_3d)"
   ]
  },
  {
   "cell_type": "code",
   "execution_count": 218,
   "metadata": {},
   "outputs": [
    {
     "data": {
      "text/plain": [
       "array([-0.16731664, -0.47472061,  1.32260383])"
      ]
     },
     "execution_count": 218,
     "metadata": {},
     "output_type": "execute_result"
    }
   ],
   "source": [
    "arr_1d = np.random.normal(size=3)\n",
    "arr_1d"
   ]
  },
  {
   "cell_type": "code",
   "execution_count": 219,
   "metadata": {},
   "outputs": [
    {
     "data": {
      "text/plain": [
       "array([[-0.16731664],\n",
       "       [-0.47472061],\n",
       "       [ 1.32260383]])"
      ]
     },
     "execution_count": 219,
     "metadata": {},
     "output_type": "execute_result"
    }
   ],
   "source": [
    "arr_1d[:,np.newaxis]"
   ]
  },
  {
   "cell_type": "code",
   "execution_count": 220,
   "metadata": {},
   "outputs": [
    {
     "data": {
      "text/plain": [
       "array([[-0.16731664, -0.47472061,  1.32260383]])"
      ]
     },
     "execution_count": 220,
     "metadata": {},
     "output_type": "execute_result"
    }
   ],
   "source": [
    "arr_1d[np.newaxis,:]"
   ]
  },
  {
   "cell_type": "code",
   "execution_count": 221,
   "metadata": {},
   "outputs": [
    {
     "data": {
      "text/plain": [
       "array([[[ 3.10207445e-01, -3.43581815e-01, -1.28361792e+00,\n",
       "          1.23902580e+00,  3.27477093e-01],\n",
       "        [-1.93552926e+00,  1.82367388e-03, -9.42495692e-01,\n",
       "         -2.52880009e-01,  1.53883585e+00],\n",
       "        [-5.82154770e-01, -1.05618890e+00,  9.78882802e-01,\n",
       "         -2.64583483e-01, -2.06998304e+00],\n",
       "        [-3.54248557e-01,  6.11931065e-01,  3.74505584e-01,\n",
       "         -1.14323099e-01,  5.56416859e-01]],\n",
       "\n",
       "       [[ 2.78028837e-01,  1.00024294e+00, -8.23697665e-01,\n",
       "         -1.75012790e-01,  5.52152188e-01],\n",
       "        [ 2.30698226e-01,  3.18850369e-01,  1.53891189e-01,\n",
       "         -9.97141645e-02, -9.42533581e-01],\n",
       "        [-2.92329321e-01,  9.78830538e-03,  1.77409597e-01,\n",
       "         -6.76485604e-01,  5.57067227e-01],\n",
       "        [ 7.57325297e-01, -9.03662487e-01, -5.36156356e-01,\n",
       "          7.37045896e-01,  4.52339600e-01]],\n",
       "\n",
       "       [[-4.68723542e-01, -7.72265275e-01, -8.41337092e-01,\n",
       "          3.60891010e-01, -2.78731687e-01],\n",
       "        [-9.13587474e-02, -5.65847176e-01, -1.80652890e+00,\n",
       "          1.37574038e-01, -7.90157842e-01],\n",
       "        [-3.47537142e-01,  5.09606319e-01, -1.45589582e+00,\n",
       "          4.99314525e-01,  1.42249932e+00],\n",
       "        [-3.22917694e-01, -1.11940701e+00,  2.37134675e+00,\n",
       "         -9.04586694e-01,  9.66219754e-01]]])"
      ]
     },
     "execution_count": 221,
     "metadata": {},
     "output_type": "execute_result"
    }
   ],
   "source": [
    "arr = np.random.randn(3,4,5)\n",
    "arr"
   ]
  },
  {
   "cell_type": "code",
   "execution_count": 222,
   "metadata": {},
   "outputs": [
    {
     "data": {
      "text/plain": [
       "array([[ 0.04990212, -0.31804909, -0.59880548,  0.21485637],\n",
       "       [ 0.1663427 , -0.06776159, -0.04490996,  0.10137839],\n",
       "       [-0.40003332, -0.62326373,  0.12559744,  0.19813102]])"
      ]
     },
     "execution_count": 222,
     "metadata": {},
     "output_type": "execute_result"
    }
   ],
   "source": [
    "depth_means = arr.mean(2)\n",
    "depth_means"
   ]
  },
  {
   "cell_type": "code",
   "execution_count": 223,
   "metadata": {},
   "outputs": [
    {
     "data": {
      "text/plain": [
       "(3, 4)"
      ]
     },
     "execution_count": 223,
     "metadata": {},
     "output_type": "execute_result"
    }
   ],
   "source": [
    "depth_means.shape"
   ]
  },
  {
   "cell_type": "code",
   "execution_count": 224,
   "metadata": {},
   "outputs": [
    {
     "data": {
      "text/plain": [
       "array([[[ 0.26030533, -0.39348393, -1.33352004,  1.18912368,\n",
       "          0.27757497],\n",
       "        [-1.61748017,  0.31987276, -0.6244466 ,  0.06516908,\n",
       "          1.85688494],\n",
       "        [ 0.01665071, -0.45738342,  1.57768828,  0.334222  ,\n",
       "         -1.47117756],\n",
       "        [-0.56910493,  0.39707469,  0.15964921, -0.32917947,\n",
       "          0.34156049]],\n",
       "\n",
       "       [[ 0.11168613,  0.83390024, -0.99004037, -0.34135549,\n",
       "          0.38580949],\n",
       "        [ 0.29845982,  0.38661196,  0.22165278, -0.03195257,\n",
       "         -0.87477199],\n",
       "        [-0.24741936,  0.05469826,  0.22231956, -0.63157565,\n",
       "          0.60197719],\n",
       "        [ 0.65594691, -1.00504088, -0.63753475,  0.63566751,\n",
       "          0.35096121]],\n",
       "\n",
       "       [[-0.06869022, -0.37223196, -0.44130377,  0.76092433,\n",
       "          0.12130163],\n",
       "        [ 0.53190498,  0.05741655, -1.18326517,  0.76083776,\n",
       "         -0.16689412],\n",
       "        [-0.47313458,  0.38400888, -1.58149326,  0.37371708,\n",
       "          1.29690188],\n",
       "        [-0.52104872, -1.31753803,  2.17321573, -1.10271772,\n",
       "          0.76808873]]])"
      ]
     },
     "execution_count": 224,
     "metadata": {},
     "output_type": "execute_result"
    }
   ],
   "source": [
    "demeaned = arr - depth_means[:,:,np.newaxis]\n",
    "demeaned"
   ]
  },
  {
   "cell_type": "code",
   "execution_count": 225,
   "metadata": {},
   "outputs": [
    {
     "data": {
      "text/plain": [
       "array([[-2.22044605e-17,  0.00000000e+00, -4.44089210e-17,\n",
       "         2.22044605e-17],\n",
       "       [ 4.44089210e-17,  0.00000000e+00, -2.22044605e-17,\n",
       "         0.00000000e+00],\n",
       "       [ 4.44089210e-17,  0.00000000e+00, -8.88178420e-17,\n",
       "         0.00000000e+00]])"
      ]
     },
     "execution_count": 225,
     "metadata": {},
     "output_type": "execute_result"
    }
   ],
   "source": [
    "demeaned.mean(2)"
   ]
  },
  {
   "cell_type": "code",
   "execution_count": 226,
   "metadata": {},
   "outputs": [],
   "source": [
    "def demean_axis(arr, axis=0):\n",
    "    means = arr.mean(axis)\n",
    "\n",
    "    # Generaliza algo como [:,:,np.newaxis] para N dimensões\n",
    "    indexer = [slice(None)] * arr.ndim\n",
    "    indexer[axis] = np.newaxis\n",
    "    return arr - means[indexer]"
   ]
  },
  {
   "cell_type": "markdown",
   "metadata": {},
   "source": [
    "### Definindo valores de array para broadcasting"
   ]
  },
  {
   "cell_type": "code",
   "execution_count": 227,
   "metadata": {},
   "outputs": [
    {
     "data": {
      "text/plain": [
       "array([[0., 0., 0.],\n",
       "       [0., 0., 0.],\n",
       "       [0., 0., 0.],\n",
       "       [0., 0., 0.]])"
      ]
     },
     "execution_count": 227,
     "metadata": {},
     "output_type": "execute_result"
    }
   ],
   "source": [
    "arr = np.zeros((4,3))\n",
    "arr"
   ]
  },
  {
   "cell_type": "code",
   "execution_count": 228,
   "metadata": {},
   "outputs": [
    {
     "data": {
      "text/plain": [
       "array([[5., 5., 5.],\n",
       "       [5., 5., 5.],\n",
       "       [5., 5., 5.],\n",
       "       [5., 5., 5.]])"
      ]
     },
     "execution_count": 228,
     "metadata": {},
     "output_type": "execute_result"
    }
   ],
   "source": [
    "arr[:] = 5\n",
    "arr"
   ]
  },
  {
   "cell_type": "code",
   "execution_count": 229,
   "metadata": {},
   "outputs": [
    {
     "data": {
      "text/plain": [
       "array([[ 1.28,  1.28,  1.28],\n",
       "       [-0.42, -0.42, -0.42],\n",
       "       [ 0.44,  0.44,  0.44],\n",
       "       [ 1.6 ,  1.6 ,  1.6 ]])"
      ]
     },
     "execution_count": 229,
     "metadata": {},
     "output_type": "execute_result"
    }
   ],
   "source": [
    "col = np.array([1.28,-0.42,0.44,1.6])\n",
    "\n",
    "arr[:] = col[:,np.newaxis]\n",
    "\n",
    "arr"
   ]
  },
  {
   "cell_type": "code",
   "execution_count": 230,
   "metadata": {},
   "outputs": [
    {
     "data": {
      "text/plain": [
       "array([[-1.38 , -1.38 , -1.38 ],\n",
       "       [ 0.509,  0.509,  0.509],\n",
       "       [ 0.44 ,  0.44 ,  0.44 ],\n",
       "       [ 1.6  ,  1.6  ,  1.6  ]])"
      ]
     },
     "execution_count": 230,
     "metadata": {},
     "output_type": "execute_result"
    }
   ],
   "source": [
    "arr[:2] = [[-1.38],[0.509]]\n",
    "arr"
   ]
  },
  {
   "cell_type": "markdown",
   "metadata": {},
   "source": [
    "## Usos avançados de ufuncs"
   ]
  },
  {
   "cell_type": "markdown",
   "metadata": {},
   "source": [
    "### Métodos de instância de ufuncs"
   ]
  },
  {
   "cell_type": "code",
   "execution_count": 231,
   "metadata": {},
   "outputs": [
    {
     "data": {
      "text/plain": [
       "array([0, 1, 2, 3, 4, 5, 6, 7, 8, 9])"
      ]
     },
     "execution_count": 231,
     "metadata": {},
     "output_type": "execute_result"
    }
   ],
   "source": [
    "arr = np.arange(10)\n",
    "arr"
   ]
  },
  {
   "cell_type": "code",
   "execution_count": 232,
   "metadata": {},
   "outputs": [
    {
     "data": {
      "text/plain": [
       "45"
      ]
     },
     "execution_count": 232,
     "metadata": {},
     "output_type": "execute_result"
    }
   ],
   "source": [
    "np.add.reduce(arr)"
   ]
  },
  {
   "cell_type": "code",
   "execution_count": 233,
   "metadata": {},
   "outputs": [
    {
     "data": {
      "text/plain": [
       "45"
      ]
     },
     "execution_count": 233,
     "metadata": {},
     "output_type": "execute_result"
    }
   ],
   "source": [
    "arr.sum()"
   ]
  },
  {
   "cell_type": "code",
   "execution_count": 234,
   "metadata": {},
   "outputs": [
    {
     "data": {
      "text/plain": [
       "array([[ True,  True,  True,  True],\n",
       "       [False,  True, False, False],\n",
       "       [ True,  True,  True,  True],\n",
       "       [ True, False,  True,  True],\n",
       "       [ True,  True,  True,  True]])"
      ]
     },
     "execution_count": 234,
     "metadata": {},
     "output_type": "execute_result"
    }
   ],
   "source": [
    "np.random.seed(12346)\n",
    "arr = np.random.randn(5,5)\n",
    "arr[::2].sort(1)\n",
    "arr[:,:-1] < arr[:,1:]"
   ]
  },
  {
   "cell_type": "code",
   "execution_count": 235,
   "metadata": {},
   "outputs": [
    {
     "data": {
      "text/plain": [
       "array([ True, False,  True, False,  True])"
      ]
     },
     "execution_count": 235,
     "metadata": {},
     "output_type": "execute_result"
    }
   ],
   "source": [
    "np.logical_and.reduce(arr[:,:-1] < arr[:,1:], axis=1)"
   ]
  },
  {
   "cell_type": "code",
   "execution_count": 236,
   "metadata": {},
   "outputs": [
    {
     "data": {
      "text/plain": [
       "array([[ 0,  1,  2,  3,  4],\n",
       "       [ 5,  6,  7,  8,  9],\n",
       "       [10, 11, 12, 13, 14]])"
      ]
     },
     "execution_count": 236,
     "metadata": {},
     "output_type": "execute_result"
    }
   ],
   "source": [
    "arr = np.arange(15).reshape((3,5))\n",
    "arr"
   ]
  },
  {
   "cell_type": "code",
   "execution_count": 237,
   "metadata": {},
   "outputs": [
    {
     "data": {
      "text/plain": [
       "array([[ 0,  1,  3,  6, 10],\n",
       "       [ 5, 11, 18, 26, 35],\n",
       "       [10, 21, 33, 46, 60]])"
      ]
     },
     "execution_count": 237,
     "metadata": {},
     "output_type": "execute_result"
    }
   ],
   "source": [
    "np.add.accumulate(arr,axis=1)"
   ]
  },
  {
   "cell_type": "code",
   "execution_count": 238,
   "metadata": {},
   "outputs": [
    {
     "data": {
      "text/plain": [
       "array([0, 1, 1, 2, 2])"
      ]
     },
     "execution_count": 238,
     "metadata": {},
     "output_type": "execute_result"
    }
   ],
   "source": [
    "arr = np.arange(3).repeat([1,2,2])\n",
    "arr"
   ]
  },
  {
   "cell_type": "code",
   "execution_count": 239,
   "metadata": {},
   "outputs": [
    {
     "data": {
      "text/plain": [
       "array([[0, 0, 0, 0, 0],\n",
       "       [0, 1, 2, 3, 4],\n",
       "       [0, 1, 2, 3, 4],\n",
       "       [0, 2, 4, 6, 8],\n",
       "       [0, 2, 4, 6, 8]])"
      ]
     },
     "execution_count": 239,
     "metadata": {},
     "output_type": "execute_result"
    }
   ],
   "source": [
    "np.multiply.outer(arr,np.arange(5))"
   ]
  },
  {
   "cell_type": "code",
   "execution_count": 240,
   "metadata": {},
   "outputs": [
    {
     "name": "stdout",
     "output_type": "stream",
     "text": [
      "x:  [[ 0.52241759  0.10641604  0.10271336 -0.10823261]\n",
      " [ 0.05485992  0.1963653  -0.19387262 -1.45657748]\n",
      " [ 0.85744762 -0.74157558 -0.78036253 -0.1064245 ]]\n",
      "y:  [ 0.59371272 -1.28346227  0.47796048  1.29244703  0.1516492 ]\n",
      "result.shape:  (3, 4, 5)\n",
      "result:  [[[-0.07129513  1.80587986  0.04445711 -0.77002945  0.37076839]\n",
      "  [-0.48729668  1.38987831 -0.37154444 -1.18603099 -0.04523316]\n",
      "  [-0.49099936  1.38617563 -0.37524711 -1.18973367 -0.04893584]\n",
      "  [-0.70194533  1.17522966 -0.58619309 -1.40067964 -0.25988181]]\n",
      "\n",
      " [[-0.5388528   1.33832219 -0.42310056 -1.23758711 -0.09678928]\n",
      "  [-0.39734742  1.47982757 -0.28159518 -1.09608173  0.0447161 ]\n",
      "  [-0.78758534  1.08958965 -0.6718331  -1.48631965 -0.34552182]\n",
      "  [-2.05029021 -0.17311522 -1.93453796 -2.74902452 -1.60822669]]\n",
      "\n",
      " [[ 0.2637349   2.14090989  0.37948715 -0.43499941  0.70579842]\n",
      "  [-1.3352883   0.54188669 -1.21953606 -2.03402261 -0.89322478]\n",
      "  [-1.37407525  0.50309974 -1.25832301 -2.07280956 -0.93201173]\n",
      "  [-0.70013722  1.17703777 -0.58438498 -1.39887153 -0.2580737 ]]]\n"
     ]
    }
   ],
   "source": [
    "x,y = np.random.randn(3,4),np.random.randn(5)\n",
    "print('x: ',x)\n",
    "print('y: ',y)\n",
    "result = np.subtract.outer(x,y)\n",
    "print('result.shape: ',result.shape)\n",
    "print('result: ',result)"
   ]
  },
  {
   "cell_type": "code",
   "execution_count": 241,
   "metadata": {},
   "outputs": [
    {
     "data": {
      "text/plain": [
       "array([10, 18, 17])"
      ]
     },
     "execution_count": 241,
     "metadata": {},
     "output_type": "execute_result"
    }
   ],
   "source": [
    "arr = np.arange(10)\n",
    "np.add.reduceat(arr,[0,5,8])"
   ]
  },
  {
   "cell_type": "code",
   "execution_count": 242,
   "metadata": {},
   "outputs": [
    {
     "data": {
      "text/plain": [
       "array([[ 0,  0,  0,  0,  0],\n",
       "       [ 0,  1,  2,  3,  4],\n",
       "       [ 0,  2,  4,  6,  8],\n",
       "       [ 0,  3,  6,  9, 12]])"
      ]
     },
     "execution_count": 242,
     "metadata": {},
     "output_type": "execute_result"
    }
   ],
   "source": [
    "arr = np.multiply.outer(np.arange(4),np.arange(5))\n",
    "arr"
   ]
  },
  {
   "cell_type": "code",
   "execution_count": 243,
   "metadata": {},
   "outputs": [
    {
     "data": {
      "text/plain": [
       "array([[ 0,  0,  0],\n",
       "       [ 1,  5,  4],\n",
       "       [ 2, 10,  8],\n",
       "       [ 3, 15, 12]])"
      ]
     },
     "execution_count": 243,
     "metadata": {},
     "output_type": "execute_result"
    }
   ],
   "source": [
    "np.add.reduceat(arr,[0,2,4],axis=1)"
   ]
  },
  {
   "cell_type": "markdown",
   "metadata": {},
   "source": [
    "### Escrevendo novas ufuncs em Python"
   ]
  },
  {
   "cell_type": "code",
   "execution_count": 244,
   "metadata": {},
   "outputs": [
    {
     "data": {
      "text/plain": [
       "array([0, 2, 4, 6, 8, 10, 12, 14], dtype=object)"
      ]
     },
     "execution_count": 244,
     "metadata": {},
     "output_type": "execute_result"
    }
   ],
   "source": [
    "def add_elements(x,y):\n",
    "    return x + y\n",
    "\n",
    "add_them = np.frompyfunc(add_elements,2,1)\n",
    "\n",
    "add_them(np.arange(8),np.arange(8))"
   ]
  },
  {
   "cell_type": "code",
   "execution_count": 245,
   "metadata": {},
   "outputs": [
    {
     "data": {
      "text/plain": [
       "array([ 0.,  2.,  4.,  6.,  8., 10., 12., 14.])"
      ]
     },
     "execution_count": 245,
     "metadata": {},
     "output_type": "execute_result"
    }
   ],
   "source": [
    "add_them = np.vectorize(add_elements, otypes=[np.float64])\n",
    "\n",
    "add_them(np.arange(8),np.arange(8))"
   ]
  },
  {
   "cell_type": "code",
   "execution_count": 246,
   "metadata": {},
   "outputs": [
    {
     "name": "stdout",
     "output_type": "stream",
     "text": [
      "8.62 ms ± 1.68 ms per loop (mean ± std. dev. of 7 runs, 100 loops each)\n"
     ]
    }
   ],
   "source": [
    "arr = np.random.randn(10000)\n",
    "\n",
    "%timeit add_them(arr,arr)"
   ]
  },
  {
   "cell_type": "code",
   "execution_count": 247,
   "metadata": {},
   "outputs": [
    {
     "name": "stdout",
     "output_type": "stream",
     "text": [
      "15 µs ± 2.3 µs per loop (mean ± std. dev. of 7 runs, 100,000 loops each)\n"
     ]
    }
   ],
   "source": [
    "%timeit np.add(arr,arr)"
   ]
  },
  {
   "cell_type": "code",
   "execution_count": 248,
   "metadata": {},
   "outputs": [
    {
     "data": {
      "text/plain": [
       "array([-2.93262856, -2.86674863, -0.1955051 , ...,  0.37315906,\n",
       "        0.90456903, -2.3539832 ])"
      ]
     },
     "execution_count": 248,
     "metadata": {},
     "output_type": "execute_result"
    }
   ],
   "source": [
    "add_them(arr,arr)"
   ]
  },
  {
   "cell_type": "code",
   "execution_count": 249,
   "metadata": {},
   "outputs": [
    {
     "data": {
      "text/plain": [
       "array([-2.93262856, -2.86674863, -0.1955051 , ...,  0.37315906,\n",
       "        0.90456903, -2.3539832 ])"
      ]
     },
     "execution_count": 249,
     "metadata": {},
     "output_type": "execute_result"
    }
   ],
   "source": [
    "np.add(arr,arr)"
   ]
  },
  {
   "cell_type": "markdown",
   "metadata": {},
   "source": [
    "## Arrays estruturados e de registros"
   ]
  },
  {
   "cell_type": "code",
   "execution_count": 250,
   "metadata": {},
   "outputs": [
    {
     "data": {
      "text/plain": [
       "array([(1.5       ,  6), (3.14159265, -2)],\n",
       "      dtype=[('x', '<f8'), ('y', '<i4')])"
      ]
     },
     "execution_count": 250,
     "metadata": {},
     "output_type": "execute_result"
    }
   ],
   "source": [
    "dtype = [('x',np.float64),('y',np.int32)]\n",
    "\n",
    "sarr = np.array([(1.5,6),(np.pi,-2)],dtype=dtype)\n",
    "\n",
    "sarr"
   ]
  },
  {
   "cell_type": "code",
   "execution_count": 251,
   "metadata": {},
   "outputs": [
    {
     "data": {
      "text/plain": [
       "(1.5, 6)"
      ]
     },
     "execution_count": 251,
     "metadata": {},
     "output_type": "execute_result"
    }
   ],
   "source": [
    "sarr[0]"
   ]
  },
  {
   "cell_type": "code",
   "execution_count": 252,
   "metadata": {},
   "outputs": [
    {
     "data": {
      "text/plain": [
       "array([ 6, -2], dtype=int32)"
      ]
     },
     "execution_count": 252,
     "metadata": {},
     "output_type": "execute_result"
    }
   ],
   "source": [
    "sarr[:]['y']"
   ]
  },
  {
   "cell_type": "code",
   "execution_count": 253,
   "metadata": {},
   "outputs": [
    {
     "data": {
      "text/plain": [
       "array([1.5       , 3.14159265])"
      ]
     },
     "execution_count": 253,
     "metadata": {},
     "output_type": "execute_result"
    }
   ],
   "source": [
    "sarr['x']"
   ]
  },
  {
   "cell_type": "markdown",
   "metadata": {},
   "source": [
    "### dtypes aninhados e campos multidimensionais"
   ]
  },
  {
   "cell_type": "code",
   "execution_count": 254,
   "metadata": {},
   "outputs": [
    {
     "data": {
      "text/plain": [
       "array([([0, 0, 0], 0), ([0, 0, 0], 0), ([0, 0, 0], 0), ([0, 0, 0], 0)],\n",
       "      dtype=[('x', '<i8', (3,)), ('y', '<i4')])"
      ]
     },
     "execution_count": 254,
     "metadata": {},
     "output_type": "execute_result"
    }
   ],
   "source": [
    "dtype = [('x',np.int64,3),('y',np.int32)]\n",
    "\n",
    "arr = np.zeros(4,dtype=dtype)\n",
    "\n",
    "arr"
   ]
  },
  {
   "cell_type": "code",
   "execution_count": 255,
   "metadata": {},
   "outputs": [
    {
     "data": {
      "text/plain": [
       "array([0, 0, 0])"
      ]
     },
     "execution_count": 255,
     "metadata": {},
     "output_type": "execute_result"
    }
   ],
   "source": [
    "arr[0]['x']"
   ]
  },
  {
   "cell_type": "code",
   "execution_count": 256,
   "metadata": {},
   "outputs": [
    {
     "data": {
      "text/plain": [
       "array([[0, 0, 0],\n",
       "       [0, 0, 0],\n",
       "       [0, 0, 0],\n",
       "       [0, 0, 0]])"
      ]
     },
     "execution_count": 256,
     "metadata": {},
     "output_type": "execute_result"
    }
   ],
   "source": [
    "arr['x']"
   ]
  },
  {
   "cell_type": "code",
   "execution_count": 257,
   "metadata": {},
   "outputs": [
    {
     "data": {
      "text/plain": [
       "array([(1., 2.), (3., 2.)], dtype=[('a', '<f8'), ('b', '<f4')])"
      ]
     },
     "execution_count": 257,
     "metadata": {},
     "output_type": "execute_result"
    }
   ],
   "source": [
    "dtype = [('x',[('a','f8'),('b','f4')]),('y',np.int32)]\n",
    "\n",
    "data = np.array([((1,2),5),((3,2),6)],dtype=dtype)\n",
    "\n",
    "data['x']"
   ]
  },
  {
   "cell_type": "code",
   "execution_count": 258,
   "metadata": {},
   "outputs": [
    {
     "data": {
      "text/plain": [
       "array([5, 6], dtype=int32)"
      ]
     },
     "execution_count": 258,
     "metadata": {},
     "output_type": "execute_result"
    }
   ],
   "source": [
    "data['y']"
   ]
  },
  {
   "cell_type": "code",
   "execution_count": 259,
   "metadata": {},
   "outputs": [
    {
     "data": {
      "text/plain": [
       "array([1., 3.])"
      ]
     },
     "execution_count": 259,
     "metadata": {},
     "output_type": "execute_result"
    }
   ],
   "source": [
    "data['x']['a']"
   ]
  },
  {
   "cell_type": "markdown",
   "metadata": {},
   "source": [
    "## Mais sobre ordenação"
   ]
  },
  {
   "cell_type": "code",
   "execution_count": 260,
   "metadata": {},
   "outputs": [
    {
     "name": "stdout",
     "output_type": "stream",
     "text": [
      "[ 1.13969136  1.28881614  0.37588273 -1.08199644  1.84126094  0.80139193]\n",
      "[-1.08199644  0.37588273  0.80139193  1.13969136  1.28881614  1.84126094]\n"
     ]
    }
   ],
   "source": [
    "arr = np.random.randn(6)\n",
    "print(arr)\n",
    "arr.sort()\n",
    "print(arr)"
   ]
  },
  {
   "cell_type": "code",
   "execution_count": 261,
   "metadata": {},
   "outputs": [
    {
     "name": "stdout",
     "output_type": "stream",
     "text": [
      "[[-0.33176812 -1.47108206  0.87050269 -0.08468875 -1.13286962]\n",
      " [-1.01114869 -0.34357617  2.17140268  0.12337075 -0.01893118]\n",
      " [ 0.17731791  0.7423957   0.85475634  1.03797268 -0.32899594]]\n",
      "\n",
      " [[-1.01114869 -1.47108206  0.87050269 -0.08468875 -1.13286962]\n",
      " [-0.33176812 -0.34357617  2.17140268  0.12337075 -0.01893118]\n",
      " [ 0.17731791  0.7423957   0.85475634  1.03797268 -0.32899594]]\n"
     ]
    }
   ],
   "source": [
    "arr = np.random.randn(3,5)\n",
    "print(arr)\n",
    "arr[:,0].sort()\n",
    "print('\\n',arr)\n"
   ]
  },
  {
   "cell_type": "code",
   "execution_count": 262,
   "metadata": {},
   "outputs": [
    {
     "data": {
      "text/plain": [
       "array([-1.11807759, -0.24152521, -2.0051193 ,  0.73788753, -1.06137462])"
      ]
     },
     "execution_count": 262,
     "metadata": {},
     "output_type": "execute_result"
    }
   ],
   "source": [
    "arr = np.random.randn(5)\n",
    "arr"
   ]
  },
  {
   "cell_type": "code",
   "execution_count": 263,
   "metadata": {},
   "outputs": [
    {
     "data": {
      "text/plain": [
       "array([-2.0051193 , -1.11807759, -1.06137462, -0.24152521,  0.73788753])"
      ]
     },
     "execution_count": 263,
     "metadata": {},
     "output_type": "execute_result"
    }
   ],
   "source": [
    "np.sort(arr)"
   ]
  },
  {
   "cell_type": "code",
   "execution_count": 264,
   "metadata": {},
   "outputs": [
    {
     "data": {
      "text/plain": [
       "array([[ 0.59545348, -0.26822958,  1.33885804, -0.18715572,  0.91108374],\n",
       "       [-0.32150045,  1.00543901, -0.51683937,  1.19251887, -0.19893404],\n",
       "       [ 0.39691349, -1.76381537,  0.60709023, -0.22215536, -0.21707838]])"
      ]
     },
     "execution_count": 264,
     "metadata": {},
     "output_type": "execute_result"
    }
   ],
   "source": [
    "arr = np.random.randn(3,5)\n",
    "arr"
   ]
  },
  {
   "cell_type": "code",
   "execution_count": 265,
   "metadata": {},
   "outputs": [
    {
     "data": {
      "text/plain": [
       "array([[-0.26822958, -0.18715572,  0.59545348,  0.91108374,  1.33885804],\n",
       "       [-0.51683937, -0.32150045, -0.19893404,  1.00543901,  1.19251887],\n",
       "       [-1.76381537, -0.22215536, -0.21707838,  0.39691349,  0.60709023]])"
      ]
     },
     "execution_count": 265,
     "metadata": {},
     "output_type": "execute_result"
    }
   ],
   "source": [
    "arr.sort(axis=1)\n",
    "arr"
   ]
  },
  {
   "cell_type": "markdown",
   "metadata": {},
   "source": [
    "### Ordenações indiretas: argsort e lexsort"
   ]
  },
  {
   "cell_type": "code",
   "execution_count": 266,
   "metadata": {},
   "outputs": [
    {
     "data": {
      "text/plain": [
       "array([1, 2, 3, 4, 0])"
      ]
     },
     "execution_count": 266,
     "metadata": {},
     "output_type": "execute_result"
    }
   ],
   "source": [
    "values = np.array([5,0,1,2,3])\n",
    "indexer = values.argsort()\n",
    "indexer"
   ]
  },
  {
   "cell_type": "code",
   "execution_count": 267,
   "metadata": {},
   "outputs": [
    {
     "data": {
      "text/plain": [
       "array([0, 1, 2, 3, 5])"
      ]
     },
     "execution_count": 267,
     "metadata": {},
     "output_type": "execute_result"
    }
   ],
   "source": [
    "values[indexer]"
   ]
  },
  {
   "cell_type": "code",
   "execution_count": 268,
   "metadata": {},
   "outputs": [
    {
     "data": {
      "text/plain": [
       "array([[ 5.        ,  0.        ,  1.        ,  2.        ,  3.        ],\n",
       "       [-0.36360302, -0.13775933,  2.17773731, -0.47280687,  0.8356152 ],\n",
       "       [-0.20885016,  0.23159352,  0.72798172, -1.3918432 ,  1.99558262]])"
      ]
     },
     "execution_count": 268,
     "metadata": {},
     "output_type": "execute_result"
    }
   ],
   "source": [
    "arr = np.random.randn(3,5)\n",
    "arr[0] = values\n",
    "arr"
   ]
  },
  {
   "cell_type": "code",
   "execution_count": 269,
   "metadata": {},
   "outputs": [
    {
     "data": {
      "text/plain": [
       "array([[ 0.        ,  1.        ,  2.        ,  3.        ,  5.        ],\n",
       "       [-0.13775933,  2.17773731, -0.47280687,  0.8356152 , -0.36360302],\n",
       "       [ 0.23159352,  0.72798172, -1.3918432 ,  1.99558262, -0.20885016]])"
      ]
     },
     "execution_count": 269,
     "metadata": {},
     "output_type": "execute_result"
    }
   ],
   "source": [
    "arr[:,arr[0].argsort()]"
   ]
  },
  {
   "cell_type": "code",
   "execution_count": 270,
   "metadata": {},
   "outputs": [
    {
     "data": {
      "text/plain": [
       "array([1, 2, 3, 0, 4])"
      ]
     },
     "execution_count": 270,
     "metadata": {},
     "output_type": "execute_result"
    }
   ],
   "source": [
    "first_name = np.array(['Bob','Jane','Steve','Bill','Barbara'])\n",
    "last_name = np.array(['Jones','Arnold','Arnold','Jones','Walters'])\n",
    "\n",
    "sorter = np.lexsort((first_name,last_name))\n",
    "\n",
    "sorter"
   ]
  },
  {
   "cell_type": "markdown",
   "metadata": {},
   "source": [
    "### Algoritmos de ordenação alternativos"
   ]
  },
  {
   "cell_type": "code",
   "execution_count": 271,
   "metadata": {},
   "outputs": [
    {
     "data": {
      "text/plain": [
       "array([2, 3, 4, 0, 1])"
      ]
     },
     "execution_count": 271,
     "metadata": {},
     "output_type": "execute_result"
    }
   ],
   "source": [
    "values = np.array(['2:first','2:second','1:first','1:second','1:third'])\n",
    "\n",
    "key = np.array([2,2,1,1,1])\n",
    "\n",
    "indexer = key.argsort(kind='mergesort')\n",
    "\n",
    "indexer"
   ]
  },
  {
   "cell_type": "code",
   "execution_count": 272,
   "metadata": {},
   "outputs": [
    {
     "data": {
      "text/plain": [
       "array(['1:first', '1:second', '1:third', '2:first', '2:second'],\n",
       "      dtype='<U8')"
      ]
     },
     "execution_count": 272,
     "metadata": {},
     "output_type": "execute_result"
    }
   ],
   "source": [
    "values.take(indexer)"
   ]
  },
  {
   "cell_type": "markdown",
   "metadata": {},
   "source": [
    "### Ordenando arrays parcialmente"
   ]
  },
  {
   "cell_type": "code",
   "execution_count": 274,
   "metadata": {},
   "outputs": [
    {
     "data": {
      "text/plain": [
       "array([-0.20470766,  0.47894334, -0.51943872, -0.5557303 ,  1.96578057,\n",
       "        1.39340583,  0.09290788,  0.28174615,  0.76902257,  1.24643474,\n",
       "        1.00718936, -1.29622111,  0.27499163,  0.22891288,  1.35291684,\n",
       "        0.88642934, -2.00163731, -0.37184254,  1.66902531, -0.43856974])"
      ]
     },
     "execution_count": 274,
     "metadata": {},
     "output_type": "execute_result"
    }
   ],
   "source": [
    "np.random.seed(12345)\n",
    "\n",
    "arr = np.random.randn(20)\n",
    "arr"
   ]
  },
  {
   "cell_type": "code",
   "execution_count": 275,
   "metadata": {},
   "outputs": [
    {
     "data": {
      "text/plain": [
       "array([-2.00163731, -1.29622111, -0.5557303 , -0.51943872, -0.37184254,\n",
       "       -0.43856974, -0.20470766,  0.28174615,  0.76902257,  0.47894334,\n",
       "        1.00718936,  0.09290788,  0.27499163,  0.22891288,  1.35291684,\n",
       "        0.88642934,  1.39340583,  1.96578057,  1.66902531,  1.24643474])"
      ]
     },
     "execution_count": 275,
     "metadata": {},
     "output_type": "execute_result"
    }
   ],
   "source": [
    "np.partition(arr,3)"
   ]
  },
  {
   "cell_type": "code",
   "execution_count": 276,
   "metadata": {},
   "outputs": [
    {
     "data": {
      "text/plain": [
       "array([16, 11,  3,  2, 17, 19,  0,  7,  8,  1, 10,  6, 12, 13, 14, 15,  5,\n",
       "        4, 18,  9])"
      ]
     },
     "execution_count": 276,
     "metadata": {},
     "output_type": "execute_result"
    }
   ],
   "source": [
    "indices = np.argpartition(arr,3)\n",
    "indices"
   ]
  },
  {
   "cell_type": "code",
   "execution_count": 277,
   "metadata": {},
   "outputs": [
    {
     "data": {
      "text/plain": [
       "array([-2.00163731, -1.29622111, -0.5557303 , -0.51943872, -0.37184254,\n",
       "       -0.43856974, -0.20470766,  0.28174615,  0.76902257,  0.47894334,\n",
       "        1.00718936,  0.09290788,  0.27499163,  0.22891288,  1.35291684,\n",
       "        0.88642934,  1.39340583,  1.96578057,  1.66902531,  1.24643474])"
      ]
     },
     "execution_count": 277,
     "metadata": {},
     "output_type": "execute_result"
    }
   ],
   "source": [
    "arr.take(indices)"
   ]
  },
  {
   "cell_type": "markdown",
   "metadata": {},
   "source": [
    "### numpy.searchsorted: encontrando elementos em um array ordenado"
   ]
  },
  {
   "cell_type": "code",
   "execution_count": 278,
   "metadata": {},
   "outputs": [
    {
     "data": {
      "text/plain": [
       "3"
      ]
     },
     "execution_count": 278,
     "metadata": {},
     "output_type": "execute_result"
    }
   ],
   "source": [
    "arr = np.array([0,1,7,12,15])\n",
    "arr.searchsorted(9)"
   ]
  },
  {
   "cell_type": "code",
   "execution_count": 279,
   "metadata": {},
   "outputs": [
    {
     "data": {
      "text/plain": [
       "array([0, 3, 3, 5])"
      ]
     },
     "execution_count": 279,
     "metadata": {},
     "output_type": "execute_result"
    }
   ],
   "source": [
    "arr.searchsorted([0,8,11,16])"
   ]
  },
  {
   "cell_type": "code",
   "execution_count": 280,
   "metadata": {},
   "outputs": [
    {
     "data": {
      "text/plain": [
       "array([0, 3])"
      ]
     },
     "execution_count": 280,
     "metadata": {},
     "output_type": "execute_result"
    }
   ],
   "source": [
    "arr = np.array([0,0,0,1,1,1,1])\n",
    "arr.searchsorted([0,1])"
   ]
  },
  {
   "cell_type": "code",
   "execution_count": 281,
   "metadata": {},
   "outputs": [
    {
     "data": {
      "text/plain": [
       "array([3, 7])"
      ]
     },
     "execution_count": 281,
     "metadata": {},
     "output_type": "execute_result"
    }
   ],
   "source": [
    "arr.searchsorted([0,1],side='right')"
   ]
  },
  {
   "cell_type": "code",
   "execution_count": 282,
   "metadata": {},
   "outputs": [
    {
     "data": {
      "text/plain": [
       "array([9940., 6768., 7908., 1709.,  268., 8003., 9037.,  246., 4917.,\n",
       "       5262., 5963.,  519., 8950., 7282., 8183., 5002., 8101.,  959.,\n",
       "       2189., 2587., 4681., 4593., 7095., 1780., 5314., 1677., 7688.,\n",
       "       9281., 6094., 1501., 4896., 3773., 8486., 9110., 3838., 3154.,\n",
       "       5683., 1878., 1258., 6875., 7996., 5735., 9732., 6340., 8884.,\n",
       "       4954., 3516., 7142., 5039., 2256.])"
      ]
     },
     "execution_count": 282,
     "metadata": {},
     "output_type": "execute_result"
    }
   ],
   "source": [
    "data = np.floor(np.random.uniform(0,10000,size=50))\n",
    "\n",
    "bins = np.array([0,100,1000,5000,10000])\n",
    "\n",
    "data"
   ]
  },
  {
   "cell_type": "code",
   "execution_count": 283,
   "metadata": {},
   "outputs": [
    {
     "data": {
      "text/plain": [
       "array([4, 4, 4, 3, 2, 4, 4, 2, 3, 4, 4, 2, 4, 4, 4, 4, 4, 2, 3, 3, 3, 3,\n",
       "       4, 3, 4, 3, 4, 4, 4, 3, 3, 3, 4, 4, 3, 3, 4, 3, 3, 4, 4, 4, 4, 4,\n",
       "       4, 3, 3, 4, 4, 3])"
      ]
     },
     "execution_count": 283,
     "metadata": {},
     "output_type": "execute_result"
    }
   ],
   "source": [
    "labels = bins.searchsorted(data)\n",
    "labels"
   ]
  },
  {
   "cell_type": "code",
   "execution_count": 284,
   "metadata": {},
   "outputs": [
    {
     "data": {
      "text/plain": [
       "2     498.000000\n",
       "3    3064.277778\n",
       "4    7389.035714\n",
       "dtype: float64"
      ]
     },
     "execution_count": 284,
     "metadata": {},
     "output_type": "execute_result"
    }
   ],
   "source": [
    "import pandas as pd\n",
    "\n",
    "pd.Series(data).groupby(labels).mean()"
   ]
  },
  {
   "cell_type": "markdown",
   "metadata": {},
   "source": [
    "## Escrevendo funções NumPy rápidas com o Numba"
   ]
  },
  {
   "cell_type": "code",
   "execution_count": 285,
   "metadata": {},
   "outputs": [
    {
     "name": "stdout",
     "output_type": "stream",
     "text": [
      "11.7 s ± 1.92 s per loop (mean ± std. dev. of 7 runs, 1 loop each)\n"
     ]
    }
   ],
   "source": [
    "@nb.jit # alternativa para transformar uma função em função Numba\n",
    "def mean_distance(x,y):\n",
    "    nx = len(x)\n",
    "    result = 0.0\n",
    "    count = 0\n",
    "    for i in range(nx):\n",
    "        result += x[i] - y[i]\n",
    "        count += 1\n",
    "    return result / count\n",
    "\n",
    "x = np.random.randn(10000000)\n",
    "y = np.random.randn(10000000)\n",
    "\n",
    "%timeit mean_distance(x,y)"
   ]
  },
  {
   "cell_type": "code",
   "execution_count": 286,
   "metadata": {},
   "outputs": [
    {
     "name": "stdout",
     "output_type": "stream",
     "text": [
      "103 ms ± 4.33 ms per loop (mean ± std. dev. of 7 runs, 10 loops each)\n"
     ]
    }
   ],
   "source": [
    "%timeit (x - y).mean()"
   ]
  },
  {
   "cell_type": "code",
   "execution_count": 289,
   "metadata": {},
   "outputs": [
    {
     "data": {
      "text/plain": [
       "'1.22.2'"
      ]
     },
     "execution_count": 289,
     "metadata": {},
     "output_type": "execute_result"
    }
   ],
   "source": [
    "np.__version__"
   ]
  },
  {
   "cell_type": "code",
   "execution_count": 287,
   "metadata": {},
   "outputs": [
    {
     "ename": "ImportError",
     "evalue": "Numba needs NumPy 1.21 or less",
     "output_type": "error",
     "traceback": [
      "\u001b[0;31m---------------------------------------------------------------------------\u001b[0m",
      "\u001b[0;31mImportError\u001b[0m                               Traceback (most recent call last)",
      "\u001b[1;32m/sysroot/home/fdmedina7/Documentos/PythonAnaliseDados/NumPy.ipynb Cell 331'\u001b[0m in \u001b[0;36m<module>\u001b[0;34m\u001b[0m\n\u001b[0;32m----> <a href='vscode-notebook-cell:/sysroot/home/fdmedina7/Documentos/PythonAnaliseDados/NumPy.ipynb#ch0000333?line=0'>1</a>\u001b[0m \u001b[39mimport\u001b[39;00m \u001b[39mnumba\u001b[39;00m \u001b[39mas\u001b[39;00m \u001b[39mnb\u001b[39;00m\n\u001b[1;32m      <a href='vscode-notebook-cell:/sysroot/home/fdmedina7/Documentos/PythonAnaliseDados/NumPy.ipynb#ch0000333?line=2'>3</a>\u001b[0m numba_mean_distance \u001b[39m=\u001b[39m nb\u001b[39m.\u001b[39mjit(mean_distance)\n\u001b[1;32m      <a href='vscode-notebook-cell:/sysroot/home/fdmedina7/Documentos/PythonAnaliseDados/NumPy.ipynb#ch0000333?line=4'>5</a>\u001b[0m get_ipython()\u001b[39m.\u001b[39mrun_line_magic(\u001b[39m'\u001b[39m\u001b[39mtimeit\u001b[39m\u001b[39m'\u001b[39m, \u001b[39m'\u001b[39m\u001b[39mnumba_mean_distance(x,y)\u001b[39m\u001b[39m'\u001b[39m)\n",
      "File \u001b[0;32m/var/data/python/lib/python3.9/site-packages/numba/__init__.py:200\u001b[0m, in \u001b[0;36m<module>\u001b[0;34m\u001b[0m\n\u001b[1;32m    <a href='file:///var/data/python/lib/python3.9/site-packages/numba/__init__.py?line=196'>197</a>\u001b[0m     \u001b[39mreturn\u001b[39;00m \u001b[39mFalse\u001b[39;00m\n\u001b[1;32m    <a href='file:///var/data/python/lib/python3.9/site-packages/numba/__init__.py?line=198'>199</a>\u001b[0m _ensure_llvm()\n\u001b[0;32m--> <a href='file:///var/data/python/lib/python3.9/site-packages/numba/__init__.py?line=199'>200</a>\u001b[0m _ensure_critical_deps()\n\u001b[1;32m    <a href='file:///var/data/python/lib/python3.9/site-packages/numba/__init__.py?line=201'>202</a>\u001b[0m \u001b[39m# we know llvmlite is working as the above tests passed, import it now as SVML\u001b[39;00m\n\u001b[1;32m    <a href='file:///var/data/python/lib/python3.9/site-packages/numba/__init__.py?line=202'>203</a>\u001b[0m \u001b[39m# needs to mutate runtime options (sets the `-vector-library`).\u001b[39;00m\n\u001b[1;32m    <a href='file:///var/data/python/lib/python3.9/site-packages/numba/__init__.py?line=203'>204</a>\u001b[0m \u001b[39mimport\u001b[39;00m \u001b[39mllvmlite\u001b[39;00m\n",
      "File \u001b[0;32m/var/data/python/lib/python3.9/site-packages/numba/__init__.py:140\u001b[0m, in \u001b[0;36m_ensure_critical_deps\u001b[0;34m()\u001b[0m\n\u001b[1;32m    <a href='file:///var/data/python/lib/python3.9/site-packages/numba/__init__.py?line=137'>138</a>\u001b[0m     \u001b[39mraise\u001b[39;00m \u001b[39mImportError\u001b[39;00m(\u001b[39m\"\u001b[39m\u001b[39mNumba needs NumPy 1.18 or greater\u001b[39m\u001b[39m\"\u001b[39m)\n\u001b[1;32m    <a href='file:///var/data/python/lib/python3.9/site-packages/numba/__init__.py?line=138'>139</a>\u001b[0m \u001b[39melif\u001b[39;00m numpy_version \u001b[39m>\u001b[39m (\u001b[39m1\u001b[39m, \u001b[39m21\u001b[39m):\n\u001b[0;32m--> <a href='file:///var/data/python/lib/python3.9/site-packages/numba/__init__.py?line=139'>140</a>\u001b[0m     \u001b[39mraise\u001b[39;00m \u001b[39mImportError\u001b[39;00m(\u001b[39m\"\u001b[39m\u001b[39mNumba needs NumPy 1.21 or less\u001b[39m\u001b[39m\"\u001b[39m)\n\u001b[1;32m    <a href='file:///var/data/python/lib/python3.9/site-packages/numba/__init__.py?line=141'>142</a>\u001b[0m \u001b[39mtry\u001b[39;00m:\n\u001b[1;32m    <a href='file:///var/data/python/lib/python3.9/site-packages/numba/__init__.py?line=142'>143</a>\u001b[0m     \u001b[39mimport\u001b[39;00m \u001b[39mscipy\u001b[39;00m\n",
      "\u001b[0;31mImportError\u001b[0m: Numba needs NumPy 1.21 or less"
     ]
    }
   ],
   "source": [
    "import numba as nb\n",
    "\n",
    "numba_mean_distance = nb.jit(mean_distance)\n",
    "\n",
    "%timeit numba_mean_distance(x,y)"
   ]
  },
  {
   "cell_type": "markdown",
   "metadata": {},
   "source": [
    "**Seção interrompido por incompatibilidade de versão entre NumPy e Numba**"
   ]
  },
  {
   "cell_type": "markdown",
   "metadata": {},
   "source": [
    "## Operações avançadas de entrada e saída com arrays"
   ]
  },
  {
   "cell_type": "markdown",
   "metadata": {},
   "source": [
    "### Arquivos mapeados em memória"
   ]
  },
  {
   "cell_type": "code",
   "execution_count": 291,
   "metadata": {},
   "outputs": [
    {
     "data": {
      "text/plain": [
       "memmap([[0., 0., 0., ..., 0., 0., 0.],\n",
       "        [0., 0., 0., ..., 0., 0., 0.],\n",
       "        [0., 0., 0., ..., 0., 0., 0.],\n",
       "        ...,\n",
       "        [0., 0., 0., ..., 0., 0., 0.],\n",
       "        [0., 0., 0., ..., 0., 0., 0.],\n",
       "        [0., 0., 0., ..., 0., 0., 0.]])"
      ]
     },
     "execution_count": 291,
     "metadata": {},
     "output_type": "execute_result"
    }
   ],
   "source": [
    "mmap = np.memmap('mymmap',dtype='float64',mode='w+',shape=(10000,10000))\n",
    "mmap"
   ]
  },
  {
   "cell_type": "code",
   "execution_count": 293,
   "metadata": {},
   "outputs": [
    {
     "data": {
      "text/plain": [
       "memmap([[0., 0., 0., ..., 0., 0., 0.],\n",
       "        [0., 0., 0., ..., 0., 0., 0.],\n",
       "        [0., 0., 0., ..., 0., 0., 0.],\n",
       "        [0., 0., 0., ..., 0., 0., 0.],\n",
       "        [0., 0., 0., ..., 0., 0., 0.]])"
      ]
     },
     "execution_count": 293,
     "metadata": {},
     "output_type": "execute_result"
    }
   ],
   "source": [
    "section = mmap[:5]\n",
    "section"
   ]
  },
  {
   "cell_type": "code",
   "execution_count": 294,
   "metadata": {},
   "outputs": [
    {
     "data": {
      "text/plain": [
       "memmap([[ 1.37140985,  0.93127837,  0.60573747, ..., -0.62115557,\n",
       "         -0.46780136,  0.47874865],\n",
       "        [ 0.42296545,  0.83060431,  0.69976547, ...,  1.28831447,\n",
       "          0.58858679, -1.42755372],\n",
       "        [ 2.16005954, -1.24616489,  2.44470054, ...,  0.86866129,\n",
       "          0.28019716,  2.13008671],\n",
       "        ...,\n",
       "        [ 0.        ,  0.        ,  0.        , ...,  0.        ,\n",
       "          0.        ,  0.        ],\n",
       "        [ 0.        ,  0.        ,  0.        , ...,  0.        ,\n",
       "          0.        ,  0.        ],\n",
       "        [ 0.        ,  0.        ,  0.        , ...,  0.        ,\n",
       "          0.        ,  0.        ]])"
      ]
     },
     "execution_count": 294,
     "metadata": {},
     "output_type": "execute_result"
    }
   ],
   "source": [
    "section[:] = np.random.randn(5,10000)\n",
    "mmap.flush()\n",
    "mmap"
   ]
  },
  {
   "cell_type": "code",
   "execution_count": 295,
   "metadata": {},
   "outputs": [],
   "source": [
    "del mmap"
   ]
  },
  {
   "cell_type": "code",
   "execution_count": 296,
   "metadata": {},
   "outputs": [
    {
     "data": {
      "text/plain": [
       "memmap([[ 1.37140985,  0.93127837,  0.60573747, ..., -0.62115557,\n",
       "         -0.46780136,  0.47874865],\n",
       "        [ 0.42296545,  0.83060431,  0.69976547, ...,  1.28831447,\n",
       "          0.58858679, -1.42755372],\n",
       "        [ 2.16005954, -1.24616489,  2.44470054, ...,  0.86866129,\n",
       "          0.28019716,  2.13008671],\n",
       "        ...,\n",
       "        [ 0.        ,  0.        ,  0.        , ...,  0.        ,\n",
       "          0.        ,  0.        ],\n",
       "        [ 0.        ,  0.        ,  0.        , ...,  0.        ,\n",
       "          0.        ,  0.        ],\n",
       "        [ 0.        ,  0.        ,  0.        , ...,  0.        ,\n",
       "          0.        ,  0.        ]])"
      ]
     },
     "execution_count": 296,
     "metadata": {},
     "output_type": "execute_result"
    }
   ],
   "source": [
    "mmap = np.memmap('mymmap',dtype='float64',shape=(10000,10000))\n",
    "\n",
    "mmap"
   ]
  },
  {
   "cell_type": "markdown",
   "metadata": {},
   "source": [
    "## Dicas para o desempenho"
   ]
  },
  {
   "cell_type": "markdown",
   "metadata": {},
   "source": [
    "### A importância da memória contígua"
   ]
  },
  {
   "cell_type": "code",
   "execution_count": 297,
   "metadata": {},
   "outputs": [
    {
     "data": {
      "text/plain": [
       "  C_CONTIGUOUS : True\n",
       "  F_CONTIGUOUS : False\n",
       "  OWNDATA : True\n",
       "  WRITEABLE : True\n",
       "  ALIGNED : True\n",
       "  WRITEBACKIFCOPY : False\n",
       "  UPDATEIFCOPY : False"
      ]
     },
     "execution_count": 297,
     "metadata": {},
     "output_type": "execute_result"
    }
   ],
   "source": [
    "arr_c = np.ones((1000,1000),order='C')\n",
    "arr_f = np.ones((1000,1000),order='F')\n",
    "\n",
    "arr_c.flags"
   ]
  },
  {
   "cell_type": "code",
   "execution_count": 298,
   "metadata": {},
   "outputs": [
    {
     "data": {
      "text/plain": [
       "  C_CONTIGUOUS : False\n",
       "  F_CONTIGUOUS : True\n",
       "  OWNDATA : True\n",
       "  WRITEABLE : True\n",
       "  ALIGNED : True\n",
       "  WRITEBACKIFCOPY : False\n",
       "  UPDATEIFCOPY : False"
      ]
     },
     "execution_count": 298,
     "metadata": {},
     "output_type": "execute_result"
    }
   ],
   "source": [
    "arr_f.flags"
   ]
  },
  {
   "cell_type": "code",
   "execution_count": 299,
   "metadata": {},
   "outputs": [
    {
     "name": "stdout",
     "output_type": "stream",
     "text": [
      "2 ms ± 92 µs per loop (mean ± std. dev. of 7 runs, 1,000 loops each)\n"
     ]
    }
   ],
   "source": [
    "%timeit arr_c.sum(1)"
   ]
  },
  {
   "cell_type": "code",
   "execution_count": 300,
   "metadata": {},
   "outputs": [
    {
     "name": "stdout",
     "output_type": "stream",
     "text": [
      "1.58 ms ± 137 µs per loop (mean ± std. dev. of 7 runs, 1,000 loops each)\n"
     ]
    }
   ],
   "source": [
    "%timeit arr_f.sum(1)"
   ]
  },
  {
   "cell_type": "code",
   "execution_count": 301,
   "metadata": {},
   "outputs": [
    {
     "data": {
      "text/plain": [
       "  C_CONTIGUOUS : True\n",
       "  F_CONTIGUOUS : False\n",
       "  OWNDATA : True\n",
       "  WRITEABLE : True\n",
       "  ALIGNED : True\n",
       "  WRITEBACKIFCOPY : False\n",
       "  UPDATEIFCOPY : False"
      ]
     },
     "execution_count": 301,
     "metadata": {},
     "output_type": "execute_result"
    }
   ],
   "source": [
    "arr_f.copy('C').flags"
   ]
  },
  {
   "cell_type": "code",
   "execution_count": 302,
   "metadata": {},
   "outputs": [
    {
     "data": {
      "text/plain": [
       "True"
      ]
     },
     "execution_count": 302,
     "metadata": {},
     "output_type": "execute_result"
    }
   ],
   "source": [
    "arr_c[:50].flags.contiguous"
   ]
  },
  {
   "cell_type": "code",
   "execution_count": 303,
   "metadata": {},
   "outputs": [
    {
     "data": {
      "text/plain": [
       "  C_CONTIGUOUS : False\n",
       "  F_CONTIGUOUS : False\n",
       "  OWNDATA : False\n",
       "  WRITEABLE : True\n",
       "  ALIGNED : True\n",
       "  WRITEBACKIFCOPY : False\n",
       "  UPDATEIFCOPY : False"
      ]
     },
     "execution_count": 303,
     "metadata": {},
     "output_type": "execute_result"
    }
   ],
   "source": [
    "arr_c[:,:50].flags"
   ]
  },
  {
   "cell_type": "markdown",
   "metadata": {},
   "source": []
  }
 ],
 "metadata": {
  "interpreter": {
   "hash": "d2152fd7f0bbc62aa1baff8c990435d1e2c7175d001561303988032604c11a48"
  },
  "kernelspec": {
   "display_name": "Python 3.9.9 64-bit",
   "language": "python",
   "name": "python3"
  },
  "language_info": {
   "codemirror_mode": {
    "name": "ipython",
    "version": 3
   },
   "file_extension": ".py",
   "mimetype": "text/x-python",
   "name": "python",
   "nbconvert_exporter": "python",
   "pygments_lexer": "ipython3",
   "version": "3.9.9"
  },
  "orig_nbformat": 4
 },
 "nbformat": 4,
 "nbformat_minor": 2
}
