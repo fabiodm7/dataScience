{
 "cells": [
  {
   "cell_type": "markdown",
   "metadata": {},
   "source": [
    "# Classes e funções"
   ]
  },
  {
   "cell_type": "markdown",
   "metadata": {},
   "source": [
    "## Time"
   ]
  },
  {
   "cell_type": "code",
   "execution_count": 1,
   "metadata": {},
   "outputs": [],
   "source": [
    "class Time:\n",
    "    \"\"\"Representa a hora do dia.\n",
    "    atributos: hour, minute, second\"\"\"\n",
    "\n",
    "time = Time()\n",
    "time.hour = 9\n",
    "time.minute = 1\n",
    "time.second = 3"
   ]
  },
  {
   "cell_type": "code",
   "execution_count": 2,
   "metadata": {},
   "outputs": [
    {
     "name": "stdout",
     "output_type": "stream",
     "text": [
      "09:01:03\n"
     ]
    }
   ],
   "source": [
    "def print_time(time):\n",
    "    print('%.2d:%.2d:%.2d' % (time.hour,time.minute,time.second))\n",
    "\n",
    "print_time(time)"
   ]
  },
  {
   "cell_type": "code",
   "execution_count": 3,
   "metadata": {},
   "outputs": [],
   "source": [
    "def convert_minute(time):\n",
    "    return time.minute * 60\n",
    "\n",
    "def convert_hour(time):\n",
    "    return time.hour * 3600\n",
    "\n",
    "def convert_time(time):\n",
    "    hour = convert_hour(time)\n",
    "    minute = convert_minute(time)\n",
    "    second = time.second\n",
    "    return hour + minute + second\n",
    "\n",
    "def is_after(t1, t2):\n",
    "    return convert_time(t1) > convert_time(t2)\n",
    "\n",
    "t1 = Time()\n",
    "t1.hour = 10\n",
    "t1.minute = 0\n",
    "t1.second = 0\n",
    "\n",
    "t2 = time\n"
   ]
  },
  {
   "cell_type": "code",
   "execution_count": 4,
   "metadata": {},
   "outputs": [
    {
     "name": "stdout",
     "output_type": "stream",
     "text": [
      "True\n",
      "False\n"
     ]
    }
   ],
   "source": [
    "print(is_after(t1,t2))\n",
    "t1.hour = 8\n",
    "print(is_after(t1,t2))"
   ]
  },
  {
   "cell_type": "markdown",
   "metadata": {},
   "source": [
    "## Funções puras"
   ]
  },
  {
   "cell_type": "code",
   "execution_count": 5,
   "metadata": {},
   "outputs": [],
   "source": [
    "def add_time(t1,t2):\n",
    "    sum = Time()\n",
    "    sum.hour = t1.hour + t2.hour\n",
    "    sum.minute = t1.minute + t2.minute\n",
    "    sum.second = t1.second + t2.second\n",
    "    return sum"
   ]
  },
  {
   "cell_type": "code",
   "execution_count": 6,
   "metadata": {},
   "outputs": [
    {
     "name": "stdout",
     "output_type": "stream",
     "text": [
      "10:80:00\n"
     ]
    }
   ],
   "source": [
    "start = Time()\n",
    "start.hour = 9\n",
    "start.minute = 45\n",
    "start.second = 0\n",
    "duration = Time()\n",
    "duration.hour = 1\n",
    "duration.minute = 35\n",
    "duration.second = 0\n",
    "done = add_time(start,duration)\n",
    "print_time(done)"
   ]
  },
  {
   "cell_type": "code",
   "execution_count": 7,
   "metadata": {},
   "outputs": [],
   "source": [
    "def add_time(t1,t2):\n",
    "    sum = Time()\n",
    "    sum.hour = t1.hour + t2.hour\n",
    "    sum.minute = t1.minute + t2.minute\n",
    "    sum.second = t1.second + t2.second\n",
    "    if sum.second >= 60:\n",
    "        sum.second -= 60\n",
    "        sum.minute += 1\n",
    "    if sum.minute >= 60:\n",
    "        sum.minute -= 60\n",
    "        sum.hour += 1\n",
    "    return sum"
   ]
  },
  {
   "cell_type": "code",
   "execution_count": 8,
   "metadata": {},
   "outputs": [
    {
     "name": "stdout",
     "output_type": "stream",
     "text": [
      "11:20:00\n"
     ]
    }
   ],
   "source": [
    "start = Time()\n",
    "start.hour = 9\n",
    "start.minute = 45\n",
    "start.second = 0\n",
    "duration = Time()\n",
    "duration.hour = 1\n",
    "duration.minute = 35\n",
    "duration.second = 0\n",
    "done = add_time(start,duration)\n",
    "print_time(done)"
   ]
  },
  {
   "cell_type": "markdown",
   "metadata": {},
   "source": [
    "## Modificadores"
   ]
  },
  {
   "cell_type": "code",
   "execution_count": 9,
   "metadata": {},
   "outputs": [],
   "source": [
    "def increment(time, seconds):\n",
    "    time.second += seconds\n",
    "    if time.second >= 60:\n",
    "        time.second -= 60\n",
    "        time.minute += 1\n",
    "    if time.minute >= 60:\n",
    "        time.minute -= 60\n",
    "        time.hour += 1"
   ]
  },
  {
   "cell_type": "code",
   "execution_count": 12,
   "metadata": {},
   "outputs": [],
   "source": [
    "def add_time(t1,t2):\n",
    "    sum = Time()\n",
    "    sum.hour = t1.hour + t2.hour\n",
    "    sum.minute = t1.minute + t2.minute\n",
    "    sum.second = t1.second\n",
    "    increment(sum,t2.second)\n",
    "    return sum    "
   ]
  },
  {
   "cell_type": "code",
   "execution_count": 13,
   "metadata": {},
   "outputs": [
    {
     "name": "stdout",
     "output_type": "stream",
     "text": [
      "11:20:00\n"
     ]
    }
   ],
   "source": [
    "start = Time()\n",
    "start.hour = 9\n",
    "start.minute = 45\n",
    "start.second = 0\n",
    "duration = Time()\n",
    "duration.hour = 1\n",
    "duration.minute = 35\n",
    "duration.second = 0\n",
    "done = add_time(start,duration)\n",
    "print_time(done)"
   ]
  },
  {
   "cell_type": "code",
   "execution_count": 23,
   "metadata": {},
   "outputs": [
    {
     "name": "stdout",
     "output_type": "stream",
     "text": [
      "11:21:00\n"
     ]
    }
   ],
   "source": [
    "def increment(time,seconds):\n",
    "    time.second += seconds\n",
    "    minutos = (time.second // 60)\n",
    "    if  minutos > 0:\n",
    "        time.second -= 60 * minutos\n",
    "        time.minute += minutos\n",
    "    horas = (time.minute // 60)\n",
    "    if horas > 0:\n",
    "        time.minute -= 60 * horas\n",
    "        time.hour += horas\n",
    "\n",
    "def add_time(t1,t2):\n",
    "    sum = Time()\n",
    "    sum.hour = t1.hour + t2.hour\n",
    "    sum.minute = t1.minute + t2.minute\n",
    "    sum.second = t1.second\n",
    "    increment(sum,t2.second)\n",
    "    return sum  \n",
    "\n",
    "start = Time()\n",
    "start.hour = 9\n",
    "start.minute = 45\n",
    "start.second = 00\n",
    "duration = Time()\n",
    "duration.hour = 1\n",
    "duration.minute = 35\n",
    "duration.second = 00\n",
    "done = add_time(start,duration)\n",
    "print_time(done)"
   ]
  },
  {
   "cell_type": "code",
   "execution_count": 31,
   "metadata": {},
   "outputs": [
    {
     "name": "stdout",
     "output_type": "stream",
     "text": [
      "11:20:00\n"
     ]
    }
   ],
   "source": [
    "def increment(time,seconds):\n",
    "    incremento = Time()\n",
    "    incremento.hour = time.hour\n",
    "    incremento.minute = time.minute\n",
    "    incremento.second = time.second\n",
    "    incremento.second = incremento.second + seconds\n",
    "    minutos = (incremento.second // 60)\n",
    "    if  minutos > 0:\n",
    "        incremento.second -= 60 * minutos\n",
    "        incremento.minute += minutos\n",
    "    horas = (incremento.minute // 60)\n",
    "    if horas > 0:\n",
    "        incremento.minute -= 60 * horas\n",
    "        incremento.hour += horas\n",
    "    return incremento\n",
    "\n",
    "def add_time(t1,t2):\n",
    "    sum = Time()\n",
    "    sum.hour = t1.hour + t2.hour\n",
    "    sum.minute = t1.minute + t2.minute\n",
    "    sum.second = t1.second\n",
    "    sum = increment(sum,t2.second)\n",
    "    return sum  \n",
    "\n",
    "start = Time()\n",
    "start.hour = 9\n",
    "start.minute = 45\n",
    "start.second = 00\n",
    "duration = Time()\n",
    "duration.hour = 1\n",
    "duration.minute = 35\n",
    "duration.second = 00\n",
    "done = add_time(start,duration)\n",
    "print_time(done)"
   ]
  },
  {
   "cell_type": "markdown",
   "metadata": {},
   "source": [
    "## Prototipação versus planejamento"
   ]
  },
  {
   "cell_type": "code",
   "execution_count": 34,
   "metadata": {},
   "outputs": [
    {
     "name": "stdout",
     "output_type": "stream",
     "text": [
      "11:20:00\n"
     ]
    }
   ],
   "source": [
    "def time_to_int(time):\n",
    "    minutes = time.hour * 60 + time.minute\n",
    "    seconds = minutes * 60 + time.second\n",
    "    return seconds\n",
    "\n",
    "def int_to_time(seconds):\n",
    "    time = Time()\n",
    "    minutes, time.second = divmod(seconds,60)\n",
    "    time.hour, time.minute = divmod(minutes, 60)\n",
    "    return time\n",
    "\n",
    "def add_time(t1,t2):\n",
    "    seconds = time_to_int(t1) + time_to_int(t2)\n",
    "    return int_to_time(seconds)\n",
    "\n",
    "start = Time()\n",
    "start.hour = 9\n",
    "start.minute = 45\n",
    "start.second = 00\n",
    "duration = Time()\n",
    "duration.hour = 1\n",
    "duration.minute = 35\n",
    "duration.second = 00\n",
    "done = add_time(start,duration)\n",
    "print_time(done)"
   ]
  },
  {
   "cell_type": "code",
   "execution_count": 35,
   "metadata": {},
   "outputs": [],
   "source": [
    "def increment(time,seconds):\n",
    "    total_seconds = time_to_int(time)\n",
    "    total_seconds += seconds\n",
    "    return int_to_time(total_seconds)"
   ]
  },
  {
   "cell_type": "markdown",
   "metadata": {},
   "source": [
    "## Depuração"
   ]
  },
  {
   "cell_type": "code",
   "execution_count": 36,
   "metadata": {},
   "outputs": [],
   "source": [
    "def valid_time(time):\n",
    "    if time.hour < 0 or time.minute < 0 or time.second < 0:\n",
    "        return False\n",
    "    if time.minute >= 60 or time.second >= 60:\n",
    "        return False\n",
    "    return True\n",
    "\n",
    "def add_time(t1,t2):\n",
    "    if not valid_time(t1) or not valid_time(t2):\n",
    "        raise ValueError('invalid Time object in add_time')\n",
    "    \n",
    "    seconds = time_to_int(t1) + time_to_int(t2)\n",
    "    return int_to_time(seconds)"
   ]
  },
  {
   "cell_type": "code",
   "execution_count": 37,
   "metadata": {},
   "outputs": [],
   "source": [
    "def add_time(t1,t2):\n",
    "    assert valid_time(t1) and valid_time(t2)\n",
    "    seconds = time_to_int(t1) + time_to_int(t2)\n",
    "    return int_to_time(seconds)"
   ]
  },
  {
   "cell_type": "markdown",
   "metadata": {},
   "source": [
    "## Exercícios"
   ]
  },
  {
   "cell_type": "code",
   "execution_count": 38,
   "metadata": {},
   "outputs": [
    {
     "name": "stdout",
     "output_type": "stream",
     "text": [
      "00:09:00\n"
     ]
    }
   ],
   "source": [
    "class Time:\n",
    "    def __init__(self, hour=0, minute=0, second=0):\n",
    "        self.hour = hour\n",
    "        self.minute = minute\n",
    "        self.second = second\n",
    "\n",
    "def time_to_int(time):\n",
    "    minutes = time.hour * 60 + time.minute\n",
    "    seconds = minutes * 60 + time.second\n",
    "    return seconds\n",
    "\n",
    "def int_to_time(seconds):\n",
    "    time = Time()\n",
    "    minutes, time.second = divmod(seconds, 60)\n",
    "    time.hour, time.minute = divmod(minutes, 60)\n",
    "    return time\n",
    "\n",
    "def valid_time(time):\n",
    "    if time.hour < 0 or time.minute < 0 or time.second < 0:\n",
    "        return False\n",
    "    if time.minute >= 60 or time.second >= 60:\n",
    "        return False\n",
    "    return True\n",
    "\n",
    "def add_time(t1, t2):\n",
    "    assert valid_time(t1) and valid_time(t2)\n",
    "    seconds = time_to_int(t1) + time_to_int(t2)\n",
    "    return int_to_time(seconds)\n",
    "\n",
    "def mul_time(time, factor):\n",
    "    total_seconds = time_to_int(time)\n",
    "    total_seconds *= factor\n",
    "    return int_to_time(int(total_seconds))\n",
    "\n",
    "# Função para calcular o tempo médio por milha\n",
    "def average_pace(total_time, distance):\n",
    "    return mul_time(total_time, 1 / distance)\n",
    "\n",
    "# Função para imprimir o tempo no formato hh:mm:ss\n",
    "def print_time(time):\n",
    "    print(f'{time.hour:02d}:{time.minute:02d}:{time.second:02d}')\n",
    "\n",
    "# Exemplo de uso\n",
    "race_time = Time(1, 30, 0)  # 1 hora e 30 minutos\n",
    "distance = 10  # 10 milhas\n",
    "average_pace_time = average_pace(race_time, distance)\n",
    "print_time(average_pace_time)\n"
   ]
  },
  {
   "cell_type": "code",
   "execution_count": 41,
   "metadata": {},
   "outputs": [
    {
     "data": {
      "text/plain": [
       "'Sunday'"
      ]
     },
     "execution_count": 41,
     "metadata": {},
     "output_type": "execute_result"
    }
   ],
   "source": [
    "import datetime\n",
    "\n",
    "def pega_dia_da_semana():\n",
    "    now = datetime.datetime.now()\n",
    "    dia_da_semana = now.strftime('%A')\n",
    "    return dia_da_semana\n",
    "\n",
    "pega_dia_da_semana()"
   ]
  },
  {
   "cell_type": "code",
   "execution_count": 42,
   "metadata": {},
   "outputs": [
    {
     "name": "stdout",
     "output_type": "stream",
     "text": [
      "Você tem 33 anos.\n",
      "Faltam 218 dias, 10 horas, 25 minutos e 14 segundos para o seu próximo aniversário.\n"
     ]
    }
   ],
   "source": [
    "import datetime\n",
    "\n",
    "def calculate_age_and_time_until_next_birthday(birthday):\n",
    "    today = datetime.date.today()\n",
    "    age = today.year - birthday.year\n",
    "    if (today.month, today.day) < (birthday.month, birthday.day):\n",
    "        age -= 1\n",
    "\n",
    "    next_birthday = datetime.date(today.year, birthday.month, birthday.day)\n",
    "    if today >= next_birthday:\n",
    "        next_birthday = datetime.date(today.year + 1, birthday.month, birthday.day)\n",
    "\n",
    "    time_until_next_birthday = datetime.datetime.combine(next_birthday, datetime.time()) - datetime.datetime.now()\n",
    "\n",
    "    days = time_until_next_birthday.days\n",
    "    hours, remainder = divmod(time_until_next_birthday.seconds, 3600)\n",
    "    minutes, seconds = divmod(remainder, 60)\n",
    "\n",
    "    return age, days, hours, minutes, seconds\n",
    "\n",
    "def main():\n",
    "    birthday_str = input(\"Digite seu aniversário (YYYY-MM-DD): \")\n",
    "    birthday = datetime.datetime.strptime(birthday_str, \"%Y-%m-%d\").date()\n",
    "\n",
    "    age, days, hours, minutes, seconds = calculate_age_and_time_until_next_birthday(birthday)\n",
    "\n",
    "    print(f\"Você tem {age} anos.\")\n",
    "    print(f\"Faltam {days} dias, {hours} horas, {minutes} minutos e {seconds} segundos para o seu próximo aniversário.\")\n",
    "\n",
    "if __name__ == \"__main__\":\n",
    "    main()\n"
   ]
  },
  {
   "cell_type": "code",
   "execution_count": 43,
   "metadata": {},
   "outputs": [
    {
     "name": "stdout",
     "output_type": "stream",
     "text": [
      "O Dia Duplo é: 1992-10-18\n"
     ]
    }
   ],
   "source": [
    "import datetime\n",
    "\n",
    "def calculate_double_day(birthday1, birthday2):\n",
    "    # Garantir que birthday1 seja a data de nascimento da pessoa mais velha\n",
    "    if birthday1 > birthday2:\n",
    "        birthday1, birthday2 = birthday2, birthday1\n",
    "    \n",
    "    # Calcular a diferença de idade em dias\n",
    "    age_difference_days = (birthday2 - birthday1).days\n",
    "    \n",
    "    # Calcular os dias até o Dia Duplo\n",
    "    double_day_delta = 2 * age_difference_days\n",
    "    \n",
    "    # O Dia Duplo é a data de aniversário da pessoa mais nova mais o delta calculado\n",
    "    double_day = birthday2 + datetime.timedelta(days=double_day_delta)\n",
    "    \n",
    "    return double_day\n",
    "\n",
    "def main():\n",
    "    birthday1_str = input(\"Digite o aniversário da primeira pessoa (YYYY-MM-DD): \")\n",
    "    birthday2_str = input(\"Digite o aniversário da segunda pessoa (YYYY-MM-DD): \")\n",
    "    \n",
    "    birthday1 = datetime.datetime.strptime(birthday1_str, \"%Y-%m-%d\").date()\n",
    "    birthday2 = datetime.datetime.strptime(birthday2_str, \"%Y-%m-%d\").date()\n",
    "    \n",
    "    double_day = calculate_double_day(birthday1, birthday2)\n",
    "    \n",
    "    print(f\"O Dia Duplo é: {double_day.strftime('%Y-%m-%d')}\")\n",
    "\n",
    "if __name__ == \"__main__\":\n",
    "    main()\n"
   ]
  },
  {
   "cell_type": "code",
   "execution_count": 45,
   "metadata": {},
   "outputs": [
    {
     "name": "stdout",
     "output_type": "stream",
     "text": [
      "O dia em que uma pessoa é 3.0 vezes mais velha que a outra é: 1992-05-08\n"
     ]
    }
   ],
   "source": [
    "import datetime\n",
    "\n",
    "def calculate_n_times_older_day(birthday1, birthday2, N):\n",
    "    # Garantir que birthday1 seja a data de nascimento da pessoa mais velha\n",
    "    if birthday1 > birthday2:\n",
    "        birthday1, birthday2 = birthday2, birthday1\n",
    "    \n",
    "    # Calcular a diferença de idade em dias\n",
    "    age_difference_days = (birthday2 - birthday1).days\n",
    "    \n",
    "    # Calcular os dias até o dia em que uma pessoa é N vezes mais velha\n",
    "    n_times_older_day_delta = (N / (N - 1)) * age_difference_days\n",
    "    \n",
    "    # O dia em que uma pessoa é N vezes mais velha é a data de aniversário da pessoa mais nova mais o delta calculado\n",
    "    n_times_older_day = birthday2 + datetime.timedelta(days=n_times_older_day_delta)\n",
    "    \n",
    "    return n_times_older_day\n",
    "\n",
    "def main():\n",
    "    birthday1_str = input(\"Digite o aniversário da primeira pessoa (YYYY-MM-DD): \")\n",
    "    birthday2_str = input(\"Digite o aniversário da segunda pessoa (YYYY-MM-DD): \")\n",
    "    N = float(input(\"Digite o valor de N: \"))\n",
    "    \n",
    "    birthday1 = datetime.datetime.strptime(birthday1_str, \"%Y-%m-%d\").date()\n",
    "    birthday2 = datetime.datetime.strptime(birthday2_str, \"%Y-%m-%d\").date()\n",
    "    \n",
    "    n_times_older_day = calculate_n_times_older_day(birthday1, birthday2, N)\n",
    "    \n",
    "    print(f\"O dia em que uma pessoa é {N} vezes mais velha que a outra é: {n_times_older_day.strftime('%Y-%m-%d')}\")\n",
    "\n",
    "if __name__ == \"__main__\":\n",
    "    main()\n"
   ]
  }
 ],
 "metadata": {
  "kernelspec": {
   "display_name": "Python 3",
   "language": "python",
   "name": "python3"
  },
  "language_info": {
   "codemirror_mode": {
    "name": "ipython",
    "version": 3
   },
   "file_extension": ".py",
   "mimetype": "text/x-python",
   "name": "python",
   "nbconvert_exporter": "python",
   "pygments_lexer": "ipython3",
   "version": "3.10.14"
  }
 },
 "nbformat": 4,
 "nbformat_minor": 2
}
