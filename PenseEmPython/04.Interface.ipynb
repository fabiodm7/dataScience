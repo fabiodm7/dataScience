{
 "cells": [
  {
   "cell_type": "markdown",
   "metadata": {},
   "source": [
    "# Estudo de caso: projeto de interface"
   ]
  },
  {
   "cell_type": "markdown",
   "metadata": {},
   "source": [
    "## Módulo turtle"
   ]
  },
  {
   "cell_type": "markdown",
   "metadata": {},
   "source": [
    "As instruções neste capítulo funcionarão de maneira mais apropriada se cada célula com a instrução `import turtle` for separada em um arquivo .py"
   ]
  },
  {
   "cell_type": "code",
   "execution_count": null,
   "metadata": {},
   "outputs": [],
   "source": [
    "import turtle\n",
    "\n",
    "bob = turtle.Turtle()"
   ]
  },
  {
   "cell_type": "code",
   "execution_count": null,
   "metadata": {},
   "outputs": [],
   "source": [
    "import turtle\n",
    "\n",
    "bob = turtle.Turtle()\n",
    "print(bob)\n",
    "turtle.mainloop()"
   ]
  },
  {
   "cell_type": "code",
   "execution_count": null,
   "metadata": {},
   "outputs": [],
   "source": [
    "import turtle\n",
    "\n",
    "bob = turtle.Turtle()\n",
    "print(bob)\n",
    "\n",
    "bob.fd(100)\n",
    "bob.lt(90)\n",
    "bob.fd(100)\n",
    "\n",
    "turtle.mainloop()"
   ]
  },
  {
   "cell_type": "code",
   "execution_count": null,
   "metadata": {},
   "outputs": [],
   "source": [
    "import turtle\n",
    "\n",
    "bob = turtle.Turtle()\n",
    "print(bob)\n",
    "\n",
    "bob.fd(100)\n",
    "bob.lt(90)\n",
    "bob.fd(100)\n",
    "bob.lt(90)\n",
    "bob.fd(100)\n",
    "bob.lt(90)\n",
    "bob.fd(100)\n",
    "\n",
    "turtle.mainloop()"
   ]
  },
  {
   "cell_type": "markdown",
   "metadata": {},
   "source": [
    "## Repetição simples"
   ]
  },
  {
   "cell_type": "code",
   "execution_count": null,
   "metadata": {},
   "outputs": [],
   "source": [
    "for i in range(4):\n",
    "    print('Hello!')"
   ]
  },
  {
   "cell_type": "code",
   "execution_count": null,
   "metadata": {},
   "outputs": [],
   "source": [
    "import turtle\n",
    "\n",
    "bob = turtle.Turtle()\n",
    "print(bob)\n",
    "\n",
    "for i in range(4):\n",
    "    bob.fd(100)\n",
    "    bob.lt(90)\n",
    "\n",
    "turtle.mainloop()"
   ]
  },
  {
   "cell_type": "markdown",
   "metadata": {},
   "source": [
    "## Exercícios"
   ]
  },
  {
   "cell_type": "code",
   "execution_count": null,
   "metadata": {},
   "outputs": [],
   "source": [
    "# 1. Escreva uma função chamada square que receba um parâmetro chamado t, que é um\n",
    "# turtle. Ela deve usar o turtle para desenhar um quadrado.\n",
    "# Escreva uma chamada de função que passe bob como um argumento para o square e\n",
    "# então execute o programa novamente.\n",
    "import turtle\n",
    "\n",
    "def square(t):\n",
    "    for i in range(4):\n",
    "        t.fd(100)\n",
    "        t.lt(90)\n",
    "\n",
    "\n",
    "bob = turtle.Turtle()\n",
    "print(bob)\n",
    "\n",
    "square(bob)\n",
    "\n",
    "turtle.mainloop()\n"
   ]
  },
  {
   "cell_type": "code",
   "execution_count": null,
   "metadata": {},
   "outputs": [],
   "source": [
    "# 2. Acrescente outro parâmetro, chamado length, ao square. Altere o corpo para que o\n",
    "# comprimento dos lados seja length e então altere a chamada da função para fornecer\n",
    "# um segundo argumento. Execute o programa novamente. Teste o seu programa com\n",
    "# uma variedade de valores para length.\n",
    "import turtle\n",
    "\n",
    "def square(t, length):\n",
    "    for i in range(4):\n",
    "        t.fd(length)\n",
    "        t.lt(90)\n",
    "\n",
    "\n",
    "bob = turtle.Turtle()\n",
    "print(bob)\n",
    "\n",
    "square(bob,10)\n",
    "\n",
    "turtle.mainloop()\n"
   ]
  },
  {
   "cell_type": "code",
   "execution_count": null,
   "metadata": {},
   "outputs": [],
   "source": [
    "# 3. Faça uma cópia do square e mude o nome para polygon. Acrescente outro parâmetro\n",
    "# chamado n e altere o corpo para que desenhe um polígono regular de n lados.\n",
    "# Dica: os ângulos exteriores de um polígono regular de n lados são 360/n graus.\n",
    "from math import degrees\n",
    "import turtle\n",
    "\n",
    "def square(t, length):\n",
    "    for i in range(4):\n",
    "        t.fd(length)\n",
    "        t.lt(90)\n",
    "\n",
    "def polygon(t, length, n):\n",
    "    degrees = 360 / n\n",
    "    for i in range(n):\n",
    "        t.fd(length)\n",
    "        t.lt(degrees)\n",
    "\n",
    "\n",
    "bob = turtle.Turtle()\n",
    "print(bob)\n",
    "\n",
    "polygon(bob,100,10)\n",
    "\n",
    "turtle.mainloop()\n"
   ]
  },
  {
   "cell_type": "code",
   "execution_count": null,
   "metadata": {},
   "outputs": [],
   "source": [
    "# 4. Escreva uma função chamada circle que use o turtle, t e um raio r como parâmetros e\n",
    "# desenhe um círculo aproximado ao chamar polygon com um comprimento e número\n",
    "# de lados adequados. Teste a sua função com uma série de valores de r.\n",
    "# Dica: descubra a circunferência do círculo e certifique-se de que length * n =\n",
    "# circumference.\n",
    "from math import pi\n",
    "import turtle\n",
    "\n",
    "def square(t, length):\n",
    "    for i in range(4):\n",
    "        t.fd(length)\n",
    "        t.lt(90)\n",
    "\n",
    "def polygon(t, length, n):\n",
    "    degrees = 360 / n\n",
    "    for i in range(n):\n",
    "        t.fd(length)\n",
    "        t.lt(degrees)\n",
    "\n",
    "def circle(t,r):\n",
    "    circunference = 2 * pi * r\n",
    "    n = int(circunference)\n",
    "    length = circunference / n\n",
    "    polygon(t,length,n)\n",
    "\n",
    "bob = turtle.Turtle()\n",
    "print(bob)\n",
    "\n",
    "circle(bob,100)\n",
    "\n",
    "turtle.mainloop()\n"
   ]
  },
  {
   "cell_type": "code",
   "execution_count": null,
   "metadata": {},
   "outputs": [],
   "source": [
    "# 5. Faça uma versão mais geral do circle chamada arc, que receba um parâmetro\n",
    "# adicional de angle, para determinar qual fração do círculo deve ser desenhada. angle\n",
    "# está em unidades de graus, então quando angle=360, o arc deve desenhar um círculo\n",
    "# completo.\n",
    "from math import pi\n",
    "import turtle\n",
    "\n",
    "def square(t, length):\n",
    "    for i in range(4):\n",
    "        t.fd(length)\n",
    "        t.lt(90)\n",
    "\n",
    "def polygon(t, length, n):\n",
    "    degrees = 360 / n\n",
    "    for i in range(n):\n",
    "        t.fd(length)\n",
    "        t.lt(degrees)\n",
    "\n",
    "def circle(t,r):\n",
    "    circunference = 2 * pi * r\n",
    "    n = int(circunference)\n",
    "    length = circunference / n\n",
    "    polygon(t,length,n)\n",
    "\n",
    "def arc(t,r,angle):\n",
    "    arc_length = 2 * pi * r * angle / 360\n",
    "    n = int(arc_length)\n",
    "    length = arc_length / n\n",
    "    arc_angle = angle / n\n",
    "    for i in range (n):\n",
    "        t.fd(length)\n",
    "        t.lt(arc_angle)\n",
    "\n",
    "bob = turtle.Turtle()\n",
    "print(bob)\n",
    "\n",
    "arc(bob,100,180)\n",
    "\n",
    "turtle.mainloop()\n"
   ]
  },
  {
   "cell_type": "markdown",
   "metadata": {},
   "source": [
    "## Encapsulamento"
   ]
  },
  {
   "cell_type": "code",
   "execution_count": null,
   "metadata": {},
   "outputs": [],
   "source": [
    "import turtle\n",
    "\n",
    "def square(t):\n",
    "    for i in range(4):\n",
    "        t.fd(100)\n",
    "        t.lt(90)\n",
    "\n",
    "\n",
    "bob = turtle.Turtle()\n",
    "print(bob)\n",
    "\n",
    "square(bob)\n",
    "\n",
    "alice = turtle.Turtle()\n",
    "square(alice)\n",
    "\n",
    "turtle.mainloop()"
   ]
  },
  {
   "cell_type": "markdown",
   "metadata": {},
   "source": [
    "## Generalizacao"
   ]
  },
  {
   "cell_type": "code",
   "execution_count": null,
   "metadata": {},
   "outputs": [],
   "source": [
    "import turtle\n",
    "\n",
    "def square(t,length):\n",
    "    for i in range(4):\n",
    "        t.fd(length)\n",
    "        t.lt(90)\n",
    "\n",
    "\n",
    "bob = turtle.Turtle()\n",
    "print(bob)\n",
    "\n",
    "square(bob,10)\n",
    "\n",
    "alice = turtle.Turtle()\n",
    "square(alice,20)\n",
    "\n",
    "turtle.mainloop()"
   ]
  },
  {
   "cell_type": "code",
   "execution_count": null,
   "metadata": {},
   "outputs": [],
   "source": [
    "import turtle\n",
    "\n",
    "def polygon(t, n, length):\n",
    "    degrees = 360 / n\n",
    "    for i in range(n):\n",
    "        t.fd(length)\n",
    "        t.lt(degrees)\n",
    "\n",
    "bob = turtle.Turtle()\n",
    "polygon(bob,7,70)\n",
    "\n",
    "turtle.mainloop()"
   ]
  },
  {
   "cell_type": "markdown",
   "metadata": {},
   "source": [
    "## Projeto da interface"
   ]
  },
  {
   "cell_type": "code",
   "execution_count": null,
   "metadata": {},
   "outputs": [],
   "source": [
    "import math\n",
    "import turtle\n",
    "\n",
    "def circle(t, r):\n",
    "    circumference = 2 * math.pi * r\n",
    "    n = 50\n",
    "    length = circumference / n\n",
    "    polygon(t, n, length)\n",
    "\n",
    "bob = turtle.Turtle()\n",
    "circle(bob,70)\n",
    "\n",
    "turtle.mainloop()"
   ]
  },
  {
   "cell_type": "code",
   "execution_count": null,
   "metadata": {},
   "outputs": [],
   "source": [
    "import math\n",
    "import turtle\n",
    "\n",
    "def circle(t, r):\n",
    "    circumference = 2 * math.pi * r\n",
    "    n = int(circumference / 3) + 1\n",
    "    length = circumference / n\n",
    "    polygon(t, n, length)\n",
    "\n",
    "bob = turtle.Turtle()\n",
    "circle(bob,70)\n",
    "\n",
    "turtle.mainloop()"
   ]
  },
  {
   "cell_type": "markdown",
   "metadata": {},
   "source": [
    "## Refatoracao"
   ]
  },
  {
   "cell_type": "code",
   "execution_count": null,
   "metadata": {},
   "outputs": [],
   "source": [
    "import math\n",
    "import turtle\n",
    "\n",
    "def arc(t, r, angle):\n",
    "    arc_length = 2 * math.pi * r * angle / 360\n",
    "    n = int(arc_length / 3) + 1\n",
    "    step_length = arc_length / n\n",
    "    step_angle = angle / n\n",
    "    for i in range(n):\n",
    "        t.fd(step_length)\n",
    "        t.lt(step_angle)\n",
    "\n",
    "bob = turtle.Turtle()\n",
    "arc(bob,7,70)\n",
    "\n",
    "turtle.mainloop()"
   ]
  },
  {
   "cell_type": "code",
   "execution_count": null,
   "metadata": {},
   "outputs": [],
   "source": [
    "import math\n",
    "import turtle\n",
    "\n",
    "def polyline(t, n, length, angle):\n",
    "    for i in range(n):\n",
    "        t.fd(length)\n",
    "        t.lt(angle)\n",
    "\n",
    "def polygon(t, n, length):\n",
    "    angle = 360 / n\n",
    "    polyline(t, n, length, angle)\n",
    "\n",
    "def arc(t, r, angle):\n",
    "    arc_length = 2 * math.pi * r * angle / 360\n",
    "    n = int(arc_length / 3) + 1\n",
    "    step_length = arc_length / n\n",
    "    step_angle = float(angle) / n\n",
    "    polyline(t, n, length=step_length, angle=step_angle)\n",
    "\n",
    "def circle(t, r):\n",
    "    arc(t, r, 360)"
   ]
  },
  {
   "cell_type": "markdown",
   "metadata": {},
   "source": [
    "## Um plano de desenvolvimento"
   ]
  },
  {
   "cell_type": "markdown",
   "metadata": {},
   "source": [
    "1. Comece escrevendo um pequeno programa sem definições de função.\n",
    "\n",
    "2. Uma vez que o programa esteja funcionando, identifique uma parte coerente dele,\n",
    "encapsule essa parte em uma função e dê um nome a ela.\n",
    "\n",
    "3. Generalize a função acrescentando os parâmetros adequados.\n",
    "\n",
    "4. Repita os passos 1-3 até que tenha um conjunto de funções operantes. Copie e cole o\n",
    "código operante para evitar a redigitação (e redepuração).\n",
    "\n",
    "5. Procure oportunidades de melhorar o programa pela refatoração. Por exemplo, se\n",
    "você tem um código semelhante em vários lugares, pode ser uma boa ideia fatorá-lo\n",
    "em uma função geral adequada."
   ]
  },
  {
   "cell_type": "markdown",
   "metadata": {},
   "source": [
    "## Docstring"
   ]
  },
  {
   "cell_type": "code",
   "execution_count": null,
   "metadata": {},
   "outputs": [],
   "source": [
    "import math\n",
    "import turtle\n",
    "\n",
    "def polyline(t, n, length, angle):\n",
    "    \"\"\"\n",
    "    Desenha n segmentos de reta com o comprimento dado e ângulo, \n",
    "    em graus, entre eles. t é um turtle.\n",
    "    \"\"\"\n",
    "    for i in range(n):\n",
    "        t.fd(length)\n",
    "        t.lt(angle)"
   ]
  },
  {
   "cell_type": "markdown",
   "metadata": {},
   "source": [
    "## Exercícios"
   ]
  },
  {
   "cell_type": "markdown",
   "metadata": {},
   "source": [
    "### Exercício 4.1"
   ]
  },
  {
   "cell_type": "code",
   "execution_count": 14,
   "metadata": {},
   "outputs": [],
   "source": [
    "# Baixe o código deste capítulo no site http://thinkpython2.com/code/polygon.py.\n",
    "# 1. Desenhe um diagrama da pilha que mostre o estado do programa enquanto executa\n",
    "# circle (bob, radius). Você pode fazer a aritmética à mão ou acrescentar instruções\n",
    "# print ao código."
   ]
  },
  {
   "cell_type": "markdown",
   "metadata": {},
   "source": [
    "|**função**|**variável**|**valor**|\n",
    "|:---:|:---|:---|\n",
    "|main|bob   |Turtle|\n",
    "|    |radius|100   |\n",
    "|circle|t|Turtle|\n",
    "|      |r|100   |\n",
    "|arc|t          |Turtle|\n",
    "|   |r          |100   |\n",
    "|   |angle      |360   |\n",
    "|   |arc_lentgh |628.32|\n",
    "|   |n          |160   |\n",
    "|   |step_length|3.93  |\n",
    "|   |step_angle |2.25  |\n",
    "|polyline|t     |Turtle|\n",
    "|        |n     |160   |\n",
    "|        |length|3.93  |\n",
    "|        |angle |2.25  |"
   ]
  },
  {
   "cell_type": "code",
   "execution_count": null,
   "metadata": {},
   "outputs": [],
   "source": [
    "# 2. A versão de arc na seção 4.7 - Refatoração não é muito precisa porque a\n",
    "# aproximação linear do círculo está sempre do lado de fora do círculo verdadeiro.\n",
    "# Consequentemente, o Turtle acaba ficando alguns píxeis de distância do destino\n",
    "# correto. Minha solução mostra um modo de reduzir o efeito deste erro. Leia o código\n",
    "# e veja se faz sentido para você. Se desenhar um diagrama, poderá ver como funciona."
   ]
  },
  {
   "cell_type": "markdown",
   "metadata": {},
   "source": [
    "*arc - primeira versão*\n",
    "\n",
    "|**função**|**variável**|**valor**|\n",
    "|:---:|:---|:---|\n",
    "|main|bob   |Turtle|\n",
    "|arc|t          |Turtle|\n",
    "|   |r          |100   | \n",
    "|   |angle      |360   |\n",
    "|   |arc_length |628.32|\n",
    "|   |n          |210   |\n",
    "|   |step_length|2.99  |\n",
    "|   |step_angle |1.71  |\n",
    "\n",
    "*arc - segunda versão*\n",
    "|**função**|**variável**|**valor**|\n",
    "|:---:|:---|:---|\n",
    "|main|bob       |Turtle|\n",
    "|arc|t          |Turtle|\n",
    "|   |r          |100   |\n",
    "|   |angle      |360   |\n",
    "|   |arc_lentgh |628.32|\n",
    "|   |n          |160   |\n",
    "|   |step_length|3.93  |\n",
    "|   |step_angle |2.25  |"
   ]
  },
  {
   "cell_type": "markdown",
   "metadata": {},
   "source": [
    "### Exercício 4.2"
   ]
  },
  {
   "cell_type": "code",
   "execution_count": null,
   "metadata": {},
   "outputs": [],
   "source": [
    "# Escreva um conjunto de funções adequadamente geral que possa desenhar flores\n",
    "\n",
    "import math\n",
    "import turtle\n",
    "\n",
    "def polyline(t, n, length, angle):\n",
    "    for i in range(n):\n",
    "        t.fd(length)\n",
    "        t.lt(angle)\n",
    "\n",
    "def arc(t, r, angle):\n",
    "    arc_length = 2 * math.pi * r * angle / 360\n",
    "    n = int(arc_length / 4) + 3\n",
    "    step_length = arc_length / n\n",
    "    step_angle = float(angle) / n\n",
    "    polyline(t, n, length=step_length, angle=step_angle)\n",
    "\n",
    "def petala(t, r, angle):\n",
    "    for i in range(2):\n",
    "        arc(t, r, angle)\n",
    "        t.lt(180-angle)\n",
    "\n",
    "def flower(t, r, n, angle):\n",
    "    for i in range(n):\n",
    "        petala(t, r, angle)\n",
    "        t.lt(360 / n)\n",
    "\n",
    "def move(t, length):\n",
    "    t.pu()\n",
    "    t.fd(length)\n",
    "    t.pd()\n",
    "\n",
    "bob = turtle.Turtle()\n",
    "\n",
    "move(bob, -200)\n",
    "flower(bob, 60, 7, 60)\n",
    "\n",
    "move(bob, 200)\n",
    "flower(bob, 40, 10, 80)\n",
    "\n",
    "move(bob, 200)\n",
    "flower(bob, 140, 20, 20)\n",
    "\n",
    "bob.hideturtle()\n",
    "\n",
    "turtle.mainloop()"
   ]
  },
  {
   "cell_type": "markdown",
   "metadata": {},
   "source": [
    "### Exercício 4.3"
   ]
  },
  {
   "cell_type": "code",
   "execution_count": null,
   "metadata": {},
   "outputs": [],
   "source": [
    "# Escreva um conjunto de funções adequadamente geral que possa desenhar pizzas\n",
    "\n",
    "import math\n",
    "import turtle\n",
    "\n",
    "def isoceles(t, r, angle):\n",
    "    y = r * math.sin(angle * math.pi / 180)\n",
    "    t.rt(angle)\n",
    "    t.fd(r)\n",
    "    t.lt(90 + angle)\n",
    "    t.fd(2 * y)\n",
    "    t.lt(90 + angle)\n",
    "    t.fd(r)\n",
    "    t.lt(180 - angle)\n",
    "\n",
    "def pedaco(t, n, r):\n",
    "    angle = 360 / n\n",
    "    for i in range(n):\n",
    "        isoceles(t, r, angle / 2)\n",
    "        t.lt(angle)\n",
    "\n",
    "def pizza(t, r, n):\n",
    "    pedaco(t, n, r)\n",
    "    t.pu()\n",
    "    t.fd(r * 2 + 10)\n",
    "    t.pd()\n",
    "\n",
    "def move(t, length):\n",
    "    t.pu()\n",
    "    t.fd(length)\n",
    "    t.pd()\n",
    "\n",
    "bob = turtle.Turtle()\n",
    "\n",
    "tamanho = 60\n",
    "\n",
    "move(bob, -200)\n",
    "pizza(bob, tamanho, 5)\n",
    "\n",
    "move(bob, 200)\n",
    "pizza(bob, tamanho, 6)\n",
    "\n",
    "move(bob, 200)\n",
    "pizza(bob, tamanho, 7)\n",
    "\n",
    "bob.hideturtle()\n",
    "\n",
    "turtle.mainloop()"
   ]
  },
  {
   "cell_type": "markdown",
   "metadata": {},
   "source": [
    "### Exercício 4.4"
   ]
  },
  {
   "cell_type": "code",
   "execution_count": null,
   "metadata": {},
   "outputs": [],
   "source": [
    "# As letras do alfabeto podem ser construídas a partir de um número moderado de elementos\n",
    "# básicos, como linhas verticais e horizontais e algumas curvas. Crie um alfabeto que possa\n",
    "# ser desenhado com um número mínimo de elementos básicos e então escreva funções que\n",
    "# desenhem as letras.\n",
    "# Você deve escrever uma função para cada letra, com os nomes draw_a, draw_b etc., e\n",
    "# colocar suas funções em um arquivo chamado letters.py. Você pode baixar uma “máquina\n",
    "# de escrever de turtle” no site http://thinkpython2.com/code/typewriter.py para ajudar a\n",
    "# testar o seu código.\n",
    "# Você pode ver uma solução no site http://thinkpython2.com/code/letters.py; ela também\n",
    "# exige http://thinkpython2.com/code/polygon.py.\n",
    "\n",
    "import letters"
   ]
  },
  {
   "cell_type": "markdown",
   "metadata": {},
   "source": [
    "### Exercício 4.5"
   ]
  },
  {
   "cell_type": "code",
   "execution_count": null,
   "metadata": {},
   "outputs": [],
   "source": [
    "# Leia sobre espirais em https://pt.wikipedia.org/wiki/Espiral; então escreva um programa\n",
    "# que desenhe uma espiral de Arquimedes (ou um dos outros tipos).\n",
    "\n",
    "import turtle\n",
    "import math\n",
    "\n",
    "def arquimediana(t, n, a=1, b=3):\n",
    "\n",
    "    for i in range(n):\n",
    "        theta = i / 20 * math.pi\n",
    "        x = (a + b * theta) * math.cos(theta)\n",
    "        y = (a + b * theta) * math.sin(theta)\n",
    "        t.goto(x, y)\n",
    "\n",
    "bob = turtle.Turtle()\n",
    "\n",
    "arquimediana(bob, n=1000)\n",
    "\n",
    "turtle.mainloop()"
   ]
  }
 ],
 "metadata": {
  "kernelspec": {
   "display_name": "Python 3.10.6 64-bit",
   "language": "python",
   "name": "python3"
  },
  "language_info": {
   "codemirror_mode": {
    "name": "ipython",
    "version": 3
   },
   "file_extension": ".py",
   "mimetype": "text/x-python",
   "name": "python",
   "nbconvert_exporter": "python",
   "pygments_lexer": "ipython3",
   "version": "3.10.6"
  },
  "orig_nbformat": 4,
  "vscode": {
   "interpreter": {
    "hash": "916dbcbb3f70747c44a77c7bcd40155683ae19c65e1c03b4aa3499c5328201f1"
   }
  }
 },
 "nbformat": 4,
 "nbformat_minor": 2
}
