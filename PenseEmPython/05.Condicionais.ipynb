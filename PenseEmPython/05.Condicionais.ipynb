{
 "cells": [
  {
   "cell_type": "markdown",
   "metadata": {},
   "source": [
    "# Condicionais e recursividade"
   ]
  },
  {
   "cell_type": "markdown",
   "metadata": {},
   "source": [
    "## Divisão pelo piso e módulo"
   ]
  },
  {
   "cell_type": "code",
   "execution_count": 1,
   "metadata": {},
   "outputs": [
    {
     "data": {
      "text/plain": [
       "1.75"
      ]
     },
     "execution_count": 1,
     "metadata": {},
     "output_type": "execute_result"
    }
   ],
   "source": [
    "minutos = 105\n",
    "minutos / 60"
   ]
  },
  {
   "cell_type": "code",
   "execution_count": 2,
   "metadata": {},
   "outputs": [
    {
     "data": {
      "text/plain": [
       "1"
      ]
     },
     "execution_count": 2,
     "metadata": {},
     "output_type": "execute_result"
    }
   ],
   "source": [
    "horas = minutos // 60\n",
    "horas"
   ]
  },
  {
   "cell_type": "code",
   "execution_count": 3,
   "metadata": {},
   "outputs": [
    {
     "data": {
      "text/plain": [
       "45"
      ]
     },
     "execution_count": 3,
     "metadata": {},
     "output_type": "execute_result"
    }
   ],
   "source": [
    "resto = minutos - horas * 60\n",
    "resto"
   ]
  },
  {
   "cell_type": "code",
   "execution_count": 4,
   "metadata": {},
   "outputs": [
    {
     "data": {
      "text/plain": [
       "45"
      ]
     },
     "execution_count": 4,
     "metadata": {},
     "output_type": "execute_result"
    }
   ],
   "source": [
    "resto = minutos % 60\n",
    "resto"
   ]
  },
  {
   "cell_type": "code",
   "execution_count": 5,
   "metadata": {},
   "outputs": [
    {
     "data": {
      "text/plain": [
       "7"
      ]
     },
     "execution_count": 5,
     "metadata": {},
     "output_type": "execute_result"
    }
   ],
   "source": [
    "123456787 % 10"
   ]
  },
  {
   "cell_type": "code",
   "execution_count": 6,
   "metadata": {},
   "outputs": [
    {
     "data": {
      "text/plain": [
       "87"
      ]
     },
     "execution_count": 6,
     "metadata": {},
     "output_type": "execute_result"
    }
   ],
   "source": [
    "123456787 % 100"
   ]
  },
  {
   "cell_type": "code",
   "execution_count": 7,
   "metadata": {},
   "outputs": [
    {
     "data": {
      "text/plain": [
       "787"
      ]
     },
     "execution_count": 7,
     "metadata": {},
     "output_type": "execute_result"
    }
   ],
   "source": [
    "123456787 % 1000"
   ]
  },
  {
   "cell_type": "code",
   "execution_count": 8,
   "metadata": {},
   "outputs": [
    {
     "data": {
      "text/plain": [
       "6787"
      ]
     },
     "execution_count": 8,
     "metadata": {},
     "output_type": "execute_result"
    }
   ],
   "source": [
    "123456787 % 10000"
   ]
  },
  {
   "cell_type": "markdown",
   "metadata": {},
   "source": [
    "## Expressões booleanas"
   ]
  },
  {
   "cell_type": "code",
   "execution_count": 9,
   "metadata": {},
   "outputs": [
    {
     "data": {
      "text/plain": [
       "True"
      ]
     },
     "execution_count": 9,
     "metadata": {},
     "output_type": "execute_result"
    }
   ],
   "source": [
    "5 == 5"
   ]
  },
  {
   "cell_type": "code",
   "execution_count": 10,
   "metadata": {},
   "outputs": [
    {
     "data": {
      "text/plain": [
       "False"
      ]
     },
     "execution_count": 10,
     "metadata": {},
     "output_type": "execute_result"
    }
   ],
   "source": [
    "5 == 6"
   ]
  },
  {
   "cell_type": "code",
   "execution_count": 11,
   "metadata": {},
   "outputs": [
    {
     "data": {
      "text/plain": [
       "bool"
      ]
     },
     "execution_count": 11,
     "metadata": {},
     "output_type": "execute_result"
    }
   ],
   "source": [
    "type(True)"
   ]
  },
  {
   "cell_type": "code",
   "execution_count": 12,
   "metadata": {},
   "outputs": [
    {
     "data": {
      "text/plain": [
       "bool"
      ]
     },
     "execution_count": 12,
     "metadata": {},
     "output_type": "execute_result"
    }
   ],
   "source": [
    "type(False)"
   ]
  },
  {
   "cell_type": "markdown",
   "metadata": {},
   "source": [
    "## Operadores lógicos"
   ]
  },
  {
   "cell_type": "code",
   "execution_count": 13,
   "metadata": {},
   "outputs": [
    {
     "data": {
      "text/plain": [
       "True"
      ]
     },
     "execution_count": 13,
     "metadata": {},
     "output_type": "execute_result"
    }
   ],
   "source": [
    "42 and True"
   ]
  },
  {
   "cell_type": "code",
   "execution_count": 14,
   "metadata": {},
   "outputs": [
    {
     "data": {
      "text/plain": [
       "0"
      ]
     },
     "execution_count": 14,
     "metadata": {},
     "output_type": "execute_result"
    }
   ],
   "source": [
    "0 and True"
   ]
  },
  {
   "cell_type": "code",
   "execution_count": 15,
   "metadata": {},
   "outputs": [
    {
     "data": {
      "text/plain": [
       "True"
      ]
     },
     "execution_count": 15,
     "metadata": {},
     "output_type": "execute_result"
    }
   ],
   "source": [
    "False or True"
   ]
  },
  {
   "cell_type": "code",
   "execution_count": 16,
   "metadata": {},
   "outputs": [
    {
     "data": {
      "text/plain": [
       "True"
      ]
     },
     "execution_count": 16,
     "metadata": {},
     "output_type": "execute_result"
    }
   ],
   "source": [
    "True or not True"
   ]
  },
  {
   "cell_type": "code",
   "execution_count": 17,
   "metadata": {},
   "outputs": [
    {
     "data": {
      "text/plain": [
       "False"
      ]
     },
     "execution_count": 17,
     "metadata": {},
     "output_type": "execute_result"
    }
   ],
   "source": [
    "True and not True"
   ]
  },
  {
   "cell_type": "markdown",
   "metadata": {},
   "source": [
    "## Execução condicional"
   ]
  },
  {
   "cell_type": "code",
   "execution_count": 18,
   "metadata": {},
   "outputs": [
    {
     "name": "stdout",
     "output_type": "stream",
     "text": [
      "x é positivo\n"
     ]
    }
   ],
   "source": [
    "x = 10\n",
    "if x > 0:\n",
    "    print('x é positivo')\n",
    "\n",
    "x = -10\n",
    "if x > 0:\n",
    "    print('x é positivo')"
   ]
  },
  {
   "cell_type": "code",
   "execution_count": 19,
   "metadata": {},
   "outputs": [],
   "source": [
    "if x < 0:\n",
    "    pass # Fazer algo depois"
   ]
  },
  {
   "cell_type": "markdown",
   "metadata": {},
   "source": [
    "## Execução alternativa"
   ]
  },
  {
   "cell_type": "code",
   "execution_count": 20,
   "metadata": {},
   "outputs": [
    {
     "name": "stdout",
     "output_type": "stream",
     "text": [
      "x é par\n"
     ]
    }
   ],
   "source": [
    "if x % 2 == 0:\n",
    "    print('x é par')\n",
    "else:\n",
    "    print('x é impar')"
   ]
  },
  {
   "cell_type": "markdown",
   "metadata": {},
   "source": [
    "## Condições encadeadas"
   ]
  },
  {
   "cell_type": "code",
   "execution_count": 21,
   "metadata": {},
   "outputs": [
    {
     "name": "stdout",
     "output_type": "stream",
     "text": [
      "x é menor que y\n"
     ]
    }
   ],
   "source": [
    "y = 10\n",
    "\n",
    "if x > y:\n",
    "    print('x é maior que y')\n",
    "elif x < y:\n",
    "    print('x é menor que y')\n",
    "else:\n",
    "    print('x e y são iguais')"
   ]
  },
  {
   "cell_type": "markdown",
   "metadata": {},
   "source": [
    "## Condicionais aninhadas"
   ]
  },
  {
   "cell_type": "code",
   "execution_count": 22,
   "metadata": {},
   "outputs": [
    {
     "name": "stdout",
     "output_type": "stream",
     "text": [
      "x é menor que y\n"
     ]
    }
   ],
   "source": [
    "if x == y:\n",
    "    print('x e y são iguais')\n",
    "else:\n",
    "    if x < y:\n",
    "        print('x é menor que y')\n",
    "    else:\n",
    "        print('x é maior que y')"
   ]
  },
  {
   "cell_type": "code",
   "execution_count": 23,
   "metadata": {},
   "outputs": [
    {
     "name": "stdout",
     "output_type": "stream",
     "text": [
      "x é um número positivo de um digito\n"
     ]
    }
   ],
   "source": [
    "x = 5\n",
    "if 0 < x:\n",
    "    if x < 10:\n",
    "        print('x é um número positivo de um digito')"
   ]
  },
  {
   "cell_type": "code",
   "execution_count": 24,
   "metadata": {},
   "outputs": [
    {
     "name": "stdout",
     "output_type": "stream",
     "text": [
      "x é um número positivo de um digito\n"
     ]
    }
   ],
   "source": [
    "if 0 < x and x < 10:\n",
    "    print('x é um número positivo de um digito')"
   ]
  },
  {
   "cell_type": "code",
   "execution_count": 25,
   "metadata": {},
   "outputs": [
    {
     "name": "stdout",
     "output_type": "stream",
     "text": [
      "x é um número positivo de um digito\n"
     ]
    }
   ],
   "source": [
    "if 0 < x < 10:\n",
    "    print('x é um número positivo de um digito')"
   ]
  },
  {
   "cell_type": "markdown",
   "metadata": {},
   "source": [
    "## Recursividade"
   ]
  },
  {
   "cell_type": "code",
   "execution_count": 26,
   "metadata": {},
   "outputs": [
    {
     "name": "stdout",
     "output_type": "stream",
     "text": [
      "5\n",
      "4\n",
      "3\n",
      "2\n",
      "1\n",
      "Blastoff\n"
     ]
    }
   ],
   "source": [
    "def countdown(n):\n",
    "    if n <= 0:\n",
    "        print('Blastoff')\n",
    "    else:\n",
    "        print(n)\n",
    "        countdown(n-1)\n",
    "\n",
    "countdown(5)"
   ]
  },
  {
   "cell_type": "code",
   "execution_count": 27,
   "metadata": {},
   "outputs": [
    {
     "name": "stdout",
     "output_type": "stream",
     "text": [
      "Spam\n",
      "Spam\n",
      "Spam\n",
      "Spam\n",
      "Spam\n",
      "Spam\n",
      "Spam\n",
      "Spam\n",
      "Spam\n",
      "Spam\n"
     ]
    }
   ],
   "source": [
    "def print_n(s, n):\n",
    "    if n <= 0:\n",
    "        return\n",
    "    print(s)\n",
    "    print_n(s, n-1)\n",
    "\n",
    "print_n('Spam', 10)"
   ]
  },
  {
   "cell_type": "markdown",
   "metadata": {},
   "source": [
    "## Entrada de teclado"
   ]
  },
  {
   "cell_type": "code",
   "execution_count": 28,
   "metadata": {},
   "outputs": [
    {
     "data": {
      "text/plain": [
       "'digita algo'"
      ]
     },
     "execution_count": 28,
     "metadata": {},
     "output_type": "execute_result"
    }
   ],
   "source": [
    "text = input()\n",
    "text"
   ]
  },
  {
   "cell_type": "code",
   "execution_count": 29,
   "metadata": {},
   "outputs": [
    {
     "data": {
      "text/plain": [
       "'fabio'"
      ]
     },
     "execution_count": 29,
     "metadata": {},
     "output_type": "execute_result"
    }
   ],
   "source": [
    "nome = input('Digite o seu nome: ')\n",
    "nome"
   ]
  },
  {
   "cell_type": "code",
   "execution_count": 31,
   "metadata": {},
   "outputs": [
    {
     "data": {
      "text/plain": [
       "5"
      ]
     },
     "execution_count": 31,
     "metadata": {},
     "output_type": "execute_result"
    }
   ],
   "source": [
    "texto = 'Digite um número: '\n",
    "numero = input(texto)\n",
    "int(numero)"
   ]
  },
  {
   "cell_type": "code",
   "execution_count": 32,
   "metadata": {},
   "outputs": [
    {
     "ename": "ValueError",
     "evalue": "invalid literal for int() with base 10: 'sdf'",
     "output_type": "error",
     "traceback": [
      "\u001b[0;31m---------------------------------------------------------------------------\u001b[0m",
      "\u001b[0;31mValueError\u001b[0m                                Traceback (most recent call last)",
      "Cell \u001b[0;32mIn [32], line 3\u001b[0m\n\u001b[1;32m      1\u001b[0m texto \u001b[39m=\u001b[39m \u001b[39m'\u001b[39m\u001b[39mDigite um número: \u001b[39m\u001b[39m'\u001b[39m\n\u001b[1;32m      2\u001b[0m numero \u001b[39m=\u001b[39m \u001b[39minput\u001b[39m(texto)\n\u001b[0;32m----> 3\u001b[0m \u001b[39mint\u001b[39;49m(numero)\n",
      "\u001b[0;31mValueError\u001b[0m: invalid literal for int() with base 10: 'sdf'"
     ]
    }
   ],
   "source": [
    "texto = 'Digite um número: '\n",
    "numero = input(texto)\n",
    "int(numero)"
   ]
  },
  {
   "cell_type": "markdown",
   "metadata": {},
   "source": [
    "## Exercícios"
   ]
  },
  {
   "cell_type": "markdown",
   "metadata": {},
   "source": [
    "### Exercício 5.1"
   ]
  },
  {
   "cell_type": "code",
   "execution_count": 66,
   "metadata": {},
   "outputs": [
    {
     "name": "stdout",
     "output_type": "stream",
     "text": [
      "1665961392.3540173\n",
      "Segundos:  12\n",
      "Minutos:  3\n",
      "Horas:  23\n",
      "Dias:  19281\n"
     ]
    }
   ],
   "source": [
    "# O módulo time fornece uma função, também chamada time, que devolve a Hora Média de\n",
    "# Greenwich na “época”, que é um momento arbitrário usado como ponto de referência. Em\n",
    "# sistemas UNIX, a época é primeiro de janeiro de 1970.\n",
    "# Escreva um script que leia a hora atual e a converta em um tempo em horas, minutos e\n",
    "# segundos, mais o número de dias desde a época.\n",
    "import time\n",
    "\n",
    "tempo_desde_epoca = time.time()\n",
    "print(tempo_desde_epoca)\n",
    "\n",
    "todos_minutos_desde_epoca = tempo_desde_epoca // 60\n",
    "\n",
    "todos_horas_desde_epoca = todos_minutos_desde_epoca // 60\n",
    "\n",
    "dias_desde_epoca = int(todos_horas_desde_epoca // 24)\n",
    "\n",
    "segundos_desde_epoca = int(tempo_desde_epoca - todos_minutos_desde_epoca * 60)\n",
    "\n",
    "minutos_desde_epoca = int(todos_minutos_desde_epoca - todos_horas_desde_epoca * 60)\n",
    "\n",
    "horas_desde_epoca = int(todos_horas_desde_epoca - dias_desde_epoca * 24)\n",
    "\n",
    "print('Segundos: ',segundos_desde_epoca)\n",
    "print('Minutos: ',minutos_desde_epoca)\n",
    "print('Horas: ',horas_desde_epoca)\n",
    "print('Dias: ',dias_desde_epoca)\n"
   ]
  },
  {
   "cell_type": "markdown",
   "metadata": {},
   "source": [
    "### Exercício 5.2"
   ]
  },
  {
   "cell_type": "code",
   "execution_count": 74,
   "metadata": {},
   "outputs": [],
   "source": [
    "# O último teorema de Fermat diz que não existem números inteiros a, b e c tais que a**n +\n",
    "# b**n == c**n para quaisquer valores de n maiores que 2.\n",
    "\n",
    "# 1. Escreva uma função chamada check_fermat que receba quatro parâmetros – a, b, c e\n",
    "# n – e verifique se o teorema de Fermat se mantém. Se n for maior que 2 e a**n +\n",
    "# b**n == c**n o programa deve imprimir, “Holy smokes, Fermat was wrong!” Senão\n",
    "# o programa deve exibir “No, that doesn’t work.”\n",
    "\n",
    "def teste_fermat(a,b,c,n):\n",
    "    if n > 2 and a ** n + b ** n == c ** n:\n",
    "        print('Holy smokes, Fermat was wrong!')\n",
    "        print(a ** n,' + ',b ** n,' == ',c ** n)\n",
    "    else:\n",
    "        print(\"No, that doesn't work.\")\n",
    "        print(a ** n,' + ',b ** n,' != ',c ** n)"
   ]
  },
  {
   "cell_type": "code",
   "execution_count": 75,
   "metadata": {},
   "outputs": [
    {
     "name": "stdout",
     "output_type": "stream",
     "text": [
      "Vamos verificar se você pode contextar Fermat: \n",
      "    'Não existem números inteiros tais que a**n + b**n == c**n' se n > 2'\n",
      "Você testou:  4 ** 8  +  5 ** 8  =  6 ** 8\n",
      "No, that doesn't work.\n",
      "65536  +  390625  !=  1679616\n"
     ]
    }
   ],
   "source": [
    "# 2. Escreva uma função que peça ao usuário para digitar valores para a, b, c e n, os\n",
    "# converta em números inteiros e use check_fermat para verificar se violam o teorema\n",
    "# de Fermat.\n",
    "\n",
    "def entrada_fermat():\n",
    "    print(\"Vamos verificar se você pode contextar Fermat: \\n    'Não existem números inteiros tais que a**n + b**n == c**n' se n > 2'\")\n",
    "    a = int(input('Digite um valor para \"a\": '))\n",
    "    b = int(input('Digite um valor para \"b\": '))\n",
    "    c = int(input('Digite um valor para \"c\": '))\n",
    "    n = int(input('Digite um valor para \"n\": '))\n",
    "    print('Você testou: ', a, '**', n, ' + ', b, '**', n, ' = ', c, '**', n)\n",
    "    teste_fermat(a,b,c,n)\n",
    "\n",
    "entrada_fermat()"
   ]
  },
  {
   "cell_type": "markdown",
   "metadata": {},
   "source": [
    "### Exercício 5.3"
   ]
  },
  {
   "cell_type": "code",
   "execution_count": 76,
   "metadata": {},
   "outputs": [],
   "source": [
    "# Se você tiver três gravetos, pode ser que consiga arranjá-los em um triângulo ou não. Por\n",
    "# exemplo, se um dos gravetos tiver 12 polegadas de comprimento e outros dois tiverem\n",
    "# uma polegada de comprimento, não será possível fazer com que os gravetos curtos se\n",
    "# encontrem no meio. Há um teste simples para ver se é possível formar um triângulo para\n",
    "# quaisquer três comprimentos:\n",
    "\n",
    "# Se algum dos três comprimentos for maior que a soma dos outros dois, então você não\n",
    "# pode formar um triângulo. Senão, você pode. (Se a soma de dois comprimentos igualar o\n",
    "# terceiro, eles formam um triângulo chamado “degenerado”.)\n",
    "\n",
    "# 1. Escreva uma função chamada is_triangle que receba três números inteiros como\n",
    "# argumentos, e que imprima “Yes” ou “No”, dependendo da possibilidade de formar\n",
    "# ou não um triângulo de gravetos com os comprimentos dados.\n",
    "\n",
    "def is_triangle(a, b, c):\n",
    "    if a > b + c or b > a + c or c > a + b:\n",
    "        print('No')\n",
    "    else:\n",
    "        print('Yes')\n"
   ]
  },
  {
   "cell_type": "code",
   "execution_count": 78,
   "metadata": {},
   "outputs": [
    {
     "name": "stdout",
     "output_type": "stream",
     "text": [
      "Será que você pode formar um triângulo? \n",
      "\n",
      "Você testou: 2 , 2 e 5\n",
      "No\n"
     ]
    }
   ],
   "source": [
    "# 2. Escreva uma função que peça ao usuário para digitar três comprimentos de gravetos,\n",
    "# os converta em números inteiros e use is_triangle para verificar se os gravetos com\n",
    "# os comprimentos dados podem formar um triângulo.\n",
    "\n",
    "def entrada_triangulo():\n",
    "    print(\"Será que você pode formar um triângulo? \\n\")\n",
    "    a = int(input('Digite um valor para \"a\": '))\n",
    "    b = int(input('Digite um valor para \"b\": '))\n",
    "    c = int(input('Digite um valor para \"c\": '))\n",
    "    print('Você testou:', a, ',', b, 'e', c)\n",
    "    is_triangle(a,b,c)\n",
    "\n",
    "entrada_triangulo()"
   ]
  },
  {
   "cell_type": "markdown",
   "metadata": {},
   "source": [
    "### Exercício 5.4"
   ]
  },
  {
   "cell_type": "code",
   "execution_count": 82,
   "metadata": {},
   "outputs": [
    {
     "name": "stdout",
     "output_type": "stream",
     "text": [
      "6\n"
     ]
    }
   ],
   "source": [
    "# Qual é a saída do seguinte programa? Desenhe um diagrama da pilha que mostre o estado\n",
    "# do programa quando exibir o resultado.\n",
    "\n",
    "def recurse(n, s):\n",
    "    if n == 0:\n",
    "        print(s)\n",
    "    else:\n",
    "        recurse(n - 1, n + s)\n",
    "recurse(3, 0)\n"
   ]
  },
  {
   "cell_type": "markdown",
   "metadata": {},
   "source": [
    "|**função**|**variável**|**valor**|\n",
    "|:---:|:---|:---|\n",
    "|main|||\n",
    "|recurse|n|3|\n",
    "|       |s|0|\n",
    "|recurse|n|2|\n",
    "|       |s|3|\n",
    "|recurse|n|1|\n",
    "|       |s|5|\n",
    "|recurse|n|0|\n",
    "|       |s|6|"
   ]
  },
  {
   "cell_type": "code",
   "execution_count": null,
   "metadata": {},
   "outputs": [],
   "source": [
    "# 1. O que aconteceria se você chamasse esta função desta forma: recurse(-1, 0)?"
   ]
  },
  {
   "cell_type": "markdown",
   "metadata": {},
   "source": [
    "|**função**|**variável**|**valor**|\n",
    "|:---:|:---|:---|\n",
    "|main|||\n",
    "|recurse|n|-1|\n",
    "|       |s|0 |\n",
    "|recurse|n|-2|\n",
    "|       |s|-1|\n",
    "|recurse|n|-3|\n",
    "|       |s|-3|\n",
    "|recurse|n|-3|\n",
    "|       |s|-6|\n",
    "|.      |.|. |\n",
    "|.      |.|. |\n",
    "|.      |.|. |\n",
    "|recurse|n|-n|\n",
    "|       |s|-s|\n"
   ]
  },
  {
   "cell_type": "code",
   "execution_count": 83,
   "metadata": {},
   "outputs": [],
   "source": [
    "# 2. Escreva uma docstring que explique tudo o que alguém precisaria saber para usar esta\n",
    "# função (e mais nada).\n",
    "\n",
    "def recurse(n, s):\n",
    "    \"\"\"\n",
    "    n: número inteiro de repetições. Deve ser maior ou igual a 0\n",
    "    s: valor inicial que será somado ao valor de n\n",
    "    \"\"\"\n",
    "    if n == 0:\n",
    "        print(s)\n",
    "    else:\n",
    "        recurse(n - 1, n + s)"
   ]
  },
  {
   "cell_type": "markdown",
   "metadata": {},
   "source": [
    "### Exercício 5.5"
   ]
  },
  {
   "cell_type": "code",
   "execution_count": 91,
   "metadata": {},
   "outputs": [
    {
     "ename": "TclError",
     "evalue": "invalid command name \".!canvas\"",
     "output_type": "error",
     "traceback": [
      "\u001b[0;31m---------------------------------------------------------------------------\u001b[0m",
      "\u001b[0;31mTclError\u001b[0m                                  Traceback (most recent call last)",
      "Cell \u001b[0;32mIn [91], line 19\u001b[0m\n\u001b[1;32m     15\u001b[0m     t\u001b[39m.\u001b[39mbk(length \u001b[39m*\u001b[39m n)\n\u001b[1;32m     17\u001b[0m bob \u001b[39m=\u001b[39m turtle\u001b[39m.\u001b[39mTurtle()\n\u001b[0;32m---> 19\u001b[0m draw(bob, \u001b[39m25\u001b[39;49m, \u001b[39m10\u001b[39;49m)\n\u001b[1;32m     21\u001b[0m turtle\u001b[39m.\u001b[39mmainloop()\n",
      "Cell \u001b[0;32mIn [91], line 11\u001b[0m, in \u001b[0;36mdraw\u001b[0;34m(t, length, n)\u001b[0m\n\u001b[1;32m      9\u001b[0m t\u001b[39m.\u001b[39mfd(length \u001b[39m*\u001b[39m n)\n\u001b[1;32m     10\u001b[0m t\u001b[39m.\u001b[39mlt(angle)\n\u001b[0;32m---> 11\u001b[0m draw(t, length, n\u001b[39m-\u001b[39;49m\u001b[39m1\u001b[39;49m)\n\u001b[1;32m     12\u001b[0m t\u001b[39m.\u001b[39mrt(\u001b[39m2\u001b[39m \u001b[39m*\u001b[39m angle)\n\u001b[1;32m     13\u001b[0m draw(t, length, n\u001b[39m-\u001b[39m\u001b[39m1\u001b[39m)\n",
      "Cell \u001b[0;32mIn [91], line 11\u001b[0m, in \u001b[0;36mdraw\u001b[0;34m(t, length, n)\u001b[0m\n\u001b[1;32m      9\u001b[0m t\u001b[39m.\u001b[39mfd(length \u001b[39m*\u001b[39m n)\n\u001b[1;32m     10\u001b[0m t\u001b[39m.\u001b[39mlt(angle)\n\u001b[0;32m---> 11\u001b[0m draw(t, length, n\u001b[39m-\u001b[39;49m\u001b[39m1\u001b[39;49m)\n\u001b[1;32m     12\u001b[0m t\u001b[39m.\u001b[39mrt(\u001b[39m2\u001b[39m \u001b[39m*\u001b[39m angle)\n\u001b[1;32m     13\u001b[0m draw(t, length, n\u001b[39m-\u001b[39m\u001b[39m1\u001b[39m)\n",
      "    \u001b[0;31m[... skipping similar frames: draw at line 11 (1 times)]\u001b[0m\n",
      "Cell \u001b[0;32mIn [91], line 11\u001b[0m, in \u001b[0;36mdraw\u001b[0;34m(t, length, n)\u001b[0m\n\u001b[1;32m      9\u001b[0m t\u001b[39m.\u001b[39mfd(length \u001b[39m*\u001b[39m n)\n\u001b[1;32m     10\u001b[0m t\u001b[39m.\u001b[39mlt(angle)\n\u001b[0;32m---> 11\u001b[0m draw(t, length, n\u001b[39m-\u001b[39;49m\u001b[39m1\u001b[39;49m)\n\u001b[1;32m     12\u001b[0m t\u001b[39m.\u001b[39mrt(\u001b[39m2\u001b[39m \u001b[39m*\u001b[39m angle)\n\u001b[1;32m     13\u001b[0m draw(t, length, n\u001b[39m-\u001b[39m\u001b[39m1\u001b[39m)\n",
      "Cell \u001b[0;32mIn [91], line 13\u001b[0m, in \u001b[0;36mdraw\u001b[0;34m(t, length, n)\u001b[0m\n\u001b[1;32m     11\u001b[0m draw(t, length, n\u001b[39m-\u001b[39m\u001b[39m1\u001b[39m)\n\u001b[1;32m     12\u001b[0m t\u001b[39m.\u001b[39mrt(\u001b[39m2\u001b[39m \u001b[39m*\u001b[39m angle)\n\u001b[0;32m---> 13\u001b[0m draw(t, length, n\u001b[39m-\u001b[39;49m\u001b[39m1\u001b[39;49m)\n\u001b[1;32m     14\u001b[0m t\u001b[39m.\u001b[39mlt(angle)\n\u001b[1;32m     15\u001b[0m t\u001b[39m.\u001b[39mbk(length \u001b[39m*\u001b[39m n)\n",
      "Cell \u001b[0;32mIn [91], line 11\u001b[0m, in \u001b[0;36mdraw\u001b[0;34m(t, length, n)\u001b[0m\n\u001b[1;32m      9\u001b[0m t\u001b[39m.\u001b[39mfd(length \u001b[39m*\u001b[39m n)\n\u001b[1;32m     10\u001b[0m t\u001b[39m.\u001b[39mlt(angle)\n\u001b[0;32m---> 11\u001b[0m draw(t, length, n\u001b[39m-\u001b[39;49m\u001b[39m1\u001b[39;49m)\n\u001b[1;32m     12\u001b[0m t\u001b[39m.\u001b[39mrt(\u001b[39m2\u001b[39m \u001b[39m*\u001b[39m angle)\n\u001b[1;32m     13\u001b[0m draw(t, length, n\u001b[39m-\u001b[39m\u001b[39m1\u001b[39m)\n",
      "Cell \u001b[0;32mIn [91], line 11\u001b[0m, in \u001b[0;36mdraw\u001b[0;34m(t, length, n)\u001b[0m\n\u001b[1;32m      9\u001b[0m t\u001b[39m.\u001b[39mfd(length \u001b[39m*\u001b[39m n)\n\u001b[1;32m     10\u001b[0m t\u001b[39m.\u001b[39mlt(angle)\n\u001b[0;32m---> 11\u001b[0m draw(t, length, n\u001b[39m-\u001b[39;49m\u001b[39m1\u001b[39;49m)\n\u001b[1;32m     12\u001b[0m t\u001b[39m.\u001b[39mrt(\u001b[39m2\u001b[39m \u001b[39m*\u001b[39m angle)\n\u001b[1;32m     13\u001b[0m draw(t, length, n\u001b[39m-\u001b[39m\u001b[39m1\u001b[39m)\n",
      "Cell \u001b[0;32mIn [91], line 15\u001b[0m, in \u001b[0;36mdraw\u001b[0;34m(t, length, n)\u001b[0m\n\u001b[1;32m     13\u001b[0m draw(t, length, n\u001b[39m-\u001b[39m\u001b[39m1\u001b[39m)\n\u001b[1;32m     14\u001b[0m t\u001b[39m.\u001b[39mlt(angle)\n\u001b[0;32m---> 15\u001b[0m t\u001b[39m.\u001b[39;49mbk(length \u001b[39m*\u001b[39;49m n)\n",
      "File \u001b[0;32m/usr/lib/python3.10/turtle.py:1658\u001b[0m, in \u001b[0;36mTNavigator.back\u001b[0;34m(self, distance)\u001b[0m\n\u001b[1;32m   1640\u001b[0m \u001b[39mdef\u001b[39;00m \u001b[39mback\u001b[39m(\u001b[39mself\u001b[39m, distance):\n\u001b[1;32m   1641\u001b[0m     \u001b[39m\"\"\"Move the turtle backward by distance.\u001b[39;00m\n\u001b[1;32m   1642\u001b[0m \n\u001b[1;32m   1643\u001b[0m \u001b[39m    Aliases: back | backward | bk\u001b[39;00m\n\u001b[0;32m   (...)\u001b[0m\n\u001b[1;32m   1656\u001b[0m \u001b[39m    (-30.00, 0.00)\u001b[39;00m\n\u001b[1;32m   1657\u001b[0m \u001b[39m    \"\"\"\u001b[39;00m\n\u001b[0;32m-> 1658\u001b[0m     \u001b[39mself\u001b[39;49m\u001b[39m.\u001b[39;49m_go(\u001b[39m-\u001b[39;49mdistance)\n",
      "File \u001b[0;32m/usr/lib/python3.10/turtle.py:1606\u001b[0m, in \u001b[0;36mTNavigator._go\u001b[0;34m(self, distance)\u001b[0m\n\u001b[1;32m   1604\u001b[0m \u001b[39m\"\"\"move turtle forward by specified distance\"\"\"\u001b[39;00m\n\u001b[1;32m   1605\u001b[0m ende \u001b[39m=\u001b[39m \u001b[39mself\u001b[39m\u001b[39m.\u001b[39m_position \u001b[39m+\u001b[39m \u001b[39mself\u001b[39m\u001b[39m.\u001b[39m_orient \u001b[39m*\u001b[39m distance\n\u001b[0;32m-> 1606\u001b[0m \u001b[39mself\u001b[39;49m\u001b[39m.\u001b[39;49m_goto(ende)\n",
      "File \u001b[0;32m/usr/lib/python3.10/turtle.py:3178\u001b[0m, in \u001b[0;36mRawTurtle._goto\u001b[0;34m(self, end)\u001b[0m\n\u001b[1;32m   3176\u001b[0m     \u001b[39mself\u001b[39m\u001b[39m.\u001b[39m_position \u001b[39m=\u001b[39m start \u001b[39m+\u001b[39m delta \u001b[39m*\u001b[39m n\n\u001b[1;32m   3177\u001b[0m     \u001b[39mif\u001b[39;00m \u001b[39mself\u001b[39m\u001b[39m.\u001b[39m_drawing:\n\u001b[0;32m-> 3178\u001b[0m         screen\u001b[39m.\u001b[39;49m_drawline(\u001b[39mself\u001b[39;49m\u001b[39m.\u001b[39;49mdrawingLineItem,\n\u001b[1;32m   3179\u001b[0m                          (start, \u001b[39mself\u001b[39;49m\u001b[39m.\u001b[39;49m_position),\n\u001b[1;32m   3180\u001b[0m                          \u001b[39mself\u001b[39;49m\u001b[39m.\u001b[39;49m_pencolor, \u001b[39mself\u001b[39;49m\u001b[39m.\u001b[39;49m_pensize, top)\n\u001b[1;32m   3181\u001b[0m     \u001b[39mself\u001b[39m\u001b[39m.\u001b[39m_update()\n\u001b[1;32m   3182\u001b[0m \u001b[39mif\u001b[39;00m \u001b[39mself\u001b[39m\u001b[39m.\u001b[39m_drawing:\n",
      "File \u001b[0;32m/usr/lib/python3.10/turtle.py:544\u001b[0m, in \u001b[0;36mTurtleScreenBase._drawline\u001b[0;34m(self, lineitem, coordlist, fill, width, top)\u001b[0m\n\u001b[1;32m    542\u001b[0m         cl\u001b[39m.\u001b[39mappend(x \u001b[39m*\u001b[39m \u001b[39mself\u001b[39m\u001b[39m.\u001b[39mxscale)\n\u001b[1;32m    543\u001b[0m         cl\u001b[39m.\u001b[39mappend(\u001b[39m-\u001b[39my \u001b[39m*\u001b[39m \u001b[39mself\u001b[39m\u001b[39m.\u001b[39myscale)\n\u001b[0;32m--> 544\u001b[0m     \u001b[39mself\u001b[39;49m\u001b[39m.\u001b[39;49mcv\u001b[39m.\u001b[39;49mcoords(lineitem, \u001b[39m*\u001b[39;49mcl)\n\u001b[1;32m    545\u001b[0m \u001b[39mif\u001b[39;00m fill \u001b[39mis\u001b[39;00m \u001b[39mnot\u001b[39;00m \u001b[39mNone\u001b[39;00m:\n\u001b[1;32m    546\u001b[0m     \u001b[39mself\u001b[39m\u001b[39m.\u001b[39mcv\u001b[39m.\u001b[39mitemconfigure(lineitem, fill\u001b[39m=\u001b[39mfill)\n",
      "File \u001b[0;32m<string>:1\u001b[0m, in \u001b[0;36mcoords\u001b[0;34m(self, *args, **kw)\u001b[0m\n",
      "File \u001b[0;32m/usr/lib/python3.10/tkinter/__init__.py:2795\u001b[0m, in \u001b[0;36mCanvas.coords\u001b[0;34m(self, *args)\u001b[0m\n\u001b[1;32m   2791\u001b[0m \u001b[39m\"\"\"Return a list of coordinates for the item given in ARGS.\"\"\"\u001b[39;00m\n\u001b[1;32m   2792\u001b[0m \u001b[39m# XXX Should use _flatten on args\u001b[39;00m\n\u001b[1;32m   2793\u001b[0m \u001b[39mreturn\u001b[39;00m [\u001b[39mself\u001b[39m\u001b[39m.\u001b[39mtk\u001b[39m.\u001b[39mgetdouble(x) \u001b[39mfor\u001b[39;00m x \u001b[39min\u001b[39;00m\n\u001b[1;32m   2794\u001b[0m                    \u001b[39mself\u001b[39m\u001b[39m.\u001b[39mtk\u001b[39m.\u001b[39msplitlist(\n\u001b[0;32m-> 2795\u001b[0m            \u001b[39mself\u001b[39;49m\u001b[39m.\u001b[39;49mtk\u001b[39m.\u001b[39;49mcall((\u001b[39mself\u001b[39;49m\u001b[39m.\u001b[39;49m_w, \u001b[39m'\u001b[39;49m\u001b[39mcoords\u001b[39;49m\u001b[39m'\u001b[39;49m) \u001b[39m+\u001b[39;49m args))]\n",
      "\u001b[0;31mTclError\u001b[0m: invalid command name \".!canvas\""
     ]
    }
   ],
   "source": [
    "# Leia a próxima função e veja se consegue compreender o que ela faz (veja os exemplos no\n",
    "# Capítulo 4). Então execute-a e veja se acertou.\n",
    "import turtle\n",
    "\n",
    "def draw(t, length, n):\n",
    "    if n == 0:\n",
    "        return\n",
    "    angle = 50\n",
    "    t.fd(length * n)\n",
    "    t.lt(angle)\n",
    "    draw(t, length, n-1)\n",
    "    t.rt(2 * angle)\n",
    "    draw(t, length, n-1)\n",
    "    t.lt(angle)\n",
    "    t.bk(length * n)\n",
    "\n",
    "bob = turtle.Turtle()\n",
    "\n",
    "draw(bob, 25, 10)\n",
    "\n",
    "turtle.mainloop()"
   ]
  },
  {
   "cell_type": "markdown",
   "metadata": {},
   "source": [
    "### Exercício 5.6"
   ]
  },
  {
   "cell_type": "code",
   "execution_count": 101,
   "metadata": {},
   "outputs": [
    {
     "ename": "TypeError",
     "evalue": "draw() takes 2 positional arguments but 3 were given",
     "output_type": "error",
     "traceback": [
      "\u001b[0;31m---------------------------------------------------------------------------\u001b[0m",
      "\u001b[0;31mTypeError\u001b[0m                                 Traceback (most recent call last)",
      "Cell \u001b[0;32mIn [101], line 34\u001b[0m\n\u001b[1;32m     30\u001b[0m     draw(t,sub_length)\n\u001b[1;32m     32\u001b[0m bob \u001b[39m=\u001b[39m turtle\u001b[39m.\u001b[39mTurtle()\n\u001b[0;32m---> 34\u001b[0m draw(bob, \u001b[39m100\u001b[39;49m, \u001b[39m3\u001b[39;49m)\n\u001b[1;32m     36\u001b[0m turtle\u001b[39m.\u001b[39mmainloop()\n",
      "\u001b[0;31mTypeError\u001b[0m: draw() takes 2 positional arguments but 3 were given"
     ]
    }
   ],
   "source": [
    "# A curva de Koch é um fractal. Para desenhar uma curva de\n",
    "# Koch com o comprimento x, tudo o que você tem que fazer é:\n",
    "# 1. Desenhe uma curva de Koch com o comprimento x/3.\n",
    "# 2. Vire 60 graus à esquerda.\n",
    "# 3. Desenhe uma curva de Koch com o comprimento x/3.\n",
    "# 4. Vire 120 graus à direita.\n",
    "# 5. Desenhe uma curva de Koch com o comprimento x/3.\n",
    "# 6. Vire 60 graus à esquerda.\n",
    "# 7. Desenhe uma curva de Koch com o comprimento x/3.\n",
    "# A exceção é se x for menor que 3: neste caso, você pode desenhar apenas uma linha reta\n",
    "# com o comprimento x.\n",
    "\n",
    "# 1. Escreva uma função chamada koch que receba um turtle e um comprimento como\n",
    "# parâmetros, e use o turtle para desenhar uma curva de Koch com o comprimento\n",
    "# dado.\n",
    "import turtle\n",
    "\n",
    "def draw(t, length):\n",
    "    angle = 60\n",
    "    sub_length = length / 3\n",
    "    if length < 10:\n",
    "        t.fd(length)\n",
    "        return    \n",
    "    draw(t,sub_length)\n",
    "    t.lt(angle)\n",
    "    draw(t,sub_length)\n",
    "    t.rt(angle * 2)\n",
    "    draw(t,sub_length)\n",
    "    t.lt(angle)\n",
    "    draw(t,sub_length)\n",
    "    \n",
    "bob = turtle.Turtle()\n",
    "bob.pu()\n",
    "bob.fd(-300)\n",
    "bob.pd()\n",
    "\n",
    "draw(bob, 500)\n",
    "\n",
    "bob.hideturtle()\n",
    "\n",
    "turtle.mainloop()"
   ]
  },
  {
   "cell_type": "code",
   "execution_count": null,
   "metadata": {},
   "outputs": [],
   "source": [
    "# 2. Escreva uma função chamada snowflake que desenhe três curvas de Koch para fazer\n",
    "# o traçado de um floco de neve.\n",
    "# Solução: http://thinkpython2.com/code/koch.py.\n",
    "\n",
    "import turtle\n",
    "\n",
    "def draw(t, length):\n",
    "    angle = 60\n",
    "    sub_length = length / 3\n",
    "    if length < 10:\n",
    "        t.fd(length)\n",
    "        return    \n",
    "    draw(t,sub_length)\n",
    "    t.lt(angle)\n",
    "    draw(t,sub_length)\n",
    "    t.rt(angle * 2)\n",
    "    draw(t,sub_length)\n",
    "    t.lt(angle)\n",
    "    draw(t,sub_length)\n",
    "\n",
    "def snowflake(t, length):\n",
    "    for i in range(3):\n",
    "        draw(t,length)\n",
    "        t.rt(120)\n",
    "\n",
    "\n",
    "bob = turtle.Turtle()\n",
    "bob.pu()\n",
    "bob.fd(-100)\n",
    "bob.pd()\n",
    "\n",
    "snowflake(bob, 200)\n",
    "\n",
    "bob.hideturtle()\n",
    "\n",
    "turtle.mainloop()\n"
   ]
  },
  {
   "cell_type": "code",
   "execution_count": null,
   "metadata": {},
   "outputs": [],
   "source": [
    "# 3. A curva de Koch pode ser generalizada de vários modos. Veja exemplos em\n",
    "# http://en.wikipedia.org/wiki/Koch_snowflake e implemente o seu favorito.\n",
    "\n",
    "import turtle\n",
    "\n",
    "def draw(t, length):\n",
    "    angle = 90\n",
    "    sub_length = length / 4\n",
    "    if length < 10:\n",
    "        t.fd(length)\n",
    "        return    \n",
    "    draw(t,sub_length)\n",
    "    t.lt(angle)\n",
    "    draw(t,sub_length)\n",
    "    t.rt(angle)\n",
    "    draw(t,sub_length)\n",
    "\n",
    "def snowflake(t, length):\n",
    "    for i in range(4):\n",
    "        draw(t,length)\n",
    "        t.rt(90)\n",
    "\n",
    "\n",
    "bob = turtle.Turtle()\n",
    "# bob.pu()\n",
    "# bob.fd(-100)\n",
    "# bob.pd()\n",
    "\n",
    "snowflake(bob, 500)\n",
    "\n",
    "bob.hideturtle()\n",
    "\n",
    "turtle.mainloop()"
   ]
  }
 ],
 "metadata": {
  "kernelspec": {
   "display_name": "Python 3.10.6 64-bit",
   "language": "python",
   "name": "python3"
  },
  "language_info": {
   "codemirror_mode": {
    "name": "ipython",
    "version": 3
   },
   "file_extension": ".py",
   "mimetype": "text/x-python",
   "name": "python",
   "nbconvert_exporter": "python",
   "pygments_lexer": "ipython3",
   "version": "3.10.6"
  },
  "orig_nbformat": 4,
  "vscode": {
   "interpreter": {
    "hash": "916dbcbb3f70747c44a77c7bcd40155683ae19c65e1c03b4aa3499c5328201f1"
   }
  }
 },
 "nbformat": 4,
 "nbformat_minor": 2
}
