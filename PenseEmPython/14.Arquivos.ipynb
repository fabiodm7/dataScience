{
 "cells": [
  {
   "attachments": {},
   "cell_type": "markdown",
   "metadata": {},
   "source": [
    "# Arquivos"
   ]
  },
  {
   "attachments": {},
   "cell_type": "markdown",
   "metadata": {},
   "source": [
    "## Leitura e escrita"
   ]
  },
  {
   "cell_type": "code",
   "execution_count": 1,
   "metadata": {},
   "outputs": [
    {
     "data": {
      "text/plain": [
       "25"
      ]
     },
     "execution_count": 1,
     "metadata": {},
     "output_type": "execute_result"
    }
   ],
   "source": [
    "fout = open('output.txt', 'w') # se o arquivo existir, este comando irá apagar todo o conteúdo dele\n",
    "line1 = \"This here's the wattle, \\n\"\n",
    "fout.write(line1)"
   ]
  },
  {
   "cell_type": "code",
   "execution_count": 2,
   "metadata": {},
   "outputs": [
    {
     "data": {
      "text/plain": [
       "25"
      ]
     },
     "execution_count": 2,
     "metadata": {},
     "output_type": "execute_result"
    }
   ],
   "source": [
    "line2 = \"the emblem of our land. \\n\"\n",
    "fout.write(line2)"
   ]
  },
  {
   "cell_type": "code",
   "execution_count": 3,
   "metadata": {},
   "outputs": [],
   "source": [
    "fout.close()"
   ]
  },
  {
   "attachments": {},
   "cell_type": "markdown",
   "metadata": {},
   "source": [
    "## Operador de formatação"
   ]
  },
  {
   "cell_type": "code",
   "execution_count": 5,
   "metadata": {},
   "outputs": [
    {
     "data": {
      "text/plain": [
       "2"
      ]
     },
     "execution_count": 5,
     "metadata": {},
     "output_type": "execute_result"
    }
   ],
   "source": [
    "fout = open('output.txt','a')\n",
    "x = 52\n",
    "fout.write(str(x))"
   ]
  },
  {
   "cell_type": "code",
   "execution_count": 6,
   "metadata": {},
   "outputs": [
    {
     "data": {
      "text/plain": [
       "'42'"
      ]
     },
     "execution_count": 6,
     "metadata": {},
     "output_type": "execute_result"
    }
   ],
   "source": [
    "camels = 42\n",
    "'%d' % camels"
   ]
  },
  {
   "cell_type": "code",
   "execution_count": 7,
   "metadata": {},
   "outputs": [
    {
     "data": {
      "text/plain": [
       "'I have spotted 42 camels.'"
      ]
     },
     "execution_count": 7,
     "metadata": {},
     "output_type": "execute_result"
    }
   ],
   "source": [
    "'I have spotted %d camels.' % camels"
   ]
  },
  {
   "cell_type": "code",
   "execution_count": 8,
   "metadata": {},
   "outputs": [
    {
     "data": {
      "text/plain": [
       "'In 3 years I have spotted 0.1 camels.'"
      ]
     },
     "execution_count": 8,
     "metadata": {},
     "output_type": "execute_result"
    }
   ],
   "source": [
    "'In %d years I have spotted %g %s.' % (3, 0.1, 'camels')"
   ]
  },
  {
   "cell_type": "code",
   "execution_count": 9,
   "metadata": {},
   "outputs": [
    {
     "ename": "TypeError",
     "evalue": "not enough arguments for format string",
     "output_type": "error",
     "traceback": [
      "\u001b[0;31m---------------------------------------------------------------------------\u001b[0m",
      "\u001b[0;31mTypeError\u001b[0m                                 Traceback (most recent call last)",
      "Cell \u001b[0;32mIn[9], line 1\u001b[0m\n\u001b[0;32m----> 1\u001b[0m \u001b[39m'\u001b[39;49m\u001b[39m%d\u001b[39;49;00m\u001b[39m \u001b[39;49m\u001b[39m%d\u001b[39;49;00m\u001b[39m \u001b[39;49m\u001b[39m%d\u001b[39;49;00m\u001b[39m'\u001b[39;49m \u001b[39m%\u001b[39;49m (\u001b[39m1\u001b[39;49m, \u001b[39m2\u001b[39;49m)\n",
      "\u001b[0;31mTypeError\u001b[0m: not enough arguments for format string"
     ]
    }
   ],
   "source": [
    "'%d %d %d' % (1, 2)"
   ]
  },
  {
   "cell_type": "code",
   "execution_count": 10,
   "metadata": {},
   "outputs": [
    {
     "ename": "TypeError",
     "evalue": "%d format: a real number is required, not str",
     "output_type": "error",
     "traceback": [
      "\u001b[0;31m---------------------------------------------------------------------------\u001b[0m",
      "\u001b[0;31mTypeError\u001b[0m                                 Traceback (most recent call last)",
      "Cell \u001b[0;32mIn[10], line 1\u001b[0m\n\u001b[0;32m----> 1\u001b[0m \u001b[39m'\u001b[39;49m\u001b[39m%d\u001b[39;49;00m\u001b[39m'\u001b[39;49m \u001b[39m%\u001b[39;49m \u001b[39m'\u001b[39;49m\u001b[39mdollars\u001b[39;49m\u001b[39m'\u001b[39;49m\n",
      "\u001b[0;31mTypeError\u001b[0m: %d format: a real number is required, not str"
     ]
    }
   ],
   "source": [
    "'%d' % 'dollars'"
   ]
  },
  {
   "cell_type": "code",
   "execution_count": 11,
   "metadata": {},
   "outputs": [],
   "source": [
    "fout.close()"
   ]
  },
  {
   "attachments": {},
   "cell_type": "markdown",
   "metadata": {},
   "source": [
    "## Nomes de arquivos e caminhos"
   ]
  },
  {
   "cell_type": "code",
   "execution_count": 1,
   "metadata": {},
   "outputs": [
    {
     "data": {
      "text/plain": [
       "'/home/fdmedina7/Documentos/dataScience/PenseEmPython'"
      ]
     },
     "execution_count": 1,
     "metadata": {},
     "output_type": "execute_result"
    }
   ],
   "source": [
    "import os\n",
    "cwd = os.getcwd()\n",
    "cwd"
   ]
  },
  {
   "cell_type": "code",
   "execution_count": 13,
   "metadata": {},
   "outputs": [
    {
     "data": {
      "text/plain": [
       "'/home/fdmedina7/Documentos/dataScience/PenseEmPython/output.txt'"
      ]
     },
     "execution_count": 13,
     "metadata": {},
     "output_type": "execute_result"
    }
   ],
   "source": [
    "os.path.abspath('output.txt')"
   ]
  },
  {
   "cell_type": "code",
   "execution_count": 14,
   "metadata": {},
   "outputs": [
    {
     "data": {
      "text/plain": [
       "True"
      ]
     },
     "execution_count": 14,
     "metadata": {},
     "output_type": "execute_result"
    }
   ],
   "source": [
    "os.path.exists('output.txt')"
   ]
  },
  {
   "cell_type": "code",
   "execution_count": 15,
   "metadata": {},
   "outputs": [
    {
     "data": {
      "text/plain": [
       "False"
      ]
     },
     "execution_count": 15,
     "metadata": {},
     "output_type": "execute_result"
    }
   ],
   "source": [
    "os.path.isdir('output.txt')"
   ]
  },
  {
   "cell_type": "code",
   "execution_count": 16,
   "metadata": {},
   "outputs": [
    {
     "data": {
      "text/plain": [
       "True"
      ]
     },
     "execution_count": 16,
     "metadata": {},
     "output_type": "execute_result"
    }
   ],
   "source": [
    "os.path.isdir('/home/fdmedina7')"
   ]
  },
  {
   "cell_type": "code",
   "execution_count": 17,
   "metadata": {},
   "outputs": [
    {
     "data": {
      "text/plain": [
       "['01.Jornada.ipynb',\n",
       " '02.Variaveis.ipynb',\n",
       " '03.Funcoes.ipynb',\n",
       " '04.Interface.ipynb',\n",
       " '04.Interface.py',\n",
       " '05.Condicionais.ipynb',\n",
       " '06.Funcoes.ipynb',\n",
       " '07.Iteracao.ipynb',\n",
       " '08.String.ipynb',\n",
       " '09.Palavras.ipynb',\n",
       " '10.Listas.ipynb',\n",
       " '11.Dicionarios.ipynb',\n",
       " 'FuncaoAckermann.png',\n",
       " 'SerieRamanujan.png',\n",
       " 'letters.py',\n",
       " 'polygon.py',\n",
       " 'typewriter.py',\n",
       " 'words.txt',\n",
       " 'c06d',\n",
       " '12.Tuplas.ipynb',\n",
       " 'emma.txt',\n",
       " '13.Estrutura.ipynb',\n",
       " 'grimmsFairyTales.txt',\n",
       " 'theTimeMachine.txt',\n",
       " '14.Arquivos.ipynb',\n",
       " 'output.txt']"
      ]
     },
     "execution_count": 17,
     "metadata": {},
     "output_type": "execute_result"
    }
   ],
   "source": [
    "os.listdir(cwd)"
   ]
  },
  {
   "cell_type": "code",
   "execution_count": 2,
   "metadata": {},
   "outputs": [],
   "source": [
    "def walk(dirname):\n",
    "    for name in os.listdir(dirname):\n",
    "        path = os.path.join(dirname, name)\n",
    "        if os.path.isfile(path):\n",
    "            print(path)\n",
    "        else:\n",
    "            walk(path)"
   ]
  },
  {
   "cell_type": "code",
   "execution_count": 3,
   "metadata": {},
   "outputs": [],
   "source": [
    "def walk2(dirname):\n",
    "    \"\"\"Prints the names of all files in dirname and its subdirectories.\n",
    "    This is the exercise solution, which uses os.walk.\n",
    "    dirname: string name of directory\n",
    "    \"\"\"\n",
    "    for root, dirs, files in os.walk(dirname):\n",
    "        for filename in files:\n",
    "            print(os.path.join(root, filename))"
   ]
  },
  {
   "cell_type": "code",
   "execution_count": 4,
   "metadata": {},
   "outputs": [
    {
     "name": "stdout",
     "output_type": "stream",
     "text": [
      "/home/fdmedina7/Documentos/dataScience/PenseEmPython/01.Jornada.ipynb\n",
      "/home/fdmedina7/Documentos/dataScience/PenseEmPython/02.Variaveis.ipynb\n",
      "/home/fdmedina7/Documentos/dataScience/PenseEmPython/03.Funcoes.ipynb\n",
      "/home/fdmedina7/Documentos/dataScience/PenseEmPython/04.Interface.ipynb\n",
      "/home/fdmedina7/Documentos/dataScience/PenseEmPython/04.Interface.py\n",
      "/home/fdmedina7/Documentos/dataScience/PenseEmPython/05.Condicionais.ipynb\n",
      "/home/fdmedina7/Documentos/dataScience/PenseEmPython/06.Funcoes.ipynb\n",
      "/home/fdmedina7/Documentos/dataScience/PenseEmPython/07.Iteracao.ipynb\n",
      "/home/fdmedina7/Documentos/dataScience/PenseEmPython/08.String.ipynb\n",
      "/home/fdmedina7/Documentos/dataScience/PenseEmPython/09.Palavras.ipynb\n",
      "/home/fdmedina7/Documentos/dataScience/PenseEmPython/10.Listas.ipynb\n",
      "/home/fdmedina7/Documentos/dataScience/PenseEmPython/11.Dicionarios.ipynb\n",
      "/home/fdmedina7/Documentos/dataScience/PenseEmPython/FuncaoAckermann.png\n",
      "/home/fdmedina7/Documentos/dataScience/PenseEmPython/SerieRamanujan.png\n",
      "/home/fdmedina7/Documentos/dataScience/PenseEmPython/letters.py\n",
      "/home/fdmedina7/Documentos/dataScience/PenseEmPython/polygon.py\n",
      "/home/fdmedina7/Documentos/dataScience/PenseEmPython/typewriter.py\n",
      "/home/fdmedina7/Documentos/dataScience/PenseEmPython/words.txt\n",
      "/home/fdmedina7/Documentos/dataScience/PenseEmPython/c06d\n",
      "/home/fdmedina7/Documentos/dataScience/PenseEmPython/12.Tuplas.ipynb\n",
      "/home/fdmedina7/Documentos/dataScience/PenseEmPython/emma.txt\n",
      "/home/fdmedina7/Documentos/dataScience/PenseEmPython/13.Estrutura.ipynb\n",
      "/home/fdmedina7/Documentos/dataScience/PenseEmPython/grimmsFairyTales.txt\n",
      "/home/fdmedina7/Documentos/dataScience/PenseEmPython/theTimeMachine.txt\n",
      "/home/fdmedina7/Documentos/dataScience/PenseEmPython/14.Arquivos.ipynb\n",
      "/home/fdmedina7/Documentos/dataScience/PenseEmPython/output.txt\n"
     ]
    }
   ],
   "source": [
    "walk('/home/fdmedina7/Documentos/dataScience/PenseEmPython/')"
   ]
  },
  {
   "cell_type": "code",
   "execution_count": 5,
   "metadata": {},
   "outputs": [
    {
     "name": "stdout",
     "output_type": "stream",
     "text": [
      "/home/fdmedina7/Documentos/dataScience/PenseEmPython/01.Jornada.ipynb\n",
      "/home/fdmedina7/Documentos/dataScience/PenseEmPython/02.Variaveis.ipynb\n",
      "/home/fdmedina7/Documentos/dataScience/PenseEmPython/03.Funcoes.ipynb\n",
      "/home/fdmedina7/Documentos/dataScience/PenseEmPython/04.Interface.ipynb\n",
      "/home/fdmedina7/Documentos/dataScience/PenseEmPython/04.Interface.py\n",
      "/home/fdmedina7/Documentos/dataScience/PenseEmPython/05.Condicionais.ipynb\n",
      "/home/fdmedina7/Documentos/dataScience/PenseEmPython/06.Funcoes.ipynb\n",
      "/home/fdmedina7/Documentos/dataScience/PenseEmPython/07.Iteracao.ipynb\n",
      "/home/fdmedina7/Documentos/dataScience/PenseEmPython/08.String.ipynb\n",
      "/home/fdmedina7/Documentos/dataScience/PenseEmPython/09.Palavras.ipynb\n",
      "/home/fdmedina7/Documentos/dataScience/PenseEmPython/10.Listas.ipynb\n",
      "/home/fdmedina7/Documentos/dataScience/PenseEmPython/11.Dicionarios.ipynb\n",
      "/home/fdmedina7/Documentos/dataScience/PenseEmPython/FuncaoAckermann.png\n",
      "/home/fdmedina7/Documentos/dataScience/PenseEmPython/SerieRamanujan.png\n",
      "/home/fdmedina7/Documentos/dataScience/PenseEmPython/letters.py\n",
      "/home/fdmedina7/Documentos/dataScience/PenseEmPython/polygon.py\n",
      "/home/fdmedina7/Documentos/dataScience/PenseEmPython/typewriter.py\n",
      "/home/fdmedina7/Documentos/dataScience/PenseEmPython/words.txt\n",
      "/home/fdmedina7/Documentos/dataScience/PenseEmPython/c06d\n",
      "/home/fdmedina7/Documentos/dataScience/PenseEmPython/12.Tuplas.ipynb\n",
      "/home/fdmedina7/Documentos/dataScience/PenseEmPython/emma.txt\n",
      "/home/fdmedina7/Documentos/dataScience/PenseEmPython/13.Estrutura.ipynb\n",
      "/home/fdmedina7/Documentos/dataScience/PenseEmPython/grimmsFairyTales.txt\n",
      "/home/fdmedina7/Documentos/dataScience/PenseEmPython/theTimeMachine.txt\n",
      "/home/fdmedina7/Documentos/dataScience/PenseEmPython/14.Arquivos.ipynb\n",
      "/home/fdmedina7/Documentos/dataScience/PenseEmPython/output.txt\n"
     ]
    }
   ],
   "source": [
    "walk2('/home/fdmedina7/Documentos/dataScience/PenseEmPython/')"
   ]
  },
  {
   "attachments": {},
   "cell_type": "markdown",
   "metadata": {},
   "source": [
    "## Captura de exceções"
   ]
  },
  {
   "cell_type": "code",
   "execution_count": 7,
   "metadata": {},
   "outputs": [
    {
     "ename": "FileNotFoundError",
     "evalue": "[Errno 2] No such file or directory: 'bad_file'",
     "output_type": "error",
     "traceback": [
      "\u001b[0;31m---------------------------------------------------------------------------\u001b[0m",
      "\u001b[0;31mFileNotFoundError\u001b[0m                         Traceback (most recent call last)",
      "Cell \u001b[0;32mIn[7], line 1\u001b[0m\n\u001b[0;32m----> 1\u001b[0m fin \u001b[39m=\u001b[39m \u001b[39mopen\u001b[39;49m(\u001b[39m'\u001b[39;49m\u001b[39mbad_file\u001b[39;49m\u001b[39m'\u001b[39;49m)\n",
      "File \u001b[0;32m~/.local/lib/python3.10/site-packages/IPython/core/interactiveshell.py:282\u001b[0m, in \u001b[0;36m_modified_open\u001b[0;34m(file, *args, **kwargs)\u001b[0m\n\u001b[1;32m    275\u001b[0m \u001b[39mif\u001b[39;00m file \u001b[39min\u001b[39;00m {\u001b[39m0\u001b[39m, \u001b[39m1\u001b[39m, \u001b[39m2\u001b[39m}:\n\u001b[1;32m    276\u001b[0m     \u001b[39mraise\u001b[39;00m \u001b[39mValueError\u001b[39;00m(\n\u001b[1;32m    277\u001b[0m         \u001b[39mf\u001b[39m\u001b[39m\"\u001b[39m\u001b[39mIPython won\u001b[39m\u001b[39m'\u001b[39m\u001b[39mt let you open fd=\u001b[39m\u001b[39m{\u001b[39;00mfile\u001b[39m}\u001b[39;00m\u001b[39m by default \u001b[39m\u001b[39m\"\u001b[39m\n\u001b[1;32m    278\u001b[0m         \u001b[39m\"\u001b[39m\u001b[39mas it is likely to crash IPython. If you know what you are doing, \u001b[39m\u001b[39m\"\u001b[39m\n\u001b[1;32m    279\u001b[0m         \u001b[39m\"\u001b[39m\u001b[39myou can use builtins\u001b[39m\u001b[39m'\u001b[39m\u001b[39m open.\u001b[39m\u001b[39m\"\u001b[39m\n\u001b[1;32m    280\u001b[0m     )\n\u001b[0;32m--> 282\u001b[0m \u001b[39mreturn\u001b[39;00m io_open(file, \u001b[39m*\u001b[39;49margs, \u001b[39m*\u001b[39;49m\u001b[39m*\u001b[39;49mkwargs)\n",
      "\u001b[0;31mFileNotFoundError\u001b[0m: [Errno 2] No such file or directory: 'bad_file'"
     ]
    }
   ],
   "source": [
    "fin = open('bad_file')\n"
   ]
  },
  {
   "cell_type": "code",
   "execution_count": 8,
   "metadata": {},
   "outputs": [
    {
     "ename": "PermissionError",
     "evalue": "[Errno 13] Permission denied: '/etc/passwd'",
     "output_type": "error",
     "traceback": [
      "\u001b[0;31m---------------------------------------------------------------------------\u001b[0m",
      "\u001b[0;31mPermissionError\u001b[0m                           Traceback (most recent call last)",
      "Cell \u001b[0;32mIn[8], line 1\u001b[0m\n\u001b[0;32m----> 1\u001b[0m fout \u001b[39m=\u001b[39m \u001b[39mopen\u001b[39;49m(\u001b[39m'\u001b[39;49m\u001b[39m/etc/passwd\u001b[39;49m\u001b[39m'\u001b[39;49m,\u001b[39m'\u001b[39;49m\u001b[39mw\u001b[39;49m\u001b[39m'\u001b[39;49m)\n",
      "File \u001b[0;32m~/.local/lib/python3.10/site-packages/IPython/core/interactiveshell.py:282\u001b[0m, in \u001b[0;36m_modified_open\u001b[0;34m(file, *args, **kwargs)\u001b[0m\n\u001b[1;32m    275\u001b[0m \u001b[39mif\u001b[39;00m file \u001b[39min\u001b[39;00m {\u001b[39m0\u001b[39m, \u001b[39m1\u001b[39m, \u001b[39m2\u001b[39m}:\n\u001b[1;32m    276\u001b[0m     \u001b[39mraise\u001b[39;00m \u001b[39mValueError\u001b[39;00m(\n\u001b[1;32m    277\u001b[0m         \u001b[39mf\u001b[39m\u001b[39m\"\u001b[39m\u001b[39mIPython won\u001b[39m\u001b[39m'\u001b[39m\u001b[39mt let you open fd=\u001b[39m\u001b[39m{\u001b[39;00mfile\u001b[39m}\u001b[39;00m\u001b[39m by default \u001b[39m\u001b[39m\"\u001b[39m\n\u001b[1;32m    278\u001b[0m         \u001b[39m\"\u001b[39m\u001b[39mas it is likely to crash IPython. If you know what you are doing, \u001b[39m\u001b[39m\"\u001b[39m\n\u001b[1;32m    279\u001b[0m         \u001b[39m\"\u001b[39m\u001b[39myou can use builtins\u001b[39m\u001b[39m'\u001b[39m\u001b[39m open.\u001b[39m\u001b[39m\"\u001b[39m\n\u001b[1;32m    280\u001b[0m     )\n\u001b[0;32m--> 282\u001b[0m \u001b[39mreturn\u001b[39;00m io_open(file, \u001b[39m*\u001b[39;49margs, \u001b[39m*\u001b[39;49m\u001b[39m*\u001b[39;49mkwargs)\n",
      "\u001b[0;31mPermissionError\u001b[0m: [Errno 13] Permission denied: '/etc/passwd'"
     ]
    }
   ],
   "source": [
    "fout = open('/etc/passwd','w')"
   ]
  },
  {
   "cell_type": "code",
   "execution_count": 9,
   "metadata": {},
   "outputs": [
    {
     "ename": "IsADirectoryError",
     "evalue": "[Errno 21] Is a directory: '/home'",
     "output_type": "error",
     "traceback": [
      "\u001b[0;31m---------------------------------------------------------------------------\u001b[0m",
      "\u001b[0;31mIsADirectoryError\u001b[0m                         Traceback (most recent call last)",
      "Cell \u001b[0;32mIn[9], line 1\u001b[0m\n\u001b[0;32m----> 1\u001b[0m fin \u001b[39m=\u001b[39m \u001b[39mopen\u001b[39;49m(\u001b[39m'\u001b[39;49m\u001b[39m/home\u001b[39;49m\u001b[39m'\u001b[39;49m)\n",
      "File \u001b[0;32m~/.local/lib/python3.10/site-packages/IPython/core/interactiveshell.py:282\u001b[0m, in \u001b[0;36m_modified_open\u001b[0;34m(file, *args, **kwargs)\u001b[0m\n\u001b[1;32m    275\u001b[0m \u001b[39mif\u001b[39;00m file \u001b[39min\u001b[39;00m {\u001b[39m0\u001b[39m, \u001b[39m1\u001b[39m, \u001b[39m2\u001b[39m}:\n\u001b[1;32m    276\u001b[0m     \u001b[39mraise\u001b[39;00m \u001b[39mValueError\u001b[39;00m(\n\u001b[1;32m    277\u001b[0m         \u001b[39mf\u001b[39m\u001b[39m\"\u001b[39m\u001b[39mIPython won\u001b[39m\u001b[39m'\u001b[39m\u001b[39mt let you open fd=\u001b[39m\u001b[39m{\u001b[39;00mfile\u001b[39m}\u001b[39;00m\u001b[39m by default \u001b[39m\u001b[39m\"\u001b[39m\n\u001b[1;32m    278\u001b[0m         \u001b[39m\"\u001b[39m\u001b[39mas it is likely to crash IPython. If you know what you are doing, \u001b[39m\u001b[39m\"\u001b[39m\n\u001b[1;32m    279\u001b[0m         \u001b[39m\"\u001b[39m\u001b[39myou can use builtins\u001b[39m\u001b[39m'\u001b[39m\u001b[39m open.\u001b[39m\u001b[39m\"\u001b[39m\n\u001b[1;32m    280\u001b[0m     )\n\u001b[0;32m--> 282\u001b[0m \u001b[39mreturn\u001b[39;00m io_open(file, \u001b[39m*\u001b[39;49margs, \u001b[39m*\u001b[39;49m\u001b[39m*\u001b[39;49mkwargs)\n",
      "\u001b[0;31mIsADirectoryError\u001b[0m: [Errno 21] Is a directory: '/home'"
     ]
    }
   ],
   "source": [
    "fin = open('/home')"
   ]
  },
  {
   "cell_type": "code",
   "execution_count": 10,
   "metadata": {},
   "outputs": [
    {
     "name": "stdout",
     "output_type": "stream",
     "text": [
      "Algo deu errado\n"
     ]
    }
   ],
   "source": [
    "try:\n",
    "    fin = open('bad_file')\n",
    "except:\n",
    "    print('Algo deu errado')"
   ]
  },
  {
   "attachments": {},
   "cell_type": "markdown",
   "metadata": {},
   "source": [
    "## Banco de dados"
   ]
  },
  {
   "cell_type": "code",
   "execution_count": 11,
   "metadata": {},
   "outputs": [
    {
     "data": {
      "text/plain": [
       "b'Photo of John Cleese'"
      ]
     },
     "execution_count": 11,
     "metadata": {},
     "output_type": "execute_result"
    }
   ],
   "source": [
    "import dbm\n",
    "db = dbm.open('captions', 'c')\n",
    "\n",
    "db['cleese.png'] = 'Photo of John Cleese'\n",
    "db['cleese.png']"
   ]
  },
  {
   "cell_type": "code",
   "execution_count": 12,
   "metadata": {},
   "outputs": [
    {
     "data": {
      "text/plain": [
       "b'Photo of John Cleese doing a silly walk.'"
      ]
     },
     "execution_count": 12,
     "metadata": {},
     "output_type": "execute_result"
    }
   ],
   "source": [
    "db['cleese.png'] = 'Photo of John Cleese doing a silly walk.'\n",
    "db['cleese.png']"
   ]
  },
  {
   "cell_type": "code",
   "execution_count": 13,
   "metadata": {},
   "outputs": [
    {
     "ename": "TypeError",
     "evalue": "'_gdbm.gdbm' object is not iterable",
     "output_type": "error",
     "traceback": [
      "\u001b[0;31m---------------------------------------------------------------------------\u001b[0m",
      "\u001b[0;31mTypeError\u001b[0m                                 Traceback (most recent call last)",
      "Cell \u001b[0;32mIn[13], line 1\u001b[0m\n\u001b[0;32m----> 1\u001b[0m \u001b[39mfor\u001b[39;00m key \u001b[39min\u001b[39;00m db:\n\u001b[1;32m      2\u001b[0m     \u001b[39mprint\u001b[39m(key, db[key])\n",
      "\u001b[0;31mTypeError\u001b[0m: '_gdbm.gdbm' object is not iterable"
     ]
    }
   ],
   "source": [
    "for key in db:\n",
    "    print(key, db[key])"
   ]
  },
  {
   "cell_type": "code",
   "execution_count": 14,
   "metadata": {},
   "outputs": [],
   "source": [
    "db.close()"
   ]
  },
  {
   "attachments": {},
   "cell_type": "markdown",
   "metadata": {},
   "source": [
    "## Usando o Pickle"
   ]
  },
  {
   "cell_type": "code",
   "execution_count": 15,
   "metadata": {},
   "outputs": [
    {
     "data": {
      "text/plain": [
       "b'\\x80\\x04\\x95\\x0b\\x00\\x00\\x00\\x00\\x00\\x00\\x00]\\x94(K\\x01K\\x02K\\x03e.'"
      ]
     },
     "execution_count": 15,
     "metadata": {},
     "output_type": "execute_result"
    }
   ],
   "source": [
    "import pickle\n",
    "t = [1, 2, 3]\n",
    "pickle.dumps(t)"
   ]
  },
  {
   "cell_type": "code",
   "execution_count": 16,
   "metadata": {},
   "outputs": [
    {
     "data": {
      "text/plain": [
       "[1, 2, 3]"
      ]
     },
     "execution_count": 16,
     "metadata": {},
     "output_type": "execute_result"
    }
   ],
   "source": [
    "t1 = [1, 2, 3]\n",
    "s = pickle.dumps(t1)\n",
    "t2 = pickle.loads(s)\n",
    "t2"
   ]
  },
  {
   "cell_type": "code",
   "execution_count": 17,
   "metadata": {},
   "outputs": [
    {
     "data": {
      "text/plain": [
       "True"
      ]
     },
     "execution_count": 17,
     "metadata": {},
     "output_type": "execute_result"
    }
   ],
   "source": [
    "t1 == t2"
   ]
  },
  {
   "cell_type": "code",
   "execution_count": 18,
   "metadata": {},
   "outputs": [
    {
     "data": {
      "text/plain": [
       "False"
      ]
     },
     "execution_count": 18,
     "metadata": {},
     "output_type": "execute_result"
    }
   ],
   "source": [
    "t1 is t2"
   ]
  },
  {
   "attachments": {},
   "cell_type": "markdown",
   "metadata": {},
   "source": [
    "## Pipes"
   ]
  },
  {
   "cell_type": "code",
   "execution_count": 1,
   "metadata": {},
   "outputs": [],
   "source": [
    "import os"
   ]
  },
  {
   "cell_type": "code",
   "execution_count": 6,
   "metadata": {},
   "outputs": [
    {
     "name": "stdout",
     "output_type": "stream",
     "text": [
      "None\n",
      "total 9968\n",
      "-rw-r--r-- 1 fdmedina7 fdmedina7   10726 dez 10  2022 01.Jornada.ipynb\n",
      "-rw-r--r-- 1 fdmedina7 fdmedina7   19573 dez 10  2022 02.Variaveis.ipynb\n",
      "-rw-r--r-- 1 fdmedina7 fdmedina7   20827 dez 10  2022 03.Funcoes.ipynb\n",
      "-rw-r--r-- 1 fdmedina7 fdmedina7   20812 dez 10  2022 04.Interface.ipynb\n",
      "-rw-r--r-- 1 fdmedina7 fdmedina7    2619 dez 10  2022 04.Interface.py\n",
      "-rw-r--r-- 1 fdmedina7 fdmedina7   36083 dez 10  2022 05.Condicionais.ipynb\n",
      "-rw-r--r-- 1 fdmedina7 fdmedina7   18341 dez 11  2022 06.Funcoes.ipynb\n",
      "-rw-r--r-- 1 fdmedina7 fdmedina7   17815 dez 10  2022 07.Iteracao.ipynb\n",
      "-rw-r--r-- 1 fdmedina7 fdmedina7   30168 dez 10  2022 08.String.ipynb\n",
      "-rw-r--r-- 1 fdmedina7 fdmedina7 3012842 dez 10  2022 09.Palavras.ipynb\n",
      "-rw-r--r-- 1 fdmedina7 fdmedina7   89818 dez 11  2022 10.Listas.ipynb\n",
      "-rw-r--r-- 1 fdmedina7 fdmedina7   63878 dez 11  2022 11.Dicionarios.ipynb\n",
      "-rw-r--r-- 1 fdmedina7 fdmedina7   18923 dez 20  2022 12.Tuplas.ipynb\n",
      "-rw-r--r-- 1 fdmedina7 fdmedina7  296154 jun 10 20:59 13.Estrutura.ipynb\n",
      "-rw-r--r-- 1 fdmedina7 fdmedina7   25908 jul  2 23:28 14.Arquivos.ipynb\n",
      "-rw-r--r-- 1 fdmedina7 fdmedina7 3590621 dez 11  2022 c06d\n",
      "-rw-r--r-- 1 fdmedina7 fdmedina7   16384 jun 10 23:47 captions\n",
      "-rw-r--r-- 1 fdmedina7 fdmedina7  927445 dez 20  2022 emma.txt\n",
      "-rw-r--r-- 1 fdmedina7 fdmedina7   18153 dez 10  2022 FuncaoAckermann.png\n",
      "-rw-r--r-- 1 fdmedina7 fdmedina7  560045 dez 20  2022 grimmsFairyTales.txt\n",
      "-rw-r--r-- 1 fdmedina7 fdmedina7    5338 dez 10  2022 letters.py\n",
      "-rw-r--r-- 1 fdmedina7 fdmedina7      52 jun 10 21:38 output.txt\n",
      "-rw-r--r-- 1 fdmedina7 fdmedina7    2116 dez 10  2022 polygon.py\n",
      "-rw-r--r-- 1 fdmedina7 fdmedina7   13253 dez 10  2022 SerieRamanujan.png\n",
      "-rw-r--r-- 1 fdmedina7 fdmedina7  204357 dez 22  2022 theTimeMachine.txt\n",
      "-rw-r--r-- 1 fdmedina7 fdmedina7    2282 dez 10  2022 typewriter.py\n",
      "-rw-r--r-- 1 fdmedina7 fdmedina7 1130294 dez 10  2022 words.txt\n",
      "\n"
     ]
    }
   ],
   "source": [
    "cmd = 'ls -l'\n",
    "fp = os.popen(cmd)\n",
    "res = fp.read()\n",
    "stat = fp.close()\n",
    "print(stat)\n",
    "print(res)"
   ]
  },
  {
   "cell_type": "code",
   "execution_count": 7,
   "metadata": {},
   "outputs": [
    {
     "name": "stdout",
     "output_type": "stream",
     "text": [
      "a77a011019cda6d562a61fda359701f2  emma.txt\n",
      "\n",
      "None\n"
     ]
    }
   ],
   "source": [
    "filename = 'emma.txt'\n",
    "cmd = 'md5sum ' + filename\n",
    "fp = os.popen(cmd)\n",
    "res = fp.read()\n",
    "stat = fp.close()\n",
    "print(res)\n",
    "print(stat)"
   ]
  },
  {
   "attachments": {},
   "cell_type": "markdown",
   "metadata": {},
   "source": [
    "## Escrevendo módulos"
   ]
  },
  {
   "cell_type": "code",
   "execution_count": 1,
   "metadata": {},
   "outputs": [],
   "source": [
    "import wc"
   ]
  },
  {
   "cell_type": "code",
   "execution_count": 2,
   "metadata": {},
   "outputs": [
    {
     "data": {
      "text/plain": [
       "<module 'wc' from '/home/fdmedina7/Documentos/dataScience/PenseEmPython/wc.py'>"
      ]
     },
     "execution_count": 2,
     "metadata": {},
     "output_type": "execute_result"
    }
   ],
   "source": [
    "wc"
   ]
  },
  {
   "cell_type": "code",
   "execution_count": 7,
   "metadata": {},
   "outputs": [
    {
     "data": {
      "text/plain": [
       "9612"
      ]
     },
     "execution_count": 7,
     "metadata": {},
     "output_type": "execute_result"
    }
   ],
   "source": [
    "wc.linecount('grimmsFairyTales.txt')"
   ]
  },
  {
   "cell_type": "code",
   "execution_count": 4,
   "metadata": {},
   "outputs": [
    {
     "name": "stdout",
     "output_type": "stream",
     "text": [
      "__main__\n"
     ]
    }
   ],
   "source": [
    "print(__name__)"
   ]
  },
  {
   "attachments": {},
   "cell_type": "markdown",
   "metadata": {},
   "source": [
    "## Depuração"
   ]
  },
  {
   "cell_type": "code",
   "execution_count": 5,
   "metadata": {},
   "outputs": [
    {
     "name": "stdout",
     "output_type": "stream",
     "text": [
      "1 2\t 3\n",
      " 4\n"
     ]
    }
   ],
   "source": [
    "s = '1 2\\t 3\\n 4'\n",
    "print(s)"
   ]
  },
  {
   "cell_type": "code",
   "execution_count": 6,
   "metadata": {},
   "outputs": [
    {
     "name": "stdout",
     "output_type": "stream",
     "text": [
      "'1 2\\t 3\\n 4'\n"
     ]
    }
   ],
   "source": [
    "print(repr(s))"
   ]
  },
  {
   "attachments": {},
   "cell_type": "markdown",
   "metadata": {},
   "source": [
    "## Exercícios"
   ]
  },
  {
   "attachments": {},
   "cell_type": "markdown",
   "metadata": {},
   "source": [
    "### Exercício 1"
   ]
  },
  {
   "cell_type": "code",
   "execution_count": null,
   "metadata": {},
   "outputs": [],
   "source": [
    "def sed(padrao, substituto, origem, destino):\n",
    "    try:\n",
    "        with open(origem, 'r') as arquivo_origem:\n",
    "            with open(destino, 'w') as arquivo_destino:\n",
    "                for linha in arquivo_origem:\n",
    "                    arquivo_destino.write(linha.replace(padrao, substituto))\n",
    "    except IOError as erro:\n",
    "        print(erro)\n",
    "        return\n",
    "    \n",
    "sed('Project Gutenberg','Projeto Teste', './grimmsFairyTales.txt', './grimmsFairyTales2.txt')"
   ]
  },
  {
   "attachments": {},
   "cell_type": "markdown",
   "metadata": {},
   "source": [
    "### Exercício 2"
   ]
  },
  {
   "cell_type": "code",
   "execution_count": null,
   "metadata": {},
   "outputs": [],
   "source": []
  },
  {
   "attachments": {},
   "cell_type": "markdown",
   "metadata": {},
   "source": [
    "### Exercício 3"
   ]
  },
  {
   "cell_type": "code",
   "execution_count": null,
   "metadata": {},
   "outputs": [],
   "source": []
  }
 ],
 "metadata": {
  "kernelspec": {
   "display_name": "Python 3",
   "language": "python",
   "name": "python3"
  },
  "language_info": {
   "codemirror_mode": {
    "name": "ipython",
    "version": 3
   },
   "file_extension": ".py",
   "mimetype": "text/x-python",
   "name": "python",
   "nbconvert_exporter": "python",
   "pygments_lexer": "ipython3",
   "version": "3.10.13"
  },
  "orig_nbformat": 4
 },
 "nbformat": 4,
 "nbformat_minor": 2
}
