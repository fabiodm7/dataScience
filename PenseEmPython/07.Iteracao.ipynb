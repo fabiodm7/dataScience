{
 "cells": [
  {
   "cell_type": "markdown",
   "metadata": {},
   "source": [
    "# Iterações"
   ]
  },
  {
   "cell_type": "markdown",
   "metadata": {},
   "source": [
    "## Reatribuição"
   ]
  },
  {
   "cell_type": "code",
   "execution_count": 1,
   "metadata": {},
   "outputs": [
    {
     "data": {
      "text/plain": [
       "5"
      ]
     },
     "execution_count": 1,
     "metadata": {},
     "output_type": "execute_result"
    }
   ],
   "source": [
    "x = 5\n",
    "x"
   ]
  },
  {
   "cell_type": "code",
   "execution_count": 2,
   "metadata": {},
   "outputs": [
    {
     "data": {
      "text/plain": [
       "7"
      ]
     },
     "execution_count": 2,
     "metadata": {},
     "output_type": "execute_result"
    }
   ],
   "source": [
    "x = 7\n",
    "x"
   ]
  },
  {
   "cell_type": "code",
   "execution_count": 3,
   "metadata": {},
   "outputs": [
    {
     "data": {
      "text/plain": [
       "5"
      ]
     },
     "execution_count": 3,
     "metadata": {},
     "output_type": "execute_result"
    }
   ],
   "source": [
    "a = 5\n",
    "b = a\n",
    "a = 3\n",
    "b"
   ]
  },
  {
   "cell_type": "markdown",
   "metadata": {},
   "source": [
    "## Atualização de variáveis"
   ]
  },
  {
   "cell_type": "code",
   "execution_count": 4,
   "metadata": {},
   "outputs": [],
   "source": [
    "x = x + 1"
   ]
  },
  {
   "cell_type": "code",
   "execution_count": 5,
   "metadata": {},
   "outputs": [
    {
     "ename": "NameError",
     "evalue": "name 'y' is not defined",
     "output_type": "error",
     "traceback": [
      "\u001b[0;31m---------------------------------------------------------------------------\u001b[0m",
      "\u001b[0;31mNameError\u001b[0m                                 Traceback (most recent call last)",
      "Cell \u001b[0;32mIn [5], line 1\u001b[0m\n\u001b[0;32m----> 1\u001b[0m y \u001b[39m=\u001b[39m y \u001b[39m+\u001b[39m \u001b[39m1\u001b[39m\n",
      "\u001b[0;31mNameError\u001b[0m: name 'y' is not defined"
     ]
    }
   ],
   "source": [
    "y = y + 1"
   ]
  },
  {
   "cell_type": "code",
   "execution_count": 6,
   "metadata": {},
   "outputs": [],
   "source": [
    "y = 0\n",
    "y = y + 1"
   ]
  },
  {
   "cell_type": "markdown",
   "metadata": {},
   "source": [
    "## Instrução while"
   ]
  },
  {
   "cell_type": "code",
   "execution_count": 7,
   "metadata": {},
   "outputs": [
    {
     "name": "stdout",
     "output_type": "stream",
     "text": [
      "5\n",
      "4\n",
      "3\n",
      "2\n",
      "1\n",
      "Blastoff!\n"
     ]
    }
   ],
   "source": [
    "def countdown(n):\n",
    "    while n > 0:\n",
    "        print(n)\n",
    "        n = n - 1\n",
    "    print('Blastoff!')\n",
    "\n",
    "countdown(5)"
   ]
  },
  {
   "cell_type": "code",
   "execution_count": 10,
   "metadata": {},
   "outputs": [
    {
     "name": "stdout",
     "output_type": "stream",
     "text": [
      "3\n",
      "10\n",
      "5.0\n",
      "16.0\n",
      "8.0\n",
      "4.0\n",
      "2.0\n"
     ]
    }
   ],
   "source": [
    "def sequence(n):\n",
    "    while n != 1:\n",
    "        print(n)\n",
    "        if n % 2 == 0:   # n é par\n",
    "            n = n / 2\n",
    "        else:            # n é impar\n",
    "            n = n * 3 + 1\n",
    "\n",
    "sequence(3)"
   ]
  },
  {
   "cell_type": "code",
   "execution_count": 13,
   "metadata": {},
   "outputs": [
    {
     "name": "stdout",
     "output_type": "stream",
     "text": [
      "Fabio\n",
      "Fabio\n",
      "Fabio\n",
      "Fabio\n",
      "Fabio\n"
     ]
    }
   ],
   "source": [
    "def print_n(s,n):\n",
    "    while n > 0:\n",
    "        print(s)\n",
    "        n = n - 1\n",
    "\n",
    "print_n('Fabio',5)"
   ]
  },
  {
   "cell_type": "markdown",
   "metadata": {},
   "source": [
    "## Break"
   ]
  },
  {
   "cell_type": "code",
   "execution_count": 14,
   "metadata": {},
   "outputs": [
    {
     "name": "stdout",
     "output_type": "stream",
     "text": [
      "a\n",
      "a\n",
      "a\n",
      "a\n",
      "a\n",
      "a\n",
      "a\n",
      "\n",
      "\n",
      "a\n",
      "Done!\n"
     ]
    }
   ],
   "source": [
    "while True:\n",
    "    line = input('> ')\n",
    "    if line == 'done':\n",
    "        break\n",
    "    print(line)\n",
    "\n",
    "print('Done!')\n"
   ]
  },
  {
   "cell_type": "markdown",
   "metadata": {},
   "source": [
    "## Raízes quadradas"
   ]
  },
  {
   "cell_type": "code",
   "execution_count": 15,
   "metadata": {},
   "outputs": [
    {
     "data": {
      "text/plain": [
       "2.1666666666666665"
      ]
     },
     "execution_count": 15,
     "metadata": {},
     "output_type": "execute_result"
    }
   ],
   "source": [
    "a = 4\n",
    "x = 3\n",
    "y = (x + a/x) / 2\n",
    "y"
   ]
  },
  {
   "cell_type": "code",
   "execution_count": 16,
   "metadata": {},
   "outputs": [
    {
     "data": {
      "text/plain": [
       "2.0064102564102564"
      ]
     },
     "execution_count": 16,
     "metadata": {},
     "output_type": "execute_result"
    }
   ],
   "source": [
    "x = y\n",
    "y = (x + a/x) / 2\n",
    "y"
   ]
  },
  {
   "cell_type": "code",
   "execution_count": 17,
   "metadata": {},
   "outputs": [
    {
     "data": {
      "text/plain": [
       "2.0000102400262145"
      ]
     },
     "execution_count": 17,
     "metadata": {},
     "output_type": "execute_result"
    }
   ],
   "source": [
    "x = y\n",
    "y = (x + a/x) / 2\n",
    "y"
   ]
  },
  {
   "cell_type": "code",
   "execution_count": 18,
   "metadata": {},
   "outputs": [
    {
     "data": {
      "text/plain": [
       "2.0000000000262146"
      ]
     },
     "execution_count": 18,
     "metadata": {},
     "output_type": "execute_result"
    }
   ],
   "source": [
    "x = y\n",
    "y = (x + a/x) / 2\n",
    "y"
   ]
  },
  {
   "cell_type": "code",
   "execution_count": 19,
   "metadata": {},
   "outputs": [
    {
     "data": {
      "text/plain": [
       "2.0"
      ]
     },
     "execution_count": 19,
     "metadata": {},
     "output_type": "execute_result"
    }
   ],
   "source": [
    "x = y\n",
    "y = (x + a/x) / 2\n",
    "y"
   ]
  },
  {
   "cell_type": "code",
   "execution_count": 20,
   "metadata": {},
   "outputs": [
    {
     "data": {
      "text/plain": [
       "2.0"
      ]
     },
     "execution_count": 20,
     "metadata": {},
     "output_type": "execute_result"
    }
   ],
   "source": [
    "x = y\n",
    "y = (x + a/x) / 2\n",
    "y"
   ]
  },
  {
   "cell_type": "code",
   "execution_count": 21,
   "metadata": {},
   "outputs": [
    {
     "name": "stdout",
     "output_type": "stream",
     "text": [
      "2.0\n"
     ]
    }
   ],
   "source": [
    "while True:\n",
    "    print(x)\n",
    "    y = (x + a/x) / 2\n",
    "    if y == x:\n",
    "        break\n",
    "    x = y"
   ]
  },
  {
   "cell_type": "code",
   "execution_count": null,
   "metadata": {},
   "outputs": [],
   "source": [
    "epsilon = 0.0000001\n",
    "\n",
    "if abs(y - x) < epsilon:\n",
    "    break"
   ]
  },
  {
   "cell_type": "markdown",
   "metadata": {},
   "source": [
    "## Algoritmos"
   ]
  },
  {
   "cell_type": "markdown",
   "metadata": {},
   "source": [
    "## Exercícios"
   ]
  },
  {
   "cell_type": "markdown",
   "metadata": {},
   "source": [
    "### Exercício 7.1"
   ]
  },
  {
   "cell_type": "code",
   "execution_count": 36,
   "metadata": {},
   "outputs": [
    {
     "name": "stdout",
     "output_type": "stream",
     "text": [
      "a     mysqrt(a)           math.sqrt(a)         diff\n",
      "-     ---------           ------------         ----\n",
      "1.0   1.0                 1.0                  0.0\n",
      "2.0   1.414213562373095   1.4142135623730951   2.220446049250313e-16\n",
      "3.0   1.7320508075688772  1.7320508075688772   0.0\n",
      "4.0   2.0                 2.0                  0.0\n",
      "5.0   2.23606797749979    2.23606797749979     0.0\n",
      "6.0   2.449489742783178   2.449489742783178    0.0\n",
      "7.0   2.6457513110645907  2.6457513110645907   0.0\n",
      "8.0   2.82842712474619    2.8284271247461903   4.440892098500626e-16\n",
      "9.0   3.0                 3.0                  0.0\n"
     ]
    }
   ],
   "source": [
    "# Copie o loop de “Raízes quadradas”, na página 111, e encapsule-o em uma função\n",
    "# chamada mysqrt que receba a como parâmetro, escolha um valor razoável de x e devolva\n",
    "# uma estimativa da raiz quadrada de a.\n",
    "\n",
    "# Para testar, escreva uma função denominada test_square_root, que exibe uma tabela\n",
    "# como esta:\n",
    "\n",
    "# a     mysqrt(a)      math.sqrt(a)    diff\n",
    "# -     ---------      ------------    ----\n",
    "# 1.0   1.0            1.0             0.0\n",
    "# 2.0   1.41421356237  1.41421356237   2.22044604925e-16\n",
    "# 3.0   1.73205080757  1.73205080757   0.0\n",
    "# 4.0   2.0            2.0             0.0\n",
    "# 5.0   2.2360679775   2.2360679775    0.0\n",
    "# 6.0   2.44948974278  2.44948974278   0.0\n",
    "# 7.0   2.64575131106  2.64575131106   0.0\n",
    "# 8.0   2.82842712475  2.82842712475   4.4408920985e-16\n",
    "# 9.0   3.0            3.0             0.0\n",
    "\n",
    "# A primeira coluna é um número, a; a segunda coluna é a raiz quadrada de a calculada com\n",
    "# mysqrt; a terceira coluna é a raiz quadrada calculada por math.sqrt; a quarta coluna é o\n",
    "# valor absoluto da diferença entre as duas estimativas.\n",
    "\n",
    "import math\n",
    "\n",
    "def mysqrt(a):\n",
    "    x = 3\n",
    "    while True:\n",
    "        # print(x)\n",
    "        y = (x + a/x) / 2\n",
    "        if y == x:\n",
    "            # break\n",
    "            return y\n",
    "        x = y\n",
    "\n",
    "def espacos(texto, tamanho):\n",
    "    texto = str(float(texto))\n",
    "    return tamanho - len(texto)\n",
    "\n",
    "def test_square_root(x):\n",
    "    print('a     mysqrt(a)           math.sqrt(a)         diff')\n",
    "    print('-     ---------           ------------         ----')\n",
    "    \n",
    "    for i in range(x):\n",
    "        a = float(i + 1)\n",
    "        my = mysqrt(i + 1)\n",
    "        mat = math.sqrt(i + 1)\n",
    "        diff = mat - my\n",
    "        print(str(a) + ' ' * espacos(a,6) + str(my) + ' ' * espacos(my,20) + str(mat) + ' ' * espacos(mat,21) + str(diff))\n",
    "\n",
    "test_square_root(9)"
   ]
  },
  {
   "cell_type": "markdown",
   "metadata": {},
   "source": [
    "### Exercício 7.2"
   ]
  },
  {
   "cell_type": "code",
   "execution_count": 38,
   "metadata": {},
   "outputs": [
    {
     "name": "stdout",
     "output_type": "stream",
     "text": [
      "21\n",
      "2.0\n",
      "Done!\n"
     ]
    }
   ],
   "source": [
    "# A função integrada eval toma uma string e a avalia, usando o interpretador do Python. Por\n",
    "# exemplo:\n",
    "\n",
    "# >>> eval('1 + 2 * 3')\n",
    "# 7\n",
    "# >>> import math\n",
    "# >>> eval('math.sqrt(5)')\n",
    "# 2.2360679774997898\n",
    "# >>> eval('type(math.pi)')\n",
    "# <class 'float'>\n",
    "\n",
    "# Escreva uma função chamada eval_loop que iterativamente peça uma entrada ao usuário,\n",
    "# a avalie usando eval e exiba o resultado.\n",
    "\n",
    "# Ela deve continuar até que o usuário digite done; então deverá exibir o valor da última\n",
    "# expressão avaliada.\n",
    "\n",
    "def eval_loop():\n",
    "    while True:\n",
    "        a = input('>>>')\n",
    "        if a == 'done':\n",
    "            break\n",
    "        print(eval(a))\n",
    "    print('Done!')\n",
    "\n",
    "eval_loop()"
   ]
  },
  {
   "cell_type": "markdown",
   "metadata": {},
   "source": [
    "### Exercício 7.3"
   ]
  },
  {
   "cell_type": "code",
   "execution_count": null,
   "metadata": {},
   "outputs": [],
   "source": [
    "# O matemático Srinivasa Ramanujan encontrou uma série infinita que pode ser usada para\n",
    "# gerar uma aproximação numérica de 1/π:"
   ]
  },
  {
   "cell_type": "markdown",
   "metadata": {},
   "source": [
    "![Série de Ramanujan](./SerieRamanujan.png)"
   ]
  },
  {
   "cell_type": "code",
   "execution_count": 53,
   "metadata": {},
   "outputs": [
    {
     "ename": "RecursionError",
     "evalue": "maximum recursion depth exceeded in comparison",
     "output_type": "error",
     "traceback": [
      "\u001b[0;31m---------------------------------------------------------------------------\u001b[0m",
      "\u001b[0;31mRecursionError\u001b[0m                            Traceback (most recent call last)",
      "Cell \u001b[0;32mIn [53], line 25\u001b[0m\n\u001b[1;32m     22\u001b[0m         k \u001b[39m=\u001b[39m k \u001b[39m+\u001b[39m \u001b[39m1\u001b[39m\n\u001b[1;32m     23\u001b[0m     \u001b[39mreturn\u001b[39;00m a \u001b[39m*\u001b[39m b\n\u001b[0;32m---> 25\u001b[0m \u001b[39mprint\u001b[39m(ramanujan())\n\u001b[1;32m     26\u001b[0m \u001b[39mprint\u001b[39m(math\u001b[39m.\u001b[39mpi)\n",
      "Cell \u001b[0;32mIn [53], line 19\u001b[0m, in \u001b[0;36mramanujan\u001b[0;34m()\u001b[0m\n\u001b[1;32m     17\u001b[0m a \u001b[39m=\u001b[39m (\u001b[39m2\u001b[39m \u001b[39m*\u001b[39m mysqrt(\u001b[39m2\u001b[39m)) \u001b[39m/\u001b[39m \u001b[39m9801\u001b[39m\n\u001b[1;32m     18\u001b[0m \u001b[39mwhile\u001b[39;00m \u001b[39mTrue\u001b[39;00m:\n\u001b[0;32m---> 19\u001b[0m     b \u001b[39m=\u001b[39m b \u001b[39m+\u001b[39m (fact(\u001b[39m4\u001b[39;49m \u001b[39m*\u001b[39;49m k) \u001b[39m*\u001b[39m (\u001b[39m1103\u001b[39m \u001b[39m+\u001b[39m \u001b[39m26390\u001b[39m \u001b[39m*\u001b[39m k)) \u001b[39m/\u001b[39m ((fact(k) \u001b[39m*\u001b[39m\u001b[39m*\u001b[39m \u001b[39m4\u001b[39m) \u001b[39m*\u001b[39m (\u001b[39m396\u001b[39m \u001b[39m*\u001b[39m\u001b[39m*\u001b[39m (\u001b[39m4\u001b[39m \u001b[39m*\u001b[39m k)))\n\u001b[1;32m     20\u001b[0m     \u001b[39mif\u001b[39;00m b \u001b[39m<\u001b[39m \u001b[39m1e-15\u001b[39m:\n\u001b[1;32m     21\u001b[0m         \u001b[39mbreak\u001b[39;00m\n",
      "Cell \u001b[0;32mIn [53], line 12\u001b[0m, in \u001b[0;36mfact\u001b[0;34m(n)\u001b[0m\n\u001b[1;32m     10\u001b[0m     \u001b[39mreturn\u001b[39;00m \u001b[39m1\u001b[39m\n\u001b[1;32m     11\u001b[0m \u001b[39melse\u001b[39;00m:\n\u001b[0;32m---> 12\u001b[0m     \u001b[39mreturn\u001b[39;00m (n \u001b[39m*\u001b[39m fact(n \u001b[39m-\u001b[39;49m \u001b[39m1\u001b[39;49m))\n",
      "Cell \u001b[0;32mIn [53], line 12\u001b[0m, in \u001b[0;36mfact\u001b[0;34m(n)\u001b[0m\n\u001b[1;32m     10\u001b[0m     \u001b[39mreturn\u001b[39;00m \u001b[39m1\u001b[39m\n\u001b[1;32m     11\u001b[0m \u001b[39melse\u001b[39;00m:\n\u001b[0;32m---> 12\u001b[0m     \u001b[39mreturn\u001b[39;00m (n \u001b[39m*\u001b[39m fact(n \u001b[39m-\u001b[39;49m \u001b[39m1\u001b[39;49m))\n",
      "    \u001b[0;31m[... skipping similar frames: fact at line 12 (2968 times)]\u001b[0m\n",
      "Cell \u001b[0;32mIn [53], line 12\u001b[0m, in \u001b[0;36mfact\u001b[0;34m(n)\u001b[0m\n\u001b[1;32m     10\u001b[0m     \u001b[39mreturn\u001b[39;00m \u001b[39m1\u001b[39m\n\u001b[1;32m     11\u001b[0m \u001b[39melse\u001b[39;00m:\n\u001b[0;32m---> 12\u001b[0m     \u001b[39mreturn\u001b[39;00m (n \u001b[39m*\u001b[39m fact(n \u001b[39m-\u001b[39;49m \u001b[39m1\u001b[39;49m))\n",
      "Cell \u001b[0;32mIn [53], line 9\u001b[0m, in \u001b[0;36mfact\u001b[0;34m(n)\u001b[0m\n\u001b[1;32m      8\u001b[0m \u001b[39mdef\u001b[39;00m \u001b[39mfact\u001b[39m(n):\n\u001b[0;32m----> 9\u001b[0m     \u001b[39mif\u001b[39;00m n \u001b[39m==\u001b[39;49m \u001b[39m0\u001b[39;49m:\n\u001b[1;32m     10\u001b[0m         \u001b[39mreturn\u001b[39;00m \u001b[39m1\u001b[39m\n\u001b[1;32m     11\u001b[0m     \u001b[39melse\u001b[39;00m:\n",
      "\u001b[0;31mRecursionError\u001b[0m: maximum recursion depth exceeded in comparison"
     ]
    }
   ],
   "source": [
    "\n",
    "# Fórmula – Aproximação de π pela série de Ramanujan.\n",
    "\n",
    "# Escreva uma função chamada estimate_pi que use esta fórmula para computar e\n",
    "# devolver uma estimativa de π. Você deve usar o loop while para calcular os termos da\n",
    "# adição até que o último termo seja menor que 1e-15 (que é a notação do Python para 10\n",
    "# ** 15). Você pode verificar o resultado comparando-o com math.pi.\n",
    "\n",
    "def fact(n):\n",
    "    if n == 0:\n",
    "        return 1\n",
    "    else:\n",
    "        return (n * fact(n - 1))\n",
    "\n",
    "def ramanujan():\n",
    "    k = 0\n",
    "    b = 0\n",
    "    a = (2 * mysqrt(2)) / 9801\n",
    "    while True:\n",
    "        b = b + (fact(4 * k) * (1103 + 26390 * k)) / ((fact(k) ** 4) * (396 ** (4 * k)))\n",
    "        if b < 1e-15:\n",
    "            break\n",
    "        k = k + 1\n",
    "    return a * b\n",
    "\n",
    "print(ramanujan())\n",
    "print(math.pi)"
   ]
  },
  {
   "cell_type": "code",
   "execution_count": null,
   "metadata": {},
   "outputs": [],
   "source": []
  }
 ],
 "metadata": {
  "kernelspec": {
   "display_name": "Python 3.10.6 64-bit",
   "language": "python",
   "name": "python3"
  },
  "language_info": {
   "codemirror_mode": {
    "name": "ipython",
    "version": 3
   },
   "file_extension": ".py",
   "mimetype": "text/x-python",
   "name": "python",
   "nbconvert_exporter": "python",
   "pygments_lexer": "ipython3",
   "version": "3.10.6"
  },
  "orig_nbformat": 4,
  "vscode": {
   "interpreter": {
    "hash": "916dbcbb3f70747c44a77c7bcd40155683ae19c65e1c03b4aa3499c5328201f1"
   }
  }
 },
 "nbformat": 4,
 "nbformat_minor": 2
}
