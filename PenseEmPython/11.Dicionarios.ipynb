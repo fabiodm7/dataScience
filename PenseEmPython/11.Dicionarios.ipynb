{
 "cells": [
  {
   "cell_type": "markdown",
   "metadata": {},
   "source": [
    "# Dicionários"
   ]
  },
  {
   "cell_type": "markdown",
   "metadata": {},
   "source": [
    "## Um dicionário é um mapeamento"
   ]
  },
  {
   "cell_type": "code",
   "execution_count": 6,
   "metadata": {},
   "outputs": [
    {
     "data": {
      "text/plain": [
       "{}"
      ]
     },
     "execution_count": 6,
     "metadata": {},
     "output_type": "execute_result"
    }
   ],
   "source": [
    "eng2sp = dict()\n",
    "eng2sp"
   ]
  },
  {
   "cell_type": "code",
   "execution_count": 7,
   "metadata": {},
   "outputs": [
    {
     "data": {
      "text/plain": [
       "{'one': 'uno'}"
      ]
     },
     "execution_count": 7,
     "metadata": {},
     "output_type": "execute_result"
    }
   ],
   "source": [
    "eng2sp['one'] = 'uno'\n",
    "eng2sp"
   ]
  },
  {
   "cell_type": "code",
   "execution_count": 8,
   "metadata": {},
   "outputs": [
    {
     "data": {
      "text/plain": [
       "{'one': 'uno', 'two': 'dos', 'three': 'tres'}"
      ]
     },
     "execution_count": 8,
     "metadata": {},
     "output_type": "execute_result"
    }
   ],
   "source": [
    "eng2sp = {'one':'uno','two':'dos','three':'tres'}\n",
    "eng2sp"
   ]
  },
  {
   "cell_type": "code",
   "execution_count": 9,
   "metadata": {},
   "outputs": [
    {
     "data": {
      "text/plain": [
       "'dos'"
      ]
     },
     "execution_count": 9,
     "metadata": {},
     "output_type": "execute_result"
    }
   ],
   "source": [
    "eng2sp['two']"
   ]
  },
  {
   "cell_type": "code",
   "execution_count": 10,
   "metadata": {},
   "outputs": [
    {
     "ename": "KeyError",
     "evalue": "'four'",
     "output_type": "error",
     "traceback": [
      "\u001b[0;31m---------------------------------------------------------------------------\u001b[0m",
      "\u001b[0;31mKeyError\u001b[0m                                  Traceback (most recent call last)",
      "Cell \u001b[0;32mIn[10], line 1\u001b[0m\n\u001b[0;32m----> 1\u001b[0m eng2sp[\u001b[39m'\u001b[39;49m\u001b[39mfour\u001b[39;49m\u001b[39m'\u001b[39;49m]\n",
      "\u001b[0;31mKeyError\u001b[0m: 'four'"
     ]
    }
   ],
   "source": [
    "eng2sp['four']"
   ]
  },
  {
   "cell_type": "code",
   "execution_count": 11,
   "metadata": {},
   "outputs": [
    {
     "data": {
      "text/plain": [
       "3"
      ]
     },
     "execution_count": 11,
     "metadata": {},
     "output_type": "execute_result"
    }
   ],
   "source": [
    "len(eng2sp)"
   ]
  },
  {
   "cell_type": "code",
   "execution_count": 12,
   "metadata": {},
   "outputs": [
    {
     "data": {
      "text/plain": [
       "True"
      ]
     },
     "execution_count": 12,
     "metadata": {},
     "output_type": "execute_result"
    }
   ],
   "source": [
    "'one' in eng2sp"
   ]
  },
  {
   "cell_type": "code",
   "execution_count": 13,
   "metadata": {},
   "outputs": [
    {
     "data": {
      "text/plain": [
       "False"
      ]
     },
     "execution_count": 13,
     "metadata": {},
     "output_type": "execute_result"
    }
   ],
   "source": [
    "'uno' in eng2sp"
   ]
  },
  {
   "cell_type": "markdown",
   "metadata": {},
   "source": [
    "## Um dicionário como uma coleção de contadores"
   ]
  },
  {
   "cell_type": "code",
   "execution_count": 14,
   "metadata": {},
   "outputs": [
    {
     "data": {
      "text/plain": [
       "{'b': 1, 'r': 2, 'o': 2, 'n': 1, 't': 1, 's': 2, 'a': 1, 'u': 2}"
      ]
     },
     "execution_count": 14,
     "metadata": {},
     "output_type": "execute_result"
    }
   ],
   "source": [
    "def histogram(s):\n",
    "    d = dict()\n",
    "    for c in s:\n",
    "        if c not in d:\n",
    "            d[c] = 1\n",
    "        else:\n",
    "            d[c] += 1\n",
    "    return d\n",
    "\n",
    "h = histogram('brontosaurus')\n",
    "h"
   ]
  },
  {
   "cell_type": "code",
   "execution_count": 15,
   "metadata": {},
   "outputs": [
    {
     "data": {
      "text/plain": [
       "{'a': 1}"
      ]
     },
     "execution_count": 15,
     "metadata": {},
     "output_type": "execute_result"
    }
   ],
   "source": [
    "h = histogram('a')\n",
    "h"
   ]
  },
  {
   "cell_type": "code",
   "execution_count": 16,
   "metadata": {},
   "outputs": [
    {
     "data": {
      "text/plain": [
       "1"
      ]
     },
     "execution_count": 16,
     "metadata": {},
     "output_type": "execute_result"
    }
   ],
   "source": [
    "h.get('a',0)"
   ]
  },
  {
   "cell_type": "code",
   "execution_count": 17,
   "metadata": {},
   "outputs": [
    {
     "data": {
      "text/plain": [
       "0"
      ]
     },
     "execution_count": 17,
     "metadata": {},
     "output_type": "execute_result"
    }
   ],
   "source": [
    "h.get('b',0)"
   ]
  },
  {
   "cell_type": "markdown",
   "metadata": {},
   "source": [
    "## Loop e dicionários"
   ]
  },
  {
   "cell_type": "code",
   "execution_count": 18,
   "metadata": {},
   "outputs": [
    {
     "name": "stdout",
     "output_type": "stream",
     "text": [
      "p 1\n",
      "a 1\n",
      "r 2\n",
      "o 1\n",
      "t 1\n"
     ]
    }
   ],
   "source": [
    "def print_hist(h):\n",
    "    for c in h:\n",
    "        print(c, h[c])\n",
    "\n",
    "h = histogram('parrot')\n",
    "print_hist(h)"
   ]
  },
  {
   "cell_type": "code",
   "execution_count": 19,
   "metadata": {},
   "outputs": [
    {
     "name": "stdout",
     "output_type": "stream",
     "text": [
      "a 1\n",
      "o 1\n",
      "p 1\n",
      "r 2\n",
      "t 1\n"
     ]
    }
   ],
   "source": [
    "for key in sorted(h):\n",
    "    print(key,h[key])"
   ]
  },
  {
   "cell_type": "markdown",
   "metadata": {},
   "source": [
    "## Busca reversa"
   ]
  },
  {
   "cell_type": "code",
   "execution_count": 20,
   "metadata": {},
   "outputs": [
    {
     "data": {
      "text/plain": [
       "'r'"
      ]
     },
     "execution_count": 20,
     "metadata": {},
     "output_type": "execute_result"
    }
   ],
   "source": [
    "def reverse_lookup(d,v):\n",
    "    for k in d:\n",
    "        if d[k] == v:\n",
    "            return k\n",
    "    raise LookupError('valor \"{}\" não encontrado'.format(v))\n",
    "\n",
    "h = histogram('parrot')\n",
    "k = reverse_lookup(h,2)\n",
    "k"
   ]
  },
  {
   "cell_type": "code",
   "execution_count": 21,
   "metadata": {},
   "outputs": [
    {
     "ename": "LookupError",
     "evalue": "valor \"3\" não encontrado",
     "output_type": "error",
     "traceback": [
      "\u001b[0;31m---------------------------------------------------------------------------\u001b[0m",
      "\u001b[0;31mLookupError\u001b[0m                               Traceback (most recent call last)",
      "Cell \u001b[0;32mIn[21], line 1\u001b[0m\n\u001b[0;32m----> 1\u001b[0m k \u001b[39m=\u001b[39m reverse_lookup(h,\u001b[39m3\u001b[39;49m)\n",
      "Cell \u001b[0;32mIn[20], line 5\u001b[0m, in \u001b[0;36mreverse_lookup\u001b[0;34m(d, v)\u001b[0m\n\u001b[1;32m      3\u001b[0m     \u001b[39mif\u001b[39;00m d[k] \u001b[39m==\u001b[39m v:\n\u001b[1;32m      4\u001b[0m         \u001b[39mreturn\u001b[39;00m k\n\u001b[0;32m----> 5\u001b[0m \u001b[39mraise\u001b[39;00m \u001b[39mLookupError\u001b[39;00m(\u001b[39m'\u001b[39m\u001b[39mvalor \u001b[39m\u001b[39m\"\u001b[39m\u001b[39m{}\u001b[39;00m\u001b[39m\"\u001b[39m\u001b[39m não encontrado\u001b[39m\u001b[39m'\u001b[39m\u001b[39m.\u001b[39mformat(v))\n",
      "\u001b[0;31mLookupError\u001b[0m: valor \"3\" não encontrado"
     ]
    }
   ],
   "source": [
    "k = reverse_lookup(h,3)"
   ]
  },
  {
   "cell_type": "markdown",
   "metadata": {},
   "source": [
    "## Dicionários e listas"
   ]
  },
  {
   "cell_type": "code",
   "execution_count": 22,
   "metadata": {},
   "outputs": [],
   "source": [
    "def invert_dict(d):\n",
    "    inverse = dict()\n",
    "    for key in d:\n",
    "        val = d[key]\n",
    "        if val not in inverse:\n",
    "            inverse[val] = [key]\n",
    "        else:\n",
    "            inverse[val].append(key)\n",
    "    return inverse"
   ]
  },
  {
   "cell_type": "code",
   "execution_count": 23,
   "metadata": {},
   "outputs": [
    {
     "data": {
      "text/plain": [
       "{'p': 1, 'a': 1, 'r': 2, 'o': 1, 't': 1}"
      ]
     },
     "execution_count": 23,
     "metadata": {},
     "output_type": "execute_result"
    }
   ],
   "source": [
    "hist = histogram('parrot')\n",
    "hist"
   ]
  },
  {
   "cell_type": "code",
   "execution_count": 24,
   "metadata": {},
   "outputs": [
    {
     "data": {
      "text/plain": [
       "{1: ['p', 'a', 'o', 't'], 2: ['r']}"
      ]
     },
     "execution_count": 24,
     "metadata": {},
     "output_type": "execute_result"
    }
   ],
   "source": [
    "inverse = invert_dict(hist)\n",
    "inverse"
   ]
  },
  {
   "cell_type": "code",
   "execution_count": 25,
   "metadata": {},
   "outputs": [
    {
     "ename": "TypeError",
     "evalue": "unhashable type: 'list'",
     "output_type": "error",
     "traceback": [
      "\u001b[0;31m---------------------------------------------------------------------------\u001b[0m",
      "\u001b[0;31mTypeError\u001b[0m                                 Traceback (most recent call last)",
      "Cell \u001b[0;32mIn[25], line 3\u001b[0m\n\u001b[1;32m      1\u001b[0m t \u001b[39m=\u001b[39m [\u001b[39m1\u001b[39m,\u001b[39m2\u001b[39m,\u001b[39m3\u001b[39m]\n\u001b[1;32m      2\u001b[0m d \u001b[39m=\u001b[39m \u001b[39mdict\u001b[39m()\n\u001b[0;32m----> 3\u001b[0m d[t] \u001b[39m=\u001b[39m \u001b[39m'\u001b[39m\u001b[39moops\u001b[39m\u001b[39m'\u001b[39m\n",
      "\u001b[0;31mTypeError\u001b[0m: unhashable type: 'list'"
     ]
    }
   ],
   "source": [
    "t = [1,2,3]\n",
    "d = dict()\n",
    "d[t] = 'oops'"
   ]
  },
  {
   "cell_type": "code",
   "execution_count": 27,
   "metadata": {},
   "outputs": [
    {
     "data": {
      "text/plain": [
       "{(1, 2, 3): 'oops'}"
      ]
     },
     "execution_count": 27,
     "metadata": {},
     "output_type": "execute_result"
    }
   ],
   "source": [
    "t = (1,2,3)\n",
    "d = dict()\n",
    "d[t] = 'oops'\n",
    "d"
   ]
  },
  {
   "cell_type": "markdown",
   "metadata": {},
   "source": [
    "## Memos"
   ]
  },
  {
   "cell_type": "code",
   "execution_count": 39,
   "metadata": {},
   "outputs": [
    {
     "data": {
      "text/plain": [
       "102334155"
      ]
     },
     "execution_count": 39,
     "metadata": {},
     "output_type": "execute_result"
    }
   ],
   "source": [
    "def fibonacci_sem_memos(n):\n",
    "    if n == 0:\n",
    "        return 0\n",
    "    elif n == 1:\n",
    "        return 1\n",
    "    else:\n",
    "        return fibonacci_sem_memos(n-1) + fibonacci_sem_memos(n-2)\n",
    "\n",
    "fibonacci_sem_memos(40)"
   ]
  },
  {
   "cell_type": "code",
   "execution_count": 40,
   "metadata": {},
   "outputs": [
    {
     "data": {
      "text/plain": [
       "102334155"
      ]
     },
     "execution_count": 40,
     "metadata": {},
     "output_type": "execute_result"
    }
   ],
   "source": [
    "known = {0:0, 1:1}\n",
    "def fibonacci(n):\n",
    "    if n in known:\n",
    "        return known[n]\n",
    "    res = fibonacci(n-1) + fibonacci(n-2)\n",
    "    known[n] = res\n",
    "    return res\n",
    "\n",
    "fibonacci(40)"
   ]
  },
  {
   "cell_type": "markdown",
   "metadata": {},
   "source": [
    "## Variáveis globais"
   ]
  },
  {
   "cell_type": "code",
   "execution_count": 41,
   "metadata": {},
   "outputs": [
    {
     "name": "stdout",
     "output_type": "stream",
     "text": [
      "Running example1\n"
     ]
    }
   ],
   "source": [
    "verbose = True\n",
    "def example1():\n",
    "    if verbose:\n",
    "        print('Running example1')\n",
    "\n",
    "example1()"
   ]
  },
  {
   "cell_type": "code",
   "execution_count": 43,
   "metadata": {},
   "outputs": [
    {
     "name": "stdout",
     "output_type": "stream",
     "text": [
      "False\n",
      "False\n"
     ]
    }
   ],
   "source": [
    "been_called = False\n",
    "def example2():\n",
    "    been_called = True #ERRADO\n",
    "\n",
    "print(been_called)\n",
    "example2()\n",
    "print(been_called)"
   ]
  },
  {
   "cell_type": "code",
   "execution_count": 44,
   "metadata": {},
   "outputs": [
    {
     "name": "stdout",
     "output_type": "stream",
     "text": [
      "False\n",
      "True\n"
     ]
    }
   ],
   "source": [
    "been_called = False\n",
    "def example2():\n",
    "    global been_called\n",
    "    been_called = True\n",
    "\n",
    "print(been_called)\n",
    "example2()\n",
    "print(been_called)"
   ]
  },
  {
   "cell_type": "code",
   "execution_count": 45,
   "metadata": {},
   "outputs": [
    {
     "ename": "UnboundLocalError",
     "evalue": "local variable 'count' referenced before assignment",
     "output_type": "error",
     "traceback": [
      "\u001b[0;31m---------------------------------------------------------------------------\u001b[0m",
      "\u001b[0;31mUnboundLocalError\u001b[0m                         Traceback (most recent call last)",
      "Cell \u001b[0;32mIn[45], line 5\u001b[0m\n\u001b[1;32m      2\u001b[0m \u001b[39mdef\u001b[39;00m \u001b[39mexample3\u001b[39m():\n\u001b[1;32m      3\u001b[0m     count \u001b[39m=\u001b[39m count \u001b[39m+\u001b[39m \u001b[39m1\u001b[39m \u001b[39m# ERRADO\u001b[39;00m\n\u001b[0;32m----> 5\u001b[0m example3()\n",
      "Cell \u001b[0;32mIn[45], line 3\u001b[0m, in \u001b[0;36mexample3\u001b[0;34m()\u001b[0m\n\u001b[1;32m      2\u001b[0m \u001b[39mdef\u001b[39;00m \u001b[39mexample3\u001b[39m():\n\u001b[0;32m----> 3\u001b[0m     count \u001b[39m=\u001b[39m count \u001b[39m+\u001b[39m \u001b[39m1\u001b[39m\n",
      "\u001b[0;31mUnboundLocalError\u001b[0m: local variable 'count' referenced before assignment"
     ]
    }
   ],
   "source": [
    "count = 0\n",
    "def example3():\n",
    "    count = count + 1 # ERRADO\n",
    "\n",
    "example3()"
   ]
  },
  {
   "cell_type": "code",
   "execution_count": 46,
   "metadata": {},
   "outputs": [],
   "source": [
    "count = 0\n",
    "def example3():\n",
    "    global count\n",
    "    count = count + 1\n",
    "\n",
    "example3()"
   ]
  },
  {
   "cell_type": "code",
   "execution_count": 49,
   "metadata": {},
   "outputs": [
    {
     "name": "stdout",
     "output_type": "stream",
     "text": [
      "{0: 0, 1: 1}\n",
      "{0: 0, 1: 1, 2: 1}\n"
     ]
    }
   ],
   "source": [
    "known = {0:0,1:1}\n",
    "def example4():\n",
    "    known[2] = 1\n",
    "\n",
    "print(known)\n",
    "example4()\n",
    "print(known)"
   ]
  },
  {
   "cell_type": "code",
   "execution_count": 50,
   "metadata": {},
   "outputs": [
    {
     "name": "stdout",
     "output_type": "stream",
     "text": [
      "{}\n"
     ]
    }
   ],
   "source": [
    "def examples():\n",
    "    global known\n",
    "    known = dict()\n",
    "\n",
    "examples()\n",
    "print(known)\n"
   ]
  },
  {
   "attachments": {},
   "cell_type": "markdown",
   "metadata": {},
   "source": [
    "## Depuração"
   ]
  },
  {
   "cell_type": "code",
   "execution_count": 57,
   "metadata": {},
   "outputs": [
    {
     "name": "stdout",
     "output_type": "stream",
     "text": [
      "{'author': '',\n",
      " 'author_email': '\"A. Random Developer\" <author@example.com>',\n",
      " 'bugtrack_url': None,\n",
      " 'classifiers': ['Development Status :: 3 - Alpha',\n",
      "                 'Intended Audience :: Developers',\n",
      "                 'License :: OSI Approved :: MIT License',\n",
      "                 'Programming Language :: Python :: 3',\n",
      "                 'Programming Language :: Python :: 3 :: Only',\n",
      "                 'Programming Language :: Python :: 3.10',\n",
      "                 'Programming Language :: Python :: 3.11',\n",
      "                 'Programming Language :: Python :: 3.7',\n",
      "                 'Programming Language :: Python :: 3.8',\n",
      "                 'Programming Language :: Python :: 3.9',\n",
      "                 'Topic :: Software Development :: Build Tools'],\n",
      " 'description': '# A sample Python project\\n'\n",
      "                '\\n'\n",
      "                '![Python '\n",
      "                'Logo](https://www.python.org/static/community_logos/python-logo.png '\n",
      "                '\"Sample inline image\")\\n'\n",
      "                '\\n'\n",
      "                'A sample project that exists as an aid to the [Python '\n",
      "                'Packaging User\\n'\n",
      "                \"Guide][packaging guide]'s [Tutorial on Packaging and \"\n",
      "                'Distributing\\n'\n",
      "                'Projects][distribution tutorial].\\n'\n",
      "                '\\n'\n",
      "                'This project does not aim to cover best practices for Python '\n",
      "                'project\\n'\n",
      "                'development as a whole. For example, it does not provide '\n",
      "                'guidance or tool\\n'\n",
      "                'recommendations for version control, documentation, or '\n",
      "                'testing.\\n'\n",
      "                '\\n'\n",
      "                '[The source for this project is available here][src].\\n'\n",
      "                '\\n'\n",
      "                'The metadata for a Python project is defined in the '\n",
      "                '`pyproject.toml` file,\\n'\n",
      "                'an example of which is included in this project. You should '\n",
      "                'edit this file\\n'\n",
      "                'accordingly to adapt this sample project to your needs.\\n'\n",
      "                '\\n'\n",
      "                '----\\n'\n",
      "                '\\n'\n",
      "                'This is the README file for the project.\\n'\n",
      "                '\\n'\n",
      "                'The file should use UTF-8 encoding and can be written using\\n'\n",
      "                '[reStructuredText][rst] or [markdown][md use] with the '\n",
      "                'appropriate [key set][md\\n'\n",
      "                'use]. It will be used to generate the project webpage on PyPI '\n",
      "                'and will be\\n'\n",
      "                'displayed as the project homepage on common code-hosting '\n",
      "                'services, and should be\\n'\n",
      "                'written for that purpose.\\n'\n",
      "                '\\n'\n",
      "                'Typical contents for this file would include an overview of '\n",
      "                'the project, basic\\n'\n",
      "                'usage examples, etc. Generally, including the project '\n",
      "                'changelog in here is not a\\n'\n",
      "                \"good idea, although a simple “What's New” section for the \"\n",
      "                'most recent version\\n'\n",
      "                'may be appropriate.\\n'\n",
      "                '\\n'\n",
      "                '[packaging guide]: https://packaging.python.org\\n'\n",
      "                '[distribution tutorial]: '\n",
      "                'https://packaging.python.org/tutorials/packaging-projects/\\n'\n",
      "                '[src]: https://github.com/pypa/sampleproject\\n'\n",
      "                '[rst]: http://docutils.sourceforge.net/rst.html\\n'\n",
      "                '[md]: https://tools.ietf.org/html/rfc7764#section-3.5 '\n",
      "                '\"CommonMark variant\"\\n'\n",
      "                '[md use]: '\n",
      "                'https://packaging.python.org/specifications/core-metadata/#description-content-type-optional\\n',\n",
      " 'description_content_type': 'text/markdown',\n",
      " 'docs_url': None,\n",
      " 'download_url': '',\n",
      " 'downloads': {'last_day': -1, 'last_month': -1, 'last_week': -1},\n",
      " 'home_page': '',\n",
      " 'keywords': 'sample,setuptools,development',\n",
      " 'license': 'Copyright (c) 2016 The Python Packaging Authority (PyPA)  '\n",
      "            'Permission is hereby granted, free of charge, to any person '\n",
      "            'obtaining a copy of this software and associated documentation '\n",
      "            'files (the \"Software\"), to deal in the Software without '\n",
      "            'restriction, including without limitation the rights to use, '\n",
      "            'copy, modify, merge, publish, distribute, sublicense, and/or sell '\n",
      "            'copies of the Software, and to permit persons to whom the '\n",
      "            'Software is furnished to do so, subject to the following '\n",
      "            'conditions:  The above copyright notice and this permission '\n",
      "            'notice shall be included in all copies or substantial portions of '\n",
      "            'the Software.  THE SOFTWARE IS PROVIDED \"AS IS\", WITHOUT WARRANTY '\n",
      "            'OF ANY KIND, EXPRESS OR IMPLIED, INCLUDING BUT NOT LIMITED TO THE '\n",
      "            'WARRANTIES OF MERCHANTABILITY, FITNESS FOR A PARTICULAR PURPOSE '\n",
      "            'AND NONINFRINGEMENT. IN NO EVENT SHALL THE AUTHORS OR COPYRIGHT '\n",
      "            'HOLDERS BE LIABLE FOR ANY CLAIM, DAMAGES OR OTHER LIABILITY, '\n",
      "            'WHETHER IN AN ACTION OF CONTRACT, TORT OR OTHERWISE, ARISING '\n",
      "            'FROM, OUT OF OR IN CONNECTION WITH THE SOFTWARE OR THE USE OR '\n",
      "            'OTHER DEALINGS IN THE SOFTWARE. ',\n",
      " 'maintainer': '',\n",
      " 'maintainer_email': '\"A. Great Maintainer\" <maintainer@example.com>',\n",
      " 'name': 'sampleproject',\n",
      " 'package_url': 'https://pypi.org/project/sampleproject/',\n",
      " 'platform': None,\n",
      " 'project_url': 'https://pypi.org/project/sampleproject/',\n",
      " 'project_urls': {'Bug Reports': 'https://github.com/pypa/sampleproject/issues',\n",
      "                  'Funding': 'https://donate.pypi.org',\n",
      "                  'Homepage': 'https://github.com/pypa/sampleproject',\n",
      "                  'Say Thanks!': 'http://saythanks.io/to/example',\n",
      "                  'Source': 'https://github.com/pypa/sampleproject/'},\n",
      " 'release_url': 'https://pypi.org/project/sampleproject/3.0.0/',\n",
      " 'requires_dist': ['peppercorn',\n",
      "                   \"check-manifest ; extra == 'dev'\",\n",
      "                   \"coverage ; extra == 'test'\"],\n",
      " 'requires_python': '>=3.7',\n",
      " 'summary': 'A sample Python project',\n",
      " 'version': '3.0.0',\n",
      " 'yanked': False,\n",
      " 'yanked_reason': None}\n"
     ]
    }
   ],
   "source": [
    "import json\n",
    "import pprint\n",
    "\n",
    "from urllib.request import urlopen\n",
    "\n",
    "with urlopen('https://pypi.org/pypi/sampleproject/json') as resp:\n",
    "    project_info = json.load(resp)['info']\n",
    "\n",
    "pprint.pprint(project_info)"
   ]
  },
  {
   "cell_type": "markdown",
   "metadata": {},
   "source": [
    "## Exercícios"
   ]
  },
  {
   "cell_type": "markdown",
   "metadata": {},
   "source": [
    "### Exercício 1"
   ]
  },
  {
   "cell_type": "code",
   "execution_count": 63,
   "metadata": {},
   "outputs": [
    {
     "name": "stdout",
     "output_type": "stream",
     "text": [
      "113783\n"
     ]
    },
    {
     "data": {
      "text/plain": [
       "True"
      ]
     },
     "execution_count": 63,
     "metadata": {},
     "output_type": "execute_result"
    }
   ],
   "source": [
    "dict_words = dict()\n",
    "with open('./words.txt') as words:\n",
    "    for line in words.readlines():\n",
    "        dict_words[line.strip()] = 0\n",
    "\n",
    "print(len(dict_words))\n",
    "\n",
    "'marble' in dict_words"
   ]
  },
  {
   "cell_type": "markdown",
   "metadata": {},
   "source": [
    "### Exercício 2"
   ]
  },
  {
   "cell_type": "code",
   "execution_count": 1,
   "metadata": {},
   "outputs": [
    {
     "name": "stdout",
     "output_type": "stream",
     "text": [
      "{1: ['a'], 2: ['b'], 3: ['c'], 4: ['d'], 5: ['e'], 6: ['f'], 8: ['g']}\n",
      "\n",
      "{1: ['a'], 2: ['b'], 3: ['c'], 4: ['d'], 5: ['e'], 6: ['f'], 8: ['g']}\n"
     ]
    }
   ],
   "source": [
    "def invert_dict_original(d):\n",
    "    inverse = dict()\n",
    "    for key in d:\n",
    "        val = d[key]\n",
    "        if val not in inverse:\n",
    "            inverse[val] = [key]\n",
    "        else:\n",
    "            inverse[val].append(key)\n",
    "    return inverse\n",
    "\n",
    "def invert_dict(d):\n",
    "    inverse = dict()\n",
    "    for key in d:\n",
    "        val = d[key]\n",
    "        inverse.setdefault(val,[]).append(key)\n",
    "    return inverse\n",
    "\n",
    "d = {'a':1,'b':2,'c':3,'d':4,'e':5,'f':6,'g':7,'g':8,}\n",
    "\n",
    "print(invert_dict_original(d))\n",
    "print()\n",
    "print(invert_dict(d))"
   ]
  },
  {
   "cell_type": "markdown",
   "metadata": {},
   "source": [
    "### Exercício 3"
   ]
  },
  {
   "cell_type": "code",
   "execution_count": 25,
   "metadata": {},
   "outputs": [
    {
     "ename": "RecursionError",
     "evalue": "maximum recursion depth exceeded in comparison",
     "output_type": "error",
     "traceback": [
      "\u001b[0;31m---------------------------------------------------------------------------\u001b[0m",
      "\u001b[0;31mRecursionError\u001b[0m                            Traceback (most recent call last)",
      "Cell \u001b[0;32mIn[25], line 9\u001b[0m\n\u001b[1;32m      6\u001b[0m     \u001b[39melse\u001b[39;00m:\n\u001b[1;32m      7\u001b[0m         \u001b[39mreturn\u001b[39;00m ack(m\u001b[39m-\u001b[39m\u001b[39m1\u001b[39m,ack(m,n\u001b[39m-\u001b[39m\u001b[39m1\u001b[39m))\n\u001b[0;32m----> 9\u001b[0m ack(\u001b[39m4\u001b[39;49m,\u001b[39m7\u001b[39;49m)\n",
      "Cell \u001b[0;32mIn[25], line 7\u001b[0m, in \u001b[0;36mack\u001b[0;34m(m, n)\u001b[0m\n\u001b[1;32m      5\u001b[0m     \u001b[39mreturn\u001b[39;00m ack(m\u001b[39m-\u001b[39m\u001b[39m1\u001b[39m, \u001b[39m1\u001b[39m)\n\u001b[1;32m      6\u001b[0m \u001b[39melse\u001b[39;00m:\n\u001b[0;32m----> 7\u001b[0m     \u001b[39mreturn\u001b[39;00m ack(m\u001b[39m-\u001b[39m\u001b[39m1\u001b[39m,ack(m,n\u001b[39m-\u001b[39;49m\u001b[39m1\u001b[39;49m))\n",
      "Cell \u001b[0;32mIn[25], line 7\u001b[0m, in \u001b[0;36mack\u001b[0;34m(m, n)\u001b[0m\n\u001b[1;32m      5\u001b[0m     \u001b[39mreturn\u001b[39;00m ack(m\u001b[39m-\u001b[39m\u001b[39m1\u001b[39m, \u001b[39m1\u001b[39m)\n\u001b[1;32m      6\u001b[0m \u001b[39melse\u001b[39;00m:\n\u001b[0;32m----> 7\u001b[0m     \u001b[39mreturn\u001b[39;00m ack(m\u001b[39m-\u001b[39m\u001b[39m1\u001b[39m,ack(m,n\u001b[39m-\u001b[39;49m\u001b[39m1\u001b[39;49m))\n",
      "    \u001b[0;31m[... skipping similar frames: ack at line 7 (2968 times)]\u001b[0m\n",
      "Cell \u001b[0;32mIn[25], line 7\u001b[0m, in \u001b[0;36mack\u001b[0;34m(m, n)\u001b[0m\n\u001b[1;32m      5\u001b[0m     \u001b[39mreturn\u001b[39;00m ack(m\u001b[39m-\u001b[39m\u001b[39m1\u001b[39m, \u001b[39m1\u001b[39m)\n\u001b[1;32m      6\u001b[0m \u001b[39melse\u001b[39;00m:\n\u001b[0;32m----> 7\u001b[0m     \u001b[39mreturn\u001b[39;00m ack(m\u001b[39m-\u001b[39m\u001b[39m1\u001b[39m,ack(m,n\u001b[39m-\u001b[39;49m\u001b[39m1\u001b[39;49m))\n",
      "Cell \u001b[0;32mIn[25], line 5\u001b[0m, in \u001b[0;36mack\u001b[0;34m(m, n)\u001b[0m\n\u001b[1;32m      3\u001b[0m     \u001b[39mreturn\u001b[39;00m n\u001b[39m+\u001b[39m\u001b[39m1\u001b[39m\n\u001b[1;32m      4\u001b[0m \u001b[39melif\u001b[39;00m m \u001b[39m>\u001b[39m \u001b[39m0\u001b[39m \u001b[39mand\u001b[39;00m n \u001b[39m==\u001b[39m \u001b[39m0\u001b[39m:\n\u001b[0;32m----> 5\u001b[0m     \u001b[39mreturn\u001b[39;00m ack(m\u001b[39m-\u001b[39;49m\u001b[39m1\u001b[39;49m, \u001b[39m1\u001b[39;49m)\n\u001b[1;32m      6\u001b[0m \u001b[39melse\u001b[39;00m:\n\u001b[1;32m      7\u001b[0m     \u001b[39mreturn\u001b[39;00m ack(m\u001b[39m-\u001b[39m\u001b[39m1\u001b[39m,ack(m,n\u001b[39m-\u001b[39m\u001b[39m1\u001b[39m))\n",
      "Cell \u001b[0;32mIn[25], line 2\u001b[0m, in \u001b[0;36mack\u001b[0;34m(m, n)\u001b[0m\n\u001b[1;32m      1\u001b[0m \u001b[39mdef\u001b[39;00m \u001b[39mack\u001b[39m(m,n):\n\u001b[0;32m----> 2\u001b[0m     \u001b[39mif\u001b[39;00m m \u001b[39m==\u001b[39;49m \u001b[39m0\u001b[39;49m:\n\u001b[1;32m      3\u001b[0m         \u001b[39mreturn\u001b[39;00m n\u001b[39m+\u001b[39m\u001b[39m1\u001b[39m\n\u001b[1;32m      4\u001b[0m     \u001b[39melif\u001b[39;00m m \u001b[39m>\u001b[39m \u001b[39m0\u001b[39m \u001b[39mand\u001b[39;00m n \u001b[39m==\u001b[39m \u001b[39m0\u001b[39m:\n",
      "\u001b[0;31mRecursionError\u001b[0m: maximum recursion depth exceeded in comparison"
     ]
    }
   ],
   "source": [
    "def ack(m,n):\n",
    "    if m == 0:\n",
    "        return n+1\n",
    "    elif m > 0 and n == 0:\n",
    "        return ack(m-1, 1)\n",
    "    else:\n",
    "        return ack(m-1,ack(m,n-1))\n",
    "\n",
    "ack(4,7)"
   ]
  },
  {
   "cell_type": "code",
   "execution_count": 26,
   "metadata": {},
   "outputs": [
    {
     "ename": "RecursionError",
     "evalue": "maximum recursion depth exceeded in comparison",
     "output_type": "error",
     "traceback": [
      "\u001b[0;31m---------------------------------------------------------------------------\u001b[0m",
      "\u001b[0;31mRecursionError\u001b[0m                            Traceback (most recent call last)",
      "Cell \u001b[0;32mIn[26], line 17\u001b[0m\n\u001b[1;32m     14\u001b[0m         cache[m, n] \u001b[39m=\u001b[39m ack_memo(m\u001b[39m-\u001b[39m\u001b[39m1\u001b[39m, ack_memo(m, n\u001b[39m-\u001b[39m\u001b[39m1\u001b[39m))\n\u001b[1;32m     15\u001b[0m         \u001b[39mreturn\u001b[39;00m cache[m, n]\n\u001b[0;32m---> 17\u001b[0m \u001b[39mprint\u001b[39m(ack(\u001b[39m4\u001b[39;49m,\u001b[39m7\u001b[39;49m))\n",
      "Cell \u001b[0;32mIn[25], line 7\u001b[0m, in \u001b[0;36mack\u001b[0;34m(m, n)\u001b[0m\n\u001b[1;32m      5\u001b[0m     \u001b[39mreturn\u001b[39;00m ack(m\u001b[39m-\u001b[39m\u001b[39m1\u001b[39m, \u001b[39m1\u001b[39m)\n\u001b[1;32m      6\u001b[0m \u001b[39melse\u001b[39;00m:\n\u001b[0;32m----> 7\u001b[0m     \u001b[39mreturn\u001b[39;00m ack(m\u001b[39m-\u001b[39m\u001b[39m1\u001b[39m,ack(m,n\u001b[39m-\u001b[39;49m\u001b[39m1\u001b[39;49m))\n",
      "Cell \u001b[0;32mIn[25], line 7\u001b[0m, in \u001b[0;36mack\u001b[0;34m(m, n)\u001b[0m\n\u001b[1;32m      5\u001b[0m     \u001b[39mreturn\u001b[39;00m ack(m\u001b[39m-\u001b[39m\u001b[39m1\u001b[39m, \u001b[39m1\u001b[39m)\n\u001b[1;32m      6\u001b[0m \u001b[39melse\u001b[39;00m:\n\u001b[0;32m----> 7\u001b[0m     \u001b[39mreturn\u001b[39;00m ack(m\u001b[39m-\u001b[39m\u001b[39m1\u001b[39m,ack(m,n\u001b[39m-\u001b[39;49m\u001b[39m1\u001b[39;49m))\n",
      "    \u001b[0;31m[... skipping similar frames: ack at line 7 (2968 times)]\u001b[0m\n",
      "Cell \u001b[0;32mIn[25], line 7\u001b[0m, in \u001b[0;36mack\u001b[0;34m(m, n)\u001b[0m\n\u001b[1;32m      5\u001b[0m     \u001b[39mreturn\u001b[39;00m ack(m\u001b[39m-\u001b[39m\u001b[39m1\u001b[39m, \u001b[39m1\u001b[39m)\n\u001b[1;32m      6\u001b[0m \u001b[39melse\u001b[39;00m:\n\u001b[0;32m----> 7\u001b[0m     \u001b[39mreturn\u001b[39;00m ack(m\u001b[39m-\u001b[39m\u001b[39m1\u001b[39m,ack(m,n\u001b[39m-\u001b[39;49m\u001b[39m1\u001b[39;49m))\n",
      "Cell \u001b[0;32mIn[25], line 5\u001b[0m, in \u001b[0;36mack\u001b[0;34m(m, n)\u001b[0m\n\u001b[1;32m      3\u001b[0m     \u001b[39mreturn\u001b[39;00m n\u001b[39m+\u001b[39m\u001b[39m1\u001b[39m\n\u001b[1;32m      4\u001b[0m \u001b[39melif\u001b[39;00m m \u001b[39m>\u001b[39m \u001b[39m0\u001b[39m \u001b[39mand\u001b[39;00m n \u001b[39m==\u001b[39m \u001b[39m0\u001b[39m:\n\u001b[0;32m----> 5\u001b[0m     \u001b[39mreturn\u001b[39;00m ack(m\u001b[39m-\u001b[39;49m\u001b[39m1\u001b[39;49m, \u001b[39m1\u001b[39;49m)\n\u001b[1;32m      6\u001b[0m \u001b[39melse\u001b[39;00m:\n\u001b[1;32m      7\u001b[0m     \u001b[39mreturn\u001b[39;00m ack(m\u001b[39m-\u001b[39m\u001b[39m1\u001b[39m,ack(m,n\u001b[39m-\u001b[39m\u001b[39m1\u001b[39m))\n",
      "Cell \u001b[0;32mIn[25], line 2\u001b[0m, in \u001b[0;36mack\u001b[0;34m(m, n)\u001b[0m\n\u001b[1;32m      1\u001b[0m \u001b[39mdef\u001b[39;00m \u001b[39mack\u001b[39m(m,n):\n\u001b[0;32m----> 2\u001b[0m     \u001b[39mif\u001b[39;00m m \u001b[39m==\u001b[39;49m \u001b[39m0\u001b[39;49m:\n\u001b[1;32m      3\u001b[0m         \u001b[39mreturn\u001b[39;00m n\u001b[39m+\u001b[39m\u001b[39m1\u001b[39m\n\u001b[1;32m      4\u001b[0m     \u001b[39melif\u001b[39;00m m \u001b[39m>\u001b[39m \u001b[39m0\u001b[39m \u001b[39mand\u001b[39;00m n \u001b[39m==\u001b[39m \u001b[39m0\u001b[39m:\n",
      "\u001b[0;31mRecursionError\u001b[0m: maximum recursion depth exceeded in comparison"
     ]
    }
   ],
   "source": [
    "cache = {}\n",
    "\n",
    "def ack_memo(m,n):\n",
    "    if m == 0:\n",
    "        cache[m,n] = n+1\n",
    "        return cache[m,n]\n",
    "    if n == 0:\n",
    "        cache[m,n] = ack_memo(m-1, 1)\n",
    "        return cache[m,n]\n",
    "\n",
    "    if (m, n) in cache:\n",
    "        return cache[m, n]\n",
    "    else:\n",
    "        cache[m, n] = ack_memo(m-1, ack_memo(m, n-1))\n",
    "        return cache[m, n]\n",
    "\n",
    "print(ack(4,7))"
   ]
  },
  {
   "cell_type": "markdown",
   "metadata": {},
   "source": [
    "### Exercício 4"
   ]
  },
  {
   "cell_type": "code",
   "execution_count": 37,
   "metadata": {},
   "outputs": [
    {
     "name": "stdout",
     "output_type": "stream",
     "text": [
      "[1, 2, 6, 3, 4, 5, 6, 7, 8, 9, 0]\n",
      "True\n",
      "[1, 2, 6, 3, 4, 5, 6, 7, 8, 9, 0]\n"
     ]
    }
   ],
   "source": [
    "def has_duplicates(t):\n",
    "    lista = t[:]\n",
    "    lista.sort()\n",
    "    for i in range(len(lista)-1):\n",
    "        if lista[i] == lista[i+1]:\n",
    "            return True\n",
    "    return False\n",
    "\n",
    "t = [1,2,6,3,4,5,6,7,8,9,0]\n",
    "\n",
    "print(t)\n",
    "print(has_duplicates(t))\n",
    "print(t)"
   ]
  },
  {
   "cell_type": "code",
   "execution_count": 36,
   "metadata": {},
   "outputs": [
    {
     "name": "stdout",
     "output_type": "stream",
     "text": [
      "[1, 2, 6, 3, 4, 5, 7, 8, 9, 0]\n",
      "False\n",
      "[1, 2, 6, 3, 4, 5, 7, 8, 9, 0]\n"
     ]
    }
   ],
   "source": [
    "def has_duplicates_memo(t):\n",
    "    duplicados = {}\n",
    "    for i in t:\n",
    "        if i in duplicados:\n",
    "            return True\n",
    "        duplicados[i] = True\n",
    "    return False\n",
    "\n",
    "t = [1,2,6,3,4,5,7,8,9,0]\n",
    "\n",
    "print(t)\n",
    "print(has_duplicates_memo(t))\n",
    "print(t)"
   ]
  },
  {
   "cell_type": "markdown",
   "metadata": {},
   "source": [
    "### Exercício 5"
   ]
  },
  {
   "cell_type": "code",
   "execution_count": 38,
   "metadata": {},
   "outputs": [
    {
     "name": "stdout",
     "output_type": "stream",
     "text": [
      "aah 4 eel\n",
      "abet 7 hila\n",
      "abjurer 13 nowhere\n",
      "abo 4 efs\n",
      "abo 13 nob\n",
      "aby 3 deb\n",
      "ache 6 gink\n",
      "ad 1 be\n",
      "ad 4 eh\n",
      "ad 11 lo\n",
      "add 1 bee\n",
      "add 8 ill\n",
      "add 11 loo\n",
      "adder 1 beefs\n",
      "adds 1 beet\n",
      "ado 5 fit\n",
      "ads 1 bet\n",
      "ads 5 fix\n",
      "adz 5 fie\n",
      "aff 8 inn\n",
      "aga 4 eke\n",
      "ah 1 bi\n",
      "ah 4 el\n",
      "ah 7 ho\n",
      "ah 13 nu\n",
      "aha 1 bib\n",
      "aha 13 nun\n",
      "ahem 7 holt\n",
      "ahull 6 gnarr\n",
      "ai 4 em\n",
      "ai 6 go\n",
      "ai 12 mu\n",
      "ail 6 gor\n",
      "ails 6 gory\n",
      "ain 6 got\n",
      "air 6 gox\n",
      "air 12 mud\n",
      "ais 6 goy\n",
      "alb 3 doe\n",
      "ale 9 jun\n",
      "alkyd 4 epoch\n",
      "alp 3 dos\n",
      "alt 3 dow\n",
      "am 12 my\n",
      "ambo 12 myna\n",
      "amu 2 cow\n",
      "an 1 bo\n",
      "an 4 er\n",
      "an 13 na\n",
      "ana 1 bob\n",
      "ana 4 ere\n",
      "ana 7 huh\n",
      "ani 7 hup\n",
      "anil 13 navy\n",
      "anna 1 boob\n",
      "ant 11 lye\n",
      "ant 13 nag\n",
      "anteed 1 bouffe\n",
      "ants 1 bout\n",
      "ape 11 lap\n",
      "aped 5 fuji\n",
      "arf 3 dui\n",
      "aril 7 hyps\n",
      "ark 3 dun\n",
      "arm 3 dup\n",
      "ars 9 jab\n",
      "as 12 me\n",
      "ash 12 met\n",
      "ask 2 cum\n",
      "ask 12 mew\n",
      "asp 2 cur\n",
      "at 4 ex\n",
      "at 7 ha\n",
      "atma 7 hath\n",
      "auk 2 cwm\n",
      "avo 5 fat\n",
      "avo 13 nib\n",
      "aw 12 mi\n",
      "awa 12 mim\n",
      "awl 12 mix\n",
      "awn 4 ear\n",
      "axal 3 dado\n",
      "axe 3 dah\n",
      "axe 11 lip\n",
      "ays 6 gey\n",
      "azo 5 fet\n",
      "azon 5 fets\n",
      "ba 13 on\n",
      "baa 4 fee\n",
      "baal 3 eddo\n",
      "baff 8 jinn\n",
      "balk 13 onyx\n",
      "ban 4 fer\n",
      "banjo 4 ferns\n",
      "bar 13 one\n",
      "barf 13 ones\n",
      "bas 4 few\n",
      "bat 8 jib\n",
      "batt 8 jibb\n",
      "bay 8 jig\n",
      "be 3 eh\n",
      "be 10 lo\n",
      "be 13 or\n",
      "bed 7 ilk\n",
      "bee 7 ill\n",
      "bee 10 loo\n",
      "beef 10 loop\n",
      "been 13 orra\n",
      "beer 7 illy\n",
      "beg 13 ort\n",
      "ben 4 fir\n",
      "ben 10 lox\n",
      "ben 13 ora\n",
      "berg 9 knap\n",
      "bet 4 fix\n",
      "bi 3 el\n",
      "bi 6 ho\n",
      "bi 12 nu\n",
      "bib 12 nun\n",
      "biffs 6 holly\n",
      "big 12 nus\n",
      "bin 6 hot\n",
      "bin 13 ova\n",
      "bis 6 hoy\n",
      "bo 3 er\n",
      "bo 12 na\n",
      "boa 6 hug\n",
      "boas 12 name\n",
      "bob 3 ere\n",
      "bob 6 huh\n",
      "bod 3 erg\n",
      "bod 12 nap\n",
      "bods 12 nape\n",
      "boff 6 hull\n",
      "bog 6 hum\n",
      "bolls 6 hurry\n",
      "bomb 6 hush\n",
      "bombyx 6 hushed\n",
      "boo 3 err\n",
      "bop 3 ers\n",
      "bop 12 nab\n",
      "bos 12 nae\n",
      "box 3 era\n",
      "boy 6 hue\n",
      "brie 9 karn\n",
      "bub 6 hah\n",
      "bub 13 oho\n",
      "bud 6 haj\n",
      "buff 6 hall\n",
      "buffi 6 hallo\n",
      "bug 6 ham\n",
      "bulls 6 harry\n",
      "bum 6 has\n",
      "bun 6 hat\n",
      "bun 10 lex\n",
      "bus 6 hay\n",
      "but 10 led\n",
      "buts 6 hazy\n",
      "butyl 6 hazer\n",
      "buy 6 hae\n",
      "buy 10 lei\n",
      "by 2 da\n",
      "by 6 he\n",
      "by 7 if\n",
      "by 10 li\n",
      "bye 2 dag\n",
      "byre 9 khan\n",
      "bys 6 hey\n",
      "byte 10 lido\n",
      "calk 8 kits\n",
      "cans 8 kiva\n",
      "cap 4 get\n",
      "capo 4 gets\n",
      "caps 2 ecru\n",
      "cede 10 mono\n",
      "cedi 10 mons\n",
      "cee 2 egg\n",
      "cee 10 moo\n",
      "ceil 4 gimp\n",
      "chain 6 ingot\n",
      "char 1 dibs\n",
      "chat 13 pung\n",
      "cheer 7 jolly\n",
      "chef 13 purs\n",
      "cloy 3 forb\n",
      "cobb 3 free\n",
      "col 3 fro\n",
      "cold 3 frog\n",
      "colt 3 frow\n",
      "cord 3 frug\n",
      "cot 12 oaf\n",
      "coy 12 oak\n",
      "craal 13 penny\n",
      "crag 13 pent\n",
      "crap 3 fuds\n",
      "creel 13 perry\n",
      "crib 9 lark\n",
      "crop 3 furs\n",
      "cry 2 eta\n",
      "cry 3 fub\n",
      "cub 10 mel\n",
      "cubed 10 melon\n",
      "cud 10 men\n",
      "cum 10 mew\n",
      "cuss 12 ogee\n",
      "czar 1 dabs\n",
      "da 4 he\n",
      "da 5 if\n",
      "da 8 li\n",
      "dab 7 khi\n",
      "daff 8 linn\n",
      "dah 8 lip\n",
      "dak 8 lis\n",
      "danio 4 herms\n",
      "dank 4 hero\n",
      "dap 4 het\n",
      "dash 11 olds\n",
      "daw 8 lie\n",
      "dawk 8 lies\n",
      "dawn 4 hear\n",
      "de 1 ef\n",
      "de 4 hi\n",
      "de 10 no\n",
      "de 11 op\n",
      "dee 1 eff\n",
      "dee 10 noo\n",
      "deed 10 noon\n",
      "deer 1 effs\n",
      "dei 4 him\n",
      "dei 10 nos\n",
      "dei 11 opt\n",
      "del 4 hip\n",
      "des 1 eft\n",
      "dew 10 nog\n",
      "dex 10 noh\n",
      "dey 4 hic\n",
      "dib 12 pun\n",
      "did 12 pup\n",
      "dido 12 pupa\n",
      "didos 12 pupae\n",
      "dig 12 pus\n",
      "din 5 ins\n",
      "din 6 jot\n",
      "dip 12 pub\n",
      "djin 5 ions\n",
      "do 5 it\n",
      "do 12 pa\n",
      "dodo 6 juju\n",
      "dodo 12 papa\n",
      "doff 12 parr\n",
      "dog 12 pas\n",
      "dogs 12 pase\n",
      "dol 12 pax\n",
      "dols 6 jury\n",
      "dolt 3 grow\n",
      "dom 6 jus\n",
      "dom 12 pay\n",
      "don 5 its\n",
      "don 6 jut\n",
      "dor 12 pad\n",
      "dory 3 grub\n",
      "doxy 3 grab\n",
      "drab 3 gude\n",
      "drib 9 mark\n",
      "drip 3 guls\n",
      "drips 11 octad\n",
      "dud 1 eve\n",
      "dug 6 jam\n",
      "dui 11 oft\n",
      "duly 10 nevi\n",
      "dye 2 fag\n",
      "eat 8 mib\n",
      "eats 11 pled\n",
      "eau 10 oke\n",
      "eaux 10 okeh\n",
      "ebbs 13 roof\n",
      "eche 6 kink\n",
      "eches 6 kinky\n",
      "ef 3 hi\n",
      "ef 9 no\n",
      "ef 10 op\n",
      "eff 9 noo\n",
      "efs 9 nob\n",
      "egad 8 moil\n",
      "egg 8 moo\n",
      "ego 8 mow\n",
      "eh 7 lo\n",
      "eh 10 or\n",
      "el 3 ho\n",
      "el 9 nu\n",
      "eld 3 hog\n",
      "elds 9 numb\n",
      "elk 9 nut\n",
      "elm 3 hop\n",
      "els 2 gnu\n",
      "els 9 nub\n",
      "em 2 go\n",
      "em 8 mu\n",
      "em 10 ow\n",
      "eme 8 mum\n",
      "emu 10 owe\n",
      "en 10 ox\n",
      "end 1 foe\n",
      "eng 1 foh\n",
      "eng 4 irk\n",
      "eng 13 rat\n",
      "envy 13 rail\n",
      "er 9 na\n",
      "er 13 re\n",
      "ere 3 huh\n",
      "erg 9 nap\n",
      "erg 13 ret\n",
      "erne 13 rear\n",
      "err 13 ree\n",
      "errs 13 reef\n",
      "ers 9 nab\n",
      "ers 13 ref\n",
      "es 8 ma\n",
      "eses 8 mama\n",
      "et 7 la\n",
      "et 10 od\n",
      "et 11 pe\n",
      "eta 1 fub\n",
      "etch 11 pens\n",
      "eth 11 pes\n",
      "etui 10 odes\n",
      "ewe 8 mem\n",
      "ex 3 ha\n",
      "ex 10 oh\n",
      "ex 11 pi\n",
      "eye 2 gag\n",
      "fa 3 id\n",
      "fad 8 nil\n",
      "fang 4 jerk\n",
      "fas 4 jew\n",
      "fat 8 nib\n",
      "feed 10 poon\n",
      "feet 10 pood\n",
      "fen 10 pox\n",
      "fet 10 pod\n",
      "fey 10 poi\n",
      "fib 12 run\n",
      "fibs 12 rune\n",
      "fido 5 knit\n",
      "figs 12 ruse\n",
      "fills 6 lorry\n",
      "fils 6 lory\n",
      "fin 6 lot\n",
      "fir 6 lox\n",
      "fir 9 ora\n",
      "firs 12 rude\n",
      "fit 9 orc\n",
      "fizz 5 knee\n",
      "fizzy 5 kneed\n",
      "flap 13 sync\n",
      "flu 9 oud\n",
      "foam 6 lugs\n",
      "fob 3 ire\n",
      "fob 12 ran\n",
      "fog 6 lum\n",
      "fog 12 ras\n",
      "fogs 12 rase\n",
      "foh 3 irk\n",
      "foh 12 rat\n",
      "fohn 6 lunt\n",
      "folk 3 iron\n",
      "fon 10 pyx\n",
      "fons 12 raze\n",
      "fop 9 oxy\n",
      "for 6 lux\n",
      "for 12 rad\n",
      "fou 10 pye\n",
      "fou 12 rag\n",
      "fox 12 raj\n",
      "foys 10 pyic\n",
      "foys 12 rake\n",
      "frag 13 sent\n",
      "frere 13 serer\n",
      "fry 13 sel\n",
      "fud 10 pen\n",
      "fug 6 lam\n",
      "fuji 10 pets\n",
      "fumy 6 lase\n",
      "fun 6 lat\n",
      "fur 6 lax\n",
      "fur 13 she\n",
      "fusion 6 layout\n",
      "gab 4 kef\n",
      "gad 8 oil\n",
      "gaen 4 keir\n",
      "gal 4 kep\n",
      "gale 4 kepi\n",
      "ganja 4 kerne\n",
      "gassy 12 smeek\n",
      "gat 4 kex\n",
      "gel 4 kip\n",
      "gel 13 try\n",
      "ghat 13 tung\n",
      "gib 12 sun\n",
      "gid 12 sup\n",
      "gids 12 supe\n",
      "gift 12 surf\n",
      "gig 6 mom\n",
      "gin 6 mot\n",
      "ginny 6 motte\n",
      "gip 9 pry\n",
      "gip 12 sub\n",
      "gird 9 pram\n",
      "girl 9 prau\n",
      "glib 3 jole\n",
      "gnar 1 hobs\n",
      "gnat 13 tang\n",
      "gnu 7 nub\n",
      "go 6 mu\n",
      "go 8 ow\n",
      "goa 6 mug\n",
      "goad 12 samp\n",
      "goas 12 same\n",
      "gobs 12 sane\n",
      "goby 12 sank\n",
      "god 8 owl\n",
      "god 12 sap\n",
      "golem 6 murks\n",
      "golly 6 murre\n",
      "gor 12 sad\n",
      "gowk 8 owes\n",
      "gox 6 mud\n",
      "goys 12 sake\n",
      "green 13 terra\n",
      "guff 6 mall\n",
      "gul 6 mar\n",
      "gul 13 thy\n",
      "gulf 6 marl\n",
      "gulfs 6 marly\n",
      "gulls 6 marry\n",
      "gum 6 mas\n",
      "gummy 6 masse\n",
      "gun 6 mat\n",
      "gunny 6 matte\n",
      "guts 6 mazy\n",
      "guy 6 mae\n",
      "gym 12 sky\n",
      "ha 7 oh\n",
      "ha 8 pi\n",
      "ha 13 un\n",
      "hade 11 slop\n",
      "hae 4 lei\n",
      "haes 8 pima\n",
      "hag 4 lek\n",
      "hah 7 oho\n",
      "hah 8 pip\n",
      "haji 11 slut\n",
      "ham 8 piu\n",
      "hap 4 let\n",
      "hap 8 pix\n",
      "hark 4 levo\n",
      "has 8 pia\n",
      "hat 4 lex\n",
      "hats 11 sled\n",
      "haw 4 lea\n",
      "haw 8 pie\n",
      "hawk 8 pies\n",
      "hay 8 pig\n",
      "he 1 if\n",
      "he 4 li\n",
      "heil 4 limp\n",
      "hem 10 row\n",
      "hen 11 spy\n",
      "hep 4 lit\n",
      "hep 11 spa\n",
      "her 1 ifs\n",
      "her 10 rob\n",
      "hern 13 urea\n",
      "hes 10 roc\n",
      "het 10 rod\n",
      "hew 7 old\n",
      "hewn 4 liar\n",
      "hex 4 lib\n",
      "hex 7 ole\n",
      "hi 6 no\n",
      "hi 7 op\n",
      "hid 12 tup\n",
      "hide 11 stop\n",
      "him 6 nos\n",
      "him 7 opt\n",
      "hin 6 not\n",
      "hin 11 sty\n",
      "hint 11 stye\n",
      "hints 11 styed\n",
      "hip 12 tub\n",
      "hips 12 tube\n",
      "ho 6 nu\n",
      "ho 12 ta\n",
      "hob 12 tan\n",
      "hod 12 tap\n",
      "hods 12 tape\n",
      "hog 12 tas\n",
      "hogg 12 tass\n",
      "hoggs 12 tasse\n",
      "hop 12 tab\n",
      "hot 7 ova\n",
      "hotel 7 ovals\n",
      "hoys 12 take\n",
      "hub 7 obi\n",
      "huff 10 repp\n",
      "huic 6 naoi\n",
      "hun 10 rex\n",
      "hut 10 red\n",
      "hymn 6 nest\n",
      "hyp 2 jar\n",
      "ibex 7 pile\n",
      "ice 2 keg\n",
      "icy 2 kea\n",
      "id 11 to\n",
      "id 12 up\n",
      "idem 10 snow\n",
      "ids 1 jet\n",
      "ids 5 nix\n",
      "ids 11 tod\n",
      "if 3 li\n",
      "ifs 9 rob\n",
      "ilex 9 rung\n",
      "ilk 9 rut\n",
      "ill 3 loo\n",
      "imp 2 kor\n",
      "in 1 jo\n",
      "ink 7 pur\n",
      "inkier 7 purply\n",
      "inks 1 jolt\n",
      "ins 1 jot\n",
      "ion 6 out\n",
      "ire 9 ran\n",
      "irk 9 rat\n",
      "irk 13 vex\n",
      "is 6 oy\n",
      "it 7 pa\n",
      "itch 11 tens\n",
      "its 1 jut\n",
      "its 11 ted\n",
      "ivy 6 obe\n",
      "izar 1 jabs\n",
      "jay 8 rig\n",
      "jee 10 too\n",
      "jeed 10 toon\n",
      "jehu 10 tore\n",
      "jerky 9 snath\n",
      "jet 4 nix\n",
      "jet 10 tod\n",
      "jeu 10 toe\n",
      "jew 10 tog\n",
      "jib 6 poh\n",
      "jiff 6 poll\n",
      "jiffs 6 polly\n",
      "jimmy 6 posse\n",
      "jin 5 ons\n",
      "jin 6 pot\n",
      "jinni 6 potto\n",
      "jinns 6 potty\n",
      "job 12 van\n",
      "jobs 12 vane\n",
      "joey 6 puke\n",
      "jog 12 vas\n",
      "jogs 12 vase\n",
      "john 6 punt\n",
      "johns 6 punty\n",
      "jug 6 pam\n",
      "juju 6 papa\n",
      "jun 6 pat\n",
      "jun 13 wha\n",
      "jura 13 when\n",
      "jus 6 pay\n",
      "jut 10 ted\n",
      "ka 4 oe\n",
      "ka 8 si\n",
      "kae 8 sim\n",
      "kaes 8 sima\n",
      "kat 8 sib\n",
      "khan 8 spiv\n",
      "kip 9 try\n",
      "knar 1 lobs\n",
      "knur 7 ruby\n",
      "koa 4 ose\n",
      "koas 12 wame\n",
      "kop 12 wab\n",
      "kor 12 wad\n",
      "kors 12 wade\n",
      "kos 12 wae\n",
      "la 3 od\n",
      "la 4 pe\n",
      "la 7 sh\n",
      "la 8 ti\n",
      "lab 3 ode\n",
      "lac 4 peg\n",
      "lad 8 til\n",
      "lallan 4 pepper\n",
      "lane 4 peri\n",
      "lane 7 shul\n",
      "lang 4 perk\n",
      "lang 7 shun\n",
      "lap 3 ods\n",
      "lap 4 pet\n",
      "lar 7 shy\n",
      "las 4 pew\n",
      "later 7 shaly\n",
      "latex 7 shale\n",
      "law 4 pea\n",
      "law 8 tie\n",
      "lawn 4 pear\n",
      "lax 7 she\n",
      "lea 4 pie\n",
      "lean 4 pier\n",
      "led 10 von\n",
      "let 4 pix\n",
      "leu 10 voe\n",
      "ley 4 pic\n",
      "li 12 xu\n",
      "lib 3 ole\n",
      "lie 9 urn\n",
      "limy 6 rose\n",
      "lin 6 rot\n",
      "ling 7 spun\n",
      "link 7 spur\n",
      "linum 6 rotas\n",
      "liny 6 rote\n",
      "lion 6 rout\n",
      "lit 7 spa\n",
      "lo 3 or\n",
      "loaf 8 twin\n",
      "loam 6 rugs\n",
      "lob 3 ore\n",
      "loch 6 ruin\n",
      "log 6 rum\n",
      "log 8 two\n",
      "loop 4 psst\n",
      "lop 3 ors\n",
      "lowe 6 ruck\n",
      "lox 3 ora\n",
      "luau 6 raga\n",
      "luffs 6 rally\n",
      "lug 6 ram\n",
      "lum 6 ras\n",
      "luna 4 pyre\n",
      "luny 6 rate\n",
      "lutea 4 pyxie\n",
      "lux 6 rad\n",
      "lye 2 nag\n",
      "manful 7 thumbs\n",
      "mar 7 thy\n",
      "may 2 oca\n",
      "me 10 wo\n",
      "meet 10 wood\n",
      "mem 10 wow\n",
      "mho 1 nip\n",
      "mho 10 wry\n",
      "mi 6 so\n",
      "mid 12 yup\n",
      "mills 6 sorry\n",
      "milt 3 plow\n",
      "mim 6 sos\n",
      "mir 6 sox\n",
      "mis 6 soy\n",
      "mix 6 sod\n",
      "moa 12 yam\n",
      "mocha 6 suing\n",
      "mod 12 yap\n",
      "mog 6 sum\n",
      "mol 3 pro\n",
      "mola 3 prod\n",
      "molas 6 surgy\n",
      "mold 3 prog\n",
      "molt 3 prow\n",
      "moly 6 sure\n",
      "mom 12 yay\n",
      "mott 12 yaff\n",
      "mu 2 ow\n",
      "mu 10 we\n",
      "much 6 sain\n",
      "mud 10 wen\n",
      "muff 6 sall\n",
      "muffs 6 sally\n",
      "mulch 6 sarin\n",
      "mule 6 sark\n",
      "mumm 6 sass\n",
      "mumms 6 sassy\n",
      "mun 6 sat\n",
      "munch 6 satin\n",
      "mus 6 say\n",
      "mut 10 wed\n",
      "muumuu 10 weewee\n",
      "na 4 re\n",
      "na 13 an\n",
      "nab 4 ref\n",
      "nae 4 rei\n",
      "nae 8 vim\n",
      "nag 13 ant\n",
      "nap 4 ret\n",
      "navy 13 anil\n",
      "nay 4 rec\n",
      "nee 1 off\n",
      "nib 13 avo\n",
      "nil 6 tor\n",
      "nil 7 ups\n",
      "nill 6 torr\n",
      "nils 6 tory\n",
      "nip 9 wry\n",
      "nisi 6 toyo\n",
      "nix 6 tod\n",
      "no 1 op\n",
      "nob 13 abo\n",
      "nod 1 ope\n",
      "nod 12 zap\n",
      "noggs 6 tummy\n",
      "noh 6 tun\n",
      "nome 6 tusk\n",
      "nor 1 ops\n",
      "nor 6 tux\n",
      "nos 1 opt\n",
      "not 5 sty\n",
      "nowhere 13 abjurer\n",
      "nth 11 yes\n",
      "nu 6 ta\n",
      "nu 13 ah\n",
      "nulls 6 tarry\n",
      "nun 6 tat\n",
      "nun 13 aha\n",
      "nutty 6 tazze\n",
      "oaf 8 win\n",
      "oafs 6 ugly\n",
      "oak 8 wis\n",
      "oar 8 wiz\n",
      "oat 4 sex\n",
      "od 1 pe\n",
      "od 4 sh\n",
      "od 5 ti\n",
      "odd 1 pee\n",
      "odd 4 shh\n",
      "odd 11 zoo\n",
      "odor 1 peps\n",
      "ods 1 pet\n",
      "ods 12 ape\n",
      "oe 4 si\n",
      "of 12 ar\n",
      "oft 12 arf\n",
      "oh 1 pi\n",
      "oh 6 un\n",
      "oh 12 at\n",
      "ohm 1 pin\n",
      "ohm 6 uns\n",
      "ohms 1 pint\n",
      "oho 1 pip\n",
      "oho 13 bub\n",
      "ohs 1 pit\n",
      "ohs 12 ate\n",
      "oka 10 yuk\n",
      "okeh 4 soil\n",
      "olla 3 rood\n",
      "om 6 us\n",
      "om 12 ay\n",
      "oms 12 aye\n",
      "on 6 ut\n",
      "on 13 ba\n",
      "one 4 sri\n",
      "one 13 bar\n",
      "ones 13 barf\n",
      "ons 1 pot\n",
      "onyx 13 balk\n",
      "opal 4 step\n",
      "ope 11 zap\n",
      "open 4 stir\n",
      "ops 5 tux\n",
      "or 12 ad\n",
      "or 13 be\n",
      "ora 13 ben\n",
      "orb 3 rue\n",
      "orc 12 ado\n",
      "ordo 5 twit\n",
      "orra 13 been\n",
      "ort 13 beg\n",
      "os 12 ae\n",
      "oud 10 yen\n",
      "ova 13 bin\n",
      "ow 8 we\n",
      "ow 12 ai\n",
      "owl 4 sap\n",
      "owl 8 wet\n",
      "oxim 6 udos\n",
      "oxter 7 vealy\n",
      "pa 8 xi\n",
      "pac 4 teg\n",
      "pah 7 who\n",
      "paid 11 alto\n",
      "pap 11 ala\n",
      "par 7 why\n",
      "pas 4 tew\n",
      "pat 7 wha\n",
      "pat 11 ale\n",
      "path 11 ales\n",
      "paw 4 tea\n",
      "pawn 4 tear\n",
      "pe 3 sh\n",
      "pe 4 ti\n",
      "pea 4 tie\n",
      "pean 4 tier\n",
      "pecan 4 tiger\n",
      "pee 3 shh\n",
      "pee 10 zoo\n",
      "peed 10 zoon\n",
      "pele 4 tipi\n",
      "pelt 3 show\n",
      "penny 13 craal\n",
      "pent 13 crag\n",
      "pep 4 tit\n",
      "pepo 4 tits\n",
      "peri 3 shul\n",
      "perk 3 shun\n",
      "perry 13 creel\n",
      "pet 11 ape\n",
      "pets 11 aped\n",
      "phew 7 wold\n",
      "phi 7 wop\n",
      "pi 5 un\n",
      "pi 11 at\n",
      "pia 12 bum\n",
      "pig 12 bus\n",
      "pily 3 slob\n",
      "pin 5 uns\n",
      "piny 6 vote\n",
      "pip 12 bub\n",
      "pit 11 ate\n",
      "pith 11 ates\n",
      "piu 12 bug\n",
      "pixy 3 slab\n",
      "ploy 3 sorb\n",
      "ply 3 sob\n",
      "pod 11 azo\n",
      "pogy 12 bask\n",
      "poh 12 bat\n",
      "pops 12 babe\n",
      "prex 7 wyle\n",
      "prex 9 yang\n",
      "primero 3 sulphur\n",
      "proa 3 surd\n",
      "pry 3 sub\n",
      "pry 9 yah\n",
      "psst 12 beef\n",
      "pull 4 typp\n",
      "pulpy 6 varve\n",
      "puls 6 vary\n",
      "pun 6 vat\n",
      "puna 4 tyre\n",
      "pung 13 chat\n",
      "punk 4 tyro\n",
      "pup 6 vav\n",
      "purs 13 chef\n",
      "put 10 zed\n",
      "pya 6 veg\n",
      "pye 2 rag\n",
      "pyic 2 rake\n",
      "qua 6 wag\n",
      "quay 6 wage\n",
      "quey 6 wake\n",
      "rads 11 clod\n",
      "rah 8 zip\n",
      "rail 13 envy\n",
      "rap 4 vet\n",
      "rape 11 clap\n",
      "raphe 11 clasp\n",
      "raps 11 clad\n",
      "rat 4 vex\n",
      "rat 13 eng\n",
      "ratan 4 vexer\n",
      "ray 8 zig\n",
      "re 9 an\n",
      "re 10 bo\n",
      "re 13 er\n",
      "rear 13 erne\n",
      "redo 10 bony\n",
      "ree 10 boo\n",
      "ree 13 err\n",
      "reed 10 boon\n",
      "reef 13 errs\n",
      "ref 10 bop\n",
      "ref 13 ers\n",
      "rei 4 vim\n",
      "rei 10 bos\n",
      "rem 10 bow\n",
      "rep 9 any\n",
      "ret 10 bod\n",
      "ret 13 erg\n",
      "rev 9 ane\n",
      "rho 1 sip\n",
      "rib 9 ark\n",
      "rib 12 dun\n",
      "ribs 12 dune\n",
      "rid 9 arm\n",
      "rid 12 dup\n",
      "rids 12 dupe\n",
      "riff 12 durr\n",
      "rip 12 dub\n",
      "river 9 arena\n",
      "road 12 damp\n",
      "rod 12 dap\n",
      "roof 13 ebbs\n",
      "rub 10 bel\n",
      "ruddy 10 benni\n",
      "rum 2 two\n",
      "rut 10 bed\n",
      "rye 2 tag\n",
      "rye 10 bio\n",
      "sad 8 ail\n",
      "sae 8 aim\n",
      "sag 12 ems\n",
      "sal 8 ait\n",
      "salp 4 wept\n",
      "sap 4 wet\n",
      "sawn 4 wear\n",
      "sax 4 web\n",
      "sea 8 ami\n",
      "seas 8 amia\n",
      "sec 4 wig\n",
      "secco 10 commy\n",
      "see 10 coo\n",
      "seed 10 coon\n",
      "sei 10 cos\n",
      "sel 13 fry\n",
      "semi 10 cows\n",
      "sen 10 cox\n",
      "sent 13 frag\n",
      "ser 10 cob\n",
      "sera 4 wive\n",
      "serer 13 frere\n",
      "set 10 cod\n",
      "setal 8 ambit\n",
      "sew 10 cog\n",
      "sewed 10 cogon\n",
      "sh 1 ti\n",
      "sh 12 et\n",
      "she 13 fur\n",
      "sheer 1 tiffs\n",
      "shh 7 zoo\n",
      "shog 12 etas\n",
      "shute 10 credo\n",
      "sic 2 uke\n",
      "silk 9 brut\n",
      "sims 8 aqua\n",
      "sir 9 bra\n",
      "sire 9 bran\n",
      "six 6 yod\n",
      "size 9 brin\n",
      "skua 8 asci\n",
      "slag 2 unci\n",
      "slam 2 unco\n",
      "sleep 9 bunny\n",
      "slip 9 bury\n",
      "smog 12 eyas\n",
      "sneer 1 toffs\n",
      "so 8 aw\n",
      "sod 8 awl\n",
      "soil 12 eaux\n",
      "sos 8 awa\n",
      "sow 8 awe\n",
      "spat 11 dale\n",
      "spic 9 byrl\n",
      "spit 11 date\n",
      "spits 11 dated\n",
      "spiv 9 byre\n",
      "splits 11 dawted\n",
      "spot 11 daze\n",
      "spots 11 dazed\n",
      "sri 9 bar\n",
      "sris 9 barb\n",
      "star 1 tubs\n",
      "steeds 1 tuffet\n",
      "steer 1 tuffs\n",
      "stun 11 defy\n",
      "sub 6 yah\n",
      "sue 6 yak\n",
      "sulk 8 acts\n",
      "swop 4 wast\n",
      "syn 6 yet\n",
      "sync 6 yeti\n",
      "sync 13 flap\n",
      "ta 7 ah\n",
      "ta 8 bi\n",
      "ta 11 el\n",
      "tab 11 elm\n",
      "tag 8 bio\n",
      "tahr 7 ahoy\n",
      "talk 8 bits\n",
      "tall 8 bitt\n",
      "tang 13 gnat\n",
      "tas 11 eld\n",
      "task 8 bias\n",
      "tat 7 aha\n",
      "tat 8 bib\n",
      "tau 11 elf\n",
      "tav 8 bid\n",
      "ted 10 don\n",
      "tee 7 all\n",
      "teloi 3 whorl\n",
      "tenet 7 alula\n",
      "terra 13 green\n",
      "tew 10 dog\n",
      "then 11 espy\n",
      "tho 10 dry\n",
      "thy 13 gul\n",
      "ti 11 et\n",
      "timer 7 aptly\n",
      "tins 12 fuze\n",
      "tip 9 cry\n",
      "tip 11 eta\n",
      "tip 12 fub\n",
      "to 1 up\n",
      "to 12 fa\n",
      "tog 12 fas\n",
      "tom 12 fay\n",
      "ton 1 upo\n",
      "tons 12 faze\n",
      "tor 1 ups\n",
      "tor 12 fad\n",
      "torc 12 fado\n",
      "tors 12 fade\n",
      "torus 12 fadge\n",
      "tot 7 ava\n",
      "touch 12 fagot\n",
      "tout 10 dyed\n",
      "toys 12 fake\n",
      "trek 9 cant\n",
      "trig 9 carp\n",
      "try 13 gel\n",
      "tsars 8 baiza\n",
      "tsk 8 bas\n",
      "tsk 12 few\n",
      "tub 10 del\n",
      "tui 10 des\n",
      "tui 11 eft\n",
      "tun 10 dex\n",
      "tung 13 ghat\n",
      "tut 7 aba\n",
      "typy 2 vara\n",
      "ugh 8 cop\n",
      "umps 12 gybe\n",
      "un 6 at\n",
      "un 10 ex\n",
      "un 13 ha\n",
      "up 11 fa\n",
      "ups 11 fad\n",
      "urd 9 dam\n",
      "urea 13 hern\n",
      "uredo 10 ebony\n",
      "urn 9 daw\n",
      "us 6 ay\n",
      "use 8 cam\n",
      "ut 7 ba\n",
      "uta 7 bah\n",
      "uts 11 fed\n",
      "vans 8 diva\n",
      "vat 8 dib\n",
      "vats 11 gled\n",
      "vav 8 did\n",
      "vaw 8 die\n",
      "vex 9 eng\n",
      "vex 10 foh\n",
      "vex 13 irk\n",
      "via 6 bog\n",
      "via 12 hum\n",
      "vie 9 ern\n",
      "vim 6 bos\n",
      "vin 6 bot\n",
      "viola 6 bourg\n",
      "vis 6 boy\n",
      "vis 12 hue\n",
      "von 6 but\n",
      "vox 6 bud\n",
      "vox 12 haj\n",
      "wad 12 imp\n",
      "we 4 ai\n",
      "we 8 em\n",
      "we 10 go\n",
      "weal 8 emit\n",
      "wee 10 goo\n",
      "weed 10 goon\n",
      "weet 10 good\n",
      "wen 4 air\n",
      "wen 10 gox\n",
      "were 10 gobo\n",
      "wet 10 god\n",
      "wha 4 ale\n",
      "wha 13 jun\n",
      "whee 7 doll\n",
      "wheel 7 dolls\n",
      "when 13 jura\n",
      "whew 10 grog\n",
      "whir 7 dopy\n",
      "whit 7 dopa\n",
      "wich 6 coin\n",
      "wile 6 cork\n",
      "wiles 6 corky\n",
      "wily 6 core\n",
      "win 6 cot\n",
      "winy 6 cote\n",
      "wis 6 coy\n",
      "wit 6 coz\n",
      "wits 6 cozy\n",
      "wiver 9 frena\n",
      "wo 4 as\n",
      "wolf 6 curl\n",
      "wolfs 6 curly\n",
      "wombs 6 cushy\n",
      "won 6 cut\n",
      "woo 4 ass\n",
      "wow 8 ewe\n",
      "wyle 2 yang\n",
      "xeric 9 gnarl\n",
      "xi 6 do\n",
      "xi 11 it\n",
      "xu 4 by\n",
      "xu 6 da\n",
      "xu 10 he\n",
      "xu 11 if\n",
      "yah 8 gip\n",
      "yank 4 cero\n",
      "yar 2 act\n",
      "yaw 8 gie\n",
      "yay 8 gig\n",
      "yen 7 flu\n",
      "yeti 7 flap\n",
      "yom 12 kay\n",
      "zax 1 aby\n",
      "zax 4 deb\n",
      "zebu 7 glib\n",
      "zebu 10 jole\n",
      "zee 1 aff\n",
      "zee 9 inn\n",
      "zips 12 lube\n",
      "zoa 6 fug\n",
      "zoa 12 lam\n"
     ]
    }
   ],
   "source": [
    "def rotate_letter(letter,n):\n",
    "    if letter.isupper():\n",
    "        start = ord('A')\n",
    "    elif letter.islower():\n",
    "        start = ord('a')\n",
    "    else:\n",
    "        return letter\n",
    "\n",
    "    c = ord(letter) - start\n",
    "    i = (c + n) % 26 + start\n",
    "    return chr(i)\n",
    "\n",
    "def rotate_word(word,n):\n",
    "    res = ''\n",
    "    for letter in word:\n",
    "        res += rotate_letter(letter,n)\n",
    "    return res\n",
    "\n",
    "def make_word_dict():\n",
    "    d = dict()\n",
    "    fin = open('./words.txt')\n",
    "    for line in fin:\n",
    "        word = line.strip().lower()\n",
    "        d[word] = None\n",
    "    return d\n",
    "\n",
    "def rotate_pairs(word,word_dict):\n",
    "    for i in range(1,14):\n",
    "        rotated = rotate_word(word, i)\n",
    "        if rotated in word_dict:\n",
    "            print(word,i,rotated)\n",
    "\n",
    "word_dict = make_word_dict()\n",
    "\n",
    "for word in word_dict:\n",
    "    rotate_pairs(word, word_dict)"
   ]
  },
  {
   "cell_type": "markdown",
   "metadata": {},
   "source": [
    "### Exercício 6"
   ]
  },
  {
   "cell_type": "code",
   "execution_count": 40,
   "metadata": {},
   "outputs": [
    {
     "name": "stdout",
     "output_type": "stream",
     "text": [
      "llama lama lama\n",
      "llamas lamas lamas\n",
      "scent cent sent\n"
     ]
    }
   ],
   "source": [
    "def read_dictionary(filename='./c06d'):\n",
    "    d = dict()\n",
    "    fin = open(filename)\n",
    "    for line in fin:\n",
    "        if line[0] == '#': continue\n",
    "\n",
    "        t = line.split()\n",
    "        word = t[0].lower()\n",
    "        pron = ' '.join(t[1:])\n",
    "        d[word] = pron\n",
    "    return d\n",
    "\n",
    "def homophones(a,b,phonetic):\n",
    "    if a not in phonetic or b not in phonetic:\n",
    "        return False\n",
    "    return phonetic[a] == phonetic[b]\n",
    "\n",
    "def check_word(word,word_dict,phonetic):\n",
    "    word1 = word[1:]\n",
    "    if word1 not in word_dict:\n",
    "        return False\n",
    "    if not homophones(word,word1,phonetic):\n",
    "        return False\n",
    "\n",
    "    word2 = word[0] + word[2:]\n",
    "    if word2 not in word_dict:\n",
    "        return False\n",
    "    if not homophones(word, word2, phonetic):\n",
    "        return False\n",
    "    \n",
    "    return True\n",
    "\n",
    "phonetic = read_dictionary()\n",
    "word_dict = make_word_dict()\n",
    "\n",
    "for word in word_dict:\n",
    "    if check_word(word,word_dict,phonetic):\n",
    "        print(word, word[1:], word[0] + word[2:])"
   ]
  }
 ],
 "metadata": {
  "kernelspec": {
   "display_name": "Python 3.10.6 64-bit",
   "language": "python",
   "name": "python3"
  },
  "language_info": {
   "codemirror_mode": {
    "name": "ipython",
    "version": 3
   },
   "file_extension": ".py",
   "mimetype": "text/x-python",
   "name": "python",
   "nbconvert_exporter": "python",
   "pygments_lexer": "ipython3",
   "version": "3.10.8"
  },
  "orig_nbformat": 4,
  "vscode": {
   "interpreter": {
    "hash": "916dbcbb3f70747c44a77c7bcd40155683ae19c65e1c03b4aa3499c5328201f1"
   }
  }
 },
 "nbformat": 4,
 "nbformat_minor": 2
}
